{
 "cells": [
  {
   "cell_type": "markdown",
   "metadata": {},
   "source": [
    "# Hypothesis Testing"
   ]
  },
  {
   "cell_type": "markdown",
   "metadata": {},
   "source": [
    "\n",
    "\n",
    "## **What is statistical hypothesis testing?**\n",
    "\n",
    "1. Start with a Scientific Question (yes/no)\n",
    "2. Take the skeptical stance (Null hypothesis)\n",
    "3. State the complement (Alternative)\n",
    "4. Create a model of the situation Assuming the Null Hypothesis is True!\n",
    "5. Decide how surprised you would need to be in order to change your mind\n",
    "\n",
    "When we perform experiments, we typically do not have access to all the members of a population, and need to take samples of measurements to make inferences about the population.\n",
    "\n",
    "A statistical hypothesis test is a method for testing a hypothesis about a parameter in a population using data measured in a sample.\n",
    "\n",
    "We test a hypothesis by determining the chance of obtaining a sample statistic if the null hypothesis regarding the population parameter is true.\n",
    "\n",
    "> The goal of hypothesis testing is to make a decision about the value of a population parameter based on sample data.\n",
    "\n",
    "**Some examples in the real world?** \n",
    "\n",
    "- Chemistry - do inputs from two different barley fields produce different yields?\n",
    "- Astrophysics - do star systems with near-orbiting gas giants have hotter stars?\n",
    "\n"
   ]
  },
  {
   "cell_type": "markdown",
   "metadata": {},
   "source": [
    "## Definitions \n",
    "\n",
    "**Significance Level $\\alpha$**\n",
    "\n",
    "> The significance level $\\alpha$ is the threshold at which you're okay with rejecting the null hypothesis. It is the probability of rejecting the null hypothesis when it is true.\n",
    "\n",
    "> The most commonly used $\\alpha$ in science is $\\alpha = 0.05$. When you set $\\alpha = 0.05$, you're saying \"I'm okay with rejecting the null hypothesis if there is less than a 5% chance that the results I am seeing are actually due to randomness\".\n",
    "\n",
    "**p-values**\n",
    "\n",
    "> The p-value is the probability of observing a test statistic at least as large as the one observed, by random chance, assuming that the null hypothesis is true.\n",
    "\n",
    "> If $p \\lt \\alpha$, we reject the null hypothesis.\n",
    "\n",
    "> If $p \\geq \\alpha$, we fail to reject the null hypothesis.\n",
    "\n",
    "**We do not accept the alternative hypothesis, we only reject or fail to reject the null hypothesis in favor of the alternative.**\n",
    "\n",
    "**What if the experiment we perform fails to reject the null hypothesis?**\n",
    "\n",
    "> We do not throw out failed experiments!\n",
    "We say \"this methodology, with this data, does not produce significant results\"\n",
    "Maybe we need more data!\n",
    "\n",
    "**Type 1 Errors (False Positives) and Type 2 Errors (False Negatives)**\n",
    "\n",
    "> Most tests for the presence of some factor are imperfect. And in fact most tests are imperfect in two ways: They will sometimes fail to predict the presence of that factor when it is after all present, and they will sometimes predict the presence of that factor when in fact it is not. Clearly, the lower these error rates are, the better, but it is not uncommon for these rates to be between 1% and 5%, and sometimes they are even higher than that. (Of course, if they're higher than 50%, then we're better off just flipping a coin to run our test!)\n",
    "\n",
    "> Predicting the presence of some factor (i.e. counter to the null hypothesis) when in fact it is not there (i.e. the null hypothesis is true) is called a \"false positive\". Failing to predict the presence of some factor (i.e. in accord with the null hypothesis) when in fact it is there (i.e. the null hypothesis is false) is called a \"false negative\".\n",
    "\n",
    "**One-sample z-test**\n",
    "\n",
    "> For large enough sample sizes $n$ with known population standard deviation $\\sigma$, the test statistic of the sample mean $\\bar x$ is given by the z-statistic,$$Z = \\frac{\\bar{x} - \\mu}{\\sigma/\\sqrt{n}}$$where $\\mu$ is the population mean.\n",
    "\n",
    "> Our hypothesis test tries to answer the question of how likely we are to observe a z-statistic as extreme as our sample's given the null hypothesis that the sample and the population have the same mean, given a significance threshold of $\\alpha$. This is a one-sample z-test.\n",
    "\n",
    "**One-sample t-test**\n",
    "\n",
    "> For small sample sizes or samples with unknown population standard deviation, the test statistic of the sample mean is given by the t-statistic,$$ t = \\frac{\\bar{x} - \\mu}{s/\\sqrt{n}} $$Here, $s$ is the sample standard deviation, which is used to estimate the population standard deviation, and $\\mu$ is the population mean.\n",
    "\n",
    "> Our hypothesis test tries to answer the question of how likely we are to observe a t-statistic as extreme as our sample's given the null hypothesis that the sample and population have the same mean, given a significance threshold of $\\alpha$. This is a one-sample t-test.\n",
    "\n",
    "**Two-sample t-tests** \n",
    "\n",
    "Sometimes, we are interested in determining whether two population means are equal. In this case, we use two-sample t-tests.\n",
    "\n",
    "There are two types of two-sample t-tests: paired and independent (unpaired) tests.\n",
    "\n",
    "What's the difference?\n",
    "\n",
    "> **Paired tests**: How is a sample affected by a certain treatment? The individuals in the sample remain the same and you compare how they change after treatment.\n",
    "\n",
    "> **Independent tests:** When we compare two different, unrelated samples to each other, we use an independent (or unpaired) two-sample t-test.\n",
    "\n",
    "The test statistic for an unpaired two-sample t-test is slightly different than the test statistic for the one-sample t-test.\n",
    "\n",
    "Assuming equal variances, the test statistic for a two-sample t-test is given by:\n",
    "\n",
    "> $$ t = \\frac{\\bar{x_1} - \\bar{x_2}}{\\sqrt{s^2 \\left( \\frac{1}{n_1} + \\frac{1}{n_2} \\right)}}$$\n",
    "where $s^2$ is the pooled sample variance,\n",
    "\n",
    "> $$ s^2 = \\frac{\\sum_{i=1}^{n_1} \\left(x_i - \\bar{x_1}\\right)^2 + \\sum_{j=1}^{n_2} \\left(x_j - \\bar{x_2}\\right)^2 }{n_1 + n_2 - 2} $$\n",
    "Here, $n_1$ is the sample size of sample 1 and $n_2$ is the sample size of sample 2.\n",
    "\n",
    "An independent two-sample t-test for samples of size $n_1$ and $n_2$ has $(n_1 + n_2 - 2)$ degrees of freedom."
   ]
  },
  {
   "cell_type": "markdown",
   "metadata": {},
   "source": [
    "## Example 1 \n",
    "\n",
    "Suppose that African elephants have weights distributed normally around a mean of 9000 lbs with a standard deviation of 900 lbs. Pachyderm Adventures has recently measured the weights of 35 Gabonese elephants and has calculated their average weight at 8637 lbs.\n",
    "\n",
    "Is the average weight of Gabonese elephants different that the average weight of African elephants? Use significance level $\\alpha = 0.05$.\n",
    "\n",
    "**What are the null and alternative hypotheses? What is the significance level of the test?**\n",
    "\n",
    "**What should be our test statistic? Are we running an upper, lower, or two-tailed test? Why?**\n",
    "\n",
    "**What's the value of the critical test statistic that we should use for our test?**"
   ]
  },
  {
   "cell_type": "markdown",
   "metadata": {},
   "source": [
    "## How do we set up a hypothesis test? \n",
    "\n",
    "**Regardless of the type of statistical hypothesis test you're performing, there are five main steps to executing them:**\n",
    "\n",
    "1. Set up a null and alternative hypothesis\n",
    "2. Choose a significance level $\\alpha$ (or use the one assigned).\n",
    "3. Determine the critical test statistic value or p-value. (Find the rejection region for the null hypothesis.)\n",
    "4. Calculate the value of the test statistic.\n",
    "5. Compare the test statistic value to the critical test statistic value to reject the null hypothesis or not.\n",
    "![](https://github.com/learn-co-students/dsc-hypothesis_testing-seattle-102819/raw/633b48d10c99c4d75ba7d2ceadcf67b5f49c9c8d/images/hypothesis_test.png)\n",
    "\n",
    "\n",
    "**Decision Rule:**\n",
    "\n",
    "The decision rule tells us when we can reject the null hypothesis.\n",
    "\n",
    "**It depends on 3 factors:**\n",
    "\n",
    "1. The alternative hypothesis\n",
    "    - Is this an upper-tailed, lower-tailed, or two-tailed test?\n",
    "2. The test statistic\n",
    "3. The level of significance $\\alpha$.\n",
    "\n",
    "**Upper-tailed test (right-tailed test):**\n",
    "\n",
    "    - The null hypothesis is rejected if the test statistic is greater than the critical value.\n",
    "\n",
    "**Lower-tailed test (left-tailed test):**\n",
    "\n",
    "    - The null hypothesis is rejected if the test statistic is smaller than the critical value.\n",
    "\n",
    "**Two-tailed test:**\n",
    "\n",
    "    - The null hypothesis is rejected if the test statistic is either larger than an upper critical value or smaller than a lower critical value.\n",
    "    \n",
    "[Awesome reference for everything Hypothesis testing related](https://www.statisticshowto.com/probability-and-statistics/hypothesis-testing/)"
   ]
  },
  {
   "cell_type": "code",
   "execution_count": 1,
   "metadata": {
    "ExecuteTime": {
     "end_time": "2020-07-30T22:42:30.362055Z",
     "start_time": "2020-07-30T22:42:28.862519Z"
    }
   },
   "outputs": [],
   "source": [
    "import numpy as np \n",
    "from scipy import stats"
   ]
  },
  {
   "cell_type": "markdown",
   "metadata": {},
   "source": [
    "**What is the null/alternate hypothesis**\n",
    "Null: The average weight of Gabonese elephants is the same as the average weight of African elephants\n",
    "Alternate: The average weight of Gabonese elephants is different thatn the average weight of African elephants\n",
    "\n",
    "alpha = 0.05\n",
    "\n",
    "Two-tailed t test. Because we're looking for whether the weights are considered lower or higher. We are comparing a sample mean to a population mean, our sample size must be > 30; we know the population standard deviation."
   ]
  },
  {
   "cell_type": "code",
   "execution_count": 2,
   "metadata": {
    "ExecuteTime": {
     "end_time": "2020-07-30T22:50:35.912552Z",
     "start_time": "2020-07-30T22:50:35.848235Z"
    }
   },
   "outputs": [
    {
     "data": {
      "text/plain": [
       "(-1.9599639845400545, 1.959963984540054)"
      ]
     },
     "execution_count": 2,
     "metadata": {},
     "output_type": "execute_result"
    }
   ],
   "source": [
    "alpha = 0.05\n",
    "\n",
    "stats.norm.ppf(alpha/2), stats.norm.ppf(1-alpha/2)"
   ]
  },
  {
   "cell_type": "code",
   "execution_count": 3,
   "metadata": {
    "ExecuteTime": {
     "end_time": "2020-07-30T22:54:20.969217Z",
     "start_time": "2020-07-30T22:54:20.956312Z"
    }
   },
   "outputs": [
    {
     "name": "stdout",
     "output_type": "stream",
     "text": [
      "-2.386152179183512\n"
     ]
    }
   ],
   "source": [
    "n = 35\n",
    "sigma = 900\n",
    "x_bar = 8637\n",
    "mu = 9000\n",
    "\n",
    "se = sigma/np.sqrt(n)\n",
    "z = (x_bar - mu)/se\n",
    "\n",
    "print(z)"
   ]
  },
  {
   "cell_type": "markdown",
   "metadata": {},
   "source": [
    "**Reject null or not**\n",
    "z = -2.39, which is < -1.96, thus we can reject the null hypothesis."
   ]
  },
  {
   "cell_type": "markdown",
   "metadata": {},
   "source": [
    "## Example 2 \n",
    "\n",
    "The average number of scoops of ice cream sold by employees at Scoops Ahoy is 15 per hour with a standard deviation of 3.\n",
    "\n",
    "Steve worked for 6 hours and averaged 18 scoops sold per hour."
   ]
  },
  {
   "cell_type": "code",
   "execution_count": 4,
   "metadata": {
    "ExecuteTime": {
     "end_time": "2020-07-30T22:59:26.092161Z",
     "start_time": "2020-07-30T22:59:26.078571Z"
    }
   },
   "outputs": [
    {
     "name": "stdout",
     "output_type": "stream",
     "text": [
      "2.449489742783178\n"
     ]
    }
   ],
   "source": [
    "#define parameters \n",
    "x_bar = 18\n",
    "sigma = 3\n",
    "mu = 15\n",
    "n = 6\n",
    "z = (x_bar - mu)/(sigma/np.sqrt(n))\n",
    "print(z)"
   ]
  },
  {
   "cell_type": "code",
   "execution_count": 6,
   "metadata": {
    "ExecuteTime": {
     "end_time": "2020-07-30T23:02:37.890961Z",
     "start_time": "2020-07-30T23:02:36.966762Z"
    }
   },
   "outputs": [
    {
     "data": {
      "image/png": "[encoded data removed]",
      "text/plain": [
       "<Figure size 432x288 with 1 Axes>"
      ]
     },
     "metadata": {
      "needs_background": "light"
     },
     "output_type": "display_data"
    }
   ],
   "source": [
    "import matplotlib.pyplot as plt\n",
    "%matplotlib inline\n",
    "\n",
    "x = np.linspace(-3,3,1000)\n",
    "y = stats.norm.pdf(x, 0, 1)\n",
    "z_ = x[x>z]\n",
    "plt.plot(x, y)\n",
    "plt.fill_between(z_, 0, stats.norm.pdf(z_, 0, 1))\n",
    "plt.vlines(z,0,0.4)\n",
    "plt.show()"
   ]
  },
  {
   "cell_type": "code",
   "execution_count": 7,
   "metadata": {
    "ExecuteTime": {
     "end_time": "2020-07-30T23:02:59.203008Z",
     "start_time": "2020-07-30T23:02:59.186786Z"
    }
   },
   "outputs": [
    {
     "data": {
      "text/plain": [
       "0.007152939217714871"
      ]
     },
     "execution_count": 7,
     "metadata": {},
     "output_type": "execute_result"
    }
   ],
   "source": [
    "#calculate p-value and interpret\n",
    "p_value = 1 - stats.norm.cdf(z)\n",
    "p_value"
   ]
  },
  {
   "cell_type": "markdown",
   "metadata": {},
   "source": [
    "**If we picked a random employee and ovserved their performance for 6 hours, there is only a 0.7% chance that they would sell more scoops on average than Steve.**"
   ]
  },
  {
   "cell_type": "markdown",
   "metadata": {},
   "source": [
    "## Example 3 \n",
    "A coffee shop relocates from Manhattan to Brooklyn and wants to make sure that all lattes are consistent before and after their move. They buy a new machine and hire a new barista. In Manhattan, lattes are made with 4 oz of espresso. A random sample of 25 lattes made in their new store in Brooklyn shows a mean of 4.6 oz and standard deviation of 0.22 oz. Are their lattes different now that they've relocated to Brooklyn? Use a significance level of $\\alpha = 0.01$.\n",
    "\n",
    "State null and alternative hypothesis:\n",
    "1. Null: \n",
    "2. Alternative: \n",
    "\n",
    "What kind of test should we use? "
   ]
  },
  {
   "cell_type": "code",
   "execution_count": null,
   "metadata": {},
   "outputs": [],
   "source": [
    "#define parameters "
   ]
  },
  {
   "cell_type": "code",
   "execution_count": null,
   "metadata": {
    "ExecuteTime": {
     "end_time": "2020-07-30T19:21:08.624170Z",
     "start_time": "2020-07-30T19:21:08.616714Z"
    }
   },
   "outputs": [],
   "source": [
    "#calculate critical statistic values "
   ]
  },
  {
   "cell_type": "markdown",
   "metadata": {},
   "source": [
    "**Can we reject the null hypothesis?**"
   ]
  },
  {
   "cell_type": "markdown",
   "metadata": {},
   "source": [
    "## Example 4 \n",
    "\n",
    "The average annual earnings for an eSports athlete is 45,000 dollars with a standard deviation of 25,000 dollars. A recent study of 15 eSports atheletes found their average annual earnings to be 55,000 dollars. A rising eSports star is trying to decide whether or not to drop out of college and pursue as eSports career. His decision will be swayed over whether or not he could expect to make more than 45,000 dollars a year in eSports. Design a hypothesis test to inform his decision with a 95% confidence level.\n",
    "\n",
    "**What is the null/alternate hypothesis?** \n",
    "\n",
    "Null:\n",
    "\n",
    "Alternate: "
   ]
  },
  {
   "cell_type": "code",
   "execution_count": null,
   "metadata": {
    "ExecuteTime": {
     "end_time": "2020-07-30T20:23:56.865375Z",
     "start_time": "2020-07-30T20:23:56.863447Z"
    }
   },
   "outputs": [],
   "source": [
    "#define parameters "
   ]
  },
  {
   "cell_type": "code",
   "execution_count": null,
   "metadata": {
    "ExecuteTime": {
     "end_time": "2020-07-30T20:25:17.244558Z",
     "start_time": "2020-07-30T20:25:17.242714Z"
    }
   },
   "outputs": [],
   "source": [
    "#calculate p-value "
   ]
  },
  {
   "cell_type": "markdown",
   "metadata": {},
   "source": [
    "## Example - Two sample T-Test \n",
    "\n",
    "League of Legends and DOTA 2 are two similar multiplayer online battle arena games. There is a big debate over which game is better and which one requires more skill. To solve this question, two studies were ran using an IQ test. The first study looked at 55 League of Legends players and found their average IQ to be 116 with a standard deviation of 10. The second study looked at 45 DOTA 2 players and found their average IQ to be 112 with a standard deviation of 12. Assuming a confidence level of 90%, can these studies conclude that one playerbase is more intelligent than the other?"
   ]
  },
  {
   "cell_type": "code",
   "execution_count": null,
   "metadata": {},
   "outputs": [],
   "source": []
  }
 ],
 "metadata": {
  "kernelspec": {
   "display_name": "learn-env",
   "language": "python",
   "name": "learn-env"
  },
  "language_info": {
   "codemirror_mode": {
    "name": "ipython",
    "version": 3
   },
   "file_extension": ".py",
   "mimetype": "text/x-python",
   "name": "python",
   "nbconvert_exporter": "python",
   "pygments_lexer": "ipython3",
   "version": "3.6.9"
  },
  "toc": {
   "base_numbering": 1,
   "nav_menu": {},
   "number_sections": true,
   "sideBar": true,
   "skip_h1_title": true,
   "title_cell": "Table of Contents",
   "title_sidebar": "Contents",
   "toc_cell": false,
   "toc_position": {},
   "toc_section_display": true,
   "toc_window_display": false
  },
  "varInspector": {
   "cols": {
    "lenName": 16,
    "lenType": 16,
    "lenVar": 40
   },
   "kernels_config": {
    "python": {
     "delete_cmd_postfix": "",
     "delete_cmd_prefix": "del ",
     "library": "var_list.py",
     "varRefreshCmd": "print(var_dic_list())"
    },
    "r": {
     "delete_cmd_postfix": ") ",
     "delete_cmd_prefix": "rm(",
     "library": "var_list.r",
     "varRefreshCmd": "cat(var_dic_list()) "
    }
   },
   "types_to_exclude": [
    "module",
    "function",
    "builtin_function_or_method",
    "instance",
    "_Feature"
   ],
   "window_display": false
  }
 },
 "nbformat": 4,
 "nbformat_minor": 2
}
