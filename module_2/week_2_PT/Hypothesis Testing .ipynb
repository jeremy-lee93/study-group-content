{
 "cells": [
  {
   "cell_type": "markdown",
   "metadata": {},
   "source": [
    "# Hypothesis Testing"
   ]
  },
  {
   "cell_type": "markdown",
   "metadata": {},
   "source": [
    "\n",
    "\n",
    "## **What is statistical hypothesis testing?**\n",
    "\n",
    "1. Start with a Scientific Question (yes/no)\n",
    "2. Take the skeptical stance (Null hypothesis)\n",
    "3. State the complement (Alternative)\n",
    "4. Create a model of the situation Assuming the Null Hypothesis is True!\n",
    "5. Decide how surprised you would need to be in order to change your mind\n",
    "\n",
    "When we perform experiments, we typically do not have access to all the members of a population, and need to take samples of measurements to make inferences about the population.\n",
    "\n",
    "A statistical hypothesis test is a method for testing a hypothesis about a parameter in a population using data measured in a sample.\n",
    "\n",
    "We test a hypothesis by determining the chance of obtaining a sample statistic if the null hypothesis regarding the population parameter is true.\n",
    "\n",
    "> The goal of hypothesis testing is to make a decision about the value of a population parameter based on sample data.\n",
    "\n",
    "**Some examples in the real world?** \n",
    "\n",
    "- Chemistry - do inputs from two different barley fields produce different yields?\n",
    "- Astrophysics - do star systems with near-orbiting gas giants have hotter stars?\n",
    "- Medicine - Does a particular drug perform better in one population over another? \n",
    "- Sports - Is Lebron the GOAT? \n",
    "\n"
   ]
  },
  {
   "cell_type": "markdown",
   "metadata": {},
   "source": [
    "## Definitions \n",
    "\n",
    "**Significance Level $\\alpha$**\n",
    "\n",
    "> The significance level $\\alpha$ is the threshold at which you're okay with rejecting the null hypothesis. It is the probability of rejecting the null hypothesis when it is true.\n",
    "\n",
    "> The most commonly used $\\alpha$ in science is $\\alpha = 0.05$. When you set $\\alpha = 0.05$, you're saying \"I'm okay with rejecting the null hypothesis if there is less than a 5% chance that the results I am seeing are actually due to randomness\".\n",
    "\n",
    "**p-values**\n",
    "\n",
    "> The p-value is the probability of observing a test statistic at least as large as the one observed, by random chance, assuming that the null hypothesis is true.\n",
    "\n",
    "> If $p \\lt \\alpha$, we reject the null hypothesis.\n",
    "\n",
    "> If $p \\geq \\alpha$, we fail to reject the null hypothesis.\n",
    "\n",
    "**We do not accept the alternative hypothesis, we only reject or fail to reject the null hypothesis in favor of the alternative.**\n",
    "\n",
    "**What if the experiment we perform fails to reject the null hypothesis?**\n",
    "\n",
    "> We do not throw out failed experiments!\n",
    "We say \"this methodology, with this data, does not produce significant results\"\n",
    "Maybe we need more data!\n",
    "\n",
    "**Type 1 Errors (False Positives) and Type 2 Errors (False Negatives)**\n",
    "\n",
    "> Most tests for the presence of some factor are imperfect. And in fact most tests are imperfect in two ways: They will sometimes fail to predict the presence of that factor when it is after all present, and they will sometimes predict the presence of that factor when in fact it is not. Clearly, the lower these error rates are, the better, but it is not uncommon for these rates to be between 1% and 5%, and sometimes they are even higher than that. (Of course, if they're higher than 50%, then we're better off just flipping a coin to run our test!)\n",
    "\n",
    "> Predicting the presence of some factor (i.e. counter to the null hypothesis) when in fact it is not there (i.e. the null hypothesis is true) is called a \"false positive\". Failing to predict the presence of some factor (i.e. in accord with the null hypothesis) when in fact it is there (i.e. the null hypothesis is false) is called a \"false negative\".\n",
    "\n",
    "**One-sample z-test**\n",
    "\n",
    "> For large enough sample sizes $n$ with known population standard deviation $\\sigma$, the test statistic of the sample mean $\\bar x$ is given by the z-statistic,$$Z = \\frac{\\bar{x} - \\mu}{\\sigma/\\sqrt{n}}$$where $\\mu$ is the population mean.\n",
    "\n",
    "> Our hypothesis test tries to answer the question of how likely we are to observe a z-statistic as extreme as our sample's given the null hypothesis that the sample and the population have the same mean, given a significance threshold of $\\alpha$. This is a one-sample z-test.\n",
    "\n",
    "**One-sample t-test**\n",
    "\n",
    "> For small sample sizes or samples with unknown population standard deviation, the test statistic of the sample mean is given by the t-statistic,$$ t = \\frac{\\bar{x} - \\mu}{s/\\sqrt{n}} $$Here, $s$ is the sample standard deviation, which is used to estimate the population standard deviation, and $\\mu$ is the population mean.\n",
    "\n",
    "> Our hypothesis test tries to answer the question of how likely we are to observe a t-statistic as extreme as our sample's given the null hypothesis that the sample and population have the same mean, given a significance threshold of $\\alpha$. This is a one-sample t-test.\n",
    "\n",
    "**Two-sample t-tests** \n",
    "\n",
    "Sometimes, we are interested in determining whether two population means are equal. In this case, we use two-sample t-tests.\n",
    "\n",
    "There are two types of two-sample t-tests: paired and independent (unpaired) tests.\n",
    "\n",
    "What's the difference?\n",
    "\n",
    "> **Paired tests**: How is a sample affected by a certain treatment? The individuals in the sample remain the same and you compare how they change after treatment.\n",
    "\n",
    "> **Independent tests:** When we compare two different, unrelated samples to each other, we use an independent (or unpaired) two-sample t-test.\n",
    "\n",
    "The test statistic for an unpaired two-sample t-test is slightly different than the test statistic for the one-sample t-test.\n",
    "\n",
    "Assuming equal variances, the test statistic for a two-sample t-test is given by:\n",
    "\n",
    "> $$ t = \\frac{\\bar{x_1} - \\bar{x_2}}{\\sqrt{s^2 \\left( \\frac{1}{n_1} + \\frac{1}{n_2} \\right)}}$$\n",
    "where $s^2$ is the pooled sample variance,\n",
    "\n",
    "> $$ s^2 = \\frac{\\sum_{i=1}^{n_1} \\left(x_i - \\bar{x_1}\\right)^2 + \\sum_{j=1}^{n_2} \\left(x_j - \\bar{x_2}\\right)^2 }{n_1 + n_2 - 2} $$\n",
    "Here, $n_1$ is the sample size of sample 1 and $n_2$ is the sample size of sample 2.\n",
    "\n",
    "An independent two-sample t-test for samples of size $n_1$ and $n_2$ has $(n_1 + n_2 - 2)$ degrees of freedom."
   ]
  },
  {
   "cell_type": "markdown",
   "metadata": {},
   "source": [
    "## Example 1 \n",
    "\n",
    "Suppose that African elephants have weights distributed normally around a mean of 9000 lbs with a standard deviation of 900 lbs. Pachyderm Adventures has recently measured the weights of 35 Gabonese elephants and has calculated their average weight at 8637 lbs.\n",
    "\n",
    "Is the average weight of Gabonese elephants different that the average weight of African elephants? Use significance level $\\alpha = 0.05$.\n",
    "\n",
    "**What are the null and alternative hypotheses? What is the significance level of the test?**\n",
    "\n",
    "**What should be our test statistic? Are we running an upper, lower, or two-tailed test? Why?**\n",
    "\n",
    "**What's the value of the critical test statistic that we should use for our test?**"
   ]
  },
  {
   "cell_type": "markdown",
   "metadata": {},
   "source": [
    "## How do we set up a hypothesis test? \n",
    "\n",
    "**Regardless of the type of statistical hypothesis test you're performing, there are five main steps to executing them:**\n",
    "\n",
    "1. Set up a null and alternative hypothesis\n",
    "2. Choose a significance level $\\alpha$ (or use the one assigned).\n",
    "3. Determine the critical test statistic value or p-value. (Find the rejection region for the null hypothesis.)\n",
    "4. Calculate the value of the test statistic.\n",
    "5. Compare the test statistic value to the critical test statistic value to reject the null hypothesis or not.\n",
    "![](https://github.com/learn-co-students/dsc-hypothesis_testing-seattle-102819/raw/633b48d10c99c4d75ba7d2ceadcf67b5f49c9c8d/images/hypothesis_test.png)\n",
    "\n",
    "\n",
    "**Decision Rule:**\n",
    "\n",
    "The decision rule tells us when we can reject the null hypothesis.\n",
    "\n",
    "**It depends on 3 factors:**\n",
    "\n",
    "1. The alternative hypothesis\n",
    "    - Is this an upper-tailed, lower-tailed, or two-tailed test?\n",
    "2. The test statistic\n",
    "3. The level of significance $\\alpha$.\n",
    "\n",
    "**Upper-tailed test (right-tailed test):**\n",
    "\n",
    "    - The null hypothesis is rejected if the test statistic is greater than the critical value.\n",
    "\n",
    "**Lower-tailed test (left-tailed test):**\n",
    "\n",
    "    - The null hypothesis is rejected if the test statistic is smaller than the critical value.\n",
    "\n",
    "**Two-tailed test:**\n",
    "\n",
    "    - The null hypothesis is rejected if the test statistic is either larger than an upper critical value or smaller than a lower critical value.\n",
    "    \n",
    "[Awesome reference for everything Hypothesis testing related](https://www.statisticshowto.com/probability-and-statistics/hypothesis-testing/)"
   ]
  },
  {
   "cell_type": "code",
<<<<<<< HEAD
   "execution_count": 3,
   "metadata": {
    "ExecuteTime": {
     "end_time": "2020-08-04T22:29:06.588355Z",
     "start_time": "2020-08-04T22:29:06.120943Z"
=======
   "execution_count": 2,
   "metadata": {
    "ExecuteTime": {
     "end_time": "2020-08-04T22:27:05.093219Z",
     "start_time": "2020-08-04T22:27:02.546496Z"
>>>>>>> 933bc81fe4e35b0fb5490046e7d134537ff09d5e
    }
   },
   "outputs": [],
   "source": [
    "import numpy as np \n",
    "from scipy import stats"
   ]
  },
  {
   "cell_type": "markdown",
   "metadata": {},
   "source": [
<<<<<<< HEAD
    "**What is the null/alternate hypothesis**\n",
    "Null: The average weight of Gabonese elephants is the same as the average weight of African elephants\n",
    "Alternate: The average weight of Gabonese elephants is different thatn the average weight of African elephants\n",
    "\n",
    "alpha = 0.05\n",
    "\n",
    "Two-tailed t test. Because we're looking for whether the weights are considered lower or higher. We are comparing a sample mean to a population mean, our sample size must be > 30; we know the population standard deviation."
=======
    "**What is the null/alternate hypothesis?** \n",
    "\n",
    "Null: The average weight of Gabonese elephants is the same as the average weight of African elephants \n",
    "\n",
    "Alternate: The average weight of Gabonese elephants is different than the average weight of African elephants \n",
    "\n",
    "alpha = 0.05 \n",
    "\n",
    "Two-tailed test. Because we're looking for whether the weights are considered lower or higher. We are comparing a sample mean to a population mean; our sample size must be > 30; we know the population SD. "
>>>>>>> 933bc81fe4e35b0fb5490046e7d134537ff09d5e
   ]
  },
  {
   "cell_type": "code",
   "execution_count": 2,
   "metadata": {
    "ExecuteTime": {
<<<<<<< HEAD
     "end_time": "2020-07-30T22:50:35.912552Z",
     "start_time": "2020-07-30T22:50:35.848235Z"
=======
     "end_time": "2020-07-30T22:50:24.276819Z",
     "start_time": "2020-07-30T22:50:24.235649Z"
>>>>>>> 933bc81fe4e35b0fb5490046e7d134537ff09d5e
    }
   },
   "outputs": [
    {
     "data": {
      "text/plain": [
       "(-1.9599639845400545, 1.959963984540054)"
      ]
     },
     "execution_count": 2,
     "metadata": {},
     "output_type": "execute_result"
    }
   ],
   "source": [
<<<<<<< HEAD
    "alpha = 0.05\n",
    "\n",
    "stats.norm.ppf(alpha/2), stats.norm.ppf(1-alpha/2)"
   ]
=======
    "#critical z-statistic \n",
    "alpha = 0.05 \n",
    "\n",
    "# point percent function is the inverse of the cumulative density\n",
    "# function which can be understood as the quantile\n",
    "\n",
    "stats.norm.ppf(alpha/2), stats.norm.ppf(1-alpha/2)"
   ]
  },
  {
   "cell_type": "markdown",
   "metadata": {},
   "source": [
    "$$\\text{z-statistic} = \\frac{\\bar{x} - \\mu}{\\sigma/\\sqrt{n}}, $$\n",
    "\n",
    "where $\\bar x$ is the sample mean, $\\mu$ is the population mean, $\\sigma$ is the population standard deviation, and $n$ is the sample size."
   ]
>>>>>>> 933bc81fe4e35b0fb5490046e7d134537ff09d5e
  },
  {
   "cell_type": "code",
   "execution_count": 3,
   "metadata": {
    "ExecuteTime": {
<<<<<<< HEAD
     "end_time": "2020-07-30T22:54:20.969217Z",
     "start_time": "2020-07-30T22:54:20.956312Z"
=======
     "end_time": "2020-07-30T22:54:20.110311Z",
     "start_time": "2020-07-30T22:54:20.107028Z"
>>>>>>> 933bc81fe4e35b0fb5490046e7d134537ff09d5e
    }
   },
   "outputs": [
    {
     "name": "stdout",
     "output_type": "stream",
     "text": [
      "-2.386152179183512\n"
     ]
    }
   ],
   "source": [
<<<<<<< HEAD
    "n = 35\n",
    "sigma = 900\n",
=======
    "n = 35 \n",
    "sigma = 900 \n",
    "\n",
>>>>>>> 933bc81fe4e35b0fb5490046e7d134537ff09d5e
    "x_bar = 8637\n",
    "mu = 9000\n",
    "\n",
    "se = sigma/np.sqrt(n)\n",
<<<<<<< HEAD
    "z = (x_bar - mu)/se\n",
    "\n",
=======
    "z = (x_bar - mu)/se \n",
>>>>>>> 933bc81fe4e35b0fb5490046e7d134537ff09d5e
    "print(z)"
   ]
  },
  {
   "cell_type": "markdown",
   "metadata": {},
   "source": [
<<<<<<< HEAD
    "**Reject null or not**\n",
    "z = -2.39, which is < -1.96, thus we can reject the null hypothesis."
=======
    "**Reject null or not?** \n",
    "z = -2.29, which is < -1.96, thus we can reject the null hypothesis. "
>>>>>>> 933bc81fe4e35b0fb5490046e7d134537ff09d5e
   ]
  },
  {
   "cell_type": "markdown",
   "metadata": {},
   "source": [
    "## Example 2 \n",
    "\n",
    "The average number of scoops of ice cream sold by employees at Scoops Ahoy is 15 per hour with a standard deviation of 3.\n",
    "\n",
    "Steve worked for 6 hours and averaged 18 scoops sold per hour."
   ]
  },
  {
   "cell_type": "code",
   "execution_count": 4,
   "metadata": {
    "ExecuteTime": {
<<<<<<< HEAD
     "end_time": "2020-07-30T22:59:26.092161Z",
     "start_time": "2020-07-30T22:59:26.078571Z"
=======
     "end_time": "2020-07-30T22:59:19.206800Z",
     "start_time": "2020-07-30T22:59:19.204068Z"
>>>>>>> 933bc81fe4e35b0fb5490046e7d134537ff09d5e
    }
   },
   "outputs": [
    {
     "name": "stdout",
     "output_type": "stream",
     "text": [
      "2.449489742783178\n"
     ]
    }
   ],
   "source": [
    "#define parameters \n",
    "x_bar = 18\n",
<<<<<<< HEAD
    "sigma = 3\n",
    "mu = 15\n",
    "n = 6\n",
=======
    "sigma = 3 \n",
    "mu = 15\n",
    "n = 6 \n",
>>>>>>> 933bc81fe4e35b0fb5490046e7d134537ff09d5e
    "z = (x_bar - mu)/(sigma/np.sqrt(n))\n",
    "print(z)"
   ]
  },
  {
   "cell_type": "code",
<<<<<<< HEAD
   "execution_count": 6,
   "metadata": {
    "ExecuteTime": {
     "end_time": "2020-07-30T23:02:37.890961Z",
     "start_time": "2020-07-30T23:02:36.966762Z"
=======
   "execution_count": 8,
   "metadata": {
    "ExecuteTime": {
     "end_time": "2020-07-30T23:02:06.105967Z",
     "start_time": "2020-07-30T23:02:05.970179Z"
>>>>>>> 933bc81fe4e35b0fb5490046e7d134537ff09d5e
    }
   },
   "outputs": [
    {
     "data": {
<<<<<<< HEAD
      "image/png": "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\n",
=======
      "image/png": "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\n",
>>>>>>> 933bc81fe4e35b0fb5490046e7d134537ff09d5e
      "text/plain": [
       "<Figure size 432x288 with 1 Axes>"
      ]
     },
     "metadata": {
      "needs_background": "light"
     },
     "output_type": "display_data"
    }
   ],
   "source": [
    "import matplotlib.pyplot as plt\n",
<<<<<<< HEAD
    "%matplotlib inline\n",
=======
    "%matplotlib inline \n",
>>>>>>> 933bc81fe4e35b0fb5490046e7d134537ff09d5e
    "\n",
    "x = np.linspace(-3,3,1000)\n",
    "y = stats.norm.pdf(x, 0, 1)\n",
    "z_ = x[x>z]\n",
    "plt.plot(x, y)\n",
    "plt.fill_between(z_, 0, stats.norm.pdf(z_, 0, 1))\n",
    "plt.vlines(z,0,0.4)\n",
    "plt.show()"
   ]
  },
  {
   "cell_type": "code",
<<<<<<< HEAD
   "execution_count": 7,
   "metadata": {
    "ExecuteTime": {
     "end_time": "2020-07-30T23:02:59.203008Z",
     "start_time": "2020-07-30T23:02:59.186786Z"
=======
   "execution_count": 9,
   "metadata": {
    "ExecuteTime": {
     "end_time": "2020-07-30T23:02:42.794744Z",
     "start_time": "2020-07-30T23:02:42.790145Z"
>>>>>>> 933bc81fe4e35b0fb5490046e7d134537ff09d5e
    }
   },
   "outputs": [
    {
     "data": {
      "text/plain": [
       "0.007152939217714871"
      ]
     },
<<<<<<< HEAD
     "execution_count": 7,
=======
     "execution_count": 9,
>>>>>>> 933bc81fe4e35b0fb5490046e7d134537ff09d5e
     "metadata": {},
     "output_type": "execute_result"
    }
   ],
   "source": [
    "#calculate p-value and interpret\n",
    "p_value = 1 - stats.norm.cdf(z)\n",
<<<<<<< HEAD
    "p_value"
=======
    "p_value "
>>>>>>> 933bc81fe4e35b0fb5490046e7d134537ff09d5e
   ]
  },
  {
   "cell_type": "markdown",
   "metadata": {},
   "source": [
<<<<<<< HEAD
    "**If we picked a random employee and ovserved their performance for 6 hours, there is only a 0.7% chance that they would sell more scoops on average than Steve.**"
=======
    "**If we picked a random employee and observed their performance for 6 hours, there is only a 0.7% chance that they would sell more scoops on average than Steve.**"
>>>>>>> 933bc81fe4e35b0fb5490046e7d134537ff09d5e
   ]
  },
  {
   "cell_type": "markdown",
   "metadata": {},
   "source": [
    "## Example 3 \n",
    "A coffee shop relocates from Manhattan to Brooklyn and wants to make sure that all lattes are consistent before and after their move. They buy a new machine and hire a new barista. In Manhattan, lattes are made with 4 oz of espresso. A random sample of 25 lattes made in their new store in Brooklyn shows a mean of 4.6 oz and standard deviation of 0.22 oz. Are their lattes different now that they've relocated to Brooklyn? Use a significance level of $\\alpha = 0.01$.\n",
    "\n",
    "State null and alternative hypothesis:\n",
<<<<<<< HEAD
    "1. Null: Lattes are the same\n",
    "2. Alternative: Lattes are different\n",
    "\n",
    "What kind of test should we use? Run a 1 sample t test."
=======
    "1. Null: Lattes are the same \n",
    "2. Alternative: Lattes are different\n",
    "\n",
    "What kind of test should we use? Run a 2-tailed, 1-sample t-test "
>>>>>>> 933bc81fe4e35b0fb5490046e7d134537ff09d5e
   ]
  },
  {
   "cell_type": "code",
<<<<<<< HEAD
   "execution_count": 2,
   "metadata": {
    "ExecuteTime": {
     "end_time": "2020-08-04T22:27:41.666884Z",
     "start_time": "2020-08-04T22:27:41.660754Z"
=======
   "execution_count": 1,
   "metadata": {
    "ExecuteTime": {
     "end_time": "2020-08-04T22:26:36.512009Z",
     "start_time": "2020-08-04T22:26:36.508163Z"
>>>>>>> 933bc81fe4e35b0fb5490046e7d134537ff09d5e
    }
   },
   "outputs": [
    {
     "name": "stdout",
     "output_type": "stream",
     "text": [
      "The t-statistics for our sample is 13.64.\n"
     ]
    }
   ],
   "source": [
    "#define parameters \n",
<<<<<<< HEAD
    "n = 25\n",
    "x_bar = 4.6\n",
    "mu = 4\n",
    "sd = 0.22\n",
    "alpha = 0.01\n",
    "\n",
    "df = n - 1\n",
    "t = (x_bar - mu)/(sd/n**0.5)\n",
    "print(\"The t-statistics for our sample is {}.\".format(round(t,2)))"
=======
    "x_bar = 4.6 \n",
    "mu = 4.0 \n",
    "sd = 0.22 \n",
    "n = 25 \n",
    "alpha = .01 \n",
    "\n",
    "df = n-1 \n",
    "t = (x_bar - mu)/(sd/n**.5)\n",
    "print(\"The t-statistics for our sample is {}.\".format(round(t, 2)))"
>>>>>>> 933bc81fe4e35b0fb5490046e7d134537ff09d5e
   ]
  },
  {
   "cell_type": "code",
<<<<<<< HEAD
   "execution_count": 5,
   "metadata": {
    "ExecuteTime": {
     "end_time": "2020-08-04T22:30:05.604738Z",
     "start_time": "2020-08-04T22:30:05.586371Z"
=======
   "execution_count": 3,
   "metadata": {
    "ExecuteTime": {
     "end_time": "2020-08-04T22:29:56.352052Z",
     "start_time": "2020-08-04T22:29:56.337787Z"
>>>>>>> 933bc81fe4e35b0fb5490046e7d134537ff09d5e
    }
   },
   "outputs": [
    {
     "data": {
      "text/plain": [
       "(-2.796939504772805, 2.796939504772804)"
      ]
     },
<<<<<<< HEAD
     "execution_count": 5,
=======
     "execution_count": 3,
>>>>>>> 933bc81fe4e35b0fb5490046e7d134537ff09d5e
     "metadata": {},
     "output_type": "execute_result"
    }
   ],
   "source": [
    "#calculate critical statistic values \n",
    "stats.t.ppf(0.005, df), stats.t.ppf(1-0.005, df)"
   ]
  },
  {
   "cell_type": "markdown",
   "metadata": {},
   "source": [
    "**Can we reject the null hypothesis?**\n",
<<<<<<< HEAD
    "t>t-critical therefore we can reject the null hypothesis. Lattes are different from Manhattan to Brooklyn."
=======
    "t>t-critical therefore we can reject the null hypothesis. Lattes are different from Manhattan to Brooklyn. "
>>>>>>> 933bc81fe4e35b0fb5490046e7d134537ff09d5e
   ]
  },
  {
   "cell_type": "markdown",
   "metadata": {},
   "source": [
    "## Example 4 \n",
    "\n",
    "The average annual earnings for an eSports athlete is 45,000 dollars with a standard deviation of 25,000 dollars. A recent study of 15 eSports atheletes found their average annual earnings to be 55,000 dollars. A rising eSports star is trying to decide whether or not to drop out of college and pursue as eSports career. His decision will be swayed over whether or not he could expect to make more than 45,000 dollars a year in eSports. Design a hypothesis test to inform his decision with a 95% confidence level.\n",
    "\n",
    "**What is the null/alternate hypothesis?** \n",
    "\n",
<<<<<<< HEAD
    "Null: Average salary of an eSports athlete is 45k.\n",
    "\n",
    "Alternate: Average salary of eSports athlete > 45k"
=======
    "Null: Average salary of eSports athlete = 45,000\n",
    "\n",
    "Alternate: Average salary of eSports athlete > 45,000"
>>>>>>> 933bc81fe4e35b0fb5490046e7d134537ff09d5e
   ]
  },
  {
   "cell_type": "code",
<<<<<<< HEAD
   "execution_count": 6,
   "metadata": {
    "ExecuteTime": {
     "end_time": "2020-08-04T22:45:53.713708Z",
     "start_time": "2020-08-04T22:45:53.704375Z"
=======
   "execution_count": 4,
   "metadata": {
    "ExecuteTime": {
     "end_time": "2020-08-04T22:45:52.058413Z",
     "start_time": "2020-08-04T22:45:52.055078Z"
>>>>>>> 933bc81fe4e35b0fb5490046e7d134537ff09d5e
    }
   },
   "outputs": [
    {
     "name": "stdout",
     "output_type": "stream",
     "text": [
      "1.5491933384829668\n"
     ]
    }
   ],
   "source": [
    "#define parameters \n",
    "x_bar = 55000\n",
    "mu = 45000\n",
    "sigma = 25000\n",
    "n = 15\n",
<<<<<<< HEAD
    "alpha = 0.05\n",
    "z = (x_bar - mu)/(sigma/np.sqrt(n))\n",
=======
    "alpha = .05\n",
    "z = (x_bar-mu)/(sigma/np.sqrt(n))\n",
>>>>>>> 933bc81fe4e35b0fb5490046e7d134537ff09d5e
    "print(z)"
   ]
  },
  {
   "cell_type": "code",
<<<<<<< HEAD
   "execution_count": 8,
   "metadata": {
    "ExecuteTime": {
     "end_time": "2020-08-04T22:46:57.773695Z",
     "start_time": "2020-08-04T22:46:57.767816Z"
    }
   },
   "outputs": [
    {
     "data": {
      "text/plain": [
       "0.06066762517924107"
      ]
     },
     "execution_count": 8,
     "metadata": {},
     "output_type": "execute_result"
    }
   ],
   "source": [
    "#calculate p-value \n",
    "p_value = 1- stats.norm.cdf(z)\n",
    "p_value"
   ]
  },
  {
   "cell_type": "markdown",
   "metadata": {},
   "source": [
    "Our calculated p-value is greater than our alpha value at our given confidence level. Thus we fail to reject the null hypothesis. Its statistically unlikely for the eSports player salary average to be greater than $45,000."
   ]
  },
  {
   "cell_type": "markdown",
   "metadata": {},
   "source": [
    "# Slack question"
   ]
  },
  {
   "cell_type": "markdown",
   "metadata": {},
   "source": [
    "You measure the delivery times of ten different restaurants in two different neighborhoods. You want to know if restaurants in the different neighborhoods have the same delivery times. It’s okay to assume both samples have equal variances. Set your significance threshold to 0.05."
   ]
  },
  {
   "cell_type": "code",
   "execution_count": 9,
   "metadata": {
    "ExecuteTime": {
     "end_time": "2020-08-04T22:52:12.548358Z",
     "start_time": "2020-08-04T22:52:12.545000Z"
=======
   "execution_count": 5,
   "metadata": {
    "ExecuteTime": {
     "end_time": "2020-08-04T22:46:57.650569Z",
     "start_time": "2020-08-04T22:46:57.647587Z"
    }
   },
   "outputs": [
    {
     "name": "stdout",
     "output_type": "stream",
     "text": [
      "0.06066762517924107\n"
     ]
    }
   ],
   "source": [
    "#calculate p-value \n",
    "p_value = 1 - stats.norm.cdf(z)\n",
    "print(p_value)"
   ]
  },
  {
   "cell_type": "markdown",
   "metadata": {},
   "source": [
    "Our calculated p-value is greater than our alpha value at our given confidence level. Thus we fail to reject the null hypothesis. Its statistically unlikely for the eSports player salary average to be greater than $45,000 "
   ]
  },
  {
   "cell_type": "markdown",
   "metadata": {},
   "source": [
    "## Example 4.5\n",
    "\n",
    "You measure the delivery times of ten different restaurants in two different neighborhoods. You want to know if restaurants in the different neighborhoods have the same delivery times. It’s okay to assume both samples have equal variances. Set your significance threshold to 0.05.\n",
    "\n",
    "delivery_times_A = [28.4, 23.3, 30.4, 28.1, 29.4, 30.6, 27.8, 30.9, 27.0, 32.8]\n",
    "\n",
    "delivery_times_B = [26.4, 26.3, 27.4, 30.4, 25.1, 28.4, 23.3, 24.7, 31.8, 24.3]\n",
    "\n",
    "Null: The delivery times are the same \n",
    "Alternate: Delivery times are not the same \n",
    "\n",
    "Type of test: Two-sided, two sample t-test "
   ]
  },
  {
   "cell_type": "code",
   "execution_count": 6,
   "metadata": {
    "ExecuteTime": {
     "end_time": "2020-08-04T22:54:05.299705Z",
     "start_time": "2020-08-04T22:54:05.297529Z"
>>>>>>> 933bc81fe4e35b0fb5490046e7d134537ff09d5e
    }
   },
   "outputs": [],
   "source": [
    "delivery_times_A = [28.4, 23.3, 30.4, 28.1, 29.4, 30.6, 27.8, 30.9, 27.0, 32.8]\n",
<<<<<<< HEAD
    "delivery_times_B = [26.4, 26.3, 27.4, 30.4, 25.1, 28.4, 23.3, 24.7, 31.8, 24.3]"
   ]
  },
  {
   "cell_type": "markdown",
   "metadata": {},
   "source": [
    "Null: The delivery times are the same\n",
    "Althernate: Delivery times are not the same\n",
    "\n",
    "Type of test: two-sided, two sample, t-test"
=======
    "\n",
    "delivery_times_B = [26.4, 26.3, 27.4, 30.4, 25.1, 28.4, 23.3, 24.7, 31.8, 24.3]"
>>>>>>> 933bc81fe4e35b0fb5490046e7d134537ff09d5e
   ]
  },
  {
   "cell_type": "code",
<<<<<<< HEAD
   "execution_count": 10,
   "metadata": {
    "ExecuteTime": {
     "end_time": "2020-08-04T22:55:20.437104Z",
     "start_time": "2020-08-04T22:55:20.428339Z"
=======
   "execution_count": 7,
   "metadata": {
    "ExecuteTime": {
     "end_time": "2020-08-04T22:55:18.311565Z",
     "start_time": "2020-08-04T22:55:18.307793Z"
>>>>>>> 933bc81fe4e35b0fb5490046e7d134537ff09d5e
    }
   },
   "outputs": [
    {
     "data": {
      "text/plain": [
       "Ttest_indResult(statistic=1.7223240113288751, pvalue=0.10214880648482656)"
      ]
     },
<<<<<<< HEAD
     "execution_count": 10,
=======
     "execution_count": 7,
>>>>>>> 933bc81fe4e35b0fb5490046e7d134537ff09d5e
     "metadata": {},
     "output_type": "execute_result"
    }
   ],
   "source": [
    "stats.ttest_ind(delivery_times_A, delivery_times_B)"
   ]
  },
  {
   "cell_type": "markdown",
   "metadata": {},
   "source": [
<<<<<<< HEAD
    "P-value > alpha, We cannot reject the null hypothesis that the restaurants have equal delivery times."
=======
    "P-value > alpha, We cannot reject the null hypothesis that the restaurants have equal delivery times. "
>>>>>>> 933bc81fe4e35b0fb5490046e7d134537ff09d5e
   ]
  },
  {
   "cell_type": "markdown",
   "metadata": {},
   "source": [
    "## Example - Two sample T-Test \n",
    "\n",
    "League of Legends and DOTA 2 are two similar multiplayer online battle arena games. There is a big debate over which game is better and which one requires more skill. To solve this question, two studies were ran using an IQ test. The first study looked at 55 League of Legends players and found their average IQ to be 116 with a standard deviation of 10. The second study looked at 45 DOTA 2 players and found their average IQ to be 112 with a standard deviation of 12. Assuming a confidence level of 90%, can these studies conclude that one playerbase is more intelligent than the other?"
   ]
  },
  {
   "cell_type": "markdown",
   "metadata": {},
   "source": [
    "Null: Player base are equally intelligent.\n",
    "Alternate: Player base have different IQ levels.\n",
    "Two sample, two tailed t-test."
   ]
  },
  {
   "cell_type": "code",
   "execution_count": 11,
   "metadata": {
    "ExecuteTime": {
     "end_time": "2020-08-04T23:14:22.128942Z",
     "start_time": "2020-08-04T23:14:22.124116Z"
    }
   },
   "outputs": [],
   "source": [
    "ll_iq_mean = 116\n",
    "dt_it_mean = 112\n",
    "ll_iq_sd = 10\n",
    "dt_iq_sd = 12\n",
    "ll_iq_n = 55\n",
    "dt_iq_n = 45\n",
    "\n",
    "alpha = 0.1\n",
    "\n",
    "tscore = stats.ttest_ind_from_stats(ll_iq_mean, ll_iq_sd, ll_iq_n, dt_it_mean, dt_iq_sd, dt_iq_n)"
   ]
  },
  {
   "cell_type": "code",
   "execution_count": 12,
   "metadata": {
    "ExecuteTime": {
     "end_time": "2020-08-04T23:14:25.197195Z",
     "start_time": "2020-08-04T23:14:25.189585Z"
    }
   },
   "outputs": [
    {
     "data": {
      "text/plain": [
       "Ttest_indResult(statistic=1.8184467180144894, pvalue=0.07205041077127008)"
      ]
     },
     "execution_count": 12,
     "metadata": {},
     "output_type": "execute_result"
    }
   ],
   "source": [
    "tscore"
   ]
  },
  {
   "cell_type": "markdown",
   "metadata": {},
   "source": [
    "From our pvalue we can reject our null hkypothesis. The players have different IQ levels"
   ]
  }
 ],
 "metadata": {
  "kernelspec": {
   "display_name": "learn-env",
   "language": "python",
   "name": "learn-env"
  },
  "language_info": {
   "codemirror_mode": {
    "name": "ipython",
    "version": 3
   },
   "file_extension": ".py",
   "mimetype": "text/x-python",
   "name": "python",
   "nbconvert_exporter": "python",
   "pygments_lexer": "ipython3",
   "version": "3.6.9"
  },
  "toc": {
   "base_numbering": 1,
   "nav_menu": {},
   "number_sections": true,
   "sideBar": true,
   "skip_h1_title": true,
   "title_cell": "Table of Contents",
   "title_sidebar": "Contents",
   "toc_cell": false,
   "toc_position": {},
   "toc_section_display": true,
   "toc_window_display": false
  },
  "varInspector": {
   "cols": {
    "lenName": 16,
    "lenType": 16,
    "lenVar": 40
   },
   "kernels_config": {
    "python": {
     "delete_cmd_postfix": "",
     "delete_cmd_prefix": "del ",
     "library": "var_list.py",
     "varRefreshCmd": "print(var_dic_list())"
    },
    "r": {
     "delete_cmd_postfix": ") ",
     "delete_cmd_prefix": "rm(",
     "library": "var_list.r",
     "varRefreshCmd": "cat(var_dic_list()) "
    }
   },
   "types_to_exclude": [
    "module",
    "function",
    "builtin_function_or_method",
    "instance",
    "_Feature"
   ],
   "window_display": false
  }
 },
 "nbformat": 4,
 "nbformat_minor": 2
}
