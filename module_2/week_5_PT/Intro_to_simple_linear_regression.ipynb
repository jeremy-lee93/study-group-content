{
 "cells": [
  {
   "cell_type": "markdown",
   "metadata": {
    "toc": true
   },
   "source": [
    "<h1>Table of Contents<span class=\"tocSkip\"></span></h1>\n",
    "<div class=\"toc\"><ul class=\"toc-item\"><li><span><a href=\"#Introduction-to-Simple-Linear-Regression\" data-toc-modified-id=\"Introduction-to-Simple-Linear-Regression-1\"><span class=\"toc-item-num\">1&nbsp;&nbsp;</span>Introduction to Simple Linear Regression</a></span><ul class=\"toc-item\"><li><span><a href=\"#Goals\" data-toc-modified-id=\"Goals-1.1\"><span class=\"toc-item-num\">1.1&nbsp;&nbsp;</span>Goals</a></span></li><li><span><a href=\"#Statistical-Learning-Theory\" data-toc-modified-id=\"Statistical-Learning-Theory-1.2\"><span class=\"toc-item-num\">1.2&nbsp;&nbsp;</span>Statistical Learning Theory</a></span><ul class=\"toc-item\"><li><span><a href=\"#Examples\" data-toc-modified-id=\"Examples-1.2.1\"><span class=\"toc-item-num\">1.2.1&nbsp;&nbsp;</span>Examples</a></span></li></ul></li><li><span><a href=\"#Modelling\" data-toc-modified-id=\"Modelling-1.3\"><span class=\"toc-item-num\">1.3&nbsp;&nbsp;</span>Modelling</a></span></li><li><span><a href=\"#Simple-Linear-Regression\" data-toc-modified-id=\"Simple-Linear-Regression-1.4\"><span class=\"toc-item-num\">1.4&nbsp;&nbsp;</span>Simple Linear Regression</a></span><ul class=\"toc-item\"><li><span><a href=\"#Estimating-(&quot;Learning&quot;)-Model-Coefficients\" data-toc-modified-id=\"Estimating-(&quot;Learning&quot;)-Model-Coefficients-1.4.1\"><span class=\"toc-item-num\">1.4.1&nbsp;&nbsp;</span>Estimating (\"Learning\") Model Coefficients</a></span></li><li><span><a href=\"#Questions-About-the-Advertising-Data\" data-toc-modified-id=\"Questions-About-the-Advertising-Data-1.4.2\"><span class=\"toc-item-num\">1.4.2&nbsp;&nbsp;</span>Questions About the Advertising Data</a></span></li><li><span><a href=\"#Libraries\" data-toc-modified-id=\"Libraries-1.4.3\"><span class=\"toc-item-num\">1.4.3&nbsp;&nbsp;</span>Libraries</a></span></li><li><span><a href=\"#Interpreting-Model-Coefficients\" data-toc-modified-id=\"Interpreting-Model-Coefficients-1.4.4\"><span class=\"toc-item-num\">1.4.4&nbsp;&nbsp;</span>Interpreting Model Coefficients</a></span></li></ul></li><li><span><a href=\"#Assumptions\" data-toc-modified-id=\"Assumptions-1.5\"><span class=\"toc-item-num\">1.5&nbsp;&nbsp;</span>Assumptions</a></span><ul class=\"toc-item\"><li><ul class=\"toc-item\"><li><span><a href=\"#1.-Linearity\" data-toc-modified-id=\"1.-Linearity-1.5.0.1\"><span class=\"toc-item-num\">1.5.0.1&nbsp;&nbsp;</span>1. Linearity</a></span></li><li><span><a href=\"#2.-Normality\" data-toc-modified-id=\"2.-Normality-1.5.0.2\"><span class=\"toc-item-num\">1.5.0.2&nbsp;&nbsp;</span>2. Normality</a></span></li><li><span><a href=\"#3.-Homoscedasticity\" data-toc-modified-id=\"3.-Homoscedasticity-1.5.0.3\"><span class=\"toc-item-num\">1.5.0.3&nbsp;&nbsp;</span>3. Homoscedasticity</a></span></li></ul></li><li><span><a href=\"#Review\" data-toc-modified-id=\"Review-1.5.1\"><span class=\"toc-item-num\">1.5.1&nbsp;&nbsp;</span>Review</a></span></li><li><span><a href=\"#On-Thursday\" data-toc-modified-id=\"On-Thursday-1.5.2\"><span class=\"toc-item-num\">1.5.2&nbsp;&nbsp;</span>On Thursday</a></span></li></ul></li></ul></li></ul></div>"
   ]
  },
  {
   "cell_type": "markdown",
   "metadata": {},
   "source": [
    "# Introduction to Simple Linear Regression "
   ]
  },
  {
   "cell_type": "markdown",
   "metadata": {},
   "source": [
    "## Goals \n",
    "* Understand the main ideas behind **statistical learning theory**\n",
    "* What is Linear regression? How is it used and implemented with statsmodels? \n",
    "* What are model assumptions and how to test for them. \n",
    "\n"
   ]
  },
  {
   "cell_type": "markdown",
   "metadata": {},
   "source": [
    "## Statistical Learning Theory\n",
    "![](https://media.giphy.com/media/cnLcLJmRfDwcjUzb2d/giphy.gif)\n",
    "The main goal of statistical learning theory is to provide a framework for studying the problem of inference, that is of gaining knowledge, making predictions,making decisions or constructing models from a set of data.\n",
    "Statistical learning also applies a similar concept. There are input data. Input data is transformed. The output, something that needs to be predicted or estimated, is generated.\n",
    "\n",
    "Statistical learning refers to tools and techniques that enable us to understand data better. So, what do we mean by understanding the data better? \n",
    "\n",
    "First we need clarify what types of data we have if we're going to understand it better. \n",
    "\n",
    "1. Independent variables - Data that can be controlled directly\n",
    "2. Dependent variables - Data that cannot be controlled directly"
   ]
  },
  {
   "cell_type": "markdown",
   "metadata": {},
   "source": [
    "### Examples\n",
    "1. **Age vs. Income** \n",
    "![](http://statisticslectures.com/images/scatter2.gif)"
   ]
  },
  {
   "cell_type": "markdown",
   "metadata": {},
   "source": [
    "2. **Or better yet** \n",
    "![](https://miro.medium.com/max/842/1*uGdpT-vLy3lpx0ktkMP9DQ.png)\n",
    "\n",
    "**QUESTION: What other commonly known linear relationships can you think of?** "
   ]
  },
  {
   "cell_type": "markdown",
   "metadata": {},
   "source": [
    "## Modelling \n",
    "![](https://media.giphy.com/media/RLVHPJJv7jY1q/giphy.gif)\n",
    "Now that we understand what our inputs are how do we get to the outputs? \n",
    "There is a middle step between our inputs and outputs, transformation. Models are the engines that transform our inputs. They are functions that estimate the output.\n",
    "\n",
    "**Question: what are the parameters of our function?** Remember, parameters are like numerical characteristics of a model.  "
   ]
  },
  {
   "cell_type": "markdown",
   "metadata": {},
   "source": [
    "## Simple Linear Regression\n",
    "\n",
    "Simple linear regression is an approach for predicting a quantitative output using a single feature (or \"predictor\" or \"input variable\"). It takes the following form:\n",
    "\n",
    "$y = \\beta_0 + \\beta_1x$ + _error term_\n",
    "\n",
    "What does each term represent?\n",
    "\n",
    "* $y$ is the output\\\n",
    "* $x$ is the feature or input\\\n",
    "* $\\beta_0$ is the y-intercept\\\n",
    "* $\\beta_1$ is the coefficient for x\\\n",
    "Together, $\\beta_0$ and $\\beta_1$ are called the model coefficients. To create your model, you must \"learn\" the values of these coefficients. And once we've learned these coefficients, we can use the model to make predictions. Now, how about that error term?"
   ]
  },
  {
   "cell_type": "markdown",
   "metadata": {},
   "source": [
    "### Estimating (\"Learning\") Model Coefficients\n",
    "\n",
    "Generally speaking, coefficients are estimated using the ordinary least squares(OLS) criterion, which means we must find the line (mathematically) which minimizes the sum of squared residuals (or \"sum of squared errors\"):\n",
    "\n",
    "$$\\hat y =  \\hat \\beta_0+ \\hat \\beta_1 x $$\n",
    "\n",
    "![](https://github.com/justmarkham/DAT4/raw/068d887e4be2eedb1b958b345ae097153f762d75/notebooks/08_estimating_coefficients.png)"
   ]
  },
  {
   "cell_type": "markdown",
   "metadata": {},
   "source": [
    "**What elements are present in the diagram?**\n",
    "\n",
    "The black dots are the observed values of x and y.\n",
    "The blue line is our least squares line.\n",
    "The red lines are the residuals, which are the distances between the observed values and the least squares line.\n",
    "How do the model coefficients relate to the least squares line?\n",
    "\n",
    "* $\\beta_0$ is the intercept (the value of $y$ when $x$=0)\n",
    "* $\\beta_1$ is the slope (the change in $y$ divided by change in $x$)\n",
    "\n",
    "Here is a graphical depiction of those calculations:\n",
    "\n",
    "![](https://github.com/justmarkham/DAT4/raw/068d887e4be2eedb1b958b345ae097153f762d75/notebooks/08_slope_intercept.png)\n",
    "\n",
    "We want to choose the regression line that fits the data the best. We can accomplish this by finding the 2 parameters, m (slope) and b (intercept), that minimizes the SSE"
   ]
  },
  {
   "cell_type": "code",
<<<<<<< HEAD
   "execution_count": 5,
   "metadata": {
    "ExecuteTime": {
     "end_time": "2020-08-18T22:36:54.203444Z",
     "start_time": "2020-08-18T22:36:54.144674Z"
=======
   "execution_count": 1,
   "metadata": {
    "ExecuteTime": {
     "end_time": "2020-08-18T22:26:32.630607Z",
     "start_time": "2020-08-18T22:26:31.807440Z"
>>>>>>> 9e925335507c400f4b1705affbe5ef9bd0243b2c
    }
   },
   "outputs": [
    {
     "data": {
      "text/html": [
       "<div>\n",
       "<style scoped>\n",
       "    .dataframe tbody tr th:only-of-type {\n",
       "        vertical-align: middle;\n",
       "    }\n",
       "\n",
       "    .dataframe tbody tr th {\n",
       "        vertical-align: top;\n",
       "    }\n",
       "\n",
       "    .dataframe thead th {\n",
       "        text-align: right;\n",
       "    }\n",
       "</style>\n",
       "<table border=\"1\" class=\"dataframe\">\n",
       "  <thead>\n",
       "    <tr style=\"text-align: right;\">\n",
       "      <th></th>\n",
       "      <th>TV</th>\n",
       "      <th>Radio</th>\n",
       "      <th>Newspaper</th>\n",
       "      <th>Sales</th>\n",
       "    </tr>\n",
       "  </thead>\n",
       "  <tbody>\n",
       "    <tr>\n",
<<<<<<< HEAD
       "      <td>1</td>\n",
=======
       "      <th>1</th>\n",
>>>>>>> 9e925335507c400f4b1705affbe5ef9bd0243b2c
       "      <td>230.1</td>\n",
       "      <td>37.8</td>\n",
       "      <td>69.2</td>\n",
       "      <td>22.1</td>\n",
       "    </tr>\n",
       "    <tr>\n",
<<<<<<< HEAD
       "      <td>2</td>\n",
=======
       "      <th>2</th>\n",
>>>>>>> 9e925335507c400f4b1705affbe5ef9bd0243b2c
       "      <td>44.5</td>\n",
       "      <td>39.3</td>\n",
       "      <td>45.1</td>\n",
       "      <td>10.4</td>\n",
       "    </tr>\n",
       "    <tr>\n",
<<<<<<< HEAD
       "      <td>3</td>\n",
=======
       "      <th>3</th>\n",
>>>>>>> 9e925335507c400f4b1705affbe5ef9bd0243b2c
       "      <td>17.2</td>\n",
       "      <td>45.9</td>\n",
       "      <td>69.3</td>\n",
       "      <td>9.3</td>\n",
       "    </tr>\n",
       "    <tr>\n",
<<<<<<< HEAD
       "      <td>4</td>\n",
=======
       "      <th>4</th>\n",
>>>>>>> 9e925335507c400f4b1705affbe5ef9bd0243b2c
       "      <td>151.5</td>\n",
       "      <td>41.3</td>\n",
       "      <td>58.5</td>\n",
       "      <td>18.5</td>\n",
       "    </tr>\n",
       "    <tr>\n",
<<<<<<< HEAD
       "      <td>5</td>\n",
=======
       "      <th>5</th>\n",
>>>>>>> 9e925335507c400f4b1705affbe5ef9bd0243b2c
       "      <td>180.8</td>\n",
       "      <td>10.8</td>\n",
       "      <td>58.4</td>\n",
       "      <td>12.9</td>\n",
       "    </tr>\n",
       "  </tbody>\n",
       "</table>\n",
       "</div>"
      ],
      "text/plain": [
       "      TV  Radio  Newspaper  Sales\n",
       "1  230.1   37.8       69.2   22.1\n",
       "2   44.5   39.3       45.1   10.4\n",
       "3   17.2   45.9       69.3    9.3\n",
       "4  151.5   41.3       58.5   18.5\n",
       "5  180.8   10.8       58.4   12.9"
      ]
     },
<<<<<<< HEAD
     "execution_count": 5,
=======
     "execution_count": 1,
>>>>>>> 9e925335507c400f4b1705affbe5ef9bd0243b2c
     "metadata": {},
     "output_type": "execute_result"
    }
   ],
   "source": [
    "# imports\n",
    "import pandas as pd\n",
    "import matplotlib.pyplot as plt\n",
    "\n",
    "%matplotlib inline\n",
    "\n",
    "# read data into a DataFrame\n",
    "data = pd.read_csv('Advertising.csv', index_col=0)\n",
    "data.head()\n"
   ]
  },
  {
   "cell_type": "markdown",
   "metadata": {},
   "source": [
    "**What are the features/predictors?**\n",
    "\n",
    "*TV:* advertising dollars spent on TV for a single product in a given market (in thousands of dollars)\n",
    "\n",
    "*Radio:* advertising dollars spent on Radio\n",
    "\n",
    "*Newspaper:* advertising dollars spent on Newspaper\n",
    "\n",
    "**What is the target?**\n",
    "\n",
    "*Sales:* sales of a single product in a given market (in thousands of widgets)"
   ]
  },
  {
   "cell_type": "code",
<<<<<<< HEAD
   "execution_count": 6,
   "metadata": {
    "ExecuteTime": {
     "end_time": "2020-08-18T22:36:56.903789Z",
     "start_time": "2020-08-18T22:36:56.897316Z"
=======
   "execution_count": 2,
   "metadata": {
    "ExecuteTime": {
     "end_time": "2020-08-18T22:27:47.888453Z",
     "start_time": "2020-08-18T22:27:47.884852Z"
>>>>>>> 9e925335507c400f4b1705affbe5ef9bd0243b2c
    }
   },
   "outputs": [
    {
     "data": {
      "text/plain": [
       "(200, 4)"
      ]
     },
<<<<<<< HEAD
     "execution_count": 6,
=======
     "execution_count": 2,
>>>>>>> 9e925335507c400f4b1705affbe5ef9bd0243b2c
     "metadata": {},
     "output_type": "execute_result"
    }
   ],
   "source": [
    "# print the shape of the DataFrame\n",
    "data.shape\n"
   ]
  },
  {
   "cell_type": "code",
<<<<<<< HEAD
   "execution_count": 7,
   "metadata": {
    "ExecuteTime": {
     "end_time": "2020-08-18T22:37:00.121218Z",
     "start_time": "2020-08-18T22:36:59.420698Z"
=======
   "execution_count": 3,
   "metadata": {
    "ExecuteTime": {
     "end_time": "2020-08-18T22:28:23.537085Z",
     "start_time": "2020-08-18T22:28:23.140983Z"
>>>>>>> 9e925335507c400f4b1705affbe5ef9bd0243b2c
    }
   },
   "outputs": [
    {
     "data": {
      "text/plain": [
<<<<<<< HEAD
       "<matplotlib.axes._subplots.AxesSubplot at 0x7fe065f35ba8>"
      ]
     },
     "execution_count": 7,
=======
       "<matplotlib.axes._subplots.AxesSubplot at 0x11b471438>"
      ]
     },
     "execution_count": 3,
>>>>>>> 9e925335507c400f4b1705affbe5ef9bd0243b2c
     "metadata": {},
     "output_type": "execute_result"
    },
    {
     "data": {
<<<<<<< HEAD
      "image/png": "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\n",
=======
      "image/png": "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\n",
>>>>>>> 9e925335507c400f4b1705affbe5ef9bd0243b2c
      "text/plain": [
       "<Figure size 1152x576 with 3 Axes>"
      ]
     },
     "metadata": {
      "needs_background": "light"
     },
     "output_type": "display_data"
    }
   ],
   "source": [
    "#There are 200 observations, and thus 200 markets in the dataset.\n",
    "\n",
    "# visualize the relationship between the features and the response using scatterplots\n",
    "fig, axs = plt.subplots(1, 3,)\n",
    "data.plot(kind='scatter', x='TV', y='Sales', ax=axs[0], figsize=(16, 8))\n",
    "data.plot(kind='scatter', x='Radio', y='Sales', ax=axs[1])\n",
    "data.plot(kind='scatter', x='Newspaper', y='Sales', ax=axs[2])"
   ]
  },
  {
   "cell_type": "markdown",
   "metadata": {},
   "source": [
    "### Questions About the Advertising Data\n",
    "\n",
    "Let's pretend you work for the company that manufactures and markets this widget. The company might ask you the following: On the basis of this data, how should we spend our advertising money in the future?\n",
    "\n",
    "This general question might lead you to more specific questions:\n",
    "\n",
    "* Is there a relationship between ads and sales?\n",
    "* How strong is that relationship?\n",
    "* Which ad types contribute to sales?\n",
    "* What is the effect of each ad type of sales?\n",
    "* Given ad spending in a particular market, can sales be predicted?"
   ]
  },
  {
   "cell_type": "markdown",
   "metadata": {},
   "source": [
    "### Libraries\n",
    "We will be using Statsmodels for teaching purposes since it has some nice characteristics for linear modeling. However, we recommend that you spend most of your energy on scikit-learn since it provides significantly more useful functionality for machine learning in general."
   ]
  },
  {
   "cell_type": "code",
<<<<<<< HEAD
   "execution_count": 8,
   "metadata": {
    "ExecuteTime": {
     "end_time": "2020-08-18T22:37:31.730066Z",
     "start_time": "2020-08-18T22:37:31.726515Z"
=======
   "execution_count": 4,
   "metadata": {
    "ExecuteTime": {
     "end_time": "2020-08-18T22:31:41.920261Z",
     "start_time": "2020-08-18T22:31:41.262711Z"
>>>>>>> 9e925335507c400f4b1705affbe5ef9bd0243b2c
    }
   },
   "outputs": [],
   "source": [
    "import statsmodels.api as sm\n",
    "from statsmodels.formula.api import ols\n"
   ]
  },
  {
   "cell_type": "code",
<<<<<<< HEAD
   "execution_count": 9,
   "metadata": {
    "ExecuteTime": {
     "end_time": "2020-08-18T22:37:33.985971Z",
     "start_time": "2020-08-18T22:37:33.713203Z"
=======
   "execution_count": 10,
   "metadata": {
    "ExecuteTime": {
     "end_time": "2020-08-18T22:38:37.072530Z",
     "start_time": "2020-08-18T22:38:37.053820Z"
>>>>>>> 9e925335507c400f4b1705affbe5ef9bd0243b2c
    }
   },
   "outputs": [
    {
     "data": {
      "text/html": [
       "<table class=\"simpletable\">\n",
       "<caption>OLS Regression Results</caption>\n",
       "<tr>\n",
       "  <th>Dep. Variable:</th>          <td>Sales</td>      <th>  R-squared:         </th> <td>   0.612</td>\n",
       "</tr>\n",
       "<tr>\n",
       "  <th>Model:</th>                   <td>OLS</td>       <th>  Adj. R-squared:    </th> <td>   0.610</td>\n",
       "</tr>\n",
       "<tr>\n",
       "  <th>Method:</th>             <td>Least Squares</td>  <th>  F-statistic:       </th> <td>   312.1</td>\n",
       "</tr>\n",
       "<tr>\n",
       "  <th>Date:</th>             <td>Tue, 18 Aug 2020</td> <th>  Prob (F-statistic):</th> <td>1.47e-42</td>\n",
       "</tr>\n",
       "<tr>\n",
<<<<<<< HEAD
       "  <th>Time:</th>                 <td>18:37:33</td>     <th>  Log-Likelihood:    </th> <td> -519.05</td>\n",
=======
       "  <th>Time:</th>                 <td>18:38:37</td>     <th>  Log-Likelihood:    </th> <td> -519.05</td>\n",
>>>>>>> 9e925335507c400f4b1705affbe5ef9bd0243b2c
       "</tr>\n",
       "<tr>\n",
       "  <th>No. Observations:</th>      <td>   200</td>      <th>  AIC:               </th> <td>   1042.</td>\n",
       "</tr>\n",
       "<tr>\n",
       "  <th>Df Residuals:</th>          <td>   198</td>      <th>  BIC:               </th> <td>   1049.</td>\n",
       "</tr>\n",
       "<tr>\n",
       "  <th>Df Model:</th>              <td>     1</td>      <th>                     </th>     <td> </td>   \n",
       "</tr>\n",
       "<tr>\n",
       "  <th>Covariance Type:</th>      <td>nonrobust</td>    <th>                     </th>     <td> </td>   \n",
       "</tr>\n",
       "</table>\n",
       "<table class=\"simpletable\">\n",
       "<tr>\n",
       "      <td></td>         <th>coef</th>     <th>std err</th>      <th>t</th>      <th>P>|t|</th>  <th>[0.025</th>    <th>0.975]</th>  \n",
       "</tr>\n",
       "<tr>\n",
       "  <th>Intercept</th> <td>    7.0326</td> <td>    0.458</td> <td>   15.360</td> <td> 0.000</td> <td>    6.130</td> <td>    7.935</td>\n",
       "</tr>\n",
       "<tr>\n",
       "  <th>TV</th>        <td>    0.0475</td> <td>    0.003</td> <td>   17.668</td> <td> 0.000</td> <td>    0.042</td> <td>    0.053</td>\n",
       "</tr>\n",
       "</table>\n",
       "<table class=\"simpletable\">\n",
       "<tr>\n",
       "  <th>Omnibus:</th>       <td> 0.531</td> <th>  Durbin-Watson:     </th> <td>   1.935</td>\n",
       "</tr>\n",
       "<tr>\n",
       "  <th>Prob(Omnibus):</th> <td> 0.767</td> <th>  Jarque-Bera (JB):  </th> <td>   0.669</td>\n",
       "</tr>\n",
       "<tr>\n",
       "  <th>Skew:</th>          <td>-0.089</td> <th>  Prob(JB):          </th> <td>   0.716</td>\n",
       "</tr>\n",
       "<tr>\n",
       "  <th>Kurtosis:</th>      <td> 2.779</td> <th>  Cond. No.          </th> <td>    338.</td>\n",
       "</tr>\n",
       "</table><br/><br/>Warnings:<br/>[1] Standard Errors assume that the covariance matrix of the errors is correctly specified."
      ],
      "text/plain": [
       "<class 'statsmodels.iolib.summary.Summary'>\n",
       "\"\"\"\n",
       "                            OLS Regression Results                            \n",
       "==============================================================================\n",
       "Dep. Variable:                  Sales   R-squared:                       0.612\n",
       "Model:                            OLS   Adj. R-squared:                  0.610\n",
       "Method:                 Least Squares   F-statistic:                     312.1\n",
       "Date:                Tue, 18 Aug 2020   Prob (F-statistic):           1.47e-42\n",
<<<<<<< HEAD
       "Time:                        18:37:33   Log-Likelihood:                -519.05\n",
=======
       "Time:                        18:38:37   Log-Likelihood:                -519.05\n",
>>>>>>> 9e925335507c400f4b1705affbe5ef9bd0243b2c
       "No. Observations:                 200   AIC:                             1042.\n",
       "Df Residuals:                     198   BIC:                             1049.\n",
       "Df Model:                           1                                         \n",
       "Covariance Type:            nonrobust                                         \n",
       "==============================================================================\n",
       "                 coef    std err          t      P>|t|      [0.025      0.975]\n",
       "------------------------------------------------------------------------------\n",
       "Intercept      7.0326      0.458     15.360      0.000       6.130       7.935\n",
       "TV             0.0475      0.003     17.668      0.000       0.042       0.053\n",
       "==============================================================================\n",
       "Omnibus:                        0.531   Durbin-Watson:                   1.935\n",
       "Prob(Omnibus):                  0.767   Jarque-Bera (JB):                0.669\n",
       "Skew:                          -0.089   Prob(JB):                        0.716\n",
       "Kurtosis:                       2.779   Cond. No.                         338.\n",
       "==============================================================================\n",
       "\n",
       "Warnings:\n",
       "[1] Standard Errors assume that the covariance matrix of the errors is correctly specified.\n",
       "\"\"\""
      ]
     },
<<<<<<< HEAD
     "execution_count": 9,
=======
     "execution_count": 10,
>>>>>>> 9e925335507c400f4b1705affbe5ef9bd0243b2c
     "metadata": {},
     "output_type": "execute_result"
    }
   ],
   "source": [
    "f = 'Sales~TV'\n",
    "model = ols(formula=f, data=data).fit()\n",
    "model.summary()\n"
   ]
  },
  {
   "cell_type": "code",
<<<<<<< HEAD
   "execution_count": 10,
   "metadata": {
    "ExecuteTime": {
     "end_time": "2020-08-18T22:38:44.934644Z",
     "start_time": "2020-08-18T22:38:44.925793Z"
=======
   "execution_count": 11,
   "metadata": {
    "ExecuteTime": {
     "end_time": "2020-08-18T22:43:16.777524Z",
     "start_time": "2020-08-18T22:43:16.773206Z"
>>>>>>> 9e925335507c400f4b1705affbe5ef9bd0243b2c
    }
   },
   "outputs": [
    {
     "data": {
      "text/plain": [
       "Intercept    7.032594\n",
       "TV           0.047537\n",
       "dtype: float64"
      ]
     },
<<<<<<< HEAD
     "execution_count": 10,
=======
     "execution_count": 11,
>>>>>>> 9e925335507c400f4b1705affbe5ef9bd0243b2c
     "metadata": {},
     "output_type": "execute_result"
    }
   ],
   "source": [
    "# print the coefficients\n",
    "model.params"
   ]
  },
  {
   "cell_type": "code",
   "execution_count": 11,
   "metadata": {
    "ExecuteTime": {
<<<<<<< HEAD
     "end_time": "2020-08-18T22:43:54.776266Z",
     "start_time": "2020-08-18T22:43:54.553353Z"
=======
     "end_time": "2020-04-14T16:55:52.473647Z",
     "start_time": "2020-04-14T16:55:52.285689Z"
>>>>>>> 9e925335507c400f4b1705affbe5ef9bd0243b2c
    }
   },
   "outputs": [
    {
     "name": "stdout",
     "output_type": "stream",
     "text": [
      "      TV\n",
      "0    0.7\n",
      "1  296.4\n",
      "0     7.065869\n",
      "1    21.122454\n",
      "dtype: float64\n"
     ]
    },
    {
     "data": {
      "image/png": "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\n",
      "text/plain": [
       "<Figure size 432x288 with 1 Axes>"
      ]
     },
     "metadata": {
      "needs_background": "light"
     },
     "output_type": "display_data"
    }
   ],
   "source": [
    "# create a DataFrame with the minimum and maximum values of TV\n",
    "X_new = pd.DataFrame({'TV': [data.TV.min(), data.TV.max()]})\n",
    "print(X_new.head())\n",
    "\n",
    "# make predictions for those x values and store them\n",
    "preds = model.predict(X_new) #predicts the start/end of line\n",
    "print (preds)\n",
    "\n",
    "# first, plot the observed data and the least squares line\n",
    "data.plot(kind='scatter', x='TV', y='Sales')\n",
    "plt.plot(X_new, preds, c='red', linewidth=2)\n",
    "plt.show()"
   ]
  },
  {
   "cell_type": "code",
   "execution_count": null,
   "metadata": {
    "ExecuteTime": {
     "end_time": "2020-04-14T16:55:49.526292Z",
     "start_time": "2020-04-14T16:55:48.892711Z"
    }
   },
   "outputs": [],
   "source": [
    "fig = plt.figure(figsize=(15,8))\n",
    "fig = sm.graphics.plot_regress_exog(model, \"TV\", fig=fig)\n",
    "plt.show()"
   ]
  },
  {
   "cell_type": "markdown",
   "metadata": {},
   "source": [
    "**Whats going on in these visuals?**\n",
    "\n",
    "The Y and Fitted vs. X graph plots the dependent variable against our predicted values with a confidence interval. The positive relationship shows that height and weight are correlated, i.e., when one variable increases the other increases.\n",
    "\n",
    "The Residuals versus height graph shows our model's errors versus the specified predictor variable. Each dot is an observed value; the line represents the mean of those observed values. Since there's no pattern in the distance between the dots and the mean value, the OLS assumption of homoskedasticity holds.\n",
    "\n",
    "The Partial regression plot shows the relationship between height and weight, taking in to account the impact of adding other independent variables on our existing height coefficient. You'll later learn how this same graph changes when you add more variables.\n",
    "\n",
    "The Component and Component Plus Residual (CCPR) plot is an extension of the partial regression plot. It shows where the trend line would lie after adding the impact of adding our other independent variables on the weight."
   ]
  },
  {
   "cell_type": "markdown",
   "metadata": {
    "heading_collapsed": true
   },
   "source": [
    "### Interpreting Model Coefficients\n",
    "[For detailed descriptions of statsmodels outputs](https://learn.co/tracks/module-2-data-science-career-2-1/statistics-ab-testing-and-linear-regression/section-18-introduction-to-linear-regression/ordinary-least-squares-in-statsmodels-ols)\n",
    "\n",
    "How do we interpret the TV coefficient ($\\beta_1$)?\n",
    "\n",
    "A \"unit\" increase in TV ad spending is associated with a 0.047537 \"unit\" increase in Sales.\n",
    "\n",
    "Or more clearly: An additional $1,000 spent on TV ads is associated with an increase in sales of 47.537 widgets.\n",
    "\n",
    "Note that if an increase in TV ad spending was associated with a decrease in sales, $\\beta_1$ would be negative.\n",
    "\n",
    "Using the Model for Prediction\n",
    "Let's say that there was a new market where the TV advertising spending amount was $50,000. What would we predict for the Sales in that market?\n",
    "\n",
    "$$y = \\beta_0 + \\beta_1x$$$$y = 7.032594 + 0.047537 \\times 50$$\n",
    "\n",
    "**Question: How many widgets would we sell without spending any money on advertising?**"
   ]
  },
  {
   "cell_type": "markdown",
   "metadata": {
    "heading_collapsed": true
   },
   "source": [
    "## Assumptions \n",
    "\n",
    "Regression is a parametric technique, which means that it uses parameters learned from the data. Because of that, certain assumptions must be made. These assumptions define the complete scope of regression analysis and it is mandatory that the underlying data fulfills these assumptions. If violated, regression makes biased and unreliable predictions.\n"
   ]
  },
  {
   "cell_type": "markdown",
   "metadata": {
    "heading_collapsed": true,
    "hidden": true
   },
   "source": [
    "#### 1. Linearity \n",
    "The assumption that there is a linear relationship between the target and predictors.\n",
    "\n",
    "**How can I check for this?**\\\n",
    "Build a scatterplot of y vs. various predictors.\n",
    "\n",
    "**What can I do if it looks like I'm violating this assumption?**\\\n",
    "* Consider log-scaling your data.\n",
    "* Consider a different type of model!"
   ]
  },
  {
   "cell_type": "markdown",
   "metadata": {
    "heading_collapsed": true,
    "hidden": true
   },
   "source": [
    "#### 2. Normality\n",
    "The normality assumption states that the model _residuals_ should follow a normal distribution.\n",
    "**Note**: the normality assumption talks about the model residuals and not about the distributions of the variables!\n",
    "\n",
    "**How can I check for this?**\n",
    "* Check the Omnibus value (This is a test for error normality. The probability is the chance that the errors are normally distributed.)\n",
    "* Build a QQ-Plot.\n",
    "\n",
    "**What can I do if it looks like I'm violating this assumption?**\n",
    "* Consider log-scaling your data "
   ]
  },
  {
   "cell_type": "code",
   "execution_count": null,
   "metadata": {
    "ExecuteTime": {
     "end_time": "2020-04-14T17:10:26.545063Z",
     "start_time": "2020-04-14T17:10:26.400906Z"
    },
    "hidden": true
   },
   "outputs": [],
   "source": [
    "import scipy.stats as stats\n",
    "residuals = model.resid\n",
    "fig = sm.graphics.qqplot(residuals, dist=stats.norm, line='45', fit=True)\n",
    "fig.show()"
   ]
  },
  {
   "cell_type": "markdown",
   "metadata": {
    "heading_collapsed": true,
    "hidden": true
   },
   "source": [
    "#### 3. Homoscedasticity \n",
    "The residual errors have the same variance.\n",
    "\n",
    "**How can I check for this?**\n",
    "\n",
    "* Check the Durbin-Watson score (This is a test for error homoskedasticity. We're looking for values between ~1.5 and ~2.5).\n",
    "* Build an error plot, i.e. a plot of errors for a particular predictor (vs. the values of that predictor).\n",
    "\n",
    "**What can I do if it looks like I'm violating this assumption?**\n",
    "\n",
    "* Consider dropping extreme values.\n",
    "* Consider log-scaling your target.\n",
    "* Consider a different type of model!\n"
   ]
  },
  {
   "cell_type": "markdown",
   "metadata": {
    "heading_collapsed": true,
    "hidden": true
   },
   "source": [
    "### Review\n",
    "![](https://convertwithcontent.com/wp-content/uploads/2014/04/review-the-results-of-your-a-b-split-test-300x225.jpg)\n",
    "* Statistical learning theory deals with the problem of finding a predictive function based on data\n",
    "* A loss function calculates how well a given model represents the relationship between data values\n",
    "* A linear regression is simply a (straight) line of best fit for predicting a continuous value (y = mx + c)\n",
    "* The Coefficient of Determination (R Squared) can be used to determine how well a given line fits a given data set\n",
    "* Certain assumptions must hold true for a least squares linear regression to be useful - linearity, normality and homoskedasticity\n",
    "* Q-Q plots can check for normality in residual errors\n",
    "* The omnibus-value can be used to test for normality\n",
    "* Durbin-watson score and error plots can check for homoskedasticity\n"
   ]
  },
  {
   "cell_type": "markdown",
   "metadata": {
    "heading_collapsed": true,
    "hidden": true
   },
   "source": [
    "### On Thursday\n",
    "We will take a look at multiple linear regression with statsmoels and skikit learn. With discussions on dealing with multicollinearity, categorical variables, scaling/normalizing, feature creation and model validation. "
   ]
  },
  {
   "cell_type": "code",
   "execution_count": null,
   "metadata": {
    "hidden": true
   },
   "outputs": [],
   "source": []
  }
 ],
 "metadata": {
  "kernelspec": {
   "display_name": "learn-env",
   "language": "python",
   "name": "learn-env"
  },
  "language_info": {
   "codemirror_mode": {
    "name": "ipython",
    "version": 3
   },
   "file_extension": ".py",
   "mimetype": "text/x-python",
   "name": "python",
   "nbconvert_exporter": "python",
   "pygments_lexer": "ipython3",
   "version": "3.6.9"
  },
  "toc": {
   "base_numbering": 1,
   "nav_menu": {},
   "number_sections": true,
   "sideBar": true,
   "skip_h1_title": false,
   "title_cell": "Table of Contents",
   "title_sidebar": "Contents",
   "toc_cell": true,
   "toc_position": {},
   "toc_section_display": true,
   "toc_window_display": false
  },
  "varInspector": {
   "cols": {
    "lenName": 16,
    "lenType": 16,
    "lenVar": 40
   },
   "kernels_config": {
    "python": {
     "delete_cmd_postfix": "",
     "delete_cmd_prefix": "del ",
     "library": "var_list.py",
     "varRefreshCmd": "print(var_dic_list())"
    },
    "r": {
     "delete_cmd_postfix": ") ",
     "delete_cmd_prefix": "rm(",
     "library": "var_list.r",
     "varRefreshCmd": "cat(var_dic_list()) "
    }
   },
   "types_to_exclude": [
    "module",
    "function",
    "builtin_function_or_method",
    "instance",
    "_Feature"
   ],
   "window_display": false
  }
 },
 "nbformat": 4,
 "nbformat_minor": 2
}
