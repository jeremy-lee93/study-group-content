{
 "cells": [
  {
   "cell_type": "markdown",
   "metadata": {},
   "source": [
    "# Summarizing Hypothesis Testing \n"
   ]
  },
  {
   "cell_type": "markdown",
   "metadata": {},
   "source": [
    "## Example\n",
    "\n",
    "You are working for a TexMex restaurant that recently introduced queso to its menu.\n",
    "\n",
    "We have random samples of 1000 \"no queso\" order check totals and 1000 \"queso\" order check totals for orders made by different customers.\n",
    "\n",
    "In the cell below, we load the sample data into the arrays no_queso and queso for the \"no queso\" and \"queso\" order check totals. Then, we create histograms of the distribution of the check amounts for the \"no queso\" and \"queso\" samples.\n",
    "\n",
    "The restaurant owners want to know if customers who order queso spend significantly more or significantly less than customers who do not order queso."
   ]
  },
  {
   "cell_type": "code",
   "execution_count": 5,
   "metadata": {
    "ExecuteTime": {
     "end_time": "2020-08-11T22:35:25.891706Z",
     "start_time": "2020-08-11T22:35:25.880584Z"
    }
   },
   "outputs": [],
   "source": [
    "# import the necessary libraries\n",
    "\n",
    "#data manip\n",
    "import numpy as np\n",
    "import pandas as pd \n",
    "import scipy.stats as stats\n",
    "import statsmodels.api as sm\n",
    "\n",
    "import matplotlib.pyplot as plt\n",
    "%matplotlib inline\n",
    "\n",
    "#object import / export\n",
    "import pickle\n",
    "\n",
    "\n"
   ]
  },
  {
   "cell_type": "markdown",
   "metadata": {},
   "source": [
    "The assumption of normality is an important assumption for many statistical tests; you assume you are sampling from a normally distributed population. If you are not then you must attempt to make the data fit a normal distribution OR use another continuous distribution(more to come on this when we get to regression)\n",
    "\n",
    "**1. Check for normality using a histogram, QQ-plot and Kolmogorov-Smirnov test.** "
   ]
  },
  {
   "cell_type": "code",
   "execution_count": 2,
   "metadata": {
    "ExecuteTime": {
     "end_time": "2020-08-11T22:15:45.320504Z",
     "start_time": "2020-08-11T22:15:44.942322Z"
    }
   },
   "outputs": [
    {
     "data": {
      "image/png": "[encoded data removed]",
      "text/plain": [
       "<Figure size 864x288 with 2 Axes>"
      ]
     },
     "metadata": {
      "needs_background": "light"
     },
     "output_type": "display_data"
    }
   ],
   "source": [
    "# Histogram check for normality \n",
    "# load the sample data \n",
    "no_queso = pickle.load(open(\"no_queso.pkl\", \"rb\"))\n",
    "queso = pickle.load(open(\"queso.pkl\", \"rb\"))\n",
    "\n",
    "# plot histograms\n",
    "\n",
    "fig, (ax1, ax2) = plt.subplots(1, 2, figsize=(12, 4))\n",
    "\n",
    "ax1.set_title('Sample of Non-Queso Check Totals')\n",
    "ax1.set_xlabel('Amount')\n",
    "ax1.set_ylabel('Frequency')\n",
    "ax1.hist(no_queso, bins=20)\n",
    "\n",
    "ax2.set_title('Sample of Queso Check Totals')\n",
    "ax2.set_xlabel('Amount')\n",
    "ax2.set_ylabel('Frequency')\n",
    "ax2.hist(queso, bins=20)\n",
    "plt.show()"
   ]
  },
  {
   "cell_type": "markdown",
   "metadata": {},
   "source": [
    "### What is a QQ-Plot? "
   ]
  },
  {
   "cell_type": "markdown",
   "metadata": {},
   "source": [
    "The purpose of Q Q plots is to find out if two sets of data come from the same type of distribution. It is used to assess normality. \n",
    "\n",
    "[How to read a QQ-plot](https://www.statisticshowto.com/q-q-plots/)"
   ]
  },
  {
   "cell_type": "code",
   "execution_count": 3,
   "metadata": {
    "ExecuteTime": {
     "end_time": "2020-08-11T22:23:37.131315Z",
     "start_time": "2020-08-11T22:23:36.890195Z"
    }
   },
   "outputs": [
    {
     "data": {
      "text/plain": [
       "((array([-3.19758950e+00, -2.93237785e+00, -2.78437841e+00, -2.67999560e+00,\n",
       "         -2.59855946e+00, -2.53139899e+00, -2.47402263e+00, -2.42379214e+00,\n",
       "         -2.37902149e+00, -2.33856546e+00, -2.30160949e+00, -2.26755284e+00,\n",
       "         -2.23593934e+00, -2.20641415e+00, -2.17869564e+00, -2.15255643e+00,\n",
       "         -2.12781017e+00, -2.10430217e+00, -2.08190261e+00, -2.06050135e+00,\n",
       "         -2.04000420e+00, -2.02032992e+00, -2.00140792e+00, -1.98317650e+00,\n",
       "         -1.96558137e+00, -1.94857451e+00, -1.93211325e+00, -1.91615948e+00,\n",
       "         -1.90067901e+00, -1.88564107e+00, -1.87101783e+00, -1.85678408e+00,\n",
       "         -1.84291686e+00, -1.82939524e+00, -1.81620005e+00, -1.80331371e+00,\n",
       "         -1.79072004e+00, -1.77840415e+00, -1.76635224e+00, -1.75455157e+00,\n",
       "         -1.74299028e+00, -1.73165738e+00, -1.72054262e+00, -1.70963644e+00,\n",
       "         -1.69892989e+00, -1.68841463e+00, -1.67808281e+00, -1.66792707e+00,\n",
       "         -1.65794051e+00, -1.64811661e+00, -1.63844924e+00, -1.62893261e+00,\n",
       "         -1.61956127e+00, -1.61033003e+00, -1.60123402e+00, -1.59226859e+00,\n",
       "         -1.58342935e+00, -1.57471213e+00, -1.56611295e+00, -1.55762804e+00,\n",
       "         -1.54925381e+00, -1.54098684e+00, -1.53282387e+00, -1.52476177e+00,\n",
       "         -1.51679758e+00, -1.50892845e+00, -1.50115166e+00, -1.49346462e+00,\n",
       "         -1.48586482e+00, -1.47834989e+00, -1.47091753e+00, -1.46356555e+00,\n",
       "         -1.45629184e+00, -1.44909437e+00, -1.44197119e+00, -1.43492043e+00,\n",
       "         -1.42794030e+00, -1.42102906e+00, -1.41418503e+00, -1.40740661e+00,\n",
       "         -1.40069224e+00, -1.39404044e+00, -1.38744975e+00, -1.38091878e+00,\n",
       "         -1.37444619e+00, -1.36803067e+00, -1.36167098e+00, -1.35536588e+00,\n",
       "         -1.34911421e+00, -1.34291482e+00, -1.33676663e+00, -1.33066855e+00,\n",
       "         -1.32461956e+00, -1.31861865e+00, -1.31266485e+00, -1.30675722e+00,\n",
       "         -1.30089485e+00, -1.29507686e+00, -1.28930237e+00, -1.28357055e+00,\n",
       "         -1.27788060e+00, -1.27223172e+00, -1.26662315e+00, -1.26105415e+00,\n",
       "         -1.25552398e+00, -1.25003194e+00, -1.24457735e+00, -1.23915954e+00,\n",
       "         -1.23377786e+00, -1.22843168e+00, -1.22312038e+00, -1.21784337e+00,\n",
       "         -1.21260004e+00, -1.20738985e+00, -1.20221223e+00, -1.19706664e+00,\n",
       "         -1.19195255e+00, -1.18686944e+00, -1.18181682e+00, -1.17679419e+00,\n",
       "         -1.17180107e+00, -1.16683699e+00, -1.16190151e+00, -1.15699416e+00,\n",
       "         -1.15211453e+00, -1.14726217e+00, -1.14243667e+00, -1.13763763e+00,\n",
       "         -1.13286465e+00, -1.12811734e+00, -1.12339532e+00, -1.11869822e+00,\n",
       "         -1.11402566e+00, -1.10937731e+00, -1.10475280e+00, -1.10015180e+00,\n",
       "         -1.09557397e+00, -1.09101899e+00, -1.08648653e+00, -1.08197628e+00,\n",
       "         -1.07748793e+00, -1.07302119e+00, -1.06857575e+00, -1.06415133e+00,\n",
       "         -1.05974765e+00, -1.05536442e+00, -1.05100137e+00, -1.04665824e+00,\n",
       "         -1.04233476e+00, -1.03803068e+00, -1.03374574e+00, -1.02947970e+00,\n",
       "         -1.02523232e+00, -1.02100335e+00, -1.01679256e+00, -1.01259972e+00,\n",
       "         -1.00842461e+00, -1.00426700e+00, -1.00012668e+00, -9.96003439e-01,\n",
       "         -9.91897058e-01, -9.87807334e-01, -9.83734067e-01, -9.79677056e-01,\n",
       "         -9.75636106e-01, -9.71611024e-01, -9.67601623e-01, -9.63607717e-01,\n",
       "         -9.59629122e-01, -9.55665660e-01, -9.51717154e-01, -9.47783430e-01,\n",
       "         -9.43864319e-01, -9.39959651e-01, -9.36069261e-01, -9.32192988e-01,\n",
       "         -9.28330671e-01, -9.24482153e-01, -9.20647280e-01, -9.16825898e-01,\n",
       "         -9.13017857e-01, -9.09223011e-01, -9.05441213e-01, -9.01672321e-01,\n",
       "         -8.97916193e-01, -8.94172691e-01, -8.90441678e-01, -8.86723020e-01,\n",
       "         -8.83016583e-01, -8.79322237e-01, -8.75639853e-01, -8.71969305e-01,\n",
       "         -8.68310468e-01, -8.64663218e-01, -8.61027434e-01, -8.57402996e-01,\n",
       "         -8.53789787e-01, -8.50187690e-01, -8.46596591e-01, -8.43016376e-01,\n",
       "         -8.39446935e-01, -8.35888157e-01, -8.32339934e-01, -8.28802160e-01,\n",
       "         -8.25274728e-01, -8.21757535e-01, -8.18250479e-01, -8.14753457e-01,\n",
       "         -8.11266372e-01, -8.07789123e-01, -8.04321614e-01, -8.00863750e-01,\n",
       "         -7.97415434e-01, -7.93976575e-01, -7.90547079e-01, -7.87126857e-01,\n",
       "         -7.83715817e-01, -7.80313872e-01, -7.76920933e-01, -7.73536915e-01,\n",
       "         -7.70161733e-01, -7.66795301e-01, -7.63437536e-01, -7.60088358e-01,\n",
       "         -7.56747683e-01, -7.53415433e-01, -7.50091527e-01, -7.46775888e-01,\n",
       "         -7.43468439e-01, -7.40169103e-01, -7.36877804e-01, -7.33594468e-01,\n",
       "         -7.30319022e-01, -7.27051392e-01, -7.23791507e-01, -7.20539295e-01,\n",
       "         -7.17294687e-01, -7.14057613e-01, -7.10828003e-01, -7.07605791e-01,\n",
       "         -7.04390909e-01, -7.01183291e-01, -6.97982871e-01, -6.94789584e-01,\n",
       "         -6.91603367e-01, -6.88424155e-01, -6.85251886e-01, -6.82086498e-01,\n",
       "         -6.78927930e-01, -6.75776120e-01, -6.72631010e-01, -6.69492539e-01,\n",
       "         -6.66360648e-01, -6.63235280e-01, -6.60116377e-01, -6.57003883e-01,\n",
       "         -6.53897740e-01, -6.50797893e-01, -6.47704287e-01, -6.44616868e-01,\n",
       "         -6.41535581e-01, -6.38460373e-01, -6.35391191e-01, -6.32327983e-01,\n",
       "         -6.29270697e-01, -6.26219281e-01, -6.23173684e-01, -6.20133858e-01,\n",
       "         -6.17099750e-01, -6.14071313e-01, -6.11048498e-01, -6.08031256e-01,\n",
       "         -6.05019539e-01, -6.02013299e-01, -5.99012491e-01, -5.96017067e-01,\n",
       "         -5.93026981e-01, -5.90042188e-01, -5.87062643e-01, -5.84088300e-01,\n",
       "         -5.81119115e-01, -5.78155045e-01, -5.75196045e-01, -5.72242074e-01,\n",
       "         -5.69293087e-01, -5.66349043e-01, -5.63409899e-01, -5.60475614e-01,\n",
       "         -5.57546147e-01, -5.54621458e-01, -5.51701504e-01, -5.48786247e-01,\n",
       "         -5.45875647e-01, -5.42969663e-01, -5.40068258e-01, -5.37171392e-01,\n",
       "         -5.34279026e-01, -5.31391124e-01, -5.28507646e-01, -5.25628557e-01,\n",
       "         -5.22753817e-01, -5.19883391e-01, -5.17017243e-01, -5.14155335e-01,\n",
       "         -5.11297632e-01, -5.08444099e-01, -5.05594699e-01, -5.02749399e-01,\n",
       "         -4.99908163e-01, -4.97070957e-01, -4.94237747e-01, -4.91408498e-01,\n",
       "         -4.88583178e-01, -4.85761752e-01, -4.82944188e-01, -4.80130452e-01,\n",
       "         -4.77320513e-01, -4.74514337e-01, -4.71711893e-01, -4.68913149e-01,\n",
       "         -4.66118073e-01, -4.63326634e-01, -4.60538801e-01, -4.57754542e-01,\n",
       "         -4.54973827e-01, -4.52196626e-01, -4.49422908e-01, -4.46652644e-01,\n",
       "         -4.43885803e-01, -4.41122356e-01, -4.38362274e-01, -4.35605527e-01,\n",
       "         -4.32852086e-01, -4.30101924e-01, -4.27355010e-01, -4.24611318e-01,\n",
       "         -4.21870818e-01, -4.19133483e-01, -4.16399284e-01, -4.13668196e-01,\n",
       "         -4.10940189e-01, -4.08215237e-01, -4.05493313e-01, -4.02774389e-01,\n",
       "         -4.00058440e-01, -3.97345439e-01, -3.94635359e-01, -3.91928175e-01,\n",
       "         -3.89223860e-01, -3.86522388e-01, -3.83823735e-01, -3.81127874e-01,\n",
       "         -3.78434779e-01, -3.75744427e-01, -3.73056792e-01, -3.70371848e-01,\n",
       "         -3.67689572e-01, -3.65009939e-01, -3.62332924e-01, -3.59658504e-01,\n",
       "         -3.56986653e-01, -3.54317348e-01, -3.51650566e-01, -3.48986282e-01,\n",
       "         -3.46324472e-01, -3.43665115e-01, -3.41008186e-01, -3.38353661e-01,\n",
       "         -3.35701519e-01, -3.33051736e-01, -3.30404290e-01, -3.27759157e-01,\n",
       "         -3.25116316e-01, -3.22475743e-01, -3.19837417e-01, -3.17201315e-01,\n",
       "         -3.14567416e-01, -3.11935698e-01, -3.09306138e-01, -3.06678715e-01,\n",
       "         -3.04053407e-01, -3.01430193e-01, -2.98809052e-01, -2.96189962e-01,\n",
       "         -2.93572903e-01, -2.90957852e-01, -2.88344790e-01, -2.85733695e-01,\n",
       "         -2.83124547e-01, -2.80517325e-01, -2.77912008e-01, -2.75308576e-01,\n",
       "         -2.72707009e-01, -2.70107286e-01, -2.67509388e-01, -2.64913294e-01,\n",
       "         -2.62318984e-01, -2.59726438e-01, -2.57135637e-01, -2.54546561e-01,\n",
       "         -2.51959189e-01, -2.49373504e-01, -2.46789484e-01, -2.44207112e-01,\n",
       "         -2.41626367e-01, -2.39047230e-01, -2.36469683e-01, -2.33893705e-01,\n",
       "         -2.31319279e-01, -2.28746384e-01, -2.26175004e-01, -2.23605117e-01,\n",
       "         -2.21036707e-01, -2.18469754e-01, -2.15904240e-01, -2.13340146e-01,\n",
       "         -2.10777454e-01, -2.08216145e-01, -2.05656202e-01, -2.03097605e-01,\n",
       "         -2.00540338e-01, -1.97984381e-01, -1.95429717e-01, -1.92876328e-01,\n",
       "         -1.90324196e-01, -1.87773302e-01, -1.85223630e-01, -1.82675162e-01,\n",
       "         -1.80127879e-01, -1.77581765e-01, -1.75036802e-01, -1.72492971e-01,\n",
       "         -1.69950256e-01, -1.67408640e-01, -1.64868105e-01, -1.62328633e-01,\n",
       "         -1.59790208e-01, -1.57252812e-01, -1.54716428e-01, -1.52181038e-01,\n",
       "         -1.49646627e-01, -1.47113177e-01, -1.44580670e-01, -1.42049091e-01,\n",
       "         -1.39518421e-01, -1.36988645e-01, -1.34459745e-01, -1.31931705e-01,\n",
       "         -1.29404507e-01, -1.26878136e-01, -1.24352575e-01, -1.21827806e-01,\n",
       "         -1.19303813e-01, -1.16780581e-01, -1.14258092e-01, -1.11736329e-01,\n",
       "         -1.09215277e-01, -1.06694919e-01, -1.04175238e-01, -1.01656219e-01,\n",
       "         -9.91378445e-02, -9.66200987e-02, -9.41029651e-02, -9.15864277e-02,\n",
       "         -8.90704701e-02, -8.65550762e-02, -8.40402299e-02, -8.15259149e-02,\n",
       "         -7.90121153e-02, -7.64988148e-02, -7.39859974e-02, -7.14736472e-02,\n",
       "         -6.89617480e-02, -6.64502838e-02, -6.39392387e-02, -6.14285967e-02,\n",
       "         -5.89183419e-02, -5.64084582e-02, -5.38989299e-02, -5.13897409e-02,\n",
       "         -4.88808755e-02, -4.63723177e-02, -4.38640516e-02, -4.13560616e-02,\n",
       "         -3.88483316e-02, -3.63408459e-02, -3.38335886e-02, -3.13265441e-02,\n",
       "         -2.88196964e-02, -2.63130298e-02, -2.38065286e-02, -2.13001769e-02,\n",
       "         -1.87939590e-02, -1.62878591e-02, -1.37818616e-02, -1.12759505e-02,\n",
       "         -8.77011034e-03, -6.26432519e-03, -3.75857938e-03, -1.25285717e-03,\n",
       "          1.25285717e-03,  3.75857938e-03,  6.26432519e-03,  8.77011034e-03,\n",
       "          1.12759505e-02,  1.37818616e-02,  1.62878591e-02,  1.87939590e-02,\n",
       "          2.13001769e-02,  2.38065286e-02,  2.63130298e-02,  2.88196964e-02,\n",
       "          3.13265441e-02,  3.38335886e-02,  3.63408459e-02,  3.88483316e-02,\n",
       "          4.13560616e-02,  4.38640516e-02,  4.63723177e-02,  4.88808755e-02,\n",
       "          5.13897409e-02,  5.38989299e-02,  5.64084582e-02,  5.89183419e-02,\n",
       "          6.14285967e-02,  6.39392387e-02,  6.64502838e-02,  6.89617480e-02,\n",
       "          7.14736472e-02,  7.39859974e-02,  7.64988148e-02,  7.90121153e-02,\n",
       "          8.15259149e-02,  8.40402299e-02,  8.65550762e-02,  8.90704701e-02,\n",
       "          9.15864277e-02,  9.41029651e-02,  9.66200987e-02,  9.91378445e-02,\n",
       "          1.01656219e-01,  1.04175238e-01,  1.06694919e-01,  1.09215277e-01,\n",
       "          1.11736329e-01,  1.14258092e-01,  1.16780581e-01,  1.19303813e-01,\n",
       "          1.21827806e-01,  1.24352575e-01,  1.26878136e-01,  1.29404507e-01,\n",
       "          1.31931705e-01,  1.34459745e-01,  1.36988645e-01,  1.39518421e-01,\n",
       "          1.42049091e-01,  1.44580670e-01,  1.47113177e-01,  1.49646627e-01,\n",
       "          1.52181038e-01,  1.54716428e-01,  1.57252812e-01,  1.59790208e-01,\n",
       "          1.62328633e-01,  1.64868105e-01,  1.67408640e-01,  1.69950256e-01,\n",
       "          1.72492971e-01,  1.75036802e-01,  1.77581765e-01,  1.80127879e-01,\n",
       "          1.82675162e-01,  1.85223630e-01,  1.87773302e-01,  1.90324196e-01,\n",
       "          1.92876328e-01,  1.95429717e-01,  1.97984381e-01,  2.00540338e-01,\n",
       "          2.03097605e-01,  2.05656202e-01,  2.08216145e-01,  2.10777454e-01,\n",
       "          2.13340146e-01,  2.15904240e-01,  2.18469754e-01,  2.21036707e-01,\n",
       "          2.23605117e-01,  2.26175004e-01,  2.28746384e-01,  2.31319279e-01,\n",
       "          2.33893705e-01,  2.36469683e-01,  2.39047230e-01,  2.41626367e-01,\n",
       "          2.44207112e-01,  2.46789484e-01,  2.49373504e-01,  2.51959189e-01,\n",
       "          2.54546561e-01,  2.57135637e-01,  2.59726438e-01,  2.62318984e-01,\n",
       "          2.64913294e-01,  2.67509388e-01,  2.70107286e-01,  2.72707009e-01,\n",
       "          2.75308576e-01,  2.77912008e-01,  2.80517325e-01,  2.83124547e-01,\n",
       "          2.85733695e-01,  2.88344790e-01,  2.90957852e-01,  2.93572903e-01,\n",
       "          2.96189962e-01,  2.98809052e-01,  3.01430193e-01,  3.04053407e-01,\n",
       "          3.06678715e-01,  3.09306138e-01,  3.11935698e-01,  3.14567416e-01,\n",
       "          3.17201315e-01,  3.19837417e-01,  3.22475743e-01,  3.25116316e-01,\n",
       "          3.27759157e-01,  3.30404290e-01,  3.33051736e-01,  3.35701519e-01,\n",
       "          3.38353661e-01,  3.41008186e-01,  3.43665115e-01,  3.46324472e-01,\n",
       "          3.48986282e-01,  3.51650566e-01,  3.54317348e-01,  3.56986653e-01,\n",
       "          3.59658504e-01,  3.62332924e-01,  3.65009939e-01,  3.67689572e-01,\n",
       "          3.70371848e-01,  3.73056792e-01,  3.75744427e-01,  3.78434779e-01,\n",
       "          3.81127874e-01,  3.83823735e-01,  3.86522388e-01,  3.89223860e-01,\n",
       "          3.91928175e-01,  3.94635359e-01,  3.97345439e-01,  4.00058440e-01,\n",
       "          4.02774389e-01,  4.05493313e-01,  4.08215237e-01,  4.10940189e-01,\n",
       "          4.13668196e-01,  4.16399284e-01,  4.19133483e-01,  4.21870818e-01,\n",
       "          4.24611318e-01,  4.27355010e-01,  4.30101924e-01,  4.32852086e-01,\n",
       "          4.35605527e-01,  4.38362274e-01,  4.41122356e-01,  4.43885803e-01,\n",
       "          4.46652644e-01,  4.49422908e-01,  4.52196626e-01,  4.54973827e-01,\n",
       "          4.57754542e-01,  4.60538801e-01,  4.63326634e-01,  4.66118073e-01,\n",
       "          4.68913149e-01,  4.71711893e-01,  4.74514337e-01,  4.77320513e-01,\n",
       "          4.80130452e-01,  4.82944188e-01,  4.85761752e-01,  4.88583178e-01,\n",
       "          4.91408498e-01,  4.94237747e-01,  4.97070957e-01,  4.99908163e-01,\n",
       "          5.02749399e-01,  5.05594699e-01,  5.08444099e-01,  5.11297632e-01,\n",
       "          5.14155335e-01,  5.17017243e-01,  5.19883391e-01,  5.22753817e-01,\n",
       "          5.25628557e-01,  5.28507646e-01,  5.31391124e-01,  5.34279026e-01,\n",
       "          5.37171392e-01,  5.40068258e-01,  5.42969663e-01,  5.45875647e-01,\n",
       "          5.48786247e-01,  5.51701504e-01,  5.54621458e-01,  5.57546147e-01,\n",
       "          5.60475614e-01,  5.63409899e-01,  5.66349043e-01,  5.69293087e-01,\n",
       "          5.72242074e-01,  5.75196045e-01,  5.78155045e-01,  5.81119115e-01,\n",
       "          5.84088300e-01,  5.87062643e-01,  5.90042188e-01,  5.93026981e-01,\n",
       "          5.96017067e-01,  5.99012491e-01,  6.02013299e-01,  6.05019539e-01,\n",
       "          6.08031256e-01,  6.11048498e-01,  6.14071313e-01,  6.17099750e-01,\n",
       "          6.20133858e-01,  6.23173684e-01,  6.26219281e-01,  6.29270697e-01,\n",
       "          6.32327983e-01,  6.35391191e-01,  6.38460373e-01,  6.41535581e-01,\n",
       "          6.44616868e-01,  6.47704287e-01,  6.50797893e-01,  6.53897740e-01,\n",
       "          6.57003883e-01,  6.60116377e-01,  6.63235280e-01,  6.66360648e-01,\n",
       "          6.69492539e-01,  6.72631010e-01,  6.75776120e-01,  6.78927930e-01,\n",
       "          6.82086498e-01,  6.85251886e-01,  6.88424155e-01,  6.91603367e-01,\n",
       "          6.94789584e-01,  6.97982871e-01,  7.01183291e-01,  7.04390909e-01,\n",
       "          7.07605791e-01,  7.10828003e-01,  7.14057613e-01,  7.17294687e-01,\n",
       "          7.20539295e-01,  7.23791507e-01,  7.27051392e-01,  7.30319022e-01,\n",
       "          7.33594468e-01,  7.36877804e-01,  7.40169103e-01,  7.43468439e-01,\n",
       "          7.46775888e-01,  7.50091527e-01,  7.53415433e-01,  7.56747683e-01,\n",
       "          7.60088358e-01,  7.63437536e-01,  7.66795301e-01,  7.70161733e-01,\n",
       "          7.73536915e-01,  7.76920933e-01,  7.80313872e-01,  7.83715817e-01,\n",
       "          7.87126857e-01,  7.90547079e-01,  7.93976575e-01,  7.97415434e-01,\n",
       "          8.00863750e-01,  8.04321614e-01,  8.07789123e-01,  8.11266372e-01,\n",
       "          8.14753457e-01,  8.18250479e-01,  8.21757535e-01,  8.25274728e-01,\n",
       "          8.28802160e-01,  8.32339934e-01,  8.35888157e-01,  8.39446935e-01,\n",
       "          8.43016376e-01,  8.46596591e-01,  8.50187690e-01,  8.53789787e-01,\n",
       "          8.57402996e-01,  8.61027434e-01,  8.64663218e-01,  8.68310468e-01,\n",
       "          8.71969305e-01,  8.75639853e-01,  8.79322237e-01,  8.83016583e-01,\n",
       "          8.86723020e-01,  8.90441678e-01,  8.94172691e-01,  8.97916193e-01,\n",
       "          9.01672321e-01,  9.05441213e-01,  9.09223011e-01,  9.13017857e-01,\n",
       "          9.16825898e-01,  9.20647280e-01,  9.24482153e-01,  9.28330671e-01,\n",
       "          9.32192988e-01,  9.36069261e-01,  9.39959651e-01,  9.43864319e-01,\n",
       "          9.47783430e-01,  9.51717154e-01,  9.55665660e-01,  9.59629122e-01,\n",
       "          9.63607717e-01,  9.67601623e-01,  9.71611024e-01,  9.75636106e-01,\n",
       "          9.79677056e-01,  9.83734067e-01,  9.87807334e-01,  9.91897058e-01,\n",
       "          9.96003439e-01,  1.00012668e+00,  1.00426700e+00,  1.00842461e+00,\n",
       "          1.01259972e+00,  1.01679256e+00,  1.02100335e+00,  1.02523232e+00,\n",
       "          1.02947970e+00,  1.03374574e+00,  1.03803068e+00,  1.04233476e+00,\n",
       "          1.04665824e+00,  1.05100137e+00,  1.05536442e+00,  1.05974765e+00,\n",
       "          1.06415133e+00,  1.06857575e+00,  1.07302119e+00,  1.07748793e+00,\n",
       "          1.08197628e+00,  1.08648653e+00,  1.09101899e+00,  1.09557397e+00,\n",
       "          1.10015180e+00,  1.10475280e+00,  1.10937731e+00,  1.11402566e+00,\n",
       "          1.11869822e+00,  1.12339532e+00,  1.12811734e+00,  1.13286465e+00,\n",
       "          1.13763763e+00,  1.14243667e+00,  1.14726217e+00,  1.15211453e+00,\n",
       "          1.15699416e+00,  1.16190151e+00,  1.16683699e+00,  1.17180107e+00,\n",
       "          1.17679419e+00,  1.18181682e+00,  1.18686944e+00,  1.19195255e+00,\n",
       "          1.19706664e+00,  1.20221223e+00,  1.20738985e+00,  1.21260004e+00,\n",
       "          1.21784337e+00,  1.22312038e+00,  1.22843168e+00,  1.23377786e+00,\n",
       "          1.23915954e+00,  1.24457735e+00,  1.25003194e+00,  1.25552398e+00,\n",
       "          1.26105415e+00,  1.26662315e+00,  1.27223172e+00,  1.27788060e+00,\n",
       "          1.28357055e+00,  1.28930237e+00,  1.29507686e+00,  1.30089485e+00,\n",
       "          1.30675722e+00,  1.31266485e+00,  1.31861865e+00,  1.32461956e+00,\n",
       "          1.33066855e+00,  1.33676663e+00,  1.34291482e+00,  1.34911421e+00,\n",
       "          1.35536588e+00,  1.36167098e+00,  1.36803067e+00,  1.37444619e+00,\n",
       "          1.38091878e+00,  1.38744975e+00,  1.39404044e+00,  1.40069224e+00,\n",
       "          1.40740661e+00,  1.41418503e+00,  1.42102906e+00,  1.42794030e+00,\n",
       "          1.43492043e+00,  1.44197119e+00,  1.44909437e+00,  1.45629184e+00,\n",
       "          1.46356555e+00,  1.47091753e+00,  1.47834989e+00,  1.48586482e+00,\n",
       "          1.49346462e+00,  1.50115166e+00,  1.50892845e+00,  1.51679758e+00,\n",
       "          1.52476177e+00,  1.53282387e+00,  1.54098684e+00,  1.54925381e+00,\n",
       "          1.55762804e+00,  1.56611295e+00,  1.57471213e+00,  1.58342935e+00,\n",
       "          1.59226859e+00,  1.60123402e+00,  1.61033003e+00,  1.61956127e+00,\n",
       "          1.62893261e+00,  1.63844924e+00,  1.64811661e+00,  1.65794051e+00,\n",
       "          1.66792707e+00,  1.67808281e+00,  1.68841463e+00,  1.69892989e+00,\n",
       "          1.70963644e+00,  1.72054262e+00,  1.73165738e+00,  1.74299028e+00,\n",
       "          1.75455157e+00,  1.76635224e+00,  1.77840415e+00,  1.79072004e+00,\n",
       "          1.80331371e+00,  1.81620005e+00,  1.82939524e+00,  1.84291686e+00,\n",
       "          1.85678408e+00,  1.87101783e+00,  1.88564107e+00,  1.90067901e+00,\n",
       "          1.91615948e+00,  1.93211325e+00,  1.94857451e+00,  1.96558137e+00,\n",
       "          1.98317650e+00,  2.00140792e+00,  2.02032992e+00,  2.04000420e+00,\n",
       "          2.06050135e+00,  2.08190261e+00,  2.10430217e+00,  2.12781017e+00,\n",
       "          2.15255643e+00,  2.17869564e+00,  2.20641415e+00,  2.23593934e+00,\n",
       "          2.26755284e+00,  2.30160949e+00,  2.33856546e+00,  2.37902149e+00,\n",
       "          2.42379214e+00,  2.47402263e+00,  2.53139899e+00,  2.59855946e+00,\n",
       "          2.67999560e+00,  2.78437841e+00,  2.93237785e+00,  3.19758950e+00]),\n",
       "  array([18.09503835, 18.16359821, 18.2593005 , 18.38028306, 18.81344684,\n",
       "         18.89478985, 18.96676334, 19.18094348, 19.18129057, 19.36369287,\n",
       "         19.36676375, 19.44142512, 19.45980598, 19.56954552, 19.58048064,\n",
       "         19.63328895, 19.70179675, 19.76314341, 19.77691448, 19.77781206,\n",
       "         19.78995357, 19.79041823, 19.83553908, 19.89318826, 19.9201895 ,\n",
       "         19.93994621, 19.96124334, 19.96201335, 19.99192326, 20.01179403,\n",
       "         20.04311866, 20.0588167 , 20.0623076 , 20.08480422, 20.20889584,\n",
       "         20.26409096, 20.27516859, 20.35588958, 20.40520146, 20.41174131,\n",
       "         20.49377489, 20.50146857, 20.51788752, 20.51952363, 20.53341309,\n",
       "         20.55246272, 20.5558399 , 20.56352047, 20.56565504, 20.57197191,\n",
       "         20.58019126, 20.60951075, 20.61496113, 20.62792951, 20.62844031,\n",
       "         20.65153042, 20.65757228, 20.6964651 , 20.71312244, 20.71893042,\n",
       "         20.80236074, 20.809122  , 20.82762426, 20.87162574, 20.90355279,\n",
       "         20.91966542, 20.92405824, 20.94184721, 21.00461537, 21.0083955 ,\n",
       "         21.0220607 , 21.02562787, 21.03005176, 21.05807938, 21.05941323,\n",
       "         21.07981967, 21.10050083, 21.10456692, 21.1086895 , 21.11444792,\n",
       "         21.13423642, 21.18521563, 21.20048517, 21.20320225, 21.23540993,\n",
       "         21.25465885, 21.25490488, 21.280032  , 21.28382072, 21.28528972,\n",
       "         21.29910567, 21.31915785, 21.32388016, 21.34067376, 21.3788026 ,\n",
       "         21.39420659, 21.40393965, 21.41778128, 21.43876744, 21.4543528 ,\n",
       "         21.45582614, 21.46385466, 21.47122665, 21.48225729, 21.48897106,\n",
       "         21.48954119, 21.4898486 , 21.49689096, 21.51356294, 21.5422316 ,\n",
       "         21.58285893, 21.59750778, 21.60254947, 21.60512933, 21.63305493,\n",
       "         21.65337414, 21.66195059, 21.66810725, 21.66999921, 21.68150989,\n",
       "         21.70126782, 21.7189632 , 21.72234853, 21.72997265, 21.76005414,\n",
       "         21.78163163, 21.78817823, 21.83538382, 21.85436313, 21.86108515,\n",
       "         21.8712582 , 21.88741232, 21.89578386, 21.90670337, 21.91670264,\n",
       "         21.92226226, 21.93108529, 21.94452857, 21.94937732, 21.9564078 ,\n",
       "         21.96533878, 21.96564688, 21.98188037, 21.98480622, 21.99268782,\n",
       "         21.99985814, 22.0017673 , 22.01766195, 22.01878511, 22.02236453,\n",
       "         22.02947952, 22.03368269, 22.03518926, 22.0358963 , 22.0452652 ,\n",
       "         22.04652538, 22.05958366, 22.06316992, 22.06576659, 22.07606228,\n",
       "         22.08022529, 22.08416665, 22.09322108, 22.09678836, 22.1063239 ,\n",
       "         22.10908623, 22.11211771, 22.11255121, 22.1270724 , 22.13658137,\n",
       "         22.14665891, 22.15063079, 22.15351715, 22.17586381, 22.18972375,\n",
       "         22.21619439, 22.22169456, 22.23296502, 22.2506003 , 22.25071075,\n",
       "         22.26251272, 22.26415797, 22.2665847 , 22.26760225, 22.2823772 ,\n",
       "         22.29245   , 22.29617659, 22.30858146, 22.30876182, 22.31762436,\n",
       "         22.32358105, 22.32421898, 22.32639922, 22.32650197, 22.32846882,\n",
       "         22.33578763, 22.34447985, 22.34595958, 22.34732902, 22.34933632,\n",
       "         22.3504463 , 22.35200889, 22.35333006, 22.37651795, 22.37814387,\n",
       "         22.39221419, 22.40098882, 22.43319631, 22.43556963, 22.43609049,\n",
       "         22.45109406, 22.45118192, 22.45857537, 22.47526446, 22.47630325,\n",
       "         22.47907638, 22.48104543, 22.48448321, 22.48531022, 22.48580877,\n",
       "         22.49687676, 22.50444977, 22.50916407, 22.50926757, 22.50975357,\n",
       "         22.52585298, 22.53317543, 22.53671557, 22.54366022, 22.55705569,\n",
       "         22.5983893 , 22.61469769, 22.61821003, 22.62040747, 22.6208175 ,\n",
       "         22.64880284, 22.67973391, 22.6803616 , 22.6812916 , 22.68671169,\n",
       "         22.68702285, 22.69811073, 22.69867694, 22.70187946, 22.70583587,\n",
       "         22.71568284, 22.71660739, 22.72239747, 22.72530344, 22.73131833,\n",
       "         22.73414938, 22.7367729 , 22.73702942, 22.75191252, 22.75800024,\n",
       "         22.76875029, 22.78100113, 22.78210479, 22.78457353, 22.78500536,\n",
       "         22.79526709, 22.80103811, 22.81087793, 22.82529329, 22.82938089,\n",
       "         22.83098422, 22.83154802, 22.83975478, 22.84546057, 22.84643051,\n",
       "         22.85428862, 22.85580751, 22.85980685, 22.86548811, 22.8701095 ,\n",
       "         22.87263408, 22.87646676, 22.87720555, 22.89275944, 22.9008411 ,\n",
       "         22.9048174 , 22.9119996 , 22.91448948, 22.91598872, 22.91886499,\n",
       "         22.9251199 , 22.92766754, 22.92785638, 22.9278899 , 22.92806426,\n",
       "         22.92825197, 22.932846  , 22.93416697, 22.93427842, 22.93753282,\n",
       "         22.96572205, 22.96703885, 22.97770104, 22.97872082, 22.9827929 ,\n",
       "         22.99113106, 22.9943753 , 23.00498529, 23.00991656, 23.01016105,\n",
       "         23.01751427, 23.01846302, 23.02058272, 23.02306321, 23.02489917,\n",
       "         23.02749326, 23.0332621 , 23.03582268, 23.03864309, 23.04404825,\n",
       "         23.053079  , 23.05953638, 23.06855199, 23.06974832, 23.09389186,\n",
       "         23.09607447, 23.10737216, 23.10788413, 23.11843302, 23.12628454,\n",
       "         23.13056471, 23.14922521, 23.15098593, 23.15189341, 23.1597853 ,\n",
       "         23.16044236, 23.16516965, 23.16785193, 23.16883799, 23.17041515,\n",
       "         23.17525091, 23.1777378 , 23.1786465 , 23.18086045, 23.18929581,\n",
       "         23.19160846, 23.19257608, 23.20185382, 23.20226228, 23.20303879,\n",
       "         23.20609596, 23.20807296, 23.21525375, 23.23652336, 23.23765624,\n",
       "         23.24111615, 23.24775042, 23.2551301 , 23.25540097, 23.2639289 ,\n",
       "         23.26395808, 23.2673062 , 23.27141486, 23.27966318, 23.28202654,\n",
       "         23.2823501 , 23.30280187, 23.31008277, 23.31020581, 23.31343604,\n",
       "         23.31420291, 23.31729743, 23.32849001, 23.34293071, 23.35316154,\n",
       "         23.35517059, 23.35776517, 23.36260499, 23.36772498, 23.37407154,\n",
       "         23.37641774, 23.37658039, 23.37997021, 23.38280765, 23.38576206,\n",
       "         23.38608498, 23.40399299, 23.41984452, 23.42837113, 23.45535025,\n",
       "         23.45775192, 23.45910304, 23.46520095, 23.46639611, 23.47377071,\n",
       "         23.47808571, 23.48811324, 23.49829142, 23.49850388, 23.50014546,\n",
       "         23.50033489, 23.50762087, 23.50849396, 23.51056773, 23.51178421,\n",
       "         23.51206156, 23.51304723, 23.52252345, 23.52391462, 23.52557581,\n",
       "         23.53025666, 23.5321993 , 23.54014183, 23.54167606, 23.54516998,\n",
       "         23.54663533, 23.5478424 , 23.5587682 , 23.5589887 , 23.55947073,\n",
       "         23.55962659, 23.56215098, 23.56471741, 23.56784477, 23.57110239,\n",
       "         23.58339829, 23.58448256, 23.58690994, 23.61708593, 23.6213881 ,\n",
       "         23.62196815, 23.6254584 , 23.6305577 , 23.63185319, 23.63229091,\n",
       "         23.63971843, 23.64716275, 23.64909885, 23.65681539, 23.66257898,\n",
       "         23.66798376, 23.6686264 , 23.67105587, 23.67441227, 23.68224925,\n",
       "         23.68670199, 23.68989913, 23.6899263 , 23.6942716 , 23.69539333,\n",
       "         23.70988598, 23.70992034, 23.71226982, 23.72220992, 23.72679122,\n",
       "         23.73580759, 23.73602164, 23.74212092, 23.74289088, 23.74949624,\n",
       "         23.75330716, 23.75569057, 23.76338637, 23.77071055, 23.78829327,\n",
       "         23.7910371 , 23.79339826, 23.793813  , 23.79734116, 23.79876508,\n",
       "         23.80951319, 23.80980487, 23.81140804, 23.81770793, 23.81887059,\n",
       "         23.82526448, 23.83006409, 23.83759532, 23.84023907, 23.84802986,\n",
       "         23.85238858, 23.87252444, 23.87293193, 23.87624569, 23.90484263,\n",
       "         23.91493973, 23.9232317 , 23.92571877, 23.92590181, 23.92703681,\n",
       "         23.92757331, 23.9387514 , 23.9428416 , 23.9588486 , 23.9593866 ,\n",
       "         23.96324647, 23.96864024, 23.97219542, 23.98014856, 23.98778545,\n",
       "         23.99040015, 23.99246337, 24.00735788, 24.02113979, 24.02523636,\n",
       "         24.02772889, 24.02917493, 24.03505912, 24.03747234, 24.03975463,\n",
       "         24.04155586, 24.04426347, 24.04821151, 24.05008157, 24.05316731,\n",
       "         24.06070075, 24.06087107, 24.06132925, 24.06209654, 24.06238436,\n",
       "         24.06915995, 24.06986027, 24.07116492, 24.08514354, 24.08978307,\n",
       "         24.09756859, 24.09933005, 24.12169836, 24.1236503 , 24.12852353,\n",
       "         24.12971199, 24.13118727, 24.13319287, 24.13525023, 24.14718445,\n",
       "         24.14834469, 24.14927644, 24.17585749, 24.17729852, 24.17763146,\n",
       "         24.18105556, 24.18188654, 24.18658589, 24.1871982 , 24.19254458,\n",
       "         24.19276193, 24.19752536, 24.20009494, 24.21015945, 24.21307555,\n",
       "         24.2188215 , 24.22406929, 24.2273245 , 24.22762431, 24.23104732,\n",
       "         24.23175095, 24.23259544, 24.23404498, 24.23673182, 24.23701121,\n",
       "         24.23766742, 24.25149904, 24.25584634, 24.25763801, 24.2610368 ,\n",
       "         24.26471092, 24.26781454, 24.28071783, 24.28289873, 24.29583091,\n",
       "         24.30418951, 24.31355269, 24.32714695, 24.33149058, 24.33391071,\n",
       "         24.33789114, 24.34155536, 24.35120532, 24.35324522, 24.35900477,\n",
       "         24.36150064, 24.36186695, 24.38701938, 24.39739199, 24.40177931,\n",
       "         24.41627679, 24.41786444, 24.42604875, 24.42868648, 24.4423641 ,\n",
       "         24.45561135, 24.45575304, 24.46160662, 24.46228175, 24.46659514,\n",
       "         24.4739292 , 24.48344226, 24.49878098, 24.49885484, 24.50134467,\n",
       "         24.50855506, 24.50949836, 24.51413159, 24.52798004, 24.52995728,\n",
       "         24.53294727, 24.53495566, 24.53981469, 24.54347683, 24.54808531,\n",
       "         24.54994884, 24.5626138 , 24.56892226, 24.57510304, 24.57590231,\n",
       "         24.57758316, 24.57883631, 24.58491577, 24.58940811, 24.5907855 ,\n",
       "         24.59571148, 24.60310088, 24.60315478, 24.60870978, 24.61011792,\n",
       "         24.61205629, 24.61290133, 24.61861878, 24.62375505, 24.63376744,\n",
       "         24.63620924, 24.64334752, 24.64955096, 24.65121707, 24.65912131,\n",
       "         24.66001061, 24.6666365 , 24.67228582, 24.67641506, 24.70145478,\n",
       "         24.7133032 , 24.71629734, 24.71746894, 24.7187874 , 24.72852808,\n",
       "         24.73061857, 24.73391603, 24.73560241, 24.73679767, 24.74107145,\n",
       "         24.75128326, 24.75341104, 24.76486676, 24.76763068, 24.77981153,\n",
       "         24.78937548, 24.79000292, 24.80314696, 24.81712453, 24.81891461,\n",
       "         24.81920372, 24.82197729, 24.82433627, 24.82444804, 24.82485418,\n",
       "         24.8251346 , 24.82975202, 24.83548564, 24.83849624, 24.84615564,\n",
       "         24.85070204, 24.85160088, 24.85809827, 24.85909838, 24.85934812,\n",
       "         24.8613559 , 24.86236894, 24.87146038, 24.87703744, 24.87930468,\n",
       "         24.88263201, 24.88503147, 24.89908702, 24.9023843 , 24.90329859,\n",
       "         24.90785344, 24.91082665, 24.91223237, 24.91464817, 24.91594254,\n",
       "         24.92392382, 24.92566464, 24.92784215, 24.92895818, 24.93329068,\n",
       "         24.93999052, 24.94028492, 24.95197437, 24.95337935, 24.96075586,\n",
       "         24.99684186, 24.99978111, 25.00518973, 25.00643303, 25.0071159 ,\n",
       "         25.00831033, 25.00960109, 25.01733409, 25.02534513, 25.03559139,\n",
       "         25.03743913, 25.03748021, 25.03935029, 25.04463047, 25.05339355,\n",
       "         25.06638421, 25.08218559, 25.08325631, 25.08783648, 25.08784746,\n",
       "         25.09529221, 25.09671143, 25.10112497, 25.10209162, 25.10803654,\n",
       "         25.11224238, 25.1154324 , 25.11865856, 25.12154829, 25.13274671,\n",
       "         25.14548654, 25.15043435, 25.16852211, 25.17046161, 25.17854647,\n",
       "         25.18209877, 25.18516146, 25.18593385, 25.19585175, 25.20604281,\n",
       "         25.21139503, 25.2119188 , 25.2185034 , 25.22178592, 25.230755  ,\n",
       "         25.2370226 , 25.24120402, 25.26820455, 25.28334069, 25.28946979,\n",
       "         25.29731911, 25.30102769, 25.30132488, 25.30433973, 25.30625229,\n",
       "         25.31134688, 25.31614782, 25.3192541 , 25.31999087, 25.32641115,\n",
       "         25.32821765, 25.33284223, 25.35541672, 25.35920426, 25.36917979,\n",
       "         25.37053408, 25.3738171 , 25.38341238, 25.39027975, 25.39762048,\n",
       "         25.40182688, 25.40593408, 25.41222112, 25.41690639, 25.41900903,\n",
       "         25.42531622, 25.42731132, 25.42927489, 25.44420273, 25.44630417,\n",
       "         25.4497429 , 25.47164355, 25.47470344, 25.48836773, 25.50024568,\n",
       "         25.50512312, 25.50603167, 25.50643558, 25.5181512 , 25.52762036,\n",
       "         25.54631632, 25.5675729 , 25.58163231, 25.58996627, 25.59633511,\n",
       "         25.59818425, 25.61164717, 25.62030063, 25.62042257, 25.62178997,\n",
       "         25.6320577 , 25.64492369, 25.64522589, 25.6489683 , 25.65019973,\n",
       "         25.65785657, 25.65946296, 25.6782084 , 25.68127567, 25.70426653,\n",
       "         25.70948845, 25.71766622, 25.73280839, 25.74902794, 25.7706117 ,\n",
       "         25.7770927 , 25.78797643, 25.79453784, 25.81199257, 25.82051935,\n",
       "         25.83791658, 25.83885249, 25.84019793, 25.84420204, 25.84424472,\n",
       "         25.87016575, 25.90743328, 25.91304389, 25.91485908, 25.91712582,\n",
       "         25.91864389, 25.92216023, 25.93254521, 25.93474824, 25.94015541,\n",
       "         25.94290303, 25.94548819, 25.94894002, 25.95066548, 25.95288423,\n",
       "         25.96634373, 25.97139308, 25.97681284, 25.98480323, 26.03140334,\n",
       "         26.03277645, 26.03403227, 26.04424133, 26.04439086, 26.0527165 ,\n",
       "         26.07017069, 26.07078863, 26.07650807, 26.07664182, 26.0769371 ,\n",
       "         26.08925996, 26.09888802, 26.10861603, 26.11741777, 26.12774051,\n",
       "         26.134473  , 26.14754908, 26.15028237, 26.15700721, 26.15751928,\n",
       "         26.15946338, 26.16136946, 26.17676366, 26.17954261, 26.19010705,\n",
       "         26.20114224, 26.22237439, 26.2237194 , 26.22781809, 26.22829263,\n",
       "         26.2367841 , 26.24201568, 26.24203695, 26.25673117, 26.26989972,\n",
       "         26.27038408, 26.27716687, 26.29525483, 26.32571378, 26.33433495,\n",
       "         26.34704416, 26.34968951, 26.35177785, 26.35220612, 26.35666219,\n",
       "         26.36033928, 26.36043278, 26.3606456 , 26.36557718, 26.36823375,\n",
       "         26.37376527, 26.38575668, 26.40128948, 26.41222761, 26.43143062,\n",
       "         26.45104073, 26.52115837, 26.52692609, 26.53326461, 26.54706539,\n",
       "         26.57311294, 26.58509101, 26.59095817, 26.60126795, 26.60667288,\n",
       "         26.61292763, 26.6139068 , 26.63103451, 26.66189576, 26.66347607,\n",
       "         26.69304789, 26.70724669, 26.70949569, 26.7131654 , 26.71744262,\n",
       "         26.72348209, 26.7305348 , 26.73963064, 26.75915991, 26.76054721,\n",
       "         26.7958576 , 26.79786042, 26.80812535, 26.81468146, 26.84395895,\n",
       "         26.84846029, 26.85065624, 26.86840058, 26.87653474, 26.88756466,\n",
       "         26.904621  , 26.91902324, 26.92438147, 26.96253393, 26.96854075,\n",
       "         26.97807562, 27.01963956, 27.03120504, 27.03120808, 27.04557836,\n",
       "         27.05605737, 27.08598432, 27.09795864, 27.10132113, 27.10197293,\n",
       "         27.11579547, 27.12259891, 27.14893204, 27.18513004, 27.21854064,\n",
       "         27.27441838, 27.27623636, 27.30045446, 27.33268425, 27.34358108,\n",
       "         27.35979043, 27.36213   , 27.36406773, 27.39133861, 27.41463993,\n",
       "         27.41939068, 27.42080778, 27.43036924, 27.45380321, 27.50758963,\n",
       "         27.51835438, 27.54324262, 27.55478139, 27.59427739, 27.60430993,\n",
       "         27.63781506, 27.64398828, 27.64665088, 27.75595333, 27.76523135,\n",
       "         27.77100364, 27.78478302, 27.80869317, 27.82159262, 27.88819448,\n",
       "         27.91237858, 27.93491634, 28.05753561, 28.15181034, 28.15253991,\n",
       "         28.17596436, 28.20328223, 28.36381133, 28.52706282, 28.52842952,\n",
       "         28.57479526, 28.61513011, 28.76084332, 28.92172103, 28.96982205,\n",
       "         29.11338014, 29.28401834, 29.34852997, 29.3640297 , 29.88467148])),\n",
       " (1.9805791618131827, 23.992814607054243, 0.9994984643428815))"
      ]
     },
     "execution_count": 3,
     "metadata": {},
     "output_type": "execute_result"
    },
    {
     "data": {
      "image/png": "[encoded data removed]",
      "text/plain": [
       "<Figure size 432x288 with 1 Axes>"
      ]
     },
     "metadata": {
      "needs_background": "light"
     },
     "output_type": "display_data"
    }
   ],
   "source": [
    "#plot QQ \n",
    "#fig = sm.qqplot(queso)\n",
    "#plt.show()\n",
    "scipy.stats.probplot(queso, dist=\"norm\", plot=plt)"
   ]
  },
  {
   "cell_type": "markdown",
   "metadata": {},
   "source": [
    "### What is a Kolmogorov-Smirnov test? \n",
    "\n",
    "The Kolmogorov-Smirnov Goodness of Fit Test (K-S test) compares your data with a known distribution and lets you know if they have the same distribution. .It’s also used to check the assumption of normality in Analysis of Variance. \n",
    "\n",
    "Perform the K-S test against a normal distribution with mean = 0 and sd = 3\n",
    "If p < .05 we can reject the null hypothesis and conclude our sample distribution is not identical to a normal distribution"
   ]
  },
  {
   "cell_type": "code",
   "execution_count": 4,
   "metadata": {
    "ExecuteTime": {
     "end_time": "2020-08-11T22:27:11.870242Z",
     "start_time": "2020-08-11T22:27:11.863272Z"
    }
   },
   "outputs": [
    {
     "data": {
      "text/plain": [
       "KstestResult(statistic=0.999999999188678, pvalue=0.0)"
      ]
     },
     "execution_count": 4,
     "metadata": {},
     "output_type": "execute_result"
    }
   ],
   "source": [
    "scipy.stats.kstest(queso, 'norm', args=(0,3))"
   ]
  },
  {
   "cell_type": "markdown",
   "metadata": {},
   "source": [
    "<details>\n",
    "    <summary>1.3 What if our samples were not of equal size and variance? What could be done? </summary> \n",
    "    \n",
    "<text> The Welch's T-Test(instead of the classic students t-test) could be substituted. The main difference is how the Welch's T calculates degrees of freedom. \n",
    "\n",
    " $ \\Large t = \\frac{\\bar{X_1}-\\bar{X_2}}{\\sqrt{\\frac{s_1^2}{N_1} + \\frac{s_2^2}{N_2}}} = \\frac{\\bar{X_1}-\\bar{X_2}}{\\sqrt{se_1^2+se_2^2}}$\n",
    "where  \n",
    "\n",
    "* $\\bar{X_i}$ - mean of sample i\n",
    "* $s_i^2$ - variance of sample i\n",
    "* $N_i$ - sample size of sample i  \n",
    "\n",
    "</text>\n",
    "</details>"
   ]
  },
  {
   "cell_type": "markdown",
   "metadata": {},
   "source": [
    "### **2. Now that we've confirmed our samples are normal and have equal variance, run a statistical test on the two samples. Use a significance level of $\\alpha = 0.05$.** "
   ]
  },
  {
   "cell_type": "markdown",
   "metadata": {},
   "source": [
    "<details>\n",
    "    <summary>2.1 Describe the null $H_{0}$ and alternative hypotheses $H_{A}$ for this test. </summary> \n",
    "<code> \n",
    "Null hypothesis: Customers who order queso spend the same as those who do not order queso. \n",
    "Alternative hypothesis: Customers who order queso do not spend the same as those who do not order queso. \n",
    "</code>\n",
    "</details>"
   ]
  },
  {
   "cell_type": "markdown",
   "metadata": {},
   "source": [
    "<details>\n",
    "    <summary>2.2 What type of statistical test(Z, T or F) should we run and why? </summary> \n",
    "    \n",
    "<text> A two-tailed t-test because t-test are typically used when we need to determine if there is a statistically significant difference between two independent sample groups. We do not know the populations SD so z-test may not be the best choice. However, n>30 so we could use a z-test. F-tests are used in ANOVA when we have 3 or more groups to compare. \n",
    "\n",
    "</text>\n",
    "</details>"
   ]
  },
  {
   "cell_type": "markdown",
   "metadata": {},
   "source": [
    "<details>\n",
    "    <summary>2.3 What does it mean to make Type I and Type II errors in this context? </summary> \n",
    "<code> \n",
    "Type I: (Rejecting the null hypothesis given it's true): Saying queso customers' total check amounts are different \n",
    "than non-queso customers' total check amounts when they are the same.\n",
    "\n",
    "Type II: (Failing to reject the null hypothesis given it's false): Saying queso customers' total check amounts are \n",
    "the same as non-queso customers' total check amounts when they are different.\n",
    "</code>\n",
    "</details>"
   ]
  },
  {
   "cell_type": "markdown",
   "metadata": {},
   "source": [
    "<details>\n",
    "    <summary>2.4 What does statistical power have to do with type errors? </summary> \n",
    "<code> \n",
    "The statistical power of a study (sometimes called sensitivity OR recall) is how likely the study is to distinguish an actual effect from one of chance. It’s the likelihood that the test is correctly rejecting the null hypothesis (i.e. “proving” your hypothesis). For example, a study that has an 80% power means that the study has an 80% chance of the test having significant results.\n",
    "\n",
    "![](https://www.statisticshowto.com/wp-content/uploads/2015/04/statistical-power.png)\n",
    "</code>\n",
    "</details>"
   ]
  },
  {
   "cell_type": "code",
   "execution_count": 6,
   "metadata": {
    "ExecuteTime": {
     "end_time": "2020-08-11T22:49:46.996912Z",
     "start_time": "2020-08-11T22:49:46.984094Z"
    }
   },
   "outputs": [
    {
     "name": "stdout",
     "output_type": "stream",
     "text": [
      "Ttest_indResult(statistic=-45.16857748646329, pvalue=1.29670967092511e-307)\n",
      "\n",
      "(-1.962341461133449, 1.9623414611334487)\n"
     ]
    }
   ],
   "source": [
    "# Run a two-tailed t-test\n",
    "print(stats.ttest_ind(no_queso, queso))\n",
    "print()\n",
    "# compute the critical t-statistics for the rejection region\n",
    "critical_t = (stats.t.ppf(0.025, df=999), stats.t.ppf(0.975, df=999))\n",
    "print(critical_t)"
   ]
  },
  {
   "cell_type": "markdown",
   "metadata": {},
   "source": [
    "<details>\n",
    "    <summary>2.5  Can you reject the null hypothesis at a significance level of $\\alpha = 0.05$? </summary> \n",
    "<text> We have enough evidence to reject the null hypothesis \n",
    "at a significance level of alpha = 0.05. We obtain a p-value\n",
    "much smaller than 0.025 (two-tailed test). \n",
    "    \n",
    "Alternatively: \n",
    "our t-statistic is smaller than the critical t-statistic.\n",
    "\n",
    "Both answers (p-value or critical t-statistic) are valid\n",
    "\n",
    "</text>\n",
    "</details>"
   ]
  },
  {
   "cell_type": "code",
   "execution_count": 7,
   "metadata": {
    "ExecuteTime": {
     "end_time": "2020-08-11T23:00:53.481311Z",
     "start_time": "2020-08-11T23:00:53.477170Z"
    }
   },
   "outputs": [],
   "source": [
    "sample_mean_no_queso = np.mean(no_queso)\n",
    "sample_mean_queso = np.mean(queso)\n",
    "sample_std = np.std(no_queso)"
   ]
  },
  {
   "cell_type": "code",
   "execution_count": 8,
   "metadata": {
    "ExecuteTime": {
     "end_time": "2020-08-11T23:00:54.878064Z",
     "start_time": "2020-08-11T23:00:54.482133Z"
    }
   },
   "outputs": [
    {
     "data": {
      "image/png": "[encoded data removed]",
      "text/plain": [
       "<Figure size 1080x576 with 1 Axes>"
      ]
     },
     "metadata": {
      "needs_background": "light"
     },
     "output_type": "display_data"
    }
   ],
   "source": [
    "import seaborn as sns\n",
    "plt.figure(figsize=(15, 8))\n",
    "sns.distplot(no_queso, hist=False, label='sample distribution', color='rebeccapurple')\n",
    "plt.axvline(x=sample_mean_no_queso, color='rebeccapurple', linestyle='--', label=\"sample mean from orders with no queso\")\n",
    "plt.axvline(x=sample_mean_queso, color='orange', linestyle='--', label='sample mean with queso')\n",
    "plt.xlabel(\"check totals of no queso orders\", labelpad=14)\n",
    "plt.ylabel(\"probability of occurence\", labelpad=14)\n",
    "plt.title(\"Check totals with No Queso\")\n",
    "plt.legend();"
   ]
  },
  {
   "cell_type": "code",
   "execution_count": null,
   "metadata": {},
   "outputs": [],
   "source": []
  }
 ],
 "metadata": {
  "kernelspec": {
   "display_name": "learn-env",
   "language": "python",
   "name": "learn-env"
  },
  "language_info": {
   "codemirror_mode": {
    "name": "ipython",
    "version": 3
   },
   "file_extension": ".py",
   "mimetype": "text/x-python",
   "name": "python",
   "nbconvert_exporter": "python",
   "pygments_lexer": "ipython3",
   "version": "3.6.9"
  },
  "toc": {
   "base_numbering": 1,
   "nav_menu": {},
   "number_sections": true,
   "sideBar": true,
   "skip_h1_title": true,
   "title_cell": "Table of Contents",
   "title_sidebar": "Contents",
   "toc_cell": false,
   "toc_position": {},
   "toc_section_display": true,
   "toc_window_display": false
  },
  "varInspector": {
   "cols": {
    "lenName": 16,
    "lenType": 16,
    "lenVar": 40
   },
   "kernels_config": {
    "python": {
     "delete_cmd_postfix": "",
     "delete_cmd_prefix": "del ",
     "library": "var_list.py",
     "varRefreshCmd": "print(var_dic_list())"
    },
    "r": {
     "delete_cmd_postfix": ") ",
     "delete_cmd_prefix": "rm(",
     "library": "var_list.r",
     "varRefreshCmd": "cat(var_dic_list()) "
    }
   },
   "types_to_exclude": [
    "module",
    "function",
    "builtin_function_or_method",
    "instance",
    "_Feature"
   ],
   "window_display": false
  }
 },
 "nbformat": 4,
 "nbformat_minor": 2
}
