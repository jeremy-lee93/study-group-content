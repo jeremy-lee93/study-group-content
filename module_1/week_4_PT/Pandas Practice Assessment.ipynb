{
 "cells": [
  {
   "cell_type": "markdown",
   "metadata": {},
   "source": [
    "# Pandas Practice Assessment "
   ]
  },
  {
   "cell_type": "markdown",
   "metadata": {},
   "source": [
    "## Import necessary libraries for data cleaning and visualizations"
   ]
  },
  {
   "cell_type": "code",
<<<<<<< Updated upstream
   "execution_count": null,
   "metadata": {
    "ExecuteTime": {
     "end_time": "2020-06-19T17:58:38.192884Z",
     "start_time": "2020-06-19T17:58:37.386280Z"
    }
   },
   "outputs": [],
   "source": []
=======
   "execution_count": 1,
   "metadata": {
    "ExecuteTime": {
     "end_time": "2020-06-23T17:32:29.791976Z",
     "start_time": "2020-06-23T17:32:27.399582Z"
    }
   },
   "outputs": [],
   "source": [
    "import pandas as pd\n",
    "import numpy as np\n",
    "import matplotlib.pyplot as plt\n",
    "import seaborn as sns"
   ]
>>>>>>> Stashed changes
  },
  {
   "cell_type": "markdown",
   "metadata": {},
   "source": [
    "## Import movie data from the following location into a dataframe, setting the index column to Title and print the info "
   ]
  },
  {
   "cell_type": "code",
<<<<<<< Updated upstream
   "execution_count": null,
   "metadata": {
    "ExecuteTime": {
     "end_time": "2020-06-19T19:58:36.458672Z",
     "start_time": "2020-06-19T19:58:36.456489Z"
    }
   },
   "outputs": [],
   "source": [
    "#https://raw.githubusercontent.com/LearnDataSci/article-resources/master/Python%20Pandas%20Tutorial%20A%20Complete%20Introduction%20for%20Beginners/IMDB-Movie-Data.csv\n"
=======
   "execution_count": 3,
   "metadata": {
    "ExecuteTime": {
     "end_time": "2020-06-23T17:40:16.649421Z",
     "start_time": "2020-06-23T17:40:16.184690Z"
    }
   },
   "outputs": [
    {
     "name": "stdout",
     "output_type": "stream",
     "text": [
      "<class 'pandas.core.frame.DataFrame'>\n",
      "RangeIndex: 1000 entries, 0 to 999\n",
      "Data columns (total 12 columns):\n",
      "Rank                  1000 non-null int64\n",
      "Title                 1000 non-null object\n",
      "Genre                 1000 non-null object\n",
      "Description           1000 non-null object\n",
      "Director              1000 non-null object\n",
      "Actors                1000 non-null object\n",
      "Year                  1000 non-null int64\n",
      "Runtime (Minutes)     1000 non-null int64\n",
      "Rating                1000 non-null float64\n",
      "Votes                 1000 non-null int64\n",
      "Revenue (Millions)    872 non-null float64\n",
      "Metascore             936 non-null float64\n",
      "dtypes: float64(3), int64(4), object(5)\n",
      "memory usage: 93.9+ KB\n"
     ]
    }
   ],
   "source": [
    "#https://raw.githubusercontent.com/LearnDataSci/article-resources/master/Python%20Pandas%20Tutorial%20A%20Complete%20Introduction%20for%20Beginners/IMDB-Movie-Data.csv\n",
    "df = pd.read_csv('https://raw.githubusercontent.com/LearnDataSci/article-resources/master/Python%20Pandas%20Tutorial%20A%20Complete%20Introduction%20for%20Beginners/IMDB-Movie-Data.csv')\n",
    "df.info()\n",
    "df.set_index('Title', inplace=True)"
>>>>>>> Stashed changes
   ]
  },
  {
   "cell_type": "markdown",
   "metadata": {},
   "source": [
    "## Rename columns that contain parenthesis"
   ]
  },
  {
   "cell_type": "code",
<<<<<<< Updated upstream
   "execution_count": null,
   "metadata": {},
   "outputs": [],
   "source": []
=======
   "execution_count": 4,
   "metadata": {
    "ExecuteTime": {
     "end_time": "2020-06-23T17:43:16.219921Z",
     "start_time": "2020-06-23T17:43:16.200898Z"
    }
   },
   "outputs": [
    {
     "name": "stdout",
     "output_type": "stream",
     "text": [
      "<class 'pandas.core.frame.DataFrame'>\n",
      "Index: 1000 entries, Guardians of the Galaxy to Nine Lives\n",
      "Data columns (total 11 columns):\n",
      "Rank                1000 non-null int64\n",
      "Genre               1000 non-null object\n",
      "Description         1000 non-null object\n",
      "Director            1000 non-null object\n",
      "Actors              1000 non-null object\n",
      "Year                1000 non-null int64\n",
      "Runtime_minutes     1000 non-null int64\n",
      "Rating              1000 non-null float64\n",
      "Votes               1000 non-null int64\n",
      "Revenue_millions    872 non-null float64\n",
      "Metascore           936 non-null float64\n",
      "dtypes: float64(3), int64(4), object(4)\n",
      "memory usage: 93.8+ KB\n"
     ]
    }
   ],
   "source": [
    "df.rename(columns = {'Runtime (Minutes)':'Runtime_minutes', 'Revenue (Millions)': 'Revenue_millions'}, inplace=True)\n",
    "df.info()"
   ]
>>>>>>> Stashed changes
  },
  {
   "cell_type": "markdown",
   "metadata": {},
   "source": [
    "## Use a list comprehension to lowercase all column names"
   ]
  },
  {
   "cell_type": "code",
<<<<<<< Updated upstream
   "execution_count": null,
   "metadata": {},
   "outputs": [],
   "source": []
=======
   "execution_count": 6,
   "metadata": {
    "ExecuteTime": {
     "end_time": "2020-06-23T17:48:36.279718Z",
     "start_time": "2020-06-23T17:48:36.273902Z"
    }
   },
   "outputs": [],
   "source": [
    "df.columns = [i.lower() for i in df.columns]"
   ]
>>>>>>> Stashed changes
  },
  {
   "cell_type": "markdown",
   "metadata": {},
   "source": [
    "## Look for and sum the missing values "
   ]
  },
  {
   "cell_type": "code",
<<<<<<< Updated upstream
   "execution_count": null,
   "metadata": {},
   "outputs": [],
   "source": []
=======
   "execution_count": 12,
   "metadata": {
    "ExecuteTime": {
     "end_time": "2020-06-23T18:02:21.237091Z",
     "start_time": "2020-06-23T18:02:21.223767Z"
    }
   },
   "outputs": [
    {
     "data": {
      "text/plain": [
       "rank                  0\n",
       "genre                 0\n",
       "description           0\n",
       "director              0\n",
       "actors                0\n",
       "year                  0\n",
       "runtime_minutes       0\n",
       "rating                0\n",
       "votes                 0\n",
       "revenue_millions    128\n",
       "metascore            64\n",
       "dtype: int64"
      ]
     },
     "execution_count": 12,
     "metadata": {},
     "output_type": "execute_result"
    }
   ],
   "source": [
    "df.isna().sum()"
   ]
>>>>>>> Stashed changes
  },
  {
   "cell_type": "markdown",
   "metadata": {},
   "source": [
    "## Deal with missing values by dropping or make an argument for substitution "
   ]
  },
  {
   "cell_type": "code",
<<<<<<< Updated upstream
   "execution_count": null,
   "metadata": {},
   "outputs": [],
   "source": []
=======
   "execution_count": 14,
   "metadata": {
    "ExecuteTime": {
     "end_time": "2020-06-23T18:15:34.033458Z",
     "start_time": "2020-06-23T18:15:34.020197Z"
    }
   },
   "outputs": [],
   "source": [
    "df.dropna(inplace=True)"
   ]
>>>>>>> Stashed changes
  },
  {
   "cell_type": "markdown",
   "metadata": {},
   "source": [
    "## Use a conditional to filter out the movies with a 9.0 rating or higher "
   ]
  },
  {
   "cell_type": "code",
<<<<<<< Updated upstream
   "execution_count": null,
   "metadata": {},
   "outputs": [],
   "source": []
=======
   "execution_count": 16,
   "metadata": {
    "ExecuteTime": {
     "end_time": "2020-06-23T18:23:37.996292Z",
     "start_time": "2020-06-23T18:23:37.972777Z"
    }
   },
   "outputs": [
    {
     "data": {
      "text/html": [
       "<div>\n",
       "<style scoped>\n",
       "    .dataframe tbody tr th:only-of-type {\n",
       "        vertical-align: middle;\n",
       "    }\n",
       "\n",
       "    .dataframe tbody tr th {\n",
       "        vertical-align: top;\n",
       "    }\n",
       "\n",
       "    .dataframe thead th {\n",
       "        text-align: right;\n",
       "    }\n",
       "</style>\n",
       "<table border=\"1\" class=\"dataframe\">\n",
       "  <thead>\n",
       "    <tr style=\"text-align: right;\">\n",
       "      <th></th>\n",
       "      <th>rank</th>\n",
       "      <th>genre</th>\n",
       "      <th>description</th>\n",
       "      <th>director</th>\n",
       "      <th>actors</th>\n",
       "      <th>year</th>\n",
       "      <th>runtime_minutes</th>\n",
       "      <th>rating</th>\n",
       "      <th>votes</th>\n",
       "      <th>revenue_millions</th>\n",
       "      <th>metascore</th>\n",
       "    </tr>\n",
       "    <tr>\n",
       "      <th>Title</th>\n",
       "      <th></th>\n",
       "      <th></th>\n",
       "      <th></th>\n",
       "      <th></th>\n",
       "      <th></th>\n",
       "      <th></th>\n",
       "      <th></th>\n",
       "      <th></th>\n",
       "      <th></th>\n",
       "      <th></th>\n",
       "      <th></th>\n",
       "    </tr>\n",
       "  </thead>\n",
       "  <tbody>\n",
       "    <tr>\n",
       "      <td>The Dark Knight</td>\n",
       "      <td>55</td>\n",
       "      <td>Action,Crime,Drama</td>\n",
       "      <td>When the menace known as the Joker wreaks havo...</td>\n",
       "      <td>Christopher Nolan</td>\n",
       "      <td>Christian Bale, Heath Ledger, Aaron Eckhart,Mi...</td>\n",
       "      <td>2008</td>\n",
       "      <td>152</td>\n",
       "      <td>9.0</td>\n",
       "      <td>1791916</td>\n",
       "      <td>533.32</td>\n",
       "      <td>82.0</td>\n",
       "    </tr>\n",
       "  </tbody>\n",
       "</table>\n",
       "</div>"
      ],
      "text/plain": [
       "                 rank               genre  \\\n",
       "Title                                       \n",
       "The Dark Knight    55  Action,Crime,Drama   \n",
       "\n",
       "                                                       description  \\\n",
       "Title                                                                \n",
       "The Dark Knight  When the menace known as the Joker wreaks havo...   \n",
       "\n",
       "                          director  \\\n",
       "Title                                \n",
       "The Dark Knight  Christopher Nolan   \n",
       "\n",
       "                                                            actors  year  \\\n",
       "Title                                                                      \n",
       "The Dark Knight  Christian Bale, Heath Ledger, Aaron Eckhart,Mi...  2008   \n",
       "\n",
       "                 runtime_minutes  rating    votes  revenue_millions  metascore  \n",
       "Title                                                                           \n",
       "The Dark Knight              152     9.0  1791916            533.32       82.0  "
      ]
     },
     "execution_count": 16,
     "metadata": {},
     "output_type": "execute_result"
    }
   ],
   "source": [
    "df_nine_and_above = df[df.rating >= 9.0]\n",
    "df_nine_and_above.head()"
   ]
>>>>>>> Stashed changes
  },
  {
   "cell_type": "markdown",
   "metadata": {},
   "source": [
    "## Filter the the DataFrame to show only movies by Christopher Nolan OR Ridley Scott"
   ]
  },
  {
   "cell_type": "code",
<<<<<<< Updated upstream
   "execution_count": null,
   "metadata": {},
   "outputs": [],
   "source": []
=======
   "execution_count": 17,
   "metadata": {
    "ExecuteTime": {
     "end_time": "2020-06-23T18:32:19.390069Z",
     "start_time": "2020-06-23T18:32:19.352436Z"
    }
   },
   "outputs": [
    {
     "data": {
      "text/html": [
       "<div>\n",
       "<style scoped>\n",
       "    .dataframe tbody tr th:only-of-type {\n",
       "        vertical-align: middle;\n",
       "    }\n",
       "\n",
       "    .dataframe tbody tr th {\n",
       "        vertical-align: top;\n",
       "    }\n",
       "\n",
       "    .dataframe thead th {\n",
       "        text-align: right;\n",
       "    }\n",
       "</style>\n",
       "<table border=\"1\" class=\"dataframe\">\n",
       "  <thead>\n",
       "    <tr style=\"text-align: right;\">\n",
       "      <th></th>\n",
       "      <th>rank</th>\n",
       "      <th>genre</th>\n",
       "      <th>description</th>\n",
       "      <th>director</th>\n",
       "      <th>actors</th>\n",
       "      <th>year</th>\n",
       "      <th>runtime_minutes</th>\n",
       "      <th>rating</th>\n",
       "      <th>votes</th>\n",
       "      <th>revenue_millions</th>\n",
       "      <th>metascore</th>\n",
       "    </tr>\n",
       "    <tr>\n",
       "      <th>Title</th>\n",
       "      <th></th>\n",
       "      <th></th>\n",
       "      <th></th>\n",
       "      <th></th>\n",
       "      <th></th>\n",
       "      <th></th>\n",
       "      <th></th>\n",
       "      <th></th>\n",
       "      <th></th>\n",
       "      <th></th>\n",
       "      <th></th>\n",
       "    </tr>\n",
       "  </thead>\n",
       "  <tbody>\n",
       "    <tr>\n",
       "      <td>Prometheus</td>\n",
       "      <td>2</td>\n",
       "      <td>Adventure,Mystery,Sci-Fi</td>\n",
       "      <td>Following clues to the origin of mankind, a te...</td>\n",
       "      <td>Ridley Scott</td>\n",
       "      <td>Noomi Rapace, Logan Marshall-Green, Michael Fa...</td>\n",
       "      <td>2012</td>\n",
       "      <td>124</td>\n",
       "      <td>7.0</td>\n",
       "      <td>485820</td>\n",
       "      <td>126.46</td>\n",
       "      <td>65.0</td>\n",
       "    </tr>\n",
       "    <tr>\n",
       "      <td>Interstellar</td>\n",
       "      <td>37</td>\n",
       "      <td>Adventure,Drama,Sci-Fi</td>\n",
       "      <td>A team of explorers travel through a wormhole ...</td>\n",
       "      <td>Christopher Nolan</td>\n",
       "      <td>Matthew McConaughey, Anne Hathaway, Jessica Ch...</td>\n",
       "      <td>2014</td>\n",
       "      <td>169</td>\n",
       "      <td>8.6</td>\n",
       "      <td>1047747</td>\n",
       "      <td>187.99</td>\n",
       "      <td>74.0</td>\n",
       "    </tr>\n",
       "    <tr>\n",
       "      <td>The Dark Knight</td>\n",
       "      <td>55</td>\n",
       "      <td>Action,Crime,Drama</td>\n",
       "      <td>When the menace known as the Joker wreaks havo...</td>\n",
       "      <td>Christopher Nolan</td>\n",
       "      <td>Christian Bale, Heath Ledger, Aaron Eckhart,Mi...</td>\n",
       "      <td>2008</td>\n",
       "      <td>152</td>\n",
       "      <td>9.0</td>\n",
       "      <td>1791916</td>\n",
       "      <td>533.32</td>\n",
       "      <td>82.0</td>\n",
       "    </tr>\n",
       "    <tr>\n",
       "      <td>The Prestige</td>\n",
       "      <td>65</td>\n",
       "      <td>Drama,Mystery,Sci-Fi</td>\n",
       "      <td>Two stage magicians engage in competitive one-...</td>\n",
       "      <td>Christopher Nolan</td>\n",
       "      <td>Christian Bale, Hugh Jackman, Scarlett Johanss...</td>\n",
       "      <td>2006</td>\n",
       "      <td>130</td>\n",
       "      <td>8.5</td>\n",
       "      <td>913152</td>\n",
       "      <td>53.08</td>\n",
       "      <td>66.0</td>\n",
       "    </tr>\n",
       "    <tr>\n",
       "      <td>Inception</td>\n",
       "      <td>81</td>\n",
       "      <td>Action,Adventure,Sci-Fi</td>\n",
       "      <td>A thief, who steals corporate secrets through ...</td>\n",
       "      <td>Christopher Nolan</td>\n",
       "      <td>Leonardo DiCaprio, Joseph Gordon-Levitt, Ellen...</td>\n",
       "      <td>2010</td>\n",
       "      <td>148</td>\n",
       "      <td>8.8</td>\n",
       "      <td>1583625</td>\n",
       "      <td>292.57</td>\n",
       "      <td>74.0</td>\n",
       "    </tr>\n",
       "    <tr>\n",
       "      <td>The Martian</td>\n",
       "      <td>103</td>\n",
       "      <td>Adventure,Drama,Sci-Fi</td>\n",
       "      <td>An astronaut becomes stranded on Mars after hi...</td>\n",
       "      <td>Ridley Scott</td>\n",
       "      <td>Matt Damon, Jessica Chastain, Kristen Wiig, Ka...</td>\n",
       "      <td>2015</td>\n",
       "      <td>144</td>\n",
       "      <td>8.0</td>\n",
       "      <td>556097</td>\n",
       "      <td>228.43</td>\n",
       "      <td>80.0</td>\n",
       "    </tr>\n",
       "    <tr>\n",
       "      <td>The Dark Knight Rises</td>\n",
       "      <td>125</td>\n",
       "      <td>Action,Thriller</td>\n",
       "      <td>Eight years after the Joker's reign of anarchy...</td>\n",
       "      <td>Christopher Nolan</td>\n",
       "      <td>Christian Bale, Tom Hardy, Anne Hathaway,Gary ...</td>\n",
       "      <td>2012</td>\n",
       "      <td>164</td>\n",
       "      <td>8.5</td>\n",
       "      <td>1222645</td>\n",
       "      <td>448.13</td>\n",
       "      <td>78.0</td>\n",
       "    </tr>\n",
       "    <tr>\n",
       "      <td>Robin Hood</td>\n",
       "      <td>388</td>\n",
       "      <td>Action,Adventure,Drama</td>\n",
       "      <td>In 12th century England, Robin and his band of...</td>\n",
       "      <td>Ridley Scott</td>\n",
       "      <td>Russell Crowe, Cate Blanchett, Matthew Macfady...</td>\n",
       "      <td>2010</td>\n",
       "      <td>140</td>\n",
       "      <td>6.7</td>\n",
       "      <td>221117</td>\n",
       "      <td>105.22</td>\n",
       "      <td>53.0</td>\n",
       "    </tr>\n",
       "    <tr>\n",
       "      <td>American Gangster</td>\n",
       "      <td>471</td>\n",
       "      <td>Biography,Crime,Drama</td>\n",
       "      <td>In 1970s America, a detective works to bring d...</td>\n",
       "      <td>Ridley Scott</td>\n",
       "      <td>Denzel Washington, Russell Crowe, Chiwetel Eji...</td>\n",
       "      <td>2007</td>\n",
       "      <td>157</td>\n",
       "      <td>7.8</td>\n",
       "      <td>337835</td>\n",
       "      <td>130.13</td>\n",
       "      <td>76.0</td>\n",
       "    </tr>\n",
       "    <tr>\n",
       "      <td>Exodus: Gods and Kings</td>\n",
       "      <td>517</td>\n",
       "      <td>Action,Adventure,Drama</td>\n",
       "      <td>The defiant leader Moses rises up against the ...</td>\n",
       "      <td>Ridley Scott</td>\n",
       "      <td>Christian Bale, Joel Edgerton, Ben Kingsley, S...</td>\n",
       "      <td>2014</td>\n",
       "      <td>150</td>\n",
       "      <td>6.0</td>\n",
       "      <td>137299</td>\n",
       "      <td>65.01</td>\n",
       "      <td>52.0</td>\n",
       "    </tr>\n",
       "    <tr>\n",
       "      <td>The Counselor</td>\n",
       "      <td>522</td>\n",
       "      <td>Crime,Drama,Thriller</td>\n",
       "      <td>A lawyer finds himself in over his head when h...</td>\n",
       "      <td>Ridley Scott</td>\n",
       "      <td>Michael Fassbender, Penélope Cruz, Cameron Dia...</td>\n",
       "      <td>2013</td>\n",
       "      <td>117</td>\n",
       "      <td>5.3</td>\n",
       "      <td>84927</td>\n",
       "      <td>16.97</td>\n",
       "      <td>48.0</td>\n",
       "    </tr>\n",
       "    <tr>\n",
       "      <td>A Good Year</td>\n",
       "      <td>531</td>\n",
       "      <td>Comedy,Drama,Romance</td>\n",
       "      <td>A British investment broker inherits his uncle...</td>\n",
       "      <td>Ridley Scott</td>\n",
       "      <td>Russell Crowe, Abbie Cornish, Albert Finney, M...</td>\n",
       "      <td>2006</td>\n",
       "      <td>117</td>\n",
       "      <td>6.9</td>\n",
       "      <td>74674</td>\n",
       "      <td>7.46</td>\n",
       "      <td>47.0</td>\n",
       "    </tr>\n",
       "    <tr>\n",
       "      <td>Body of Lies</td>\n",
       "      <td>738</td>\n",
       "      <td>Action,Drama,Romance</td>\n",
       "      <td>A CIA agent on the ground in Jordan hunts down...</td>\n",
       "      <td>Ridley Scott</td>\n",
       "      <td>Leonardo DiCaprio, Russell Crowe, Mark Strong,...</td>\n",
       "      <td>2008</td>\n",
       "      <td>128</td>\n",
       "      <td>7.1</td>\n",
       "      <td>182305</td>\n",
       "      <td>39.38</td>\n",
       "      <td>57.0</td>\n",
       "    </tr>\n",
       "  </tbody>\n",
       "</table>\n",
       "</div>"
      ],
      "text/plain": [
       "                        rank                     genre  \\\n",
       "Title                                                    \n",
       "Prometheus                 2  Adventure,Mystery,Sci-Fi   \n",
       "Interstellar              37    Adventure,Drama,Sci-Fi   \n",
       "The Dark Knight           55        Action,Crime,Drama   \n",
       "The Prestige              65      Drama,Mystery,Sci-Fi   \n",
       "Inception                 81   Action,Adventure,Sci-Fi   \n",
       "The Martian              103    Adventure,Drama,Sci-Fi   \n",
       "The Dark Knight Rises    125           Action,Thriller   \n",
       "Robin Hood               388    Action,Adventure,Drama   \n",
       "American Gangster        471     Biography,Crime,Drama   \n",
       "Exodus: Gods and Kings   517    Action,Adventure,Drama   \n",
       "The Counselor            522      Crime,Drama,Thriller   \n",
       "A Good Year              531      Comedy,Drama,Romance   \n",
       "Body of Lies             738      Action,Drama,Romance   \n",
       "\n",
       "                                                              description  \\\n",
       "Title                                                                       \n",
       "Prometheus              Following clues to the origin of mankind, a te...   \n",
       "Interstellar            A team of explorers travel through a wormhole ...   \n",
       "The Dark Knight         When the menace known as the Joker wreaks havo...   \n",
       "The Prestige            Two stage magicians engage in competitive one-...   \n",
       "Inception               A thief, who steals corporate secrets through ...   \n",
       "The Martian             An astronaut becomes stranded on Mars after hi...   \n",
       "The Dark Knight Rises   Eight years after the Joker's reign of anarchy...   \n",
       "Robin Hood              In 12th century England, Robin and his band of...   \n",
       "American Gangster       In 1970s America, a detective works to bring d...   \n",
       "Exodus: Gods and Kings  The defiant leader Moses rises up against the ...   \n",
       "The Counselor           A lawyer finds himself in over his head when h...   \n",
       "A Good Year             A British investment broker inherits his uncle...   \n",
       "Body of Lies            A CIA agent on the ground in Jordan hunts down...   \n",
       "\n",
       "                                 director  \\\n",
       "Title                                       \n",
       "Prometheus                   Ridley Scott   \n",
       "Interstellar            Christopher Nolan   \n",
       "The Dark Knight         Christopher Nolan   \n",
       "The Prestige            Christopher Nolan   \n",
       "Inception               Christopher Nolan   \n",
       "The Martian                  Ridley Scott   \n",
       "The Dark Knight Rises   Christopher Nolan   \n",
       "Robin Hood                   Ridley Scott   \n",
       "American Gangster            Ridley Scott   \n",
       "Exodus: Gods and Kings       Ridley Scott   \n",
       "The Counselor                Ridley Scott   \n",
       "A Good Year                  Ridley Scott   \n",
       "Body of Lies                 Ridley Scott   \n",
       "\n",
       "                                                                   actors  \\\n",
       "Title                                                                       \n",
       "Prometheus              Noomi Rapace, Logan Marshall-Green, Michael Fa...   \n",
       "Interstellar            Matthew McConaughey, Anne Hathaway, Jessica Ch...   \n",
       "The Dark Knight         Christian Bale, Heath Ledger, Aaron Eckhart,Mi...   \n",
       "The Prestige            Christian Bale, Hugh Jackman, Scarlett Johanss...   \n",
       "Inception               Leonardo DiCaprio, Joseph Gordon-Levitt, Ellen...   \n",
       "The Martian             Matt Damon, Jessica Chastain, Kristen Wiig, Ka...   \n",
       "The Dark Knight Rises   Christian Bale, Tom Hardy, Anne Hathaway,Gary ...   \n",
       "Robin Hood              Russell Crowe, Cate Blanchett, Matthew Macfady...   \n",
       "American Gangster       Denzel Washington, Russell Crowe, Chiwetel Eji...   \n",
       "Exodus: Gods and Kings  Christian Bale, Joel Edgerton, Ben Kingsley, S...   \n",
       "The Counselor           Michael Fassbender, Penélope Cruz, Cameron Dia...   \n",
       "A Good Year             Russell Crowe, Abbie Cornish, Albert Finney, M...   \n",
       "Body of Lies            Leonardo DiCaprio, Russell Crowe, Mark Strong,...   \n",
       "\n",
       "                        year  runtime_minutes  rating    votes  \\\n",
       "Title                                                            \n",
       "Prometheus              2012              124     7.0   485820   \n",
       "Interstellar            2014              169     8.6  1047747   \n",
       "The Dark Knight         2008              152     9.0  1791916   \n",
       "The Prestige            2006              130     8.5   913152   \n",
       "Inception               2010              148     8.8  1583625   \n",
       "The Martian             2015              144     8.0   556097   \n",
       "The Dark Knight Rises   2012              164     8.5  1222645   \n",
       "Robin Hood              2010              140     6.7   221117   \n",
       "American Gangster       2007              157     7.8   337835   \n",
       "Exodus: Gods and Kings  2014              150     6.0   137299   \n",
       "The Counselor           2013              117     5.3    84927   \n",
       "A Good Year             2006              117     6.9    74674   \n",
       "Body of Lies            2008              128     7.1   182305   \n",
       "\n",
       "                        revenue_millions  metascore  \n",
       "Title                                                \n",
       "Prometheus                        126.46       65.0  \n",
       "Interstellar                      187.99       74.0  \n",
       "The Dark Knight                   533.32       82.0  \n",
       "The Prestige                       53.08       66.0  \n",
       "Inception                         292.57       74.0  \n",
       "The Martian                       228.43       80.0  \n",
       "The Dark Knight Rises             448.13       78.0  \n",
       "Robin Hood                        105.22       53.0  \n",
       "American Gangster                 130.13       76.0  \n",
       "Exodus: Gods and Kings             65.01       52.0  \n",
       "The Counselor                      16.97       48.0  \n",
       "A Good Year                         7.46       47.0  \n",
       "Body of Lies                       39.38       57.0  "
      ]
     },
     "execution_count": 17,
     "metadata": {},
     "output_type": "execute_result"
    }
   ],
   "source": [
    "df[(df.director == 'Christopher Nolan') | (df.director == 'Ridley Scott')]"
   ]
>>>>>>> Stashed changes
  },
  {
   "cell_type": "markdown",
   "metadata": {},
   "source": [
    "## BONUS Question\n",
    "### Filter all movies that were released between 2005 and 2010, have a rating above 8.0, but made below the 25th percentile in revenue."
   ]
  },
  {
   "cell_type": "code",
<<<<<<< Updated upstream
   "execution_count": null,
   "metadata": {},
   "outputs": [],
   "source": []
=======
   "execution_count": 18,
   "metadata": {
    "ExecuteTime": {
     "end_time": "2020-06-23T18:37:07.279060Z",
     "start_time": "2020-06-23T18:37:07.234013Z"
    }
   },
   "outputs": [
    {
     "data": {
      "text/html": [
       "<div>\n",
       "<style scoped>\n",
       "    .dataframe tbody tr th:only-of-type {\n",
       "        vertical-align: middle;\n",
       "    }\n",
       "\n",
       "    .dataframe tbody tr th {\n",
       "        vertical-align: top;\n",
       "    }\n",
       "\n",
       "    .dataframe thead th {\n",
       "        text-align: right;\n",
       "    }\n",
       "</style>\n",
       "<table border=\"1\" class=\"dataframe\">\n",
       "  <thead>\n",
       "    <tr style=\"text-align: right;\">\n",
       "      <th></th>\n",
       "      <th>rank</th>\n",
       "      <th>genre</th>\n",
       "      <th>description</th>\n",
       "      <th>director</th>\n",
       "      <th>actors</th>\n",
       "      <th>year</th>\n",
       "      <th>runtime_minutes</th>\n",
       "      <th>rating</th>\n",
       "      <th>votes</th>\n",
       "      <th>revenue_millions</th>\n",
       "      <th>metascore</th>\n",
       "    </tr>\n",
       "    <tr>\n",
       "      <th>Title</th>\n",
       "      <th></th>\n",
       "      <th></th>\n",
       "      <th></th>\n",
       "      <th></th>\n",
       "      <th></th>\n",
       "      <th></th>\n",
       "      <th></th>\n",
       "      <th></th>\n",
       "      <th></th>\n",
       "      <th></th>\n",
       "      <th></th>\n",
       "    </tr>\n",
       "  </thead>\n",
       "  <tbody>\n",
       "    <tr>\n",
       "      <td>3 Idiots</td>\n",
       "      <td>431</td>\n",
       "      <td>Comedy,Drama</td>\n",
       "      <td>Two friends are searching for their long lost ...</td>\n",
       "      <td>Rajkumar Hirani</td>\n",
       "      <td>Aamir Khan, Madhavan, Mona Singh, Sharman Joshi</td>\n",
       "      <td>2009</td>\n",
       "      <td>170</td>\n",
       "      <td>8.4</td>\n",
       "      <td>238789</td>\n",
       "      <td>6.52</td>\n",
       "      <td>67.0</td>\n",
       "    </tr>\n",
       "    <tr>\n",
       "      <td>The Lives of Others</td>\n",
       "      <td>477</td>\n",
       "      <td>Drama,Thriller</td>\n",
       "      <td>In 1984 East Berlin, an agent of the secret po...</td>\n",
       "      <td>Florian Henckel von Donnersmarck</td>\n",
       "      <td>Ulrich Mühe, Martina Gedeck,Sebastian Koch, Ul...</td>\n",
       "      <td>2006</td>\n",
       "      <td>137</td>\n",
       "      <td>8.5</td>\n",
       "      <td>278103</td>\n",
       "      <td>11.28</td>\n",
       "      <td>89.0</td>\n",
       "    </tr>\n",
       "    <tr>\n",
       "      <td>Incendies</td>\n",
       "      <td>714</td>\n",
       "      <td>Drama,Mystery,War</td>\n",
       "      <td>Twins journey to the Middle East to discover t...</td>\n",
       "      <td>Denis Villeneuve</td>\n",
       "      <td>Lubna Azabal, Mélissa Désormeaux-Poulin, Maxim...</td>\n",
       "      <td>2010</td>\n",
       "      <td>131</td>\n",
       "      <td>8.2</td>\n",
       "      <td>92863</td>\n",
       "      <td>6.86</td>\n",
       "      <td>80.0</td>\n",
       "    </tr>\n",
       "    <tr>\n",
       "      <td>Taare Zameen Par</td>\n",
       "      <td>992</td>\n",
       "      <td>Drama,Family,Music</td>\n",
       "      <td>An eight-year-old boy is thought to be a lazy ...</td>\n",
       "      <td>Aamir Khan</td>\n",
       "      <td>Darsheel Safary, Aamir Khan, Tanay Chheda, Sac...</td>\n",
       "      <td>2007</td>\n",
       "      <td>165</td>\n",
       "      <td>8.5</td>\n",
       "      <td>102697</td>\n",
       "      <td>1.20</td>\n",
       "      <td>42.0</td>\n",
       "    </tr>\n",
       "  </tbody>\n",
       "</table>\n",
       "</div>"
      ],
      "text/plain": [
       "                     rank               genre  \\\n",
       "Title                                           \n",
       "3 Idiots              431        Comedy,Drama   \n",
       "The Lives of Others   477      Drama,Thriller   \n",
       "Incendies             714   Drama,Mystery,War   \n",
       "Taare Zameen Par      992  Drama,Family,Music   \n",
       "\n",
       "                                                           description  \\\n",
       "Title                                                                    \n",
       "3 Idiots             Two friends are searching for their long lost ...   \n",
       "The Lives of Others  In 1984 East Berlin, an agent of the secret po...   \n",
       "Incendies            Twins journey to the Middle East to discover t...   \n",
       "Taare Zameen Par     An eight-year-old boy is thought to be a lazy ...   \n",
       "\n",
       "                                             director  \\\n",
       "Title                                                   \n",
       "3 Idiots                              Rajkumar Hirani   \n",
       "The Lives of Others  Florian Henckel von Donnersmarck   \n",
       "Incendies                            Denis Villeneuve   \n",
       "Taare Zameen Par                           Aamir Khan   \n",
       "\n",
       "                                                                actors  year  \\\n",
       "Title                                                                          \n",
       "3 Idiots               Aamir Khan, Madhavan, Mona Singh, Sharman Joshi  2009   \n",
       "The Lives of Others  Ulrich Mühe, Martina Gedeck,Sebastian Koch, Ul...  2006   \n",
       "Incendies            Lubna Azabal, Mélissa Désormeaux-Poulin, Maxim...  2010   \n",
       "Taare Zameen Par     Darsheel Safary, Aamir Khan, Tanay Chheda, Sac...  2007   \n",
       "\n",
       "                     runtime_minutes  rating   votes  revenue_millions  \\\n",
       "Title                                                                    \n",
       "3 Idiots                         170     8.4  238789              6.52   \n",
       "The Lives of Others              137     8.5  278103             11.28   \n",
       "Incendies                        131     8.2   92863              6.86   \n",
       "Taare Zameen Par                 165     8.5  102697              1.20   \n",
       "\n",
       "                     metascore  \n",
       "Title                           \n",
       "3 Idiots                  67.0  \n",
       "The Lives of Others       89.0  \n",
       "Incendies                 80.0  \n",
       "Taare Zameen Par          42.0  "
      ]
     },
     "execution_count": 18,
     "metadata": {},
     "output_type": "execute_result"
    }
   ],
   "source": [
    "df[((df.year >= 2005) & (df.year <= 2010)) & (df.rating > 8.0) & (df.revenue_millions < df.revenue_millions.quantile(.25))]"
   ]
>>>>>>> Stashed changes
  },
  {
   "cell_type": "markdown",
   "metadata": {},
   "source": [
    "## Write a function that converts movies with an 8.0 or greater rating to a string value of \"good\" and the rest to \"bad\" and use these transformed values to create a new column titled \"New_Ratings\""
   ]
  },
  {
   "cell_type": "code",
<<<<<<< Updated upstream
   "execution_count": null,
   "metadata": {},
   "outputs": [],
   "source": []
=======
   "execution_count": 21,
   "metadata": {
    "ExecuteTime": {
     "end_time": "2020-06-23T19:04:19.185435Z",
     "start_time": "2020-06-23T19:04:19.179654Z"
    }
   },
   "outputs": [],
   "source": [
    "def verbal_rating(data):\n",
    "    data.loc[data.rating >= 8, 'New_Ratings'] = 'good'\n",
    "    data.loc[data.rating < 8, 'New_Ratings'] = 'bad'\n",
    "    "
   ]
  },
  {
   "cell_type": "code",
   "execution_count": 22,
   "metadata": {
    "ExecuteTime": {
     "end_time": "2020-06-23T19:04:20.946354Z",
     "start_time": "2020-06-23T19:04:20.899097Z"
    }
   },
   "outputs": [
    {
     "data": {
      "text/html": [
       "<div>\n",
       "<style scoped>\n",
       "    .dataframe tbody tr th:only-of-type {\n",
       "        vertical-align: middle;\n",
       "    }\n",
       "\n",
       "    .dataframe tbody tr th {\n",
       "        vertical-align: top;\n",
       "    }\n",
       "\n",
       "    .dataframe thead th {\n",
       "        text-align: right;\n",
       "    }\n",
       "</style>\n",
       "<table border=\"1\" class=\"dataframe\">\n",
       "  <thead>\n",
       "    <tr style=\"text-align: right;\">\n",
       "      <th></th>\n",
       "      <th>rank</th>\n",
       "      <th>genre</th>\n",
       "      <th>description</th>\n",
       "      <th>director</th>\n",
       "      <th>actors</th>\n",
       "      <th>year</th>\n",
       "      <th>runtime_minutes</th>\n",
       "      <th>rating</th>\n",
       "      <th>votes</th>\n",
       "      <th>revenue_millions</th>\n",
       "      <th>metascore</th>\n",
       "      <th>New_Ratings</th>\n",
       "    </tr>\n",
       "    <tr>\n",
       "      <th>Title</th>\n",
       "      <th></th>\n",
       "      <th></th>\n",
       "      <th></th>\n",
       "      <th></th>\n",
       "      <th></th>\n",
       "      <th></th>\n",
       "      <th></th>\n",
       "      <th></th>\n",
       "      <th></th>\n",
       "      <th></th>\n",
       "      <th></th>\n",
       "      <th></th>\n",
       "    </tr>\n",
       "  </thead>\n",
       "  <tbody>\n",
       "    <tr>\n",
       "      <td>Guardians of the Galaxy</td>\n",
       "      <td>1</td>\n",
       "      <td>Action,Adventure,Sci-Fi</td>\n",
       "      <td>A group of intergalactic criminals are forced ...</td>\n",
       "      <td>James Gunn</td>\n",
       "      <td>Chris Pratt, Vin Diesel, Bradley Cooper, Zoe S...</td>\n",
       "      <td>2014</td>\n",
       "      <td>121</td>\n",
       "      <td>8.1</td>\n",
       "      <td>757074</td>\n",
       "      <td>333.13</td>\n",
       "      <td>76.0</td>\n",
       "      <td>good</td>\n",
       "    </tr>\n",
       "    <tr>\n",
       "      <td>Prometheus</td>\n",
       "      <td>2</td>\n",
       "      <td>Adventure,Mystery,Sci-Fi</td>\n",
       "      <td>Following clues to the origin of mankind, a te...</td>\n",
       "      <td>Ridley Scott</td>\n",
       "      <td>Noomi Rapace, Logan Marshall-Green, Michael Fa...</td>\n",
       "      <td>2012</td>\n",
       "      <td>124</td>\n",
       "      <td>7.0</td>\n",
       "      <td>485820</td>\n",
       "      <td>126.46</td>\n",
       "      <td>65.0</td>\n",
       "      <td>bad</td>\n",
       "    </tr>\n",
       "    <tr>\n",
       "      <td>Split</td>\n",
       "      <td>3</td>\n",
       "      <td>Horror,Thriller</td>\n",
       "      <td>Three girls are kidnapped by a man with a diag...</td>\n",
       "      <td>M. Night Shyamalan</td>\n",
       "      <td>James McAvoy, Anya Taylor-Joy, Haley Lu Richar...</td>\n",
       "      <td>2016</td>\n",
       "      <td>117</td>\n",
       "      <td>7.3</td>\n",
       "      <td>157606</td>\n",
       "      <td>138.12</td>\n",
       "      <td>62.0</td>\n",
       "      <td>bad</td>\n",
       "    </tr>\n",
       "    <tr>\n",
       "      <td>Sing</td>\n",
       "      <td>4</td>\n",
       "      <td>Animation,Comedy,Family</td>\n",
       "      <td>In a city of humanoid animals, a hustling thea...</td>\n",
       "      <td>Christophe Lourdelet</td>\n",
       "      <td>Matthew McConaughey,Reese Witherspoon, Seth Ma...</td>\n",
       "      <td>2016</td>\n",
       "      <td>108</td>\n",
       "      <td>7.2</td>\n",
       "      <td>60545</td>\n",
       "      <td>270.32</td>\n",
       "      <td>59.0</td>\n",
       "      <td>bad</td>\n",
       "    </tr>\n",
       "    <tr>\n",
       "      <td>Suicide Squad</td>\n",
       "      <td>5</td>\n",
       "      <td>Action,Adventure,Fantasy</td>\n",
       "      <td>A secret government agency recruits some of th...</td>\n",
       "      <td>David Ayer</td>\n",
       "      <td>Will Smith, Jared Leto, Margot Robbie, Viola D...</td>\n",
       "      <td>2016</td>\n",
       "      <td>123</td>\n",
       "      <td>6.2</td>\n",
       "      <td>393727</td>\n",
       "      <td>325.02</td>\n",
       "      <td>40.0</td>\n",
       "      <td>bad</td>\n",
       "    </tr>\n",
       "  </tbody>\n",
       "</table>\n",
       "</div>"
      ],
      "text/plain": [
       "                         rank                     genre  \\\n",
       "Title                                                     \n",
       "Guardians of the Galaxy     1   Action,Adventure,Sci-Fi   \n",
       "Prometheus                  2  Adventure,Mystery,Sci-Fi   \n",
       "Split                       3           Horror,Thriller   \n",
       "Sing                        4   Animation,Comedy,Family   \n",
       "Suicide Squad               5  Action,Adventure,Fantasy   \n",
       "\n",
       "                                                               description  \\\n",
       "Title                                                                        \n",
       "Guardians of the Galaxy  A group of intergalactic criminals are forced ...   \n",
       "Prometheus               Following clues to the origin of mankind, a te...   \n",
       "Split                    Three girls are kidnapped by a man with a diag...   \n",
       "Sing                     In a city of humanoid animals, a hustling thea...   \n",
       "Suicide Squad            A secret government agency recruits some of th...   \n",
       "\n",
       "                                     director  \\\n",
       "Title                                           \n",
       "Guardians of the Galaxy            James Gunn   \n",
       "Prometheus                       Ridley Scott   \n",
       "Split                      M. Night Shyamalan   \n",
       "Sing                     Christophe Lourdelet   \n",
       "Suicide Squad                      David Ayer   \n",
       "\n",
       "                                                                    actors  \\\n",
       "Title                                                                        \n",
       "Guardians of the Galaxy  Chris Pratt, Vin Diesel, Bradley Cooper, Zoe S...   \n",
       "Prometheus               Noomi Rapace, Logan Marshall-Green, Michael Fa...   \n",
       "Split                    James McAvoy, Anya Taylor-Joy, Haley Lu Richar...   \n",
       "Sing                     Matthew McConaughey,Reese Witherspoon, Seth Ma...   \n",
       "Suicide Squad            Will Smith, Jared Leto, Margot Robbie, Viola D...   \n",
       "\n",
       "                         year  runtime_minutes  rating   votes  \\\n",
       "Title                                                            \n",
       "Guardians of the Galaxy  2014              121     8.1  757074   \n",
       "Prometheus               2012              124     7.0  485820   \n",
       "Split                    2016              117     7.3  157606   \n",
       "Sing                     2016              108     7.2   60545   \n",
       "Suicide Squad            2016              123     6.2  393727   \n",
       "\n",
       "                         revenue_millions  metascore New_Ratings  \n",
       "Title                                                             \n",
       "Guardians of the Galaxy            333.13       76.0        good  \n",
       "Prometheus                         126.46       65.0         bad  \n",
       "Split                              138.12       62.0         bad  \n",
       "Sing                               270.32       59.0         bad  \n",
       "Suicide Squad                      325.02       40.0         bad  "
      ]
     },
     "execution_count": 22,
     "metadata": {},
     "output_type": "execute_result"
    }
   ],
   "source": [
    "verbal_rating(df)\n",
    "df.head()"
   ]
>>>>>>> Stashed changes
  },
  {
   "cell_type": "markdown",
   "metadata": {},
   "source": [
    "# Plotting \n",
    "**Tip: For categorical variables utilize Bar Charts and Boxplots. For continuous variables utilize Histograms, Scatterplots, Line graphs, and Boxplots.**"
   ]
  },
  {
   "cell_type": "markdown",
   "metadata": {},
   "source": [
    "## Plot the relationship between ratings and revenue using .plot() or .scatter()"
   ]
  },
  {
   "cell_type": "code",
<<<<<<< Updated upstream
   "execution_count": null,
   "metadata": {},
   "outputs": [],
   "source": []
=======
   "execution_count": 24,
   "metadata": {
    "ExecuteTime": {
     "end_time": "2020-06-23T19:51:06.279445Z",
     "start_time": "2020-06-23T19:51:05.958689Z"
    }
   },
   "outputs": [
    {
     "data": {
      "text/plain": [
       "Text(0, 0.5, 'Revenue in millions of dollars')"
      ]
     },
     "execution_count": 24,
     "metadata": {},
     "output_type": "execute_result"
    },
    {
     "data": {
      "image/png": "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\n",
      "text/plain": [
       "<Figure size 432x288 with 1 Axes>"
      ]
     },
     "metadata": {
      "needs_background": "light"
     },
     "output_type": "display_data"
    }
   ],
   "source": [
    "df.plot.scatter(x='rating', y='revenue_millions')\n",
    "plt.title('Movie Rating vs Revenue')\n",
    "plt.xlabel('Rating from 0 to 10')\n",
    "plt.ylabel('Revenue in millions of dollars')"
   ]
>>>>>>> Stashed changes
  },
  {
   "cell_type": "markdown",
   "metadata": {},
   "source": [
    "## Use .describe() on the ratings column and then create a box plot to visualize these statistics "
   ]
  },
  {
   "cell_type": "code",
<<<<<<< Updated upstream
   "execution_count": null,
   "metadata": {},
   "outputs": [],
   "source": []
=======
   "execution_count": 32,
   "metadata": {
    "ExecuteTime": {
     "end_time": "2020-06-23T20:00:15.944542Z",
     "start_time": "2020-06-23T20:00:15.676295Z"
    }
   },
   "outputs": [
    {
     "data": {
      "text/plain": [
       "count    838.000000\n",
       "mean       6.814320\n",
       "std        0.877754\n",
       "min        1.900000\n",
       "25%        6.300000\n",
       "50%        6.900000\n",
       "75%        7.500000\n",
       "max        9.000000\n",
       "Name: rating, dtype: float64"
      ]
     },
     "execution_count": 32,
     "metadata": {},
     "output_type": "execute_result"
    },
    {
     "data": {
      "image/png": "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\n",
      "text/plain": [
       "<Figure size 432x288 with 1 Axes>"
      ]
     },
     "metadata": {
      "needs_background": "light"
     },
     "output_type": "display_data"
    }
   ],
   "source": [
    "sns.boxplot(data=df['rating'], orient='h')\n",
    "df['rating'].describe()"
   ]
>>>>>>> Stashed changes
  },
  {
   "cell_type": "markdown",
   "metadata": {},
   "source": [
    "## Combine categorical and continuous data by creating a Boxplot of revenue that is grouped by the New Rating Category we created above:"
   ]
  },
  {
   "cell_type": "code",
<<<<<<< Updated upstream
=======
   "execution_count": 48,
   "metadata": {
    "ExecuteTime": {
     "end_time": "2020-06-23T20:33:37.080409Z",
     "start_time": "2020-06-23T20:33:36.787320Z"
    }
   },
   "outputs": [
    {
     "data": {
      "text/plain": [
       "bad          AxesSubplot(0.1,0.15;0.363636x0.75)\n",
       "good    AxesSubplot(0.536364,0.15;0.363636x0.75)\n",
       "dtype: object"
      ]
     },
     "execution_count": 48,
     "metadata": {},
     "output_type": "execute_result"
    },
    {
     "data": {
      "image/png": "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\n",
      "text/plain": [
       "<Figure size 432x288 with 2 Axes>"
      ]
     },
     "metadata": {
      "needs_background": "light"
     },
     "output_type": "display_data"
    }
   ],
   "source": [
    "grouped_df = df.groupby('New_Ratings')\n",
    "grouped_df.boxplot(column=['revenue_millions'])"
   ]
  },
  {
   "cell_type": "code",
>>>>>>> Stashed changes
   "execution_count": null,
   "metadata": {},
   "outputs": [],
   "source": []
  }
 ],
 "metadata": {
  "kernelspec": {
   "display_name": "learn-env",
   "language": "python",
   "name": "learn-env"
  },
  "language_info": {
   "codemirror_mode": {
    "name": "ipython",
    "version": 3
   },
   "file_extension": ".py",
   "mimetype": "text/x-python",
   "name": "python",
   "nbconvert_exporter": "python",
   "pygments_lexer": "ipython3",
<<<<<<< Updated upstream
   "version": "3.6.6"
=======
   "version": "3.6.9"
>>>>>>> Stashed changes
  },
  "toc": {
   "base_numbering": 1,
   "nav_menu": {},
   "number_sections": true,
   "sideBar": true,
   "skip_h1_title": true,
   "title_cell": "Table of Contents",
   "title_sidebar": "Contents",
   "toc_cell": false,
   "toc_position": {},
   "toc_section_display": true,
   "toc_window_display": false
<<<<<<< Updated upstream
=======
  },
  "varInspector": {
   "cols": {
    "lenName": 16,
    "lenType": 16,
    "lenVar": 40
   },
   "kernels_config": {
    "python": {
     "delete_cmd_postfix": "",
     "delete_cmd_prefix": "del ",
     "library": "var_list.py",
     "varRefreshCmd": "print(var_dic_list())"
    },
    "r": {
     "delete_cmd_postfix": ") ",
     "delete_cmd_prefix": "rm(",
     "library": "var_list.r",
     "varRefreshCmd": "cat(var_dic_list()) "
    }
   },
   "types_to_exclude": [
    "module",
    "function",
    "builtin_function_or_method",
    "instance",
    "_Feature"
   ],
   "window_display": false
>>>>>>> Stashed changes
  }
 },
 "nbformat": 4,
 "nbformat_minor": 2
}
