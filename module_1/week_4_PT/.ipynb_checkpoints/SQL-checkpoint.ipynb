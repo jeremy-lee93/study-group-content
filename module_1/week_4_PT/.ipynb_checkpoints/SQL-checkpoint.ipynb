{
 "cells": [
  {
   "cell_type": "markdown",
   "metadata": {
    "ExecuteTime": {
     "end_time": "2020-06-18T21:59:24.007123Z",
     "start_time": "2020-06-18T21:59:24.002124Z"
    }
   },
   "source": [
    "<br>\n",
    "<br>\n",
    "<center><b><font size=200>Gotta SQL 'Em All</font></b></center>\n",
    "<br>"
   ]
  },
  {
   "cell_type": "markdown",
   "metadata": {
    "ExecuteTime": {
     "end_time": "2020-06-18T21:59:39.419261Z",
     "start_time": "2020-06-18T21:59:39.415822Z"
    }
   },
   "source": [
    "<img src='pokemon_all.jpg'></img>"
   ]
  },
  {
   "cell_type": "markdown",
   "metadata": {},
   "source": [
<<<<<<< HEAD
    "## <center><b>The Database</b></center>"
=======
    "## <center><b>The Database</b></center>\n",
    "**Steps to view ERD:**\n",
    "1. Go to Sql Server Management Studio >\n",
    "2. Object Explorer >\n",
    "3. Databases >\n",
    "4. Choose and expand your Database.\n",
    "5. Under your database right click on \"Database Diagrams\" and select \"New Database Diagram\".\n",
    "6. It will a open a new window. Choose tables to include in ER-Diagram (to select multiple tables press \"ctrl\" or \"shift\" button and select tables).\n",
    "7. Click add.\n",
    "8. Wait for it to complete. Done!!"
>>>>>>> e8f0cf370a21e31b9f49cb38b1940afe1434c99a
   ]
  },
  {
   "cell_type": "markdown",
   "metadata": {},
   "source": [
    "<img src='schema.png'></img>"
   ]
  },
  {
   "cell_type": "markdown",
   "metadata": {},
   "source": [
    "## Connecting to the database"
   ]
  },
  {
   "cell_type": "code",
<<<<<<< HEAD
   "execution_count": 2,
   "metadata": {
    "ExecuteTime": {
     "end_time": "2020-06-24T23:45:08.589413Z",
     "start_time": "2020-06-24T23:45:07.533951Z"
    }
   },
   "outputs": [],
   "source": [
    "import sqlite3\n",
    "import pandas as pd\n",
    "conn = sqlite3.connect('pokedex.db')\n",
    "cur = conn.cursor()"
   ]
=======
   "execution_count": null,
   "metadata": {
    "ExecuteTime": {
     "end_time": "2020-06-23T22:25:23.542229Z",
     "start_time": "2020-06-23T22:25:23.039820Z"
    }
   },
   "outputs": [],
   "source": []
>>>>>>> e8f0cf370a21e31b9f49cb38b1940afe1434c99a
  },
  {
   "cell_type": "markdown",
   "metadata": {},
   "source": [
    "## Using SELECT\n",
    "### Get a list of all Pokemon names"
   ]
  },
  {
   "cell_type": "code",
<<<<<<< HEAD
   "execution_count": 6,
   "metadata": {
    "ExecuteTime": {
     "end_time": "2020-06-23T22:28:46.693437Z",
     "start_time": "2020-06-23T22:28:46.671112Z"
    }
   },
   "outputs": [
    {
     "data": {
      "text/html": [
       "<div>\n",
       "<style scoped>\n",
       "    .dataframe tbody tr th:only-of-type {\n",
       "        vertical-align: middle;\n",
       "    }\n",
       "\n",
       "    .dataframe tbody tr th {\n",
       "        vertical-align: top;\n",
       "    }\n",
       "\n",
       "    .dataframe thead th {\n",
       "        text-align: right;\n",
       "    }\n",
       "</style>\n",
       "<table border=\"1\" class=\"dataframe\">\n",
       "  <thead>\n",
       "    <tr style=\"text-align: right;\">\n",
       "      <th></th>\n",
       "      <th>name</th>\n",
       "    </tr>\n",
       "  </thead>\n",
       "  <tbody>\n",
       "    <tr>\n",
       "      <td>0</td>\n",
       "      <td>Bulbasaur</td>\n",
       "    </tr>\n",
       "    <tr>\n",
       "      <td>1</td>\n",
       "      <td>Ivysaur</td>\n",
       "    </tr>\n",
       "    <tr>\n",
       "      <td>2</td>\n",
       "      <td>Venusaur</td>\n",
       "    </tr>\n",
       "    <tr>\n",
       "      <td>3</td>\n",
       "      <td>Charmander</td>\n",
       "    </tr>\n",
       "    <tr>\n",
       "      <td>4</td>\n",
       "      <td>Charmeleon</td>\n",
       "    </tr>\n",
       "    <tr>\n",
       "      <td>...</td>\n",
       "      <td>...</td>\n",
       "    </tr>\n",
       "    <tr>\n",
       "      <td>146</td>\n",
       "      <td>Dratini</td>\n",
       "    </tr>\n",
       "    <tr>\n",
       "      <td>147</td>\n",
       "      <td>Dragonair</td>\n",
       "    </tr>\n",
       "    <tr>\n",
       "      <td>148</td>\n",
       "      <td>Dragonite</td>\n",
       "    </tr>\n",
       "    <tr>\n",
       "      <td>149</td>\n",
       "      <td>Mewtwo</td>\n",
       "    </tr>\n",
       "    <tr>\n",
       "      <td>150</td>\n",
       "      <td>Mew</td>\n",
       "    </tr>\n",
       "  </tbody>\n",
       "</table>\n",
       "<p>151 rows × 1 columns</p>\n",
       "</div>"
      ],
      "text/plain": [
       "           name\n",
       "0     Bulbasaur\n",
       "1       Ivysaur\n",
       "2      Venusaur\n",
       "3    Charmander\n",
       "4    Charmeleon\n",
       "..          ...\n",
       "146     Dratini\n",
       "147   Dragonair\n",
       "148   Dragonite\n",
       "149      Mewtwo\n",
       "150         Mew\n",
       "\n",
       "[151 rows x 1 columns]"
      ]
     },
     "execution_count": 6,
     "metadata": {},
     "output_type": "execute_result"
    }
   ],
   "source": [
    "cur.execute(\"\"\"SELECT name\n",
    "               FROM pokemon\"\"\")\n",
    "df = pd.DataFrame(cur.fetchall())\n",
    "df.columns = [i[0] for i in cur.description]\n",
    "df"
   ]
  },
  {
   "cell_type": "code",
   "execution_count": 40,
   "metadata": {
    "ExecuteTime": {
     "end_time": "2020-06-25T00:31:32.697530Z",
     "start_time": "2020-06-25T00:31:32.655636Z"
    }
   },
   "outputs": [
    {
     "data": {
      "text/html": [
       "<div>\n",
       "<style scoped>\n",
       "    .dataframe tbody tr th:only-of-type {\n",
       "        vertical-align: middle;\n",
       "    }\n",
       "\n",
       "    .dataframe tbody tr th {\n",
       "        vertical-align: top;\n",
       "    }\n",
       "\n",
       "    .dataframe thead th {\n",
       "        text-align: right;\n",
       "    }\n",
       "</style>\n",
       "<table border=\"1\" class=\"dataframe\">\n",
       "  <thead>\n",
       "    <tr style=\"text-align: right;\">\n",
       "      <th></th>\n",
       "      <th>pokemon_id</th>\n",
       "      <th>move</th>\n",
       "      <th>power</th>\n",
       "      <th>pp</th>\n",
       "      <th>level</th>\n",
       "      <th>type_id</th>\n",
       "    </tr>\n",
       "  </thead>\n",
       "  <tbody>\n",
       "    <tr>\n",
       "      <td>2759</td>\n",
       "      <td>103</td>\n",
       "      <td>Explosion</td>\n",
       "      <td>250</td>\n",
       "      <td>5</td>\n",
       "      <td>0</td>\n",
       "      <td>1</td>\n",
       "    </tr>\n",
       "    <tr>\n",
       "      <td>2036</td>\n",
       "      <td>76</td>\n",
       "      <td>Explosion</td>\n",
       "      <td>250</td>\n",
       "      <td>5</td>\n",
       "      <td>0</td>\n",
       "      <td>1</td>\n",
       "    </tr>\n",
       "    <tr>\n",
       "      <td>2958</td>\n",
       "      <td>110</td>\n",
       "      <td>Explosion</td>\n",
       "      <td>250</td>\n",
       "      <td>5</td>\n",
       "      <td>0</td>\n",
       "      <td>1</td>\n",
       "    </tr>\n",
       "    <tr>\n",
       "      <td>2003</td>\n",
       "      <td>75</td>\n",
       "      <td>Explosion</td>\n",
       "      <td>250</td>\n",
       "      <td>5</td>\n",
       "      <td>0</td>\n",
       "      <td>1</td>\n",
       "    </tr>\n",
       "    <tr>\n",
       "      <td>2463</td>\n",
       "      <td>92</td>\n",
       "      <td>Explosion</td>\n",
       "      <td>250</td>\n",
       "      <td>5</td>\n",
       "      <td>0</td>\n",
       "      <td>1</td>\n",
       "    </tr>\n",
       "    <tr>\n",
       "      <td>...</td>\n",
       "      <td>...</td>\n",
       "      <td>...</td>\n",
       "      <td>...</td>\n",
       "      <td>...</td>\n",
       "      <td>...</td>\n",
       "      <td>...</td>\n",
       "    </tr>\n",
       "    <tr>\n",
       "      <td>2046</td>\n",
       "      <td>77</td>\n",
       "      <td>Tail Whip</td>\n",
       "      <td>0</td>\n",
       "      <td>30</td>\n",
       "      <td>30</td>\n",
       "      <td>1</td>\n",
       "    </tr>\n",
       "    <tr>\n",
       "      <td>2039</td>\n",
       "      <td>76</td>\n",
       "      <td>Substitute</td>\n",
       "      <td>0</td>\n",
       "      <td>10</td>\n",
       "      <td>0</td>\n",
       "      <td>1</td>\n",
       "    </tr>\n",
       "    <tr>\n",
       "      <td>2037</td>\n",
       "      <td>76</td>\n",
       "      <td>Rest</td>\n",
       "      <td>0</td>\n",
       "      <td>10</td>\n",
       "      <td>0</td>\n",
       "      <td>14</td>\n",
       "    </tr>\n",
       "    <tr>\n",
       "      <td>2031</td>\n",
       "      <td>76</td>\n",
       "      <td>Metronome</td>\n",
       "      <td>0</td>\n",
       "      <td>10</td>\n",
       "      <td>0</td>\n",
       "      <td>1</td>\n",
       "    </tr>\n",
       "    <tr>\n",
       "      <td>4151</td>\n",
       "      <td>151</td>\n",
       "      <td>Substitute</td>\n",
       "      <td>0</td>\n",
       "      <td>10</td>\n",
       "      <td>0</td>\n",
       "      <td>1</td>\n",
       "    </tr>\n",
       "  </tbody>\n",
       "</table>\n",
       "<p>4152 rows × 6 columns</p>\n",
       "</div>"
      ],
      "text/plain": [
       "      pokemon_id        move  power  pp  level  type_id\n",
       "2759         103   Explosion    250   5      0        1\n",
       "2036          76   Explosion    250   5      0        1\n",
       "2958         110   Explosion    250   5      0        1\n",
       "2003          75   Explosion    250   5      0        1\n",
       "2463          92   Explosion    250   5      0        1\n",
       "...          ...         ...    ...  ..    ...      ...\n",
       "2046          77   Tail Whip      0  30     30        1\n",
       "2039          76  Substitute      0  10      0        1\n",
       "2037          76        Rest      0  10      0       14\n",
       "2031          76   Metronome      0  10      0        1\n",
       "4151         151  Substitute      0  10      0        1\n",
       "\n",
       "[4152 rows x 6 columns]"
      ]
     },
     "execution_count": 40,
     "metadata": {},
     "output_type": "execute_result"
    }
   ],
   "source": [
    "cur.execute(\"\"\"SELECT *\n",
    "               FROM learned_moves\"\"\")\n",
    "df = pd.DataFrame(cur.fetchall())\n",
    "df.columns = [i[0] for i in cur.description]\n",
    "df.sort_values('power', ascending=False)"
   ]
=======
   "execution_count": null,
   "metadata": {
    "ExecuteTime": {
     "end_time": "2020-06-23T22:29:26.109378Z",
     "start_time": "2020-06-23T22:29:26.101882Z"
    }
   },
   "outputs": [],
   "source": []
>>>>>>> e8f0cf370a21e31b9f49cb38b1940afe1434c99a
  },
  {
   "cell_type": "markdown",
   "metadata": {},
   "source": [
    "## Using WHERE\n",
    "### Get the names of all Pokemon that have Water as their primary type (Type1)"
   ]
  },
  {
   "cell_type": "code",
<<<<<<< HEAD
   "execution_count": 7,
   "metadata": {
    "ExecuteTime": {
     "end_time": "2020-06-23T22:31:59.321556Z",
     "start_time": "2020-06-23T22:31:59.306009Z"
    }
   },
   "outputs": [
    {
     "data": {
      "text/html": [
       "<div>\n",
       "<style scoped>\n",
       "    .dataframe tbody tr th:only-of-type {\n",
       "        vertical-align: middle;\n",
       "    }\n",
       "\n",
       "    .dataframe tbody tr th {\n",
       "        vertical-align: top;\n",
       "    }\n",
       "\n",
       "    .dataframe thead th {\n",
       "        text-align: right;\n",
       "    }\n",
       "</style>\n",
       "<table border=\"1\" class=\"dataframe\">\n",
       "  <thead>\n",
       "    <tr style=\"text-align: right;\">\n",
       "      <th></th>\n",
       "      <th>name</th>\n",
       "    </tr>\n",
       "  </thead>\n",
       "  <tbody>\n",
       "    <tr>\n",
       "      <td>0</td>\n",
       "      <td>Squirtle</td>\n",
       "    </tr>\n",
       "    <tr>\n",
       "      <td>1</td>\n",
       "      <td>Wartortle</td>\n",
       "    </tr>\n",
       "    <tr>\n",
       "      <td>2</td>\n",
       "      <td>Blastoise</td>\n",
       "    </tr>\n",
       "    <tr>\n",
       "      <td>3</td>\n",
       "      <td>Psyduck</td>\n",
       "    </tr>\n",
       "    <tr>\n",
       "      <td>4</td>\n",
       "      <td>Golduck</td>\n",
       "    </tr>\n",
       "    <tr>\n",
       "      <td>5</td>\n",
       "      <td>Poliwag</td>\n",
       "    </tr>\n",
       "    <tr>\n",
       "      <td>6</td>\n",
       "      <td>Poliwhirl</td>\n",
       "    </tr>\n",
       "    <tr>\n",
       "      <td>7</td>\n",
       "      <td>Poliwrath</td>\n",
       "    </tr>\n",
       "    <tr>\n",
       "      <td>8</td>\n",
       "      <td>Tentacool</td>\n",
       "    </tr>\n",
       "    <tr>\n",
       "      <td>9</td>\n",
       "      <td>Tentacruel</td>\n",
       "    </tr>\n",
       "    <tr>\n",
       "      <td>10</td>\n",
       "      <td>Slowpoke</td>\n",
       "    </tr>\n",
       "    <tr>\n",
       "      <td>11</td>\n",
       "      <td>Slowbro</td>\n",
       "    </tr>\n",
       "    <tr>\n",
       "      <td>12</td>\n",
       "      <td>Seel</td>\n",
       "    </tr>\n",
       "    <tr>\n",
       "      <td>13</td>\n",
       "      <td>Dewgong</td>\n",
       "    </tr>\n",
       "    <tr>\n",
       "      <td>14</td>\n",
       "      <td>Shellder</td>\n",
       "    </tr>\n",
       "    <tr>\n",
       "      <td>15</td>\n",
       "      <td>Cloyster</td>\n",
       "    </tr>\n",
       "    <tr>\n",
       "      <td>16</td>\n",
       "      <td>Krabby</td>\n",
       "    </tr>\n",
       "    <tr>\n",
       "      <td>17</td>\n",
       "      <td>Kingler</td>\n",
       "    </tr>\n",
       "    <tr>\n",
       "      <td>18</td>\n",
       "      <td>Horsea</td>\n",
       "    </tr>\n",
       "    <tr>\n",
       "      <td>19</td>\n",
       "      <td>Seadra</td>\n",
       "    </tr>\n",
       "    <tr>\n",
       "      <td>20</td>\n",
       "      <td>Goldeen</td>\n",
       "    </tr>\n",
       "    <tr>\n",
       "      <td>21</td>\n",
       "      <td>Seaking</td>\n",
       "    </tr>\n",
       "    <tr>\n",
       "      <td>22</td>\n",
       "      <td>Staryu</td>\n",
       "    </tr>\n",
       "    <tr>\n",
       "      <td>23</td>\n",
       "      <td>Starmie</td>\n",
       "    </tr>\n",
       "    <tr>\n",
       "      <td>24</td>\n",
       "      <td>Magikarp</td>\n",
       "    </tr>\n",
       "    <tr>\n",
       "      <td>25</td>\n",
       "      <td>Gyarados</td>\n",
       "    </tr>\n",
       "    <tr>\n",
       "      <td>26</td>\n",
       "      <td>Lapras</td>\n",
       "    </tr>\n",
       "    <tr>\n",
       "      <td>27</td>\n",
       "      <td>Vaporeon</td>\n",
       "    </tr>\n",
       "  </tbody>\n",
       "</table>\n",
       "</div>"
      ],
      "text/plain": [
       "          name\n",
       "0     Squirtle\n",
       "1    Wartortle\n",
       "2    Blastoise\n",
       "3      Psyduck\n",
       "4      Golduck\n",
       "5      Poliwag\n",
       "6    Poliwhirl\n",
       "7    Poliwrath\n",
       "8    Tentacool\n",
       "9   Tentacruel\n",
       "10    Slowpoke\n",
       "11     Slowbro\n",
       "12        Seel\n",
       "13     Dewgong\n",
       "14    Shellder\n",
       "15    Cloyster\n",
       "16      Krabby\n",
       "17     Kingler\n",
       "18      Horsea\n",
       "19      Seadra\n",
       "20     Goldeen\n",
       "21     Seaking\n",
       "22      Staryu\n",
       "23     Starmie\n",
       "24    Magikarp\n",
       "25    Gyarados\n",
       "26      Lapras\n",
       "27    Vaporeon"
      ]
     },
     "execution_count": 7,
     "metadata": {},
     "output_type": "execute_result"
    }
   ],
   "source": [
    "cur.execute(\"\"\"SELECT name \n",
    "               FROM pokemon\n",
    "               WHERE Type1 = 'Water'\"\"\")\n",
    "df = pd.DataFrame(cur.fetchall())\n",
    "df.columns = [i[0] for i in cur.description]\n",
    "df"
   ]
=======
   "execution_count": null,
   "metadata": {
    "ExecuteTime": {
     "end_time": "2020-06-23T22:32:00.959794Z",
     "start_time": "2020-06-23T22:32:00.951606Z"
    }
   },
   "outputs": [],
   "source": []
>>>>>>> e8f0cf370a21e31b9f49cb38b1940afe1434c99a
  },
  {
   "cell_type": "markdown",
   "metadata": {},
   "source": [
    "## Using ORDER BY\n",
    "### Get the names and weights of each Pokemon from highest weight to lowest weight"
   ]
  },
  {
   "cell_type": "code",
<<<<<<< HEAD
   "execution_count": 8,
   "metadata": {
    "ExecuteTime": {
     "end_time": "2020-06-23T22:34:00.027088Z",
     "start_time": "2020-06-23T22:33:59.982914Z"
    }
   },
   "outputs": [
    {
     "data": {
      "text/html": [
       "<div>\n",
       "<style scoped>\n",
       "    .dataframe tbody tr th:only-of-type {\n",
       "        vertical-align: middle;\n",
       "    }\n",
       "\n",
       "    .dataframe tbody tr th {\n",
       "        vertical-align: top;\n",
       "    }\n",
       "\n",
       "    .dataframe thead th {\n",
       "        text-align: right;\n",
       "    }\n",
       "</style>\n",
       "<table border=\"1\" class=\"dataframe\">\n",
       "  <thead>\n",
       "    <tr style=\"text-align: right;\">\n",
       "      <th></th>\n",
       "      <th>name</th>\n",
       "      <th>weight</th>\n",
       "    </tr>\n",
       "  </thead>\n",
       "  <tbody>\n",
       "    <tr>\n",
       "      <td>0</td>\n",
       "      <td>Snorlax</td>\n",
       "      <td>4600</td>\n",
       "    </tr>\n",
       "    <tr>\n",
       "      <td>1</td>\n",
       "      <td>Golem</td>\n",
       "      <td>3000</td>\n",
       "    </tr>\n",
       "    <tr>\n",
       "      <td>2</td>\n",
       "      <td>Gyarados</td>\n",
       "      <td>2350</td>\n",
       "    </tr>\n",
       "    <tr>\n",
       "      <td>3</td>\n",
       "      <td>Lapras</td>\n",
       "      <td>2200</td>\n",
       "    </tr>\n",
       "    <tr>\n",
       "      <td>4</td>\n",
       "      <td>Onix</td>\n",
       "      <td>2100</td>\n",
       "    </tr>\n",
       "    <tr>\n",
       "      <td>...</td>\n",
       "      <td>...</td>\n",
       "      <td>...</td>\n",
       "    </tr>\n",
       "    <tr>\n",
       "      <td>146</td>\n",
       "      <td>Pidgey</td>\n",
       "      <td>18</td>\n",
       "    </tr>\n",
       "    <tr>\n",
       "      <td>147</td>\n",
       "      <td>Koffing</td>\n",
       "      <td>10</td>\n",
       "    </tr>\n",
       "    <tr>\n",
       "      <td>148</td>\n",
       "      <td>Diglett</td>\n",
       "      <td>8</td>\n",
       "    </tr>\n",
       "    <tr>\n",
       "      <td>149</td>\n",
       "      <td>Gastly</td>\n",
       "      <td>1</td>\n",
       "    </tr>\n",
       "    <tr>\n",
       "      <td>150</td>\n",
       "      <td>Haunter</td>\n",
       "      <td>1</td>\n",
       "    </tr>\n",
       "  </tbody>\n",
       "</table>\n",
       "<p>151 rows × 2 columns</p>\n",
       "</div>"
      ],
      "text/plain": [
       "         name  weight\n",
       "0     Snorlax    4600\n",
       "1       Golem    3000\n",
       "2    Gyarados    2350\n",
       "3      Lapras    2200\n",
       "4        Onix    2100\n",
       "..        ...     ...\n",
       "146    Pidgey      18\n",
       "147   Koffing      10\n",
       "148   Diglett       8\n",
       "149    Gastly       1\n",
       "150   Haunter       1\n",
       "\n",
       "[151 rows x 2 columns]"
      ]
     },
     "execution_count": 8,
     "metadata": {},
     "output_type": "execute_result"
    }
   ],
   "source": [
    "cur.execute(\"\"\"SELECT name, weight\n",
    "               FROM pokemon\n",
    "               ORDER BY weight DESC\"\"\")\n",
    "df = pd.DataFrame(cur.fetchall())\n",
    "df.columns = [i[0] for i in cur.description]\n",
    "df"
   ]
=======
   "execution_count": null,
   "metadata": {
    "ExecuteTime": {
     "end_time": "2020-06-23T22:34:11.065189Z",
     "start_time": "2020-06-23T22:34:11.055013Z"
    }
   },
   "outputs": [],
   "source": []
>>>>>>> e8f0cf370a21e31b9f49cb38b1940afe1434c99a
  },
  {
   "cell_type": "markdown",
   "metadata": {},
   "source": [
    "## Using LIMIT\n",
    "### Get the names and heights of the top 5 tallest Pokemon"
   ]
  },
  {
   "cell_type": "code",
<<<<<<< HEAD
   "execution_count": 10,
   "metadata": {
    "ExecuteTime": {
     "end_time": "2020-06-23T22:36:06.263866Z",
     "start_time": "2020-06-23T22:36:06.245178Z"
    }
   },
   "outputs": [
    {
     "data": {
      "text/html": [
       "<div>\n",
       "<style scoped>\n",
       "    .dataframe tbody tr th:only-of-type {\n",
       "        vertical-align: middle;\n",
       "    }\n",
       "\n",
       "    .dataframe tbody tr th {\n",
       "        vertical-align: top;\n",
       "    }\n",
       "\n",
       "    .dataframe thead th {\n",
       "        text-align: right;\n",
       "    }\n",
       "</style>\n",
       "<table border=\"1\" class=\"dataframe\">\n",
       "  <thead>\n",
       "    <tr style=\"text-align: right;\">\n",
       "      <th></th>\n",
       "      <th>name</th>\n",
       "      <th>height</th>\n",
       "    </tr>\n",
       "  </thead>\n",
       "  <tbody>\n",
       "    <tr>\n",
       "      <td>0</td>\n",
       "      <td>Snorlax</td>\n",
       "      <td>21</td>\n",
       "    </tr>\n",
       "    <tr>\n",
       "      <td>1</td>\n",
       "      <td>Golem</td>\n",
       "      <td>14</td>\n",
       "    </tr>\n",
       "    <tr>\n",
       "      <td>2</td>\n",
       "      <td>Gyarados</td>\n",
       "      <td>65</td>\n",
       "    </tr>\n",
       "    <tr>\n",
       "      <td>3</td>\n",
       "      <td>Lapras</td>\n",
       "      <td>25</td>\n",
       "    </tr>\n",
       "    <tr>\n",
       "      <td>4</td>\n",
       "      <td>Onix</td>\n",
       "      <td>88</td>\n",
       "    </tr>\n",
       "  </tbody>\n",
       "</table>\n",
       "</div>"
      ],
      "text/plain": [
       "       name  height\n",
       "0   Snorlax      21\n",
       "1     Golem      14\n",
       "2  Gyarados      65\n",
       "3    Lapras      25\n",
       "4      Onix      88"
      ]
     },
     "execution_count": 10,
     "metadata": {},
     "output_type": "execute_result"
    }
   ],
   "source": [
    "cur.execute(\"\"\"SELECT name, height\n",
    "               FROM pokemon\n",
    "               ORDER BY weight DESC\n",
    "               LIMIT 5\"\"\")\n",
    "df = pd.DataFrame(cur.fetchall())\n",
    "df.columns = [i[0] for i in cur.description]\n",
    "df"
   ]
=======
   "execution_count": null,
   "metadata": {
    "ExecuteTime": {
     "end_time": "2020-06-23T22:35:47.059349Z",
     "start_time": "2020-06-23T22:35:47.052505Z"
    }
   },
   "outputs": [],
   "source": []
>>>>>>> e8f0cf370a21e31b9f49cb38b1940afe1434c99a
  },
  {
   "cell_type": "markdown",
   "metadata": {},
   "source": [
    "## Using GROUP BY\n",
    "### Get the type and average weight and height for each primary type"
   ]
  },
  {
   "cell_type": "code",
<<<<<<< HEAD
   "execution_count": 11,
   "metadata": {
    "ExecuteTime": {
     "end_time": "2020-06-23T22:40:48.544583Z",
     "start_time": "2020-06-23T22:40:48.518153Z"
    }
   },
   "outputs": [
    {
     "data": {
      "text/html": [
       "<div>\n",
       "<style scoped>\n",
       "    .dataframe tbody tr th:only-of-type {\n",
       "        vertical-align: middle;\n",
       "    }\n",
       "\n",
       "    .dataframe tbody tr th {\n",
       "        vertical-align: top;\n",
       "    }\n",
       "\n",
       "    .dataframe thead th {\n",
       "        text-align: right;\n",
       "    }\n",
       "</style>\n",
       "<table border=\"1\" class=\"dataframe\">\n",
       "  <thead>\n",
       "    <tr style=\"text-align: right;\">\n",
       "      <th></th>\n",
       "      <th>Type1</th>\n",
       "      <th>avg_height</th>\n",
       "      <th>avg_weight</th>\n",
       "    </tr>\n",
       "  </thead>\n",
       "  <tbody>\n",
       "    <tr>\n",
       "      <td>0</td>\n",
       "      <td>Bug</td>\n",
       "      <td>9.000000</td>\n",
       "      <td>229.916667</td>\n",
       "    </tr>\n",
       "    <tr>\n",
       "      <td>1</td>\n",
       "      <td>Dragon</td>\n",
       "      <td>26.666667</td>\n",
       "      <td>766.000000</td>\n",
       "    </tr>\n",
       "    <tr>\n",
       "      <td>2</td>\n",
       "      <td>Electric</td>\n",
       "      <td>8.555556</td>\n",
       "      <td>317.888889</td>\n",
       "    </tr>\n",
       "    <tr>\n",
       "      <td>3</td>\n",
       "      <td>Fighting</td>\n",
       "      <td>11.857143</td>\n",
       "      <td>542.857143</td>\n",
       "    </tr>\n",
       "    <tr>\n",
       "      <td>4</td>\n",
       "      <td>Fire</td>\n",
       "      <td>12.166667</td>\n",
       "      <td>480.250000</td>\n",
       "    </tr>\n",
       "    <tr>\n",
       "      <td>5</td>\n",
       "      <td>Ghost</td>\n",
       "      <td>14.666667</td>\n",
       "      <td>135.666667</td>\n",
       "    </tr>\n",
       "    <tr>\n",
       "      <td>6</td>\n",
       "      <td>Grass</td>\n",
       "      <td>10.833333</td>\n",
       "      <td>279.916667</td>\n",
       "    </tr>\n",
       "    <tr>\n",
       "      <td>7</td>\n",
       "      <td>Ground</td>\n",
       "      <td>8.500000</td>\n",
       "      <td>452.625000</td>\n",
       "    </tr>\n",
       "    <tr>\n",
       "      <td>8</td>\n",
       "      <td>Ice</td>\n",
       "      <td>15.500000</td>\n",
       "      <td>480.000000</td>\n",
       "    </tr>\n",
       "    <tr>\n",
       "      <td>9</td>\n",
       "      <td>Normal</td>\n",
       "      <td>9.833333</td>\n",
       "      <td>478.916667</td>\n",
       "    </tr>\n",
       "    <tr>\n",
       "      <td>10</td>\n",
       "      <td>Poison</td>\n",
       "      <td>12.214286</td>\n",
       "      <td>273.142857</td>\n",
       "    </tr>\n",
       "    <tr>\n",
       "      <td>11</td>\n",
       "      <td>Psychic</td>\n",
       "      <td>12.500000</td>\n",
       "      <td>515.625000</td>\n",
       "    </tr>\n",
       "    <tr>\n",
       "      <td>12</td>\n",
       "      <td>Rock</td>\n",
       "      <td>18.444444</td>\n",
       "      <td>876.111111</td>\n",
       "    </tr>\n",
       "    <tr>\n",
       "      <td>13</td>\n",
       "      <td>Water</td>\n",
       "      <td>13.000000</td>\n",
       "      <td>579.678571</td>\n",
       "    </tr>\n",
       "  </tbody>\n",
       "</table>\n",
       "</div>"
      ],
      "text/plain": [
       "       Type1  avg_height  avg_weight\n",
       "0        Bug    9.000000  229.916667\n",
       "1     Dragon   26.666667  766.000000\n",
       "2   Electric    8.555556  317.888889\n",
       "3   Fighting   11.857143  542.857143\n",
       "4       Fire   12.166667  480.250000\n",
       "5      Ghost   14.666667  135.666667\n",
       "6      Grass   10.833333  279.916667\n",
       "7     Ground    8.500000  452.625000\n",
       "8        Ice   15.500000  480.000000\n",
       "9     Normal    9.833333  478.916667\n",
       "10    Poison   12.214286  273.142857\n",
       "11   Psychic   12.500000  515.625000\n",
       "12      Rock   18.444444  876.111111\n",
       "13     Water   13.000000  579.678571"
      ]
     },
     "execution_count": 11,
     "metadata": {},
     "output_type": "execute_result"
    }
   ],
   "source": [
    "cur.execute(\"\"\"SELECT Type1, AVG(height) AS avg_height, AVG(weight) AS avg_weight\n",
    "               FROM pokemon\n",
    "               GROUP BY Type1\"\"\")\n",
    "df = pd.DataFrame(cur.fetchall())\n",
    "df.columns = [i[0] for i in cur.description]\n",
    "df"
   ]
=======
   "execution_count": null,
   "metadata": {
    "ExecuteTime": {
     "end_time": "2020-06-23T22:40:50.708789Z",
     "start_time": "2020-06-23T22:40:50.699013Z"
    }
   },
   "outputs": [],
   "source": []
>>>>>>> e8f0cf370a21e31b9f49cb38b1940afe1434c99a
  },
  {
   "cell_type": "markdown",
   "metadata": {},
   "source": [
    "## Using JOIN\n",
    "### Create a table of move names, type, and type ID"
   ]
  },
  {
   "cell_type": "code",
<<<<<<< HEAD
   "execution_count": 12,
   "metadata": {
    "ExecuteTime": {
     "end_time": "2020-06-23T22:48:36.325732Z",
     "start_time": "2020-06-23T22:48:36.289971Z"
    }
   },
   "outputs": [
    {
     "data": {
      "text/html": [
       "<div>\n",
       "<style scoped>\n",
       "    .dataframe tbody tr th:only-of-type {\n",
       "        vertical-align: middle;\n",
       "    }\n",
       "\n",
       "    .dataframe tbody tr th {\n",
       "        vertical-align: top;\n",
       "    }\n",
       "\n",
       "    .dataframe thead th {\n",
       "        text-align: right;\n",
       "    }\n",
       "</style>\n",
       "<table border=\"1\" class=\"dataframe\">\n",
       "  <thead>\n",
       "    <tr style=\"text-align: right;\">\n",
       "      <th></th>\n",
       "      <th>move</th>\n",
       "      <th>identifier</th>\n",
       "      <th>id</th>\n",
       "    </tr>\n",
       "  </thead>\n",
       "  <tbody>\n",
       "    <tr>\n",
       "      <td>0</td>\n",
       "      <td>Swords Dance</td>\n",
       "      <td>normal</td>\n",
       "      <td>1</td>\n",
       "    </tr>\n",
       "    <tr>\n",
       "      <td>1</td>\n",
       "      <td>Cut</td>\n",
       "      <td>normal</td>\n",
       "      <td>1</td>\n",
       "    </tr>\n",
       "    <tr>\n",
       "      <td>2</td>\n",
       "      <td>Vine Whip</td>\n",
       "      <td>grass</td>\n",
       "      <td>12</td>\n",
       "    </tr>\n",
       "    <tr>\n",
       "      <td>3</td>\n",
       "      <td>Tackle</td>\n",
       "      <td>normal</td>\n",
       "      <td>1</td>\n",
       "    </tr>\n",
       "    <tr>\n",
       "      <td>4</td>\n",
       "      <td>Body Slam</td>\n",
       "      <td>normal</td>\n",
       "      <td>1</td>\n",
       "    </tr>\n",
       "    <tr>\n",
       "      <td>...</td>\n",
       "      <td>...</td>\n",
       "      <td>...</td>\n",
       "      <td>...</td>\n",
       "    </tr>\n",
       "    <tr>\n",
       "      <td>4147</td>\n",
       "      <td>Explosion</td>\n",
       "      <td>normal</td>\n",
       "      <td>1</td>\n",
       "    </tr>\n",
       "    <tr>\n",
       "      <td>4148</td>\n",
       "      <td>Rest</td>\n",
       "      <td>psychic</td>\n",
       "      <td>14</td>\n",
       "    </tr>\n",
       "    <tr>\n",
       "      <td>4149</td>\n",
       "      <td>Rock Slide</td>\n",
       "      <td>rock</td>\n",
       "      <td>6</td>\n",
       "    </tr>\n",
       "    <tr>\n",
       "      <td>4150</td>\n",
       "      <td>Tri Attack</td>\n",
       "      <td>normal</td>\n",
       "      <td>1</td>\n",
       "    </tr>\n",
       "    <tr>\n",
       "      <td>4151</td>\n",
       "      <td>Substitute</td>\n",
       "      <td>normal</td>\n",
       "      <td>1</td>\n",
       "    </tr>\n",
       "  </tbody>\n",
       "</table>\n",
       "<p>4152 rows × 3 columns</p>\n",
       "</div>"
      ],
      "text/plain": [
       "              move identifier  id\n",
       "0     Swords Dance     normal   1\n",
       "1              Cut     normal   1\n",
       "2        Vine Whip      grass  12\n",
       "3           Tackle     normal   1\n",
       "4        Body Slam     normal   1\n",
       "...            ...        ...  ..\n",
       "4147     Explosion     normal   1\n",
       "4148          Rest    psychic  14\n",
       "4149    Rock Slide       rock   6\n",
       "4150    Tri Attack     normal   1\n",
       "4151    Substitute     normal   1\n",
       "\n",
       "[4152 rows x 3 columns]"
      ]
     },
     "execution_count": 12,
     "metadata": {},
     "output_type": "execute_result"
    }
   ],
   "source": [
    "cur.execute(\"\"\"SELECT move, identifier, id \n",
    "               FROM learned_moves\n",
    "               JOIN types\n",
    "               ON type_id=id\"\"\")\n",
    "df = pd.DataFrame(cur.fetchall())\n",
    "df.columns = [i[0] for i in cur.description]\n",
    "df"
   ]
=======
   "execution_count": null,
   "metadata": {
    "ExecuteTime": {
     "end_time": "2020-06-23T22:48:30.225605Z",
     "start_time": "2020-06-23T22:48:30.206315Z"
    }
   },
   "outputs": [],
   "source": []
>>>>>>> e8f0cf370a21e31b9f49cb38b1940afe1434c99a
  },
  {
   "cell_type": "markdown",
   "metadata": {},
   "source": [
    "## Combining methods\n",
    "### Find the two Pokemon types with the least weaknesses"
   ]
  },
  {
   "cell_type": "code",
<<<<<<< HEAD
   "execution_count": 23,
   "metadata": {
    "ExecuteTime": {
     "end_time": "2020-06-25T00:06:43.363849Z",
     "start_time": "2020-06-25T00:06:43.345422Z"
    }
   },
   "outputs": [
    {
     "data": {
      "text/plain": [
       "6     5\n",
       "12    5\n",
       "15    4\n",
       "9     3\n",
       "14    3\n",
       "3     3\n",
       "10    3\n",
       "5     3\n",
       "7     3\n",
       "2     2\n",
       "4     2\n",
       "17    2\n",
       "8     2\n",
       "16    2\n",
       "11    2\n",
       "13    1\n",
       "1     1\n",
       "Name: defending_type, dtype: int64"
      ]
     },
     "execution_count": 23,
     "metadata": {},
     "output_type": "execute_result"
    }
   ],
   "source": [
    "cur.execute(\"\"\"SELECT *\n",
    "               FROM weaknesses\n",
    "               \"\"\")\n",
    "df = pd.DataFrame(cur.fetchall())\n",
    "df.columns = [i[0] for i in cur.description]\n",
    "df1 = df[df.damage_factor == 200]\n",
    "df1.defending_type.value_counts()"
   ]
  },
  {
   "cell_type": "code",
   "execution_count": 18,
   "metadata": {
    "ExecuteTime": {
     "end_time": "2020-06-25T00:01:16.985900Z",
     "start_time": "2020-06-25T00:01:16.965615Z"
    }
   },
   "outputs": [
    {
     "data": {
      "text/html": [
       "<div>\n",
       "<style scoped>\n",
       "    .dataframe tbody tr th:only-of-type {\n",
       "        vertical-align: middle;\n",
       "    }\n",
       "\n",
       "    .dataframe tbody tr th {\n",
       "        vertical-align: top;\n",
       "    }\n",
       "\n",
       "    .dataframe thead th {\n",
       "        text-align: right;\n",
       "    }\n",
       "</style>\n",
       "<table border=\"1\" class=\"dataframe\">\n",
       "  <thead>\n",
       "    <tr style=\"text-align: right;\">\n",
       "      <th></th>\n",
       "      <th>defending_type</th>\n",
       "      <th>type</th>\n",
       "      <th>num_weaknesses</th>\n",
       "      <th>attacking_type</th>\n",
       "    </tr>\n",
       "  </thead>\n",
       "  <tbody>\n",
       "    <tr>\n",
       "      <td>0</td>\n",
       "      <td>1</td>\n",
       "      <td>normal</td>\n",
       "      <td>1</td>\n",
       "      <td>2</td>\n",
       "    </tr>\n",
       "    <tr>\n",
       "      <td>1</td>\n",
       "      <td>13</td>\n",
       "      <td>electric</td>\n",
       "      <td>1</td>\n",
       "      <td>5</td>\n",
       "    </tr>\n",
       "    <tr>\n",
       "      <td>2</td>\n",
       "      <td>2</td>\n",
       "      <td>fighting</td>\n",
       "      <td>2</td>\n",
       "      <td>3</td>\n",
       "    </tr>\n",
       "    <tr>\n",
       "      <td>3</td>\n",
       "      <td>4</td>\n",
       "      <td>poison</td>\n",
       "      <td>2</td>\n",
       "      <td>5</td>\n",
       "    </tr>\n",
       "    <tr>\n",
       "      <td>4</td>\n",
       "      <td>8</td>\n",
       "      <td>ghost</td>\n",
       "      <td>2</td>\n",
       "      <td>8</td>\n",
       "    </tr>\n",
       "    <tr>\n",
       "      <td>5</td>\n",
       "      <td>11</td>\n",
       "      <td>water</td>\n",
       "      <td>2</td>\n",
       "      <td>12</td>\n",
       "    </tr>\n",
       "    <tr>\n",
       "      <td>6</td>\n",
       "      <td>16</td>\n",
       "      <td>dragon</td>\n",
       "      <td>2</td>\n",
       "      <td>15</td>\n",
       "    </tr>\n",
       "    <tr>\n",
       "      <td>7</td>\n",
       "      <td>17</td>\n",
       "      <td>dark</td>\n",
       "      <td>2</td>\n",
       "      <td>2</td>\n",
       "    </tr>\n",
       "    <tr>\n",
       "      <td>8</td>\n",
       "      <td>3</td>\n",
       "      <td>flying</td>\n",
       "      <td>3</td>\n",
       "      <td>6</td>\n",
       "    </tr>\n",
       "    <tr>\n",
       "      <td>9</td>\n",
       "      <td>5</td>\n",
       "      <td>ground</td>\n",
       "      <td>3</td>\n",
       "      <td>11</td>\n",
       "    </tr>\n",
       "  </tbody>\n",
       "</table>\n",
       "</div>"
      ],
      "text/plain": [
       "   defending_type      type  num_weaknesses  attacking_type\n",
       "0               1    normal               1               2\n",
       "1              13  electric               1               5\n",
       "2               2  fighting               2               3\n",
       "3               4    poison               2               5\n",
       "4               8     ghost               2               8\n",
       "5              11     water               2              12\n",
       "6              16    dragon               2              15\n",
       "7              17      dark               2               2\n",
       "8               3    flying               3               6\n",
       "9               5    ground               3              11"
      ]
     },
     "execution_count": 18,
     "metadata": {},
     "output_type": "execute_result"
    }
   ],
   "source": [
    "cur.execute(\"\"\"SELECT defending_type, identifier as type, COUNT(defending_type) AS num_weaknesses, attacking_type\n",
    "               FROM weaknesses\n",
    "               JOIN types\n",
    "               ON defending_type=id\n",
    "               WHERE damage_factor = 200\n",
    "               GROUP BY defending_type\n",
    "               ORDER BY num_weaknesses\n",
    "               LIMIT 10\"\"\")\n",
    "df = pd.DataFrame(cur.fetchall())\n",
    "df.columns = [i[0] for i in cur.description]\n",
    "df\n"
   ]
=======
   "execution_count": null,
   "metadata": {
    "ExecuteTime": {
     "end_time": "2020-06-23T23:01:00.460768Z",
     "start_time": "2020-06-23T23:01:00.453423Z"
    }
   },
   "outputs": [],
   "source": []
>>>>>>> e8f0cf370a21e31b9f49cb38b1940afe1434c99a
  },
  {
   "cell_type": "markdown",
   "metadata": {},
   "source": [
    "## BONUS QUESTIONS "
   ]
  },
  {
   "cell_type": "markdown",
   "metadata": {},
   "source": [
    "### Find the top 5 Pokemon having the highest variety of move types."
   ]
  },
  {
   "cell_type": "code",
<<<<<<< HEAD
   "execution_count": 34,
   "metadata": {
    "ExecuteTime": {
     "end_time": "2020-06-25T00:19:33.306369Z",
     "start_time": "2020-06-25T00:19:33.281303Z"
    }
   },
   "outputs": [
    {
     "data": {
      "text/html": [
       "<div>\n",
       "<style scoped>\n",
       "    .dataframe tbody tr th:only-of-type {\n",
       "        vertical-align: middle;\n",
       "    }\n",
       "\n",
       "    .dataframe tbody tr th {\n",
       "        vertical-align: top;\n",
       "    }\n",
       "\n",
       "    .dataframe thead th {\n",
       "        text-align: right;\n",
       "    }\n",
       "</style>\n",
       "<table border=\"1\" class=\"dataframe\">\n",
       "  <thead>\n",
       "    <tr style=\"text-align: right;\">\n",
       "      <th></th>\n",
       "      <th>num_of_moves</th>\n",
       "      <th>name</th>\n",
       "    </tr>\n",
       "  </thead>\n",
       "  <tbody>\n",
       "    <tr>\n",
       "      <td>0</td>\n",
       "      <td>60</td>\n",
       "      <td>Mew</td>\n",
       "    </tr>\n",
       "    <tr>\n",
       "      <td>1</td>\n",
       "      <td>46</td>\n",
       "      <td>Slowbro</td>\n",
       "    </tr>\n",
       "    <tr>\n",
       "      <td>2</td>\n",
       "      <td>45</td>\n",
       "      <td>Chansey</td>\n",
       "    </tr>\n",
       "    <tr>\n",
       "      <td>3</td>\n",
       "      <td>44</td>\n",
       "      <td>Mewtwo</td>\n",
       "    </tr>\n",
       "    <tr>\n",
       "      <td>4</td>\n",
       "      <td>43</td>\n",
       "      <td>Snorlax</td>\n",
       "    </tr>\n",
       "  </tbody>\n",
       "</table>\n",
       "</div>"
      ],
      "text/plain": [
       "   num_of_moves     name\n",
       "0            60      Mew\n",
       "1            46  Slowbro\n",
       "2            45  Chansey\n",
       "3            44   Mewtwo\n",
       "4            43  Snorlax"
      ]
     },
     "execution_count": 34,
     "metadata": {},
     "output_type": "execute_result"
    }
   ],
   "source": [
    "cur.execute(\"\"\"SELECT COUNT(pokemon_id) AS num_of_moves, name\n",
    "               FROM learned_moves\n",
    "               JOIN pokemon\n",
    "               ON id = pokemon_id\n",
    "               GROUP BY name\n",
    "               ORDER BY num_of_moves DESC\n",
    "               LIMIT 5\n",
    "               \"\"\")\n",
    "df_top5moves = pd.DataFrame(cur.fetchall())\n",
    "df_top5moves.columns = [i[0] for i in cur.description]\n",
    "df_top5moves"
   ]
=======
   "execution_count": null,
   "metadata": {},
   "outputs": [],
   "source": []
>>>>>>> e8f0cf370a21e31b9f49cb38b1940afe1434c99a
  },
  {
   "cell_type": "markdown",
   "metadata": {},
   "source": [
    "### Get the names of all Pokemon who learn a super effective move against Water type Pokemon. Also include the name of one of these moves the Pokemon learns."
   ]
  },
  {
   "cell_type": "code",
<<<<<<< HEAD
   "execution_count": 36,
   "metadata": {
    "ExecuteTime": {
     "end_time": "2020-06-25T00:25:15.688180Z",
     "start_time": "2020-06-25T00:25:15.676899Z"
    }
   },
   "outputs": [
    {
     "data": {
      "text/html": [
       "<div>\n",
       "<style scoped>\n",
       "    .dataframe tbody tr th:only-of-type {\n",
       "        vertical-align: middle;\n",
       "    }\n",
       "\n",
       "    .dataframe tbody tr th {\n",
       "        vertical-align: top;\n",
       "    }\n",
       "\n",
       "    .dataframe thead th {\n",
       "        text-align: right;\n",
       "    }\n",
       "</style>\n",
       "<table border=\"1\" class=\"dataframe\">\n",
       "  <thead>\n",
       "    <tr style=\"text-align: right;\">\n",
       "      <th></th>\n",
       "      <th>defending_type</th>\n",
       "      <th>type</th>\n",
       "      <th>attacking_type</th>\n",
       "    </tr>\n",
       "  </thead>\n",
       "  <tbody>\n",
       "    <tr>\n",
       "      <td>0</td>\n",
       "      <td>11</td>\n",
       "      <td>water</td>\n",
       "      <td>12</td>\n",
       "    </tr>\n",
       "    <tr>\n",
       "      <td>1</td>\n",
       "      <td>11</td>\n",
       "      <td>water</td>\n",
       "      <td>13</td>\n",
       "    </tr>\n",
       "  </tbody>\n",
       "</table>\n",
       "</div>"
      ],
      "text/plain": [
       "   defending_type   type  attacking_type\n",
       "0              11  water              12\n",
       "1              11  water              13"
      ]
     },
     "execution_count": 36,
     "metadata": {},
     "output_type": "execute_result"
    }
   ],
   "source": [
    "#First, try using a subquery to get types super effective against water.\n",
    "cur.execute(\"\"\"SELECT defending_type, identifier as type, attacking_type \n",
    "               FROM weaknesses\n",
    "               JOIN types\n",
    "               ON defending_type=id\n",
    "               WHERE type = 'water' AND damage_factor = 200\"\"\")\n",
    "df_watertype = pd.DataFrame(cur.fetchall())\n",
    "df_watertype.columns = [i[0] for i in cur.description]\n",
    "df_watertype"
   ]
  },
  {
   "cell_type": "code",
   "execution_count": 51,
   "metadata": {
    "ExecuteTime": {
     "end_time": "2020-06-25T00:43:55.059328Z",
     "start_time": "2020-06-25T00:43:55.047725Z"
    }
   },
   "outputs": [
    {
     "data": {
      "text/html": [
       "<div>\n",
       "<style scoped>\n",
       "    .dataframe tbody tr th:only-of-type {\n",
       "        vertical-align: middle;\n",
       "    }\n",
       "\n",
       "    .dataframe tbody tr th {\n",
       "        vertical-align: top;\n",
       "    }\n",
       "\n",
       "    .dataframe thead th {\n",
       "        text-align: right;\n",
       "    }\n",
       "</style>\n",
       "<table border=\"1\" class=\"dataframe\">\n",
       "  <thead>\n",
       "    <tr style=\"text-align: right;\">\n",
       "      <th></th>\n",
       "      <th>attacking_type</th>\n",
       "    </tr>\n",
       "  </thead>\n",
       "  <tbody>\n",
       "    <tr>\n",
       "      <td>0</td>\n",
       "      <td>12</td>\n",
       "    </tr>\n",
       "    <tr>\n",
       "      <td>1</td>\n",
       "      <td>13</td>\n",
       "    </tr>\n",
       "  </tbody>\n",
       "</table>\n",
       "</div>"
      ],
      "text/plain": [
       "   attacking_type\n",
       "0              12\n",
       "1              13"
      ]
     },
     "execution_count": 51,
     "metadata": {},
     "output_type": "execute_result"
    }
   ],
   "source": [
    "cur.execute(\"\"\"SELECT attacking_type\n",
    "               FROM weaknesses\n",
    "               WHERE defending_type = 11 AND damage_factor = 200\"\"\")\n",
    "df_test = pd.DataFrame(cur.fetchall())\n",
    "df_test.columns = [i[0] for i in cur.description]\n",
    "df_test\n"
   ]
  },
  {
   "cell_type": "code",
   "execution_count": 55,
   "metadata": {
    "ExecuteTime": {
     "end_time": "2020-06-25T00:48:54.732816Z",
     "start_time": "2020-06-25T00:48:54.711764Z"
    }
   },
   "outputs": [
    {
     "ename": "ValueError",
     "evalue": "Length mismatch: Expected axis has 0 elements, new values have 2 elements",
     "output_type": "error",
     "traceback": [
      "\u001b[0;31m---------------------------------------------------------------------------\u001b[0m",
      "\u001b[0;31mValueError\u001b[0m                                Traceback (most recent call last)",
      "\u001b[0;32m<ipython-input-55-36e684ee34ab>\u001b[0m in \u001b[0;36m<module>\u001b[0;34m\u001b[0m\n\u001b[1;32m     10\u001b[0m                WHERE defending_type = 11 AND damage_factor = 200)\"\"\")\n\u001b[1;32m     11\u001b[0m \u001b[0mdf_test\u001b[0m \u001b[0;34m=\u001b[0m \u001b[0mpd\u001b[0m\u001b[0;34m.\u001b[0m\u001b[0mDataFrame\u001b[0m\u001b[0;34m(\u001b[0m\u001b[0mcur\u001b[0m\u001b[0;34m.\u001b[0m\u001b[0mfetchall\u001b[0m\u001b[0;34m(\u001b[0m\u001b[0;34m)\u001b[0m\u001b[0;34m)\u001b[0m\u001b[0;34m\u001b[0m\u001b[0;34m\u001b[0m\u001b[0m\n\u001b[0;32m---> 12\u001b[0;31m \u001b[0mdf_test\u001b[0m\u001b[0;34m.\u001b[0m\u001b[0mcolumns\u001b[0m \u001b[0;34m=\u001b[0m \u001b[0;34m[\u001b[0m\u001b[0mi\u001b[0m\u001b[0;34m[\u001b[0m\u001b[0;36m0\u001b[0m\u001b[0;34m]\u001b[0m \u001b[0;32mfor\u001b[0m \u001b[0mi\u001b[0m \u001b[0;32min\u001b[0m \u001b[0mcur\u001b[0m\u001b[0;34m.\u001b[0m\u001b[0mdescription\u001b[0m\u001b[0;34m]\u001b[0m\u001b[0;34m\u001b[0m\u001b[0;34m\u001b[0m\u001b[0m\n\u001b[0m\u001b[1;32m     13\u001b[0m \u001b[0mdf_test\u001b[0m\u001b[0;34m\u001b[0m\u001b[0;34m\u001b[0m\u001b[0m\n",
      "\u001b[0;32m~/opt/anaconda3/envs/learn-env/lib/python3.6/site-packages/pandas/core/generic.py\u001b[0m in \u001b[0;36m__setattr__\u001b[0;34m(self, name, value)\u001b[0m\n\u001b[1;32m   5190\u001b[0m         \u001b[0;32mtry\u001b[0m\u001b[0;34m:\u001b[0m\u001b[0;34m\u001b[0m\u001b[0;34m\u001b[0m\u001b[0m\n\u001b[1;32m   5191\u001b[0m             \u001b[0mobject\u001b[0m\u001b[0;34m.\u001b[0m\u001b[0m__getattribute__\u001b[0m\u001b[0;34m(\u001b[0m\u001b[0mself\u001b[0m\u001b[0;34m,\u001b[0m \u001b[0mname\u001b[0m\u001b[0;34m)\u001b[0m\u001b[0;34m\u001b[0m\u001b[0;34m\u001b[0m\u001b[0m\n\u001b[0;32m-> 5192\u001b[0;31m             \u001b[0;32mreturn\u001b[0m \u001b[0mobject\u001b[0m\u001b[0;34m.\u001b[0m\u001b[0m__setattr__\u001b[0m\u001b[0;34m(\u001b[0m\u001b[0mself\u001b[0m\u001b[0;34m,\u001b[0m \u001b[0mname\u001b[0m\u001b[0;34m,\u001b[0m \u001b[0mvalue\u001b[0m\u001b[0;34m)\u001b[0m\u001b[0;34m\u001b[0m\u001b[0;34m\u001b[0m\u001b[0m\n\u001b[0m\u001b[1;32m   5193\u001b[0m         \u001b[0;32mexcept\u001b[0m \u001b[0mAttributeError\u001b[0m\u001b[0;34m:\u001b[0m\u001b[0;34m\u001b[0m\u001b[0;34m\u001b[0m\u001b[0m\n\u001b[1;32m   5194\u001b[0m             \u001b[0;32mpass\u001b[0m\u001b[0;34m\u001b[0m\u001b[0;34m\u001b[0m\u001b[0m\n",
      "\u001b[0;32mpandas/_libs/properties.pyx\u001b[0m in \u001b[0;36mpandas._libs.properties.AxisProperty.__set__\u001b[0;34m()\u001b[0m\n",
      "\u001b[0;32m~/opt/anaconda3/envs/learn-env/lib/python3.6/site-packages/pandas/core/generic.py\u001b[0m in \u001b[0;36m_set_axis\u001b[0;34m(self, axis, labels)\u001b[0m\n\u001b[1;32m    688\u001b[0m \u001b[0;34m\u001b[0m\u001b[0m\n\u001b[1;32m    689\u001b[0m     \u001b[0;32mdef\u001b[0m \u001b[0m_set_axis\u001b[0m\u001b[0;34m(\u001b[0m\u001b[0mself\u001b[0m\u001b[0;34m,\u001b[0m \u001b[0maxis\u001b[0m\u001b[0;34m,\u001b[0m \u001b[0mlabels\u001b[0m\u001b[0;34m)\u001b[0m\u001b[0;34m:\u001b[0m\u001b[0;34m\u001b[0m\u001b[0;34m\u001b[0m\u001b[0m\n\u001b[0;32m--> 690\u001b[0;31m         \u001b[0mself\u001b[0m\u001b[0;34m.\u001b[0m\u001b[0m_data\u001b[0m\u001b[0;34m.\u001b[0m\u001b[0mset_axis\u001b[0m\u001b[0;34m(\u001b[0m\u001b[0maxis\u001b[0m\u001b[0;34m,\u001b[0m \u001b[0mlabels\u001b[0m\u001b[0;34m)\u001b[0m\u001b[0;34m\u001b[0m\u001b[0;34m\u001b[0m\u001b[0m\n\u001b[0m\u001b[1;32m    691\u001b[0m         \u001b[0mself\u001b[0m\u001b[0;34m.\u001b[0m\u001b[0m_clear_item_cache\u001b[0m\u001b[0;34m(\u001b[0m\u001b[0;34m)\u001b[0m\u001b[0;34m\u001b[0m\u001b[0;34m\u001b[0m\u001b[0m\n\u001b[1;32m    692\u001b[0m \u001b[0;34m\u001b[0m\u001b[0m\n",
      "\u001b[0;32m~/opt/anaconda3/envs/learn-env/lib/python3.6/site-packages/pandas/core/internals/managers.py\u001b[0m in \u001b[0;36mset_axis\u001b[0;34m(self, axis, new_labels)\u001b[0m\n\u001b[1;32m    181\u001b[0m             raise ValueError(\n\u001b[1;32m    182\u001b[0m                 \u001b[0;34m\"Length mismatch: Expected axis has {old} elements, new \"\u001b[0m\u001b[0;34m\u001b[0m\u001b[0;34m\u001b[0m\u001b[0m\n\u001b[0;32m--> 183\u001b[0;31m                 \u001b[0;34m\"values have {new} elements\"\u001b[0m\u001b[0;34m.\u001b[0m\u001b[0mformat\u001b[0m\u001b[0;34m(\u001b[0m\u001b[0mold\u001b[0m\u001b[0;34m=\u001b[0m\u001b[0mold_len\u001b[0m\u001b[0;34m,\u001b[0m \u001b[0mnew\u001b[0m\u001b[0;34m=\u001b[0m\u001b[0mnew_len\u001b[0m\u001b[0;34m)\u001b[0m\u001b[0;34m\u001b[0m\u001b[0;34m\u001b[0m\u001b[0m\n\u001b[0m\u001b[1;32m    184\u001b[0m             )\n\u001b[1;32m    185\u001b[0m \u001b[0;34m\u001b[0m\u001b[0m\n",
      "\u001b[0;31mValueError\u001b[0m: Length mismatch: Expected axis has 0 elements, new values have 2 elements"
     ]
    }
   ],
   "source": [
    "cur.execute(\"\"\"SELECT name, Type1\n",
    "               FROM pokemon\n",
    "               JOIN types t\n",
    "               ON Type1 = t.identifier\n",
    "               JOIN weaknesses\n",
    "               ON t.id = attacking_type\n",
    "               WHERE attacking_type IN \n",
    "               (SELECT attacking_type\n",
    "               FROM weaknesses\n",
    "               WHERE defending_type = 11 AND damage_factor = 200)\"\"\")\n",
    "df_test = pd.DataFrame(cur.fetchall())\n",
    "df_test.columns = [i[0] for i in cur.description]\n",
    "df_test"
=======
   "execution_count": 1,
   "metadata": {
    "ExecuteTime": {
     "end_time": "2020-09-11T03:59:44.747177Z",
     "start_time": "2020-09-11T03:59:44.744497Z"
    }
   },
   "outputs": [],
   "source": [
    "#First, try using a subquery to get types super effective against water."
>>>>>>> e8f0cf370a21e31b9f49cb38b1940afe1434c99a
   ]
  },
  {
   "cell_type": "code",
<<<<<<< HEAD
   "execution_count": 57,
   "metadata": {
    "ExecuteTime": {
     "end_time": "2020-06-25T00:50:32.695086Z",
     "start_time": "2020-06-25T00:50:32.676377Z"
    }
   },
   "outputs": [
    {
     "ename": "ValueError",
     "evalue": "Length mismatch: Expected axis has 0 elements, new values have 2 elements",
     "output_type": "error",
     "traceback": [
      "\u001b[0;31m---------------------------------------------------------------------------\u001b[0m",
      "\u001b[0;31mValueError\u001b[0m                                Traceback (most recent call last)",
      "\u001b[0;32m<ipython-input-57-1fea2ca8c9cb>\u001b[0m in \u001b[0;36m<module>\u001b[0;34m\u001b[0m\n\u001b[1;32m      7\u001b[0m                \"\"\")\n\u001b[1;32m      8\u001b[0m \u001b[0mdf_test\u001b[0m \u001b[0;34m=\u001b[0m \u001b[0mpd\u001b[0m\u001b[0;34m.\u001b[0m\u001b[0mDataFrame\u001b[0m\u001b[0;34m(\u001b[0m\u001b[0mcur\u001b[0m\u001b[0;34m.\u001b[0m\u001b[0mfetchall\u001b[0m\u001b[0;34m(\u001b[0m\u001b[0;34m)\u001b[0m\u001b[0;34m)\u001b[0m\u001b[0;34m\u001b[0m\u001b[0;34m\u001b[0m\u001b[0m\n\u001b[0;32m----> 9\u001b[0;31m \u001b[0mdf_test\u001b[0m\u001b[0;34m.\u001b[0m\u001b[0mcolumns\u001b[0m \u001b[0;34m=\u001b[0m \u001b[0;34m[\u001b[0m\u001b[0mi\u001b[0m\u001b[0;34m[\u001b[0m\u001b[0;36m0\u001b[0m\u001b[0;34m]\u001b[0m \u001b[0;32mfor\u001b[0m \u001b[0mi\u001b[0m \u001b[0;32min\u001b[0m \u001b[0mcur\u001b[0m\u001b[0;34m.\u001b[0m\u001b[0mdescription\u001b[0m\u001b[0;34m]\u001b[0m\u001b[0;34m\u001b[0m\u001b[0;34m\u001b[0m\u001b[0m\n\u001b[0m\u001b[1;32m     10\u001b[0m \u001b[0mdf_test\u001b[0m\u001b[0;34m\u001b[0m\u001b[0;34m\u001b[0m\u001b[0m\n",
      "\u001b[0;32m~/opt/anaconda3/envs/learn-env/lib/python3.6/site-packages/pandas/core/generic.py\u001b[0m in \u001b[0;36m__setattr__\u001b[0;34m(self, name, value)\u001b[0m\n\u001b[1;32m   5190\u001b[0m         \u001b[0;32mtry\u001b[0m\u001b[0;34m:\u001b[0m\u001b[0;34m\u001b[0m\u001b[0;34m\u001b[0m\u001b[0m\n\u001b[1;32m   5191\u001b[0m             \u001b[0mobject\u001b[0m\u001b[0;34m.\u001b[0m\u001b[0m__getattribute__\u001b[0m\u001b[0;34m(\u001b[0m\u001b[0mself\u001b[0m\u001b[0;34m,\u001b[0m \u001b[0mname\u001b[0m\u001b[0;34m)\u001b[0m\u001b[0;34m\u001b[0m\u001b[0;34m\u001b[0m\u001b[0m\n\u001b[0;32m-> 5192\u001b[0;31m             \u001b[0;32mreturn\u001b[0m \u001b[0mobject\u001b[0m\u001b[0;34m.\u001b[0m\u001b[0m__setattr__\u001b[0m\u001b[0;34m(\u001b[0m\u001b[0mself\u001b[0m\u001b[0;34m,\u001b[0m \u001b[0mname\u001b[0m\u001b[0;34m,\u001b[0m \u001b[0mvalue\u001b[0m\u001b[0;34m)\u001b[0m\u001b[0;34m\u001b[0m\u001b[0;34m\u001b[0m\u001b[0m\n\u001b[0m\u001b[1;32m   5193\u001b[0m         \u001b[0;32mexcept\u001b[0m \u001b[0mAttributeError\u001b[0m\u001b[0;34m:\u001b[0m\u001b[0;34m\u001b[0m\u001b[0;34m\u001b[0m\u001b[0m\n\u001b[1;32m   5194\u001b[0m             \u001b[0;32mpass\u001b[0m\u001b[0;34m\u001b[0m\u001b[0;34m\u001b[0m\u001b[0m\n",
      "\u001b[0;32mpandas/_libs/properties.pyx\u001b[0m in \u001b[0;36mpandas._libs.properties.AxisProperty.__set__\u001b[0;34m()\u001b[0m\n",
      "\u001b[0;32m~/opt/anaconda3/envs/learn-env/lib/python3.6/site-packages/pandas/core/generic.py\u001b[0m in \u001b[0;36m_set_axis\u001b[0;34m(self, axis, labels)\u001b[0m\n\u001b[1;32m    688\u001b[0m \u001b[0;34m\u001b[0m\u001b[0m\n\u001b[1;32m    689\u001b[0m     \u001b[0;32mdef\u001b[0m \u001b[0m_set_axis\u001b[0m\u001b[0;34m(\u001b[0m\u001b[0mself\u001b[0m\u001b[0;34m,\u001b[0m \u001b[0maxis\u001b[0m\u001b[0;34m,\u001b[0m \u001b[0mlabels\u001b[0m\u001b[0;34m)\u001b[0m\u001b[0;34m:\u001b[0m\u001b[0;34m\u001b[0m\u001b[0;34m\u001b[0m\u001b[0m\n\u001b[0;32m--> 690\u001b[0;31m         \u001b[0mself\u001b[0m\u001b[0;34m.\u001b[0m\u001b[0m_data\u001b[0m\u001b[0;34m.\u001b[0m\u001b[0mset_axis\u001b[0m\u001b[0;34m(\u001b[0m\u001b[0maxis\u001b[0m\u001b[0;34m,\u001b[0m \u001b[0mlabels\u001b[0m\u001b[0;34m)\u001b[0m\u001b[0;34m\u001b[0m\u001b[0;34m\u001b[0m\u001b[0m\n\u001b[0m\u001b[1;32m    691\u001b[0m         \u001b[0mself\u001b[0m\u001b[0;34m.\u001b[0m\u001b[0m_clear_item_cache\u001b[0m\u001b[0;34m(\u001b[0m\u001b[0;34m)\u001b[0m\u001b[0;34m\u001b[0m\u001b[0;34m\u001b[0m\u001b[0m\n\u001b[1;32m    692\u001b[0m \u001b[0;34m\u001b[0m\u001b[0m\n",
      "\u001b[0;32m~/opt/anaconda3/envs/learn-env/lib/python3.6/site-packages/pandas/core/internals/managers.py\u001b[0m in \u001b[0;36mset_axis\u001b[0;34m(self, axis, new_labels)\u001b[0m\n\u001b[1;32m    181\u001b[0m             raise ValueError(\n\u001b[1;32m    182\u001b[0m                 \u001b[0;34m\"Length mismatch: Expected axis has {old} elements, new \"\u001b[0m\u001b[0;34m\u001b[0m\u001b[0;34m\u001b[0m\u001b[0m\n\u001b[0;32m--> 183\u001b[0;31m                 \u001b[0;34m\"values have {new} elements\"\u001b[0m\u001b[0;34m.\u001b[0m\u001b[0mformat\u001b[0m\u001b[0;34m(\u001b[0m\u001b[0mold\u001b[0m\u001b[0;34m=\u001b[0m\u001b[0mold_len\u001b[0m\u001b[0;34m,\u001b[0m \u001b[0mnew\u001b[0m\u001b[0;34m=\u001b[0m\u001b[0mnew_len\u001b[0m\u001b[0;34m)\u001b[0m\u001b[0;34m\u001b[0m\u001b[0;34m\u001b[0m\u001b[0m\n\u001b[0m\u001b[1;32m    184\u001b[0m             )\n\u001b[1;32m    185\u001b[0m \u001b[0;34m\u001b[0m\u001b[0m\n",
      "\u001b[0;31mValueError\u001b[0m: Length mismatch: Expected axis has 0 elements, new values have 2 elements"
     ]
    }
   ],
   "source": [
    "cur.execute(\"\"\"SELECT name, Type1\n",
    "               FROM pokemon p\n",
    "               JOIN types t\n",
    "               ON p.Type1 = t.identifier\n",
    "               JOIN weaknesses\n",
    "               ON t.id = attacking_type\n",
    "               \"\"\")\n",
    "df_test = pd.DataFrame(cur.fetchall())\n",
    "df_test.columns = [i[0] for i in cur.description]\n",
    "df_test"
   ]
=======
   "execution_count": null,
   "metadata": {},
   "outputs": [],
   "source": []
>>>>>>> e8f0cf370a21e31b9f49cb38b1940afe1434c99a
  },
  {
   "cell_type": "markdown",
   "metadata": {},
   "source": [
    "## INSERT"
   ]
  },
  {
   "cell_type": "markdown",
   "metadata": {},
   "source": [
    "### <center>A new Pokemon was discovered! </center>\n",
    "\n",
    "<img src='celebi.png'></img>"
   ]
  },
  {
   "cell_type": "markdown",
   "metadata": {},
   "source": [
    "### Add Celebi to the database. Celebi is a Psychic and Grass type Pokemon who is 2 feet tall and weighs 11 pounds. Celebi is of the genus 'onion' and has a Pokedex ID of 251."
   ]
  },
  {
   "cell_type": "code",
   "execution_count": null,
   "metadata": {},
   "outputs": [],
   "source": []
  },
  {
   "cell_type": "markdown",
   "metadata": {},
   "source": [
    "## Database Management\n",
    "\n",
    "Pokemon were recently discovered to have unique abilities. Add a new table to the database to store these abilties. Make sure to include the ability name, an ability ID, and a text description of the ability's effect.\n",
    "\n",
    "Also, add the ability called Flash Fire. It should have an ID of 18 and has the effect \"Immune to Fire type moves. Being attacked by a fire-type move increase the power of future Fire type attacks.\"\n"
   ]
  },
  {
   "cell_type": "code",
   "execution_count": null,
   "metadata": {},
   "outputs": [],
   "source": []
  },
  {
   "cell_type": "code",
   "execution_count": null,
   "metadata": {},
   "outputs": [],
   "source": []
  },
  {
   "cell_type": "code",
   "execution_count": null,
   "metadata": {},
   "outputs": [],
   "source": []
  },
  {
   "cell_type": "markdown",
   "metadata": {},
   "source": [
    "## Challenge Activity\n",
    "\n",
    " <center>You're about to face gym leader Sabrina who has a team full of Psychic type Pokemon. \n",
    "    \n",
    "<img src='sabrina.png'></img>\n",
    "\n",
    "<center>Your team currently consists of a Hitmonchan and an Arbok, both of which are weak to Psychic type attacks and have no moves that will be super effective against Psychic Pokemon.\n",
    "    \n",
    "<img src='team.jpg'></img>\n",
    "\n",
    "Assuming the highest level of Pokemon you could currently catch is 20, you want to find a Pokemon that has an attack which is super effective against Psychic type Pokemon with the highest possible power level. That Pokemon should also not be weak to Psychic type attacks.\n",
    "\n",
    "**Which Pokemon should you try and catch to defeat Sabrina?**"
   ]
  },
  {
   "cell_type": "markdown",
   "metadata": {},
   "source": [
    "#### Hints:\n",
    "- Your answer should return the name of the Pokemon, the name of the move, the power of the move, and the level at which the Pokemon learns the move.\n",
    "- If you need to compare text values and the columns do not have the same formatting (case-wise) you can use LOWER() to allow you to compare them.\n",
    "- If you have two columns of the same name from two different tables, you have to specify which one you are going to use. For example - pokemon.id vs types.id"
   ]
  },
  {
   "cell_type": "code",
   "execution_count": null,
   "metadata": {},
   "outputs": [],
   "source": []
  }
 ],
 "metadata": {
  "kernelspec": {
   "display_name": "learn-env",
   "language": "python",
   "name": "learn-env"
  },
  "language_info": {
   "codemirror_mode": {
    "name": "ipython",
    "version": 3
   },
   "file_extension": ".py",
   "mimetype": "text/x-python",
   "name": "python",
   "nbconvert_exporter": "python",
   "pygments_lexer": "ipython3",
<<<<<<< HEAD
   "version": "3.6.9"
=======
   "version": "3.6.6"
>>>>>>> e8f0cf370a21e31b9f49cb38b1940afe1434c99a
  },
  "toc": {
   "base_numbering": 1,
   "nav_menu": {},
   "number_sections": true,
   "sideBar": true,
   "skip_h1_title": true,
   "title_cell": "Table of Contents",
   "title_sidebar": "Contents",
   "toc_cell": false,
   "toc_position": {},
   "toc_section_display": true,
   "toc_window_display": false
<<<<<<< HEAD
  },
  "varInspector": {
   "cols": {
    "lenName": 16,
    "lenType": 16,
    "lenVar": 40
   },
   "kernels_config": {
    "python": {
     "delete_cmd_postfix": "",
     "delete_cmd_prefix": "del ",
     "library": "var_list.py",
     "varRefreshCmd": "print(var_dic_list())"
    },
    "r": {
     "delete_cmd_postfix": ") ",
     "delete_cmd_prefix": "rm(",
     "library": "var_list.r",
     "varRefreshCmd": "cat(var_dic_list()) "
    }
   },
   "types_to_exclude": [
    "module",
    "function",
    "builtin_function_or_method",
    "instance",
    "_Feature"
   ],
   "window_display": false
=======
>>>>>>> e8f0cf370a21e31b9f49cb38b1940afe1434c99a
  }
 },
 "nbformat": 4,
 "nbformat_minor": 2
}
