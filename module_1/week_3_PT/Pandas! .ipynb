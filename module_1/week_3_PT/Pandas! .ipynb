{
 "cells": [
  {
   "cell_type": "markdown",
   "metadata": {},
   "source": [
    "# Practice Cleaning/EDA - Car Dataset \n",
    "Pandas is the primary library that we will use for pre-processing and exploring out data! Get familiar with it. Learn it. Love it. It's your life now. \n",
    "[Pandas Documentation](https://pandas.pydata.org/docs/user_guide/index.html)"
   ]
  },
  {
   "cell_type": "markdown",
   "metadata": {},
   "source": [
    "## Load Libraries "
   ]
  },
  {
   "cell_type": "code",
   "execution_count": 25,
   "metadata": {
    "ExecuteTime": {
     "end_time": "2020-06-11T22:22:51.893307Z",
     "start_time": "2020-06-11T22:22:50.796578Z"
    }
   },
   "outputs": [],
   "source": [
    "import pandas as pd\n",
    "import numpy as np \n",
    "import seaborn as sns\n",
    "import matplotlib.pyplot as plt\n",
    "%matplotlib inline\n",
    "\n",
    "plt.style.use('ggplot')"
   ]
  },
  {
   "cell_type": "code",
   "execution_count": 26,
   "metadata": {
    "ExecuteTime": {
     "end_time": "2020-06-11T22:23:03.242223Z",
     "start_time": "2020-06-11T22:23:03.237547Z"
    }
   },
   "outputs": [
    {
     "data": {
      "text/plain": [
       "['seaborn-dark',\n",
       " 'seaborn-darkgrid',\n",
       " 'seaborn-ticks',\n",
       " 'fivethirtyeight',\n",
       " 'seaborn-whitegrid',\n",
       " 'classic',\n",
       " '_classic_test',\n",
       " 'fast',\n",
       " 'seaborn-talk',\n",
       " 'seaborn-dark-palette',\n",
       " 'seaborn-bright',\n",
       " 'seaborn-pastel',\n",
       " 'grayscale',\n",
       " 'seaborn-notebook',\n",
       " 'ggplot',\n",
       " 'seaborn-colorblind',\n",
       " 'seaborn-muted',\n",
       " 'seaborn',\n",
       " 'Solarize_Light2',\n",
       " 'seaborn-paper',\n",
       " 'bmh',\n",
       " 'tableau-colorblind10',\n",
       " 'seaborn-white',\n",
       " 'dark_background',\n",
       " 'seaborn-poster',\n",
       " 'seaborn-deep']"
      ]
     },
<<<<<<< HEAD
     "execution_count": 26,
=======
     "execution_count": 2,
>>>>>>> 3746ff7fb952eff387572f5a2020cca7d6f8645a
     "metadata": {},
     "output_type": "execute_result"
    }
   ],
   "source": [
    "#check out the matplotlib 'styles'\n",
    "plt.style.available"
   ]
  },
  {
   "cell_type": "markdown",
   "metadata": {},
   "source": [
    "## Load the Data \n",
    "- Get and research the data\n",
    "- Load into notebook with Pandas\n",
    "- View basic info and summary stats"
   ]
  },
  {
   "cell_type": "code",
   "execution_count": 3,
   "metadata": {
    "ExecuteTime": {
     "end_time": "2020-06-11T22:25:30.331328Z",
     "start_time": "2020-06-11T22:25:30.232554Z"
    }
   },
   "outputs": [
    {
     "data": {
      "text/html": [
       "<div>\n",
       "<style scoped>\n",
       "    .dataframe tbody tr th:only-of-type {\n",
       "        vertical-align: middle;\n",
       "    }\n",
       "\n",
       "    .dataframe tbody tr th {\n",
       "        vertical-align: top;\n",
       "    }\n",
       "\n",
       "    .dataframe thead th {\n",
       "        text-align: right;\n",
       "    }\n",
       "</style>\n",
       "<table border=\"1\" class=\"dataframe\">\n",
       "  <thead>\n",
       "    <tr style=\"text-align: right;\">\n",
       "      <th></th>\n",
       "      <th>Make</th>\n",
       "      <th>Model</th>\n",
       "      <th>Year</th>\n",
       "      <th>Engine Fuel Type</th>\n",
       "      <th>Engine HP</th>\n",
       "      <th>Engine Cylinders</th>\n",
       "      <th>Transmission Type</th>\n",
       "      <th>Driven_Wheels</th>\n",
       "      <th>Number of Doors</th>\n",
       "      <th>Market Category</th>\n",
       "      <th>Vehicle Size</th>\n",
       "      <th>Vehicle Style</th>\n",
       "      <th>highway MPG</th>\n",
       "      <th>city mpg</th>\n",
       "      <th>Popularity</th>\n",
       "      <th>MSRP</th>\n",
       "    </tr>\n",
       "  </thead>\n",
       "  <tbody>\n",
       "    <tr>\n",
<<<<<<< HEAD
       "      <td>0</td>\n",
=======
       "      <th>0</th>\n",
>>>>>>> 3746ff7fb952eff387572f5a2020cca7d6f8645a
       "      <td>BMW</td>\n",
       "      <td>1 Series M</td>\n",
       "      <td>2011</td>\n",
       "      <td>premium unleaded (required)</td>\n",
       "      <td>335.0</td>\n",
       "      <td>6.0</td>\n",
       "      <td>MANUAL</td>\n",
       "      <td>rear wheel drive</td>\n",
       "      <td>2.0</td>\n",
       "      <td>Factory Tuner,Luxury,High-Performance</td>\n",
       "      <td>Compact</td>\n",
       "      <td>Coupe</td>\n",
       "      <td>26</td>\n",
       "      <td>19</td>\n",
       "      <td>3916</td>\n",
       "      <td>46135</td>\n",
       "    </tr>\n",
       "    <tr>\n",
<<<<<<< HEAD
       "      <td>1</td>\n",
=======
       "      <th>1</th>\n",
>>>>>>> 3746ff7fb952eff387572f5a2020cca7d6f8645a
       "      <td>BMW</td>\n",
       "      <td>1 Series</td>\n",
       "      <td>2011</td>\n",
       "      <td>premium unleaded (required)</td>\n",
       "      <td>300.0</td>\n",
       "      <td>6.0</td>\n",
       "      <td>MANUAL</td>\n",
       "      <td>rear wheel drive</td>\n",
       "      <td>2.0</td>\n",
       "      <td>Luxury,Performance</td>\n",
       "      <td>Compact</td>\n",
       "      <td>Convertible</td>\n",
       "      <td>28</td>\n",
       "      <td>19</td>\n",
       "      <td>3916</td>\n",
       "      <td>40650</td>\n",
       "    </tr>\n",
       "    <tr>\n",
<<<<<<< HEAD
       "      <td>2</td>\n",
=======
       "      <th>2</th>\n",
>>>>>>> 3746ff7fb952eff387572f5a2020cca7d6f8645a
       "      <td>BMW</td>\n",
       "      <td>1 Series</td>\n",
       "      <td>2011</td>\n",
       "      <td>premium unleaded (required)</td>\n",
       "      <td>300.0</td>\n",
       "      <td>6.0</td>\n",
       "      <td>MANUAL</td>\n",
       "      <td>rear wheel drive</td>\n",
       "      <td>2.0</td>\n",
       "      <td>Luxury,High-Performance</td>\n",
       "      <td>Compact</td>\n",
       "      <td>Coupe</td>\n",
       "      <td>28</td>\n",
       "      <td>20</td>\n",
       "      <td>3916</td>\n",
       "      <td>36350</td>\n",
       "    </tr>\n",
       "    <tr>\n",
<<<<<<< HEAD
       "      <td>3</td>\n",
=======
       "      <th>3</th>\n",
>>>>>>> 3746ff7fb952eff387572f5a2020cca7d6f8645a
       "      <td>BMW</td>\n",
       "      <td>1 Series</td>\n",
       "      <td>2011</td>\n",
       "      <td>premium unleaded (required)</td>\n",
       "      <td>230.0</td>\n",
       "      <td>6.0</td>\n",
       "      <td>MANUAL</td>\n",
       "      <td>rear wheel drive</td>\n",
       "      <td>2.0</td>\n",
       "      <td>Luxury,Performance</td>\n",
       "      <td>Compact</td>\n",
       "      <td>Coupe</td>\n",
       "      <td>28</td>\n",
       "      <td>18</td>\n",
       "      <td>3916</td>\n",
       "      <td>29450</td>\n",
       "    </tr>\n",
       "    <tr>\n",
<<<<<<< HEAD
       "      <td>4</td>\n",
=======
       "      <th>4</th>\n",
>>>>>>> 3746ff7fb952eff387572f5a2020cca7d6f8645a
       "      <td>BMW</td>\n",
       "      <td>1 Series</td>\n",
       "      <td>2011</td>\n",
       "      <td>premium unleaded (required)</td>\n",
       "      <td>230.0</td>\n",
       "      <td>6.0</td>\n",
       "      <td>MANUAL</td>\n",
       "      <td>rear wheel drive</td>\n",
       "      <td>2.0</td>\n",
       "      <td>Luxury</td>\n",
       "      <td>Compact</td>\n",
       "      <td>Convertible</td>\n",
       "      <td>28</td>\n",
       "      <td>18</td>\n",
       "      <td>3916</td>\n",
       "      <td>34500</td>\n",
       "    </tr>\n",
       "  </tbody>\n",
       "</table>\n",
       "</div>"
      ],
      "text/plain": [
       "  Make       Model  Year             Engine Fuel Type  Engine HP  \\\n",
       "0  BMW  1 Series M  2011  premium unleaded (required)      335.0   \n",
       "1  BMW    1 Series  2011  premium unleaded (required)      300.0   \n",
       "2  BMW    1 Series  2011  premium unleaded (required)      300.0   \n",
       "3  BMW    1 Series  2011  premium unleaded (required)      230.0   \n",
       "4  BMW    1 Series  2011  premium unleaded (required)      230.0   \n",
       "\n",
       "   Engine Cylinders Transmission Type     Driven_Wheels  Number of Doors  \\\n",
       "0               6.0            MANUAL  rear wheel drive              2.0   \n",
       "1               6.0            MANUAL  rear wheel drive              2.0   \n",
       "2               6.0            MANUAL  rear wheel drive              2.0   \n",
       "3               6.0            MANUAL  rear wheel drive              2.0   \n",
       "4               6.0            MANUAL  rear wheel drive              2.0   \n",
       "\n",
       "                         Market Category Vehicle Size Vehicle Style  \\\n",
       "0  Factory Tuner,Luxury,High-Performance      Compact         Coupe   \n",
       "1                     Luxury,Performance      Compact   Convertible   \n",
       "2                Luxury,High-Performance      Compact         Coupe   \n",
       "3                     Luxury,Performance      Compact         Coupe   \n",
       "4                                 Luxury      Compact   Convertible   \n",
       "\n",
       "   highway MPG  city mpg  Popularity   MSRP  \n",
       "0           26        19        3916  46135  \n",
       "1           28        19        3916  40650  \n",
       "2           28        20        3916  36350  \n",
       "3           28        18        3916  29450  \n",
       "4           28        18        3916  34500  "
      ]
     },
     "execution_count": 3,
     "metadata": {},
     "output_type": "execute_result"
    }
   ],
   "source": [
    "#import data \n",
<<<<<<< HEAD
    "df = pd.read_csv('data.csv')\n",
=======
    "df = pd.read_csv(\"data.csv\")\n",
>>>>>>> 3746ff7fb952eff387572f5a2020cca7d6f8645a
    "df.head()"
   ]
  },
  {
   "cell_type": "code",
   "execution_count": 4,
   "metadata": {
    "ExecuteTime": {
     "end_time": "2020-06-11T22:27:02.376217Z",
     "start_time": "2020-06-11T22:27:02.361421Z"
    }
   },
   "outputs": [
    {
     "name": "stdout",
     "output_type": "stream",
     "text": [
      "<class 'pandas.core.frame.DataFrame'>\n",
      "RangeIndex: 11914 entries, 0 to 11913\n",
      "Data columns (total 16 columns):\n",
      "Make                 11914 non-null object\n",
      "Model                11914 non-null object\n",
      "Year                 11914 non-null int64\n",
      "Engine Fuel Type     11911 non-null object\n",
      "Engine HP            11845 non-null float64\n",
      "Engine Cylinders     11884 non-null float64\n",
      "Transmission Type    11914 non-null object\n",
      "Driven_Wheels        11914 non-null object\n",
      "Number of Doors      11908 non-null float64\n",
      "Market Category      8172 non-null object\n",
      "Vehicle Size         11914 non-null object\n",
      "Vehicle Style        11914 non-null object\n",
      "highway MPG          11914 non-null int64\n",
      "city mpg             11914 non-null int64\n",
      "Popularity           11914 non-null int64\n",
      "MSRP                 11914 non-null int64\n",
      "dtypes: float64(3), int64(5), object(8)\n",
      "memory usage: 1.5+ MB\n"
     ]
    }
   ],
   "source": [
    "#view information about the dataset \n",
    "df.info()"
   ]
  },
  {
   "cell_type": "markdown",
   "metadata": {},
   "source": [
    "## Scrub the Data\n",
    "* Do we have missing values? \n",
    "* Do we need to change any of our dtypes? \n",
    "* How about the column names? \n",
    "    - NO SPACES\n",
<<<<<<< HEAD
    "    - NO SPECIAL CHARACTERS\n",
=======
    "    - NO SPECIAL CHARACTERS \n",
>>>>>>> 3746ff7fb952eff387572f5a2020cca7d6f8645a
    "* Should we drop any columns? \n",
    "* Are there duplicates? Missing or Null values? \n",
    "* Check for outliers. "
   ]
  },
  {
   "cell_type": "code",
   "execution_count": 9,
   "metadata": {
    "ExecuteTime": {
     "end_time": "2020-06-11T22:39:51.728391Z",
     "start_time": "2020-06-11T22:39:51.724255Z"
    }
   },
   "outputs": [
    {
     "data": {
      "text/plain": [
<<<<<<< HEAD
       "Index(['make', 'model', 'year', 'engine_fuel_type', 'engine_hp',\n",
       "       'engine_cylinders', 'transmission_type', 'driven_wheels',\n",
       "       'number_of_doors', 'market_category', 'vehicle_size', 'vehicle_style',\n",
       "       'highway_mpg', 'city_mpg', 'popularity', 'msrp'],\n",
=======
       "Index(['Make', 'Model', 'Year', 'Engine_Fuel_Type', 'Engine_HP',\n",
       "       'Engine_Cylinders', 'Transmission_Type', 'Driven_Wheels',\n",
       "       'Number_of_Doors', 'Market_Category', 'Vehicle_Size', 'Vehicle_Style',\n",
       "       'highway_MPG', 'city_mpg', 'Popularity', 'MSRP'],\n",
>>>>>>> 3746ff7fb952eff387572f5a2020cca7d6f8645a
       "      dtype='object')"
      ]
     },
     "execution_count": 9,
     "metadata": {},
     "output_type": "execute_result"
    }
   ],
   "source": [
<<<<<<< HEAD
    "#rename columns\n",
    "df.columns = df.columns.str.replace(\" \", \"_\")\n",
    "#df = df.rename(columns={}) #rename with dictionary pairs\n",
    "df.columns\n",
    "df.columns = df.columns.str.lower()\n",
    "df.columns"
=======
    "#rename columns \n",
    "df.columns = df.columns.str.replace(\" \", \"_\")\n",
    "#df = df.rename(columns={'Engine Fuel Type': 'fuel_type', 'Engine HP': 'EHP',\n",
    "                       #'Engine Cylinders': 'cylinders'})\n"
>>>>>>> 3746ff7fb952eff387572f5a2020cca7d6f8645a
   ]
  },
  {
   "cell_type": "code",
<<<<<<< HEAD
   "execution_count": 15,
=======
   "execution_count": 12,
>>>>>>> 3746ff7fb952eff387572f5a2020cca7d6f8645a
   "metadata": {
    "ExecuteTime": {
     "end_time": "2020-06-11T22:41:07.668238Z",
     "start_time": "2020-06-11T22:41:07.664480Z"
    }
   },
   "outputs": [
    {
<<<<<<< HEAD
     "name": "stdout",
     "output_type": "stream",
     "text": [
      "(0, 16)\n",
      "<class 'pandas.core.frame.DataFrame'>\n",
      "Int64Index: 11199 entries, 0 to 11913\n",
      "Data columns (total 16 columns):\n",
      "make                 11199 non-null object\n",
      "model                11199 non-null object\n",
      "year                 11199 non-null int64\n",
      "engine_fuel_type     11196 non-null object\n",
      "engine_hp            11130 non-null float64\n",
      "engine_cylinders     11169 non-null float64\n",
      "transmission_type    11199 non-null object\n",
      "driven_wheels        11199 non-null object\n",
      "number_of_doors      11193 non-null float64\n",
      "market_category      7823 non-null object\n",
      "vehicle_size         11199 non-null object\n",
      "vehicle_style        11199 non-null object\n",
      "highway_mpg          11199 non-null int64\n",
      "city_mpg             11199 non-null int64\n",
      "popularity           11199 non-null int64\n",
      "msrp                 11199 non-null int64\n",
      "dtypes: float64(3), int64(5), object(8)\n",
      "memory usage: 1.5+ MB\n"
     ]
    }
   ],
   "source": [
    "#checking for duplicates and drop if any\n",
    "dup_rows_df = df[df.duplicated()]\n",
    "print(dup_rows_df.shape)\n",
    "df = df.drop_duplicates()\n",
    "df.info()"
=======
     "data": {
      "text/plain": [
       "Index(['make', 'model', 'year', 'engine_fuel_type', 'engine_hp',\n",
       "       'engine_cylinders', 'transmission_type', 'driven_wheels',\n",
       "       'number_of_doors', 'market_category', 'vehicle_size', 'vehicle_style',\n",
       "       'highway_mpg', 'city_mpg', 'popularity', 'msrp'],\n",
       "      dtype='object')"
      ]
     },
     "execution_count": 12,
     "metadata": {},
     "output_type": "execute_result"
    }
   ],
   "source": [
    "df.columns = df.columns.str.lower()\n",
    "df.columns"
>>>>>>> 3746ff7fb952eff387572f5a2020cca7d6f8645a
   ]
  },
  {
   "cell_type": "code",
<<<<<<< HEAD
   "execution_count": 16,
   "metadata": {
    "ExecuteTime": {
     "end_time": "2020-06-11T21:17:07.358582Z",
     "start_time": "2020-06-11T21:17:07.356068Z"
    },
    "scrolled": true
=======
   "execution_count": 13,
   "metadata": {
    "ExecuteTime": {
     "end_time": "2020-06-11T22:42:19.025146Z",
     "start_time": "2020-06-11T22:42:19.008154Z"
    }
>>>>>>> 3746ff7fb952eff387572f5a2020cca7d6f8645a
   },
   "outputs": [
    {
     "name": "stdout",
     "output_type": "stream",
     "text": [
<<<<<<< HEAD
      "make                    0\n",
      "model                   0\n",
      "year                    0\n",
      "engine_fuel_type        3\n",
      "engine_hp              69\n",
      "engine_cylinders       30\n",
      "transmission_type       0\n",
      "driven_wheels           0\n",
      "number_of_doors         6\n",
      "market_category      3376\n",
      "vehicle_size            0\n",
      "vehicle_style           0\n",
      "highway_mpg             0\n",
      "city_mpg                0\n",
      "popularity              0\n",
      "msrp                    0\n",
      "dtype: int64\n"
=======
      "(715, 16)\n"
     ]
    }
   ],
   "source": [
    "#checking for duplicates and drop if any\n",
    "dup_rows_df = df[df.duplicated()]\n",
    "print(dup_rows_df.shape)"
   ]
  },
  {
   "cell_type": "code",
   "execution_count": 15,
   "metadata": {
    "ExecuteTime": {
     "end_time": "2020-06-11T22:42:42.046760Z",
     "start_time": "2020-06-11T22:42:42.043363Z"
    }
   },
   "outputs": [
    {
     "data": {
      "text/plain": [
       "(11914, 16)"
      ]
     },
     "execution_count": 15,
     "metadata": {},
     "output_type": "execute_result"
    }
   ],
   "source": [
    "df.shape"
   ]
  },
  {
   "cell_type": "code",
   "execution_count": 16,
   "metadata": {
    "ExecuteTime": {
     "end_time": "2020-06-11T22:45:11.023623Z",
     "start_time": "2020-06-11T22:45:11.001179Z"
    }
   },
   "outputs": [
    {
     "name": "stdout",
     "output_type": "stream",
     "text": [
      "<class 'pandas.core.frame.DataFrame'>\n",
      "Int64Index: 11199 entries, 0 to 11913\n",
      "Data columns (total 16 columns):\n",
      "make                 11199 non-null object\n",
      "model                11199 non-null object\n",
      "year                 11199 non-null int64\n",
      "engine_fuel_type     11196 non-null object\n",
      "engine_hp            11130 non-null float64\n",
      "engine_cylinders     11169 non-null float64\n",
      "transmission_type    11199 non-null object\n",
      "driven_wheels        11199 non-null object\n",
      "number_of_doors      11193 non-null float64\n",
      "market_category      7823 non-null object\n",
      "vehicle_size         11199 non-null object\n",
      "vehicle_style        11199 non-null object\n",
      "highway_mpg          11199 non-null int64\n",
      "city_mpg             11199 non-null int64\n",
      "popularity           11199 non-null int64\n",
      "msrp                 11199 non-null int64\n",
      "dtypes: float64(3), int64(5), object(8)\n",
      "memory usage: 1.5+ MB\n"
>>>>>>> 3746ff7fb952eff387572f5a2020cca7d6f8645a
     ]
    }
   ],
   "source": [
<<<<<<< HEAD
    "#are there any missing rows? Deal with them. \n",
    "#solutions: Replace with median, mode, or mean\n",
=======
    "df = df.drop_duplicates()\n",
    "df.info()"
   ]
  },
  {
   "cell_type": "code",
   "execution_count": 17,
   "metadata": {
    "ExecuteTime": {
     "end_time": "2020-06-11T22:46:21.389008Z",
     "start_time": "2020-06-11T22:46:21.380176Z"
    }
   },
   "outputs": [
    {
     "name": "stdout",
     "output_type": "stream",
     "text": [
      "make                    0\n",
      "model                   0\n",
      "year                    0\n",
      "engine_fuel_type        3\n",
      "engine_hp              69\n",
      "engine_cylinders       30\n",
      "transmission_type       0\n",
      "driven_wheels           0\n",
      "number_of_doors         6\n",
      "market_category      3376\n",
      "vehicle_size            0\n",
      "vehicle_style           0\n",
      "highway_mpg             0\n",
      "city_mpg                0\n",
      "popularity              0\n",
      "msrp                    0\n",
      "dtype: int64\n"
     ]
    }
   ],
   "source": [
    "#are there any missing rows? Deal with them. \n",
    "#solutions: Replace with median/mode/mean\n",
>>>>>>> 3746ff7fb952eff387572f5a2020cca7d6f8645a
    "print(df.isnull().sum())"
   ]
  },
  {
   "cell_type": "code",
   "execution_count": 18,
<<<<<<< HEAD
   "metadata": {},
=======
   "metadata": {
    "ExecuteTime": {
     "end_time": "2020-06-11T22:52:36.808708Z",
     "start_time": "2020-06-11T22:52:36.791146Z"
    }
   },
>>>>>>> 3746ff7fb952eff387572f5a2020cca7d6f8645a
   "outputs": [
    {
     "name": "stdout",
     "output_type": "stream",
     "text": [
      "make                 0\n",
      "model                0\n",
      "year                 0\n",
      "engine_fuel_type     0\n",
      "engine_hp            0\n",
      "engine_cylinders     0\n",
      "transmission_type    0\n",
      "driven_wheels        0\n",
      "number_of_doors      0\n",
      "market_category      0\n",
      "vehicle_size         0\n",
      "vehicle_style        0\n",
      "highway_mpg          0\n",
      "city_mpg             0\n",
      "popularity           0\n",
      "msrp                 0\n",
      "dtype: int64\n"
     ]
    }
   ],
   "source": [
    "df = df.dropna()\n",
    "print(df.isnull().sum())"
   ]
  },
  {
   "cell_type": "markdown",
   "metadata": {},
   "source": [
    "## Exploratory Data Analysis \n",
    "- summarize main characteristics of the data\n",
    "- gain better understanding of the data-set,\n",
    "- uncover relationships between different variables, and\n",
    "- extract important variables for the problem we are trying to solve\n",
    "\n",
    "#### Helpful methods include:\n",
    "- unique()\n",
    "- value_counts()"
   ]
  },
  {
   "cell_type": "code",
   "execution_count": 19,
   "metadata": {
    "ExecuteTime": {
     "end_time": "2020-06-11T22:54:36.393811Z",
     "start_time": "2020-06-11T22:54:36.354712Z"
    }
   },
   "outputs": [
    {
     "data": {
      "text/html": [
       "<div>\n",
       "<style scoped>\n",
       "    .dataframe tbody tr th:only-of-type {\n",
       "        vertical-align: middle;\n",
       "    }\n",
       "\n",
       "    .dataframe tbody tr th {\n",
       "        vertical-align: top;\n",
       "    }\n",
       "\n",
       "    .dataframe thead th {\n",
       "        text-align: right;\n",
       "    }\n",
       "</style>\n",
       "<table border=\"1\" class=\"dataframe\">\n",
       "  <thead>\n",
       "    <tr style=\"text-align: right;\">\n",
       "      <th></th>\n",
       "      <th>year</th>\n",
       "      <th>engine_hp</th>\n",
       "      <th>engine_cylinders</th>\n",
       "      <th>number_of_doors</th>\n",
       "      <th>highway_mpg</th>\n",
       "      <th>city_mpg</th>\n",
       "      <th>popularity</th>\n",
       "      <th>msrp</th>\n",
       "    </tr>\n",
       "  </thead>\n",
       "  <tbody>\n",
       "    <tr>\n",
<<<<<<< HEAD
       "      <td>count</td>\n",
=======
       "      <th>count</th>\n",
>>>>>>> 3746ff7fb952eff387572f5a2020cca7d6f8645a
       "      <td>7735.00000</td>\n",
       "      <td>7735.000000</td>\n",
       "      <td>7735.000000</td>\n",
       "      <td>7735.000000</td>\n",
       "      <td>7735.00000</td>\n",
       "      <td>7735.000000</td>\n",
       "      <td>7735.000000</td>\n",
       "      <td>7.735000e+03</td>\n",
       "    </tr>\n",
       "    <tr>\n",
<<<<<<< HEAD
       "      <td>mean</td>\n",
=======
       "      <th>mean</th>\n",
>>>>>>> 3746ff7fb952eff387572f5a2020cca7d6f8645a
       "      <td>2012.14958</td>\n",
       "      <td>277.632062</td>\n",
       "      <td>5.825469</td>\n",
       "      <td>3.421332</td>\n",
       "      <td>26.52980</td>\n",
       "      <td>19.468649</td>\n",
       "      <td>1513.098772</td>\n",
       "      <td>5.102826e+04</td>\n",
       "    </tr>\n",
       "    <tr>\n",
<<<<<<< HEAD
       "      <td>std</td>\n",
=======
       "      <th>std</th>\n",
>>>>>>> 3746ff7fb952eff387572f5a2020cca7d6f8645a
       "      <td>6.23167</td>\n",
       "      <td>115.529955</td>\n",
       "      <td>1.895593</td>\n",
       "      <td>0.895054</td>\n",
       "      <td>7.78492</td>\n",
       "      <td>7.231534</td>\n",
       "      <td>1429.197317</td>\n",
       "      <td>7.153777e+04</td>\n",
       "    </tr>\n",
       "    <tr>\n",
<<<<<<< HEAD
       "      <td>min</td>\n",
=======
       "      <th>min</th>\n",
>>>>>>> 3746ff7fb952eff387572f5a2020cca7d6f8645a
       "      <td>1990.00000</td>\n",
       "      <td>55.000000</td>\n",
       "      <td>0.000000</td>\n",
       "      <td>2.000000</td>\n",
       "      <td>12.00000</td>\n",
       "      <td>7.000000</td>\n",
       "      <td>2.000000</td>\n",
       "      <td>2.000000e+03</td>\n",
       "    </tr>\n",
       "    <tr>\n",
<<<<<<< HEAD
       "      <td>25%</td>\n",
=======
       "      <th>25%</th>\n",
>>>>>>> 3746ff7fb952eff387572f5a2020cca7d6f8645a
       "      <td>2010.00000</td>\n",
       "      <td>194.000000</td>\n",
       "      <td>4.000000</td>\n",
       "      <td>2.000000</td>\n",
       "      <td>22.00000</td>\n",
       "      <td>16.000000</td>\n",
       "      <td>520.000000</td>\n",
       "      <td>2.622500e+04</td>\n",
       "    </tr>\n",
       "    <tr>\n",
<<<<<<< HEAD
       "      <td>50%</td>\n",
=======
       "      <th>50%</th>\n",
>>>>>>> 3746ff7fb952eff387572f5a2020cca7d6f8645a
       "      <td>2015.00000</td>\n",
       "      <td>270.000000</td>\n",
       "      <td>6.000000</td>\n",
       "      <td>4.000000</td>\n",
       "      <td>26.00000</td>\n",
       "      <td>18.000000</td>\n",
       "      <td>1013.000000</td>\n",
       "      <td>3.560000e+04</td>\n",
       "    </tr>\n",
       "    <tr>\n",
<<<<<<< HEAD
       "      <td>75%</td>\n",
=======
       "      <th>75%</th>\n",
>>>>>>> 3746ff7fb952eff387572f5a2020cca7d6f8645a
       "      <td>2016.00000</td>\n",
       "      <td>325.000000</td>\n",
       "      <td>6.000000</td>\n",
       "      <td>4.000000</td>\n",
       "      <td>30.00000</td>\n",
       "      <td>22.000000</td>\n",
       "      <td>2009.000000</td>\n",
       "      <td>4.947750e+04</td>\n",
       "    </tr>\n",
       "    <tr>\n",
<<<<<<< HEAD
       "      <td>max</td>\n",
=======
       "      <th>max</th>\n",
>>>>>>> 3746ff7fb952eff387572f5a2020cca7d6f8645a
       "      <td>2017.00000</td>\n",
       "      <td>1001.000000</td>\n",
       "      <td>16.000000</td>\n",
       "      <td>4.000000</td>\n",
       "      <td>354.00000</td>\n",
       "      <td>137.000000</td>\n",
       "      <td>5657.000000</td>\n",
       "      <td>2.065902e+06</td>\n",
       "    </tr>\n",
       "  </tbody>\n",
       "</table>\n",
       "</div>"
      ],
      "text/plain": [
       "             year    engine_hp  engine_cylinders  number_of_doors  \\\n",
       "count  7735.00000  7735.000000       7735.000000      7735.000000   \n",
       "mean   2012.14958   277.632062          5.825469         3.421332   \n",
       "std       6.23167   115.529955          1.895593         0.895054   \n",
       "min    1990.00000    55.000000          0.000000         2.000000   \n",
       "25%    2010.00000   194.000000          4.000000         2.000000   \n",
       "50%    2015.00000   270.000000          6.000000         4.000000   \n",
       "75%    2016.00000   325.000000          6.000000         4.000000   \n",
       "max    2017.00000  1001.000000         16.000000         4.000000   \n",
       "\n",
       "       highway_mpg     city_mpg   popularity          msrp  \n",
       "count   7735.00000  7735.000000  7735.000000  7.735000e+03  \n",
       "mean      26.52980    19.468649  1513.098772  5.102826e+04  \n",
       "std        7.78492     7.231534  1429.197317  7.153777e+04  \n",
       "min       12.00000     7.000000     2.000000  2.000000e+03  \n",
       "25%       22.00000    16.000000   520.000000  2.622500e+04  \n",
       "50%       26.00000    18.000000  1013.000000  3.560000e+04  \n",
       "75%       30.00000    22.000000  2009.000000  4.947750e+04  \n",
       "max      354.00000   137.000000  5657.000000  2.065902e+06  "
      ]
     },
     "execution_count": 19,
     "metadata": {},
     "output_type": "execute_result"
    }
   ],
   "source": [
    "#view descriptive stats\n",
    "df.describe()"
   ]
  },
  {
   "cell_type": "code",
<<<<<<< HEAD
   "execution_count": 20,
=======
   "execution_count": 21,
>>>>>>> 3746ff7fb952eff387572f5a2020cca7d6f8645a
   "metadata": {
    "ExecuteTime": {
     "end_time": "2020-06-11T22:58:15.934024Z",
     "start_time": "2020-06-11T22:58:14.791172Z"
    }
   },
   "outputs": [
    {
     "data": {
<<<<<<< HEAD
      "image/png": "iVBORw0KGgoAAAANSUhEUgAABIoAAANfCAYAAAC2RTbnAAAABHNCSVQICAgIfAhkiAAAAAlwSFlzAAALEgAACxIB0t1+/AAAADh0RVh0U29mdHdhcmUAbWF0cGxvdGxpYiB2ZXJzaW9uMy4xLjEsIGh0dHA6Ly9tYXRwbG90bGliLm9yZy8QZhcZAAAgAElEQVR4nOzdeZxlVXnw+9+yC3GMDOVAAwkktveKJoIaIOHm/SA4IDG0JvqIGmgM0hlwiiYCxgQiYvB14OXeKEkzBIjE9nkRpa8SSYsSr4kIQowGyJu00JGWTkPTDYJEeBv2/WOvgkNxaq46Q9Xv+/mcT52z9nCetU/VXrWfs9bapWkaJEmSJEmSpCf0OwBJkiRJkiQNBhNFkiRJkiRJAkwUSZIkSZIkqTJRJEmSJEmSJMBEkSRJkiRJkioTRZIkSZIkSQJMFGmIlFKuLqWc1+84JEmDp5RyWillQ7/jmKnxbVsp5cJSylfmYb+HllKaUspec92XJGl+9KOtsj3QbIz0OwBpBn4d2DH2ov4jvalpmuP6FpEkaVB8DPjzfgcxD96FX+RJ0mK1WNoqLXImijQ0mqbZ1u8YJEmDqWma+4D7+h3HXDVNc0+/YxhTSnkCUJqmeajfsUjSYrBY2iotfn5jpYFTSjmxlHJTKeWBUsodpZRLa/kj3fNLKRcChwOralfKpnar/PtSyppx+yullO+XUk6bxnsfV0rZUUp5WSnle6WU/6r7XF5K+W+llH8qpfy4lPKVUsqeHdudVkrZUEp5cynlllLKT+o6+47b/7tLKZtKKfeXUq4spRxjV1BJi10p5R2llH+t58Z/L6X8USllpC7bWEr5YCnl7FLKtlLKllLKx0opyzq2f3IpZU0p5Z5SyvZSyqdKKX/W2X1/fHf+jvPyyvrePy6lfK2U8nPjYntJKeXvSin3lVLuLKVcVkr5mRnU7edKKf+zxn5/KeW7pZTXlFKeXkq5t5Ty5nHr71NKebiUcugE+3vM0LOx16WU1aWU/yil/KiUcnkp5ZldjvEj7Qvw0132PWldO47ZG0sp/wo8CDy/lPKC2mbdXY/jzaWUY6Z7jCRpGCzmtqp6finl67WduKmU8qqO/e9Tr0mOKaVcVdproFtLKW+Z8YHUomCiSAOllPKnwEeATwE/DxwBfKfLqu8C/j8ggT3q4x+BvwDeVEp5Wse6hwH7ABdMM4wnAKcCbwMOAZYDnwU+CPwu8H8BewGfGLfdHsDvAW8EfgV4OvCFUkqpdft12u6mHwVeBHym1lWSFq3SJun/ADgFeD7t+fu3ac+zY94BbAYOAt4JvBs4tmP5R4CVwDHAwcA9tOfbqexBe95+C/DLwC50tAWllP2Avwe+CbyUtr14CFhfSnnSNOr2HNq2Z1fgKNp264+Bh5umuRf4G+CEcZsdD2yo7ztdvwi8DPhV2nZxf9r2ZCyOlcBZtO3S/rRt40fHxTrdui6nPbbHAfsB/0HbXt1Fewx/HngPsH0G8UvSQFvMbVWHjwEfpr0O+Tbw2VLKLuPW+Uh97/2BS4C/LqW8dAbvocWiaRofPgbiATwV+C/gDyZYfjVwXsfrrwAXjlvnicCdwNs6yj4DfGmaMRwHNMD+HWV/WMte0lH2+8DWjten1XWe21H2vFr28vr6H4C/Hvd+Z9Z19ur38ffhw4eP+X4ATwHuB44YV34scHd9vhFYN275l4HP1OdPBR4Ajh+3zjXAho7Xp3V5vQN4ZkfZ0cDDwJPq6wuBteP2u3ON+bXTqN/pwH8CT51g+YvrOX5Ffb0MuA34w451xrdtFwJfGff6TmDnjrKTgc0dr78BXDLuvT/W2b5Mp671mD0M/PS49e4Bjuv375MPHz58LMRjCbRVh9b24Nc7yp5Ty15VX+9TX58+btt/BD7d78/IR+8f9ijSIHkB8CTg72a7g6ZpHqQ9mZ4AUErZHXgdcO5MdgN8r+P1f9af3x1Xtntnd1PgzqZpHulK2jTNvwFbab+Rpf68Ztx7fXMGcUnSsHkB8GTgc7W7/H2llPuAvwSe0TF8anzP0R8Cz67Pn0v7JcBszp+3N01z57j9FuBZ9fUvAq8bF9tdtG3Rimns/yXAPzZN8+NuC5umuYH2W9u31aJX09bromnsu9PNTdM8MK4ez+54vR/tP/OdvjHu9XTruqVpmh+M2/ZjwHmlHQJ+WinlxTOMX5IG2WJvq8Y8En/TNP9J2yvp2ePWGR/vP/DotYyWECez1iBq5rj9XwLvLaX8Am3XzG3AF2ew/cPNYyfubACapvnfXWIsU+xr/PK51k2ShsnYF1JvAP6ty/KxmxQ8OK684fHD42dz/uy23864ngD8NW3vzvHumuZ7TBXXXwAfLqV8gDZh9IWmae6Y5r7HdKvHTNuX6db1cUmvpmlOL6VcQjvs7TDg/aWU/940zQemeE9JGgZLoa3q9j6d7zGRqa51tEiZKNIguQn4CfAqHtujZyIP0nbjf4ymaTaUUr5K26voZcBfNU2zYz4DncAzSyk/1zTN9wFKKc8DdgdurstvAn6Jdv6lMQf3IC5J6pcbac/rP9s0zRXdVqjTuE1mA+35/pdoz6Nj5uP8+W3gF4DvN00zm3/urwdOKKU8daJeRcBa2rmDfpt2jqEjZxXp5G6inVOvs305ZNw6c6pr0zS31P1/qpRyMu2wbBNFkhaDxd5WzcTBQOcx+CUevZbREmKiSAOjaZr7SikfB04rpfwXsJ62G+iRTdP8WZdNbgVeVu8KcA9wT0evn78EPg3sBPzawkcPtOOE/6qU8vu02ff/hzbhNXb3mo/TThp3LfC3tJPVjU2AZ08jSYtOPa9/mLZHDbTn9RHaCZEPaJrmpGns48ellL8EPlRK2UL7be8q2slG75x046l9GLgW+HQp5ey6v32A1wJn1+TIZD5FmwC6vJRyKnA77RCGh5qm+duO+D9N2wb8gEfbhPn0ceB/1vblCtqbLoy/K9ms6lpvDvER4HO07e4utD2Lbuq2viQNmyXQVs3E8fWul98GfpM2UfTuedy/hoRzFGnQ/DHwR7R3EvgX2vmKJpoL4eO0cwD9M+0Js/Pb0y/QJo/WN01z64JF+1ibgTW0/0z/A+3E3K8by/w3TXMZ8D7aSUi/R3tngz+t2/6kRzFKUk81TXM67Q0A3kZ7vv5Gfb1xBrs5Cfh/ae8idi3tXcYuZI7nzqZpbqZN2j8NuJI2+XEu7ZcUd09j+820SZl7aRM0NwJn8Piu+mto5644byG+DW6a5vPAe2nbmO/Sti8njVtntnXdQXu8z6f9VvlKYAvw5nmthCT10WJuq2boZGA1bVtyLLCqaZrr5vk9NATKwvdek3qvlLIb7URwv9k0zed68H6n1fd67gy3+xPgXU3T7L4ggUnSIlWHGG9vmuY3+h3LVEopR9J+gfHTdQJRSdISMCxtVSllH9peo7/SNM34myFoCXLomRaVUspOtLP3/zHtEIAv9DeiR9XY3kv7rfOPaedP+kPgk/2MS5IGXSnl52l7l36TtmfOMbTn0IWY72felFKeAvw08CfA35gkkqTFa1jbKqkbE0VabA4BvkabET923N3LqLeTnMiHm6b58ALG1gCH0iaLnk4b44eBjy7ge0rSYtAAvwv837TD5v+Vdmjv3y7km5ZSbgR+ZoLFn26a5nem2MX7aCd8vrY+lzQHEfEk4OvAzrTXMZdm5qkRsS/txPG7ATcAx2TmgxGxM3Ax8BLau0O9MTM31n2dAhxPe4vwd2bmlb2ujxadYW2rpMdx6JmWlFLKZEPDtjVNs22S5ZKkJaSU8jO0N0Xo5kezuM29pDmIiAI8NTPvi4idaOeReRfwHuCyzFwbEX8B/HNmnhMRvwf8Qmb+TkQcDbwuM98YEfsBnwEOBJbTTjL/vMx8qOsbSwPMtkoLwR5FWlKaptnQ7xgkScOhaZr/6HcMkh6VmQ0w1jt8p/pogMN4dIL1i4DTgHOAlfU5wKXAn9dk00pgbWY+ANwaERtok0bfXPhaSPPLtkoLYdATRXZ3krQYjb8jkhaWbYmkxWhJtiURsQy4Hngu7TyP3wfuzswddZVNwJ71+Z7AbQCZuSMi7gF2r+XXdOy2c5uJ2JZIWoy6tiWDniji9ttv73cI0zI6OsrWrVv7Hca0GOvCGaZ4hylWGK54J4t1+fLlPY5GMPu2ZJB+74ylO2OZ2CDFYyzdzTaWpdyW1OFh+0fELsDnged3WW0sqdPtAqiZpPwxImI17a3CyUwefPDBWcU8TEZGRtixY8fUKy4CS6musLTqu5TqCrOv7xOf+MSJ9zmXgCRJkiSp1zLz7oi4GjgY2CUiRmqvor1o73wLbU+hvYFNETECPAPY1lE+pnObzvdYA6ypL5tBSTAupEFKpC60pVRXWFr1XUp1hYX50uEJcwlIkiRJknohIp5ZexIREU8GXg7cTHvH29fX1VYBl9fn6+pr6vKv1nmO1gFHR8TO9Y5pK2jvTihJwkSRJEmSpOGwB/C1iPgucB2wPjO/CJwEvKdOSr07cH5d/3xg91r+HuBkgMy8EUjgJuDLwIne8UySHuXQM0mSJEkDLzO/CxzQpfwW2ruWjS//CfCGCfZ1BnDGfMcoSYuBPYokSZIkSZIE2KNIktQDEfEk4OvAzrRtz6WZeWqdG2ItsBtwA3BMZj4YETsDFwMvAe4C3piZG+u+TgGOBx4C3pmZV/a6PpIkSdJiZY8iSVIvPAAclpkvAvYHjoiIg4GPAGdl5gpgO20CiPpze2Y+FzirrkdE7AccDbwAOAL4VEQs62lNJEmSpEXMRJEkacFlZpOZ99WXO9VHAxwGXFrLLwJeW5+vrK+pyw+PiFLL12bmA5l5K7CBLvNSSJIkSZodh55Jknqi9vy5Hngu8Eng+8DdmbmjrrIJ2LM+3xO4DSAzd0TEPbR3stkTuKZjt53bdL7XamB13Z7R0dFZxTwyMjLrbeebsXRnLBMbpHiMpbtBikWSpDGLNlH00AlH9fYNP/+PvX0/SRoy9dbD+0fELsDnged3Wa2pP8sEyyYqH/9ea4A1Y8u3bt0684CB0dFRZrvtfFsMsfS6bV527rqevt8gfUYwWPEYS3ezjWX58uULEI00O4v93C4tRQ49kyT1VGbeDVwNHAzsEhFjX1rsBdxen28C9gaoy58BbOss77KNJEmSpDkyUSRJWnAR8czak4iIeDLwcuBm4GvA6+tqq4DL6/N19TV1+Vczs6nlR0fEzvWOaSuAa3tTC0mSJGnxM1EkSeqFPYCvRcR3geuA9Zn5ReAk4D0RsYF2DqLz6/rnA7vX8vcAJwNk5o1AAjcBXwZOrEPaJEmSJM2DRTtHkSRpcGTmd4EDupTfQpe7lmXmT4A3TLCvM4Az5jtGSZIkSfYokiRJkiRJUmWiSJIkSZIkSYBDzyRJWrJme0vjLfMchyRJkgaHPYokSZIkSZIEmCiSJEmSJElSZaJIkiRJkiRJgIkiSZIkSZIkVSaKJEmSJEmSBJgokiRJkiRJUmWiSJIkSZIkSYCJIkmSJEmSJFUmiiRJkiRJkgSYKJIkSZIkSVJlokiSJEmSJEmAiSJJkiRJkiRVJookSZIkSZIEmCiSJEmSJElSNdLvACRJkiRJ8+OhE46a9bZb5jEOScPLHkWSJEmSJEkC7FEkSZIkaQhExN7AxcBzgIeBNZl5dkScBpwA3FlXfX9mXlG3OQU4HngIeGdmXlnLjwDOBpYB52Xmmb2siyQNMhNFkiRJkobBDuC9mXlDRDwduD4i1tdlZ2XmxzpXjoj9gKOBFwDLga9ExPPq4k8CrwA2AddFxLrMvKkntZCkAWeiSJIkSdLAy8zNwOb6/N6IuBnYc5JNVgJrM/MB4NaI2AAcWJdtyMxbACJibV3XRJEkYaJIkiRJ0pCJiH2AA4BvAYcAb4+IY4Fv0/Y62k6bRLqmY7NNPJpYum1c+UFd3mM1sBogMxkdHZ3nWiyMxT4h9Xx9DiMjI0Pzmc6HpVTfpVRXWJj6TjtRFBHLaE+8P8zM10TEvsBaYDfgBuCYzHwwInamHTv8EuAu4I2ZubHuo+sYYUmSJEmajoh4GvA54N2Z+aOIOAc4HWjqz48DvwWULps3dL+hTzO+IDPXAGvGlm/dunUeotdczdfnMDo6Om/7GgZLqb5Lqa4w+/ouX758wmUzuevZu4CbO15/hHYs8ApgO20CiPpze2Y+Fzirrjd+jPARwKdq8kmSJEmSphQRO9EmiS7JzMsAMnNLZj6UmQ8D5/Lo8LJNwN4dm+8F3D5JuSSJaSaKImIv4FeB8+rrAhwGXFpXuQh4bX2+sr6mLj+8rv/IGOHMvBXoHCMsSZIkSROq1xTnAzdn5ic6yvfoWO11wL/U5+uAoyNi5zoaYgVwLXAdsCIi9o2IJ9J+mb2uF3WQpGEw3aFn/wN4H/D0+np34O7M3FFfd4733ZM65jczd0TEPXX9ycYIP2K+xgL3emzuMI2DNNaFM0zxDlOsMFzxDlOskiQNkUOAY4DvRcR3atn7gTdFxP60w8c2Ar8NkJk3RkTSTlK9AzgxMx8CiIi3A1cCy4ALMvPGXlZEkgbZlImiiHgNcEdmXh8Rh9biicb7TrZssm0eMaxjgXfs2DE04yCHaczmMMUKwxXvMMUKwxXvZLFONhZ4MYuIvWnnr3sO8DCwJjPPjojTgBOAO+uq78/MK+o2Xee1i4gjgLNp/7k/LzPP7GVdJEn9kZnfoPs1xRWTbHMGcEaX8ism206SlrLp9Cg6BDgqIo4EngT8FG0Po10iYqT2Kuoc1zs25ndTRIwAzwC24VhgSVrKdtDeheaGiHg6cH1ErK/LzsrMj3WuPG5eu+XAVyLieXXxJ4FX0LYr10XEusz0lsaSJEnSPJhyjqLMPCUz98rMfWj/af9qZr4F+Brw+rraKuDy+nxdfU1d/tXMbJh4jLAkaZHLzM2ZeUN9fi/tzREeN/y4w0Tz2h0IbMjMWzLzQdq7b65c2OglSZKkpWO6cxR1cxKwNiI+BPwT7cRy1J9/HREbaHsSHQ2TjxGWJC0dEbEPcADwLdpeq2+PiGOBb9P2OtrO5PPa3Tau/KAu7zEv890N0nxTCxFLr+fz67Vef3aD9PsCgxWPsXQ3SLFIkjRmRomizLwauLo+v4Uudy3LzJ8Ab5hg+65jhCVJS0NEPI32tsbvzswfRcQ5wOm0c9adDnwc+C0mnteuW0/YBZvvbpDmxhqkWIZFr4/XoH1GgxSPsXQ321iW6nx3kqTemEuPIkmSpi0idqJNEl2SmZcBZOaWjuXnAl+sLyeb18757iRJkqQFYqJIkrTgIqLQDk2+OTM/0VG+R2Zuri9fB/xLfb4O+JuI+ATtZNZj89oVYEWd6+6HtMOb39ybWkiSJEmLn4kiSVIvHAIcA3wvIr5Ty94PvCki9qcdPrYR+G2YfF67iHg7cCWwDLggM2/sZUUkSZKkxcxEkSRpwWXmN+g+79AVk2zTdV67zLxisu0kSZIkzV63SUElSZIkSZK0BJkokiRJkiRJEmCiSJIkSZIkSZWJIkmSJEmSJAEmiiRJkiRJklSZKJIkSZIkSRJgokiSJEmSJEmViSJJkiRJkiQBJookSZIkSZJUmSiSJEmSJEkSYKJIkiRJkiRJlYkiSZIkSZIkASaKJEmSJEmSVJkokiRJkiRJEmCiSJIkSZIkSZWJIkmSJEmSJAEmiiRJkiRJklSZKJIkSZIkSRJgokiSJEmSJEmViSJJkiRJkiQBJookSZIkSZJUjfQ7AEmSJEmaSkTsDVwMPAd4GFiTmWdHxG7AZ4F9gI1AZOb2iCjA2cCRwP3AcZl5Q93XKuADddcfysyLelkXSRpk9iiSJEmSNAx2AO/NzOcDBwMnRsR+wMnAVZm5AriqvgZ4NbCiPlYD5wDUxNKpwEHAgcCpEbFrLysiSYPMRJEkSZKkgZeZm8d6BGXmvcDNwJ7ASmCsR9BFwGvr85XAxZnZZOY1wC4RsQfwKmB9Zm7LzO3AeuCIHlZFkgaaQ88kSZIkDZWI2Ac4APgW8OzM3AxtMikinlVX2xO4rWOzTbVsovLx77GaticSmcno6Og812JhbOl3AAtsvj6HkZGRoflM58NSqu9SqissTH1NFEmSJEkaGhHxNOBzwLsz80cRMdGqpUtZM0n5Y2TmGmDN2PKtW7fOIlrNt/n6HEZHR+dtX8NgKdV3KdUVZl/f5cuXT7jMoWeSJEmShkJE7ESbJLokMy+rxVvqkDLqzztq+SZg747N9wJun6RckoQ9iiRJPeCdaiRJc1XbhvOBmzPzEx2L1gGrgDPrz8s7yt8eEWtpJ66+pw5NuxL4cMcE1q8ETulFHSRpGNijSJLUC96pRpI0V4cAxwCHRcR36uNI2gTRKyLi34FX1NcAVwC3ABuAc4HfA8jMbcDpwHX18cFaJknCHkWSpB6ok4yOTTR6b0R03qnm0LraRcDVwEl03KkGuCYixu5Ucyj1TjUAETF2p5rP9KwykqS+yMxv0H1+IYDDu6zfACdOsK8LgAvmLzpJWjxMFEmSemqY7lQzSHfNWIhYvDPO/Bqk3xcYrHiMpbtBikWSpDEmiiRJPTNsd6oZpLtmDFIsw6LXx2vQPqNBisdYuluIO9VIkjRXzlEkSeoJ71QjSZIkDb4pexRFxJOArwM71/UvzcxTI2JfYC2wG3ADcExmPhgRO9Pe2eYlwF3AGzNzY93XKcDxwEPAOzPzyvmvkiRp0HinGkmSJGk4TKdH0QPAYZn5ImB/4IiIOBj4CHBWvVPNdtoEEPXn9sx8LnBWXY96d5ujgRfQTjz6qYhYNp+VkSQNLO9UI0mSJA2BKXsU1bsF3Fdf7lQfDXAY8OZafhFwGu3ti1fW5wCXAn9ev0leCazNzAeAWyNiA+2tjb85HxWRJA0u71QjSZIkDYdpTWZde/5cDzwX+CTwfeDuzNxRV+m868wjd6TJzB0RcQ+wey2/pmO3C3qnml7fyWWY7lphrAtnmOIdplhhuOIdplglSZIkqdO0EkWZ+RCwf0TsAnweeH6X1cbuOjMQd6rptR07dgzMHTSmMkh3+5jKMMUKwxXvMMUKwxXvZLF6pxpJkiRJg2xGdz3LzLuBq4GDgV0iYizR1HnXmUfuSFOXPwPYhneqkSRJkiRJGmhTJooi4pm1JxER8WTg5cDNwNeA19fVxt+pZlV9/nrgq3WuiXXA0RGxc71j2grg2vmqiCRJkiRJkuZmOj2K9gC+FhHfpb3DzPrM/CJwEvCeOin17rS3Pab+3L2Wvwc4GSAzbwQSuAn4MnBiHdImSZIkSZKkATCdu559FzigS/kttHctG1/+E+ANE+zrDOCMmYcpSZIkSZKkhTajOYokSZIkSZK0eE3rrmea2pbX/XJP32/Zuet6+n6SJEmSJGnxs0eRJEmSJEmSABNFkiRJkiRJqkwUSZIkSZIkCTBRJEmSJEmSpMpEkSRJkiRJkgATRZIkSZIkSapMFEmSJEmSJAkwUSRJkiRJkqTKRJEkSZIkSZIAE0WSJEmSJEmqTBRJkiRJkiQJMFEkSZIkSZKkykSRJEmSJEmSABNFkiRJkiRJqkwUSZIkSZIkCYCRfgcgSZIkSVOJiAuA1wB3ZOYLa9lpwAnAnXW192fmFXXZKcDxwEPAOzPzylp+BHA2sAw4LzPP7GU9JGnQmSiSJEmSNAwuBP4cuHhc+VmZ+bHOgojYDzgaeAGwHPhKRDyvLv4k8ApgE3BdRKzLzJsWMnBJGiYOPZMkSZI08DLz68C2aa6+ElibmQ9k5q3ABuDA+tiQmbdk5oPA2rquJKmyR5EkSZKkYfb2iDgW+Dbw3szcDuwJXNOxzqZaBnDbuPKDuu00IlYDqwEyk9HR0fmOe0Fs6XcAC2y+PoeRkZGh+Uznw1Kq71KqKyxMfU0USZIWnPNKSJIWyDnA6UBTf34c+C2gdFm3ofuIiqbbjjNzDbBmbJ2tW7fOOVjN3Xx9DqOjo/O2r2GwlOq7lOoKs6/v8uXLJ1xmokiS1AsX4rwSWuS2vO6Xe/6ey85d1/P3lAZJZj7SgSYizgW+WF9uAvbuWHUv4Pb6fKJySRLOUSRJ6gHnlZAkLYSI2KPj5euAf6nP1wFHR8TOEbEvsAK4FrgOWBER+0bEE2m/mDDjKkkd7FEkSeqngZ5XYpDGuC9ELM5jMb/6cTwnq+Ni//2dLWMZXhHxGeBQYDQiNgGnAodGxP60w8c2Ar8NkJk3RkQCNwE7gBMz86G6n7cDV9IOY74gM2/scVUkaaCZKJIk9cvAzysxSGPcBymWYbEUjtdkdRyk3xlj6W4h5pVYzDLzTV2Kz59k/TOAM7qUXwFcMY+hSdKiYqJIktQXzishSZIkDR4TRZKkvoiIPTJzc305fl6Jv4mIT9BOZj02r0ShzisB/JB2Xok39zZqSZIkaXEzUSRJWnDOKyFJkiQNBxNFkqQF57wSkiRJ0nDoNjGoJEmSJEmSliATRZIkSZIkSQJMFEmSJEmSJKkyUSRJkiRJkiTARJEkSZIkSZIqE0WSJEmSJEkCTBRJkiRJkiSpGplqhYjYG7gYeA7wMLAmM8+OiN2AzwL7ABuByMztEVGAs4EjgfuB4zLzhrqvVcAH6q4/lJkXzW91JEmSJEmSNFvT6VG0A3hvZj4fOBg4MSL2A04GrsrMFcBV9TXAq4EV9bEaOAegJpZOBQ4CDgROjYhd57EukiRJkiRJmoMpE0WZuXmsR1Bm3gvcDOwJrATGegRdBLy2Pl8JXJyZTWZeA+wSEXsArwLWZ+a2zNwOrAeOmNfaSJIkSZIkadamHHrWKSL2AQ4AvgU8OzM3Q5tMiohn1dX2BG7r2GxTLZuofPx7rKbtiURmMjo6OpMQH7FlVlsNj9keF4CRkZE5bd9LwxQrDFe8wxQrDFe8wxSrJEmSJHWadqIoIp4GfA54d2b+KCImWrV0KWsmKX+MzFwDrBlbvnXr1umGuKTM5biMjo7OafteGqZYYbjiHaZYYbjinSzW5cuX9zgaSZIkSZq+ad31LCJ2ok0SXZKZl9XiLXVIGfXnHbV8E7B3x+Z7AbdPUi5JkiRJkqQBMGWiqN7F7Hzg5sz8RMeidcCq+nwVcHlH+bERUSLiYOCeOkTtSuCVEbFrncT6lbVMkhDfZyMAACAASURBVCRJkiRJA2A6Q88OAY4BvhcR36ll7wfOBDIijgd+ALyhLrsCOBLYANwPvBUgM7dFxOnAdXW9D2bmtnmphSRJkiRJkuZsykRRZn6D7vMLARzeZf0GOHGCfV0AXDCTACVJkiRJktQb05qjSJIkSZIkSYufiSJJkiRJkiQBJookSZIkSZJUmSiSJEmSJEkSYKJIkiRJkiRJlYkiSZIkSZIkASaKJEmSJEmSVJkokiRJkiRJEgAj/Q5AkiRJkqYSERcArwHuyMwX1rLdgM8C+wAbgcjM7RFRgLOBI4H7geMy84a6zSrgA3W3H8rMi3pZD0kadPYokiRJkjQMLgSOGFd2MnBVZq4ArqqvAV4NrKiP1cA58Ehi6VTgIOBA4NSI2HXBI5ekIWKiSJIkSdLAy8yvA9vGFa8ExnoEXQS8tqP84sxsMvMaYJeI2AN4FbA+M7dl5nZgPY9PPknSkubQM0nSgnO4gCRpgTw7MzcDZObmiHhWLd8TuK1jvU21bKLyx4mI1bS9kchMRkdH5zn0hbGl3wEssPn6HEZGRobmM50PS6m+S6musDD1NVEkSeqFC4E/By7uKBsbLnBmRJxcX5/EY4cLHEQ7XOCgjuECLwUa4PqIWFe/EZYkqVPpUtZMUv44mbkGWDO2ztatW+cpNM3FfH0Oo6Oj87avYbCU6ruU6gqzr+/y5csnXObQM0nSgnO4gCRpgWypbQT15x21fBOwd8d6ewG3T1IuSapMFEmS+uUxwwWAeRsuIElaMtYBq+rzVcDlHeXHRkSJiIOBe2pbcyXwyojYtU5i/cpaJkmqHHomSRo0cx4uMF/zSgzSGPeFiMV5LOZXP47nZHVc7L+/s2UswysiPgMcCoxGxCba4chnAhkRxwM/AN5QV7+Cdq67DbTz3b0VIDO3RcTpwHV1vQ9m5vger5K0pJkokiT1y5aI2KNOPjrd4QKHjiu/utuO52teiUEa4z5IsQyLpXC8JqvjIP3OGEt3CzGvxGKWmW+aYNHhXdZtgBMn2M8FwAXzGJokLSoOPZMk9YvDBSRJkqQBY48iSdKCc7iAJEmSNBxMFEmSFpzDBSRJkqTh4NAzSZIkSZIkASaKJEmSJEmSVJkokiRJkiRJEmCiSJIkSZIkSZWJIkmSJEmSJAEmiiRJkiRJklSN9DsASZIkSZKm46ETjpqX/WyZ5nrLzl03L+8nDRN7FEmSJEmSJAkwUSRJkiRJkqTKRJEkSZIkSZIAE0WSJEmSJEmqTBRJkiRJkiQJ8K5nkiRJkrRg5usuXZLUK/YokiRJkiRJEmCiSJIkSZIkSZWJIkmSJEmSJAEmiiRJkiRJklRNOZl1RFwAvAa4IzNfWMt2Az4L7ANsBCIzt0dEAc4GjgTuB47LzBvqNquAD9TdfigzL5rfqkiSJEmSJGkuptOj6ELgiHFlJwNXZeYK4Kr6GuDVwIr6WA2cA48klk4FDgIOBE6NiF3nGrwkSZIkSZLmz5SJosz8OrBtXPFKYKxH0EXAazvKL87MJjOvAXaJiD2AVwHrM3NbZm4H1vP45JMkSZIkSZL6aLZzFD07MzcD1J/PquV7Ard1rLeplk1ULkmSJEmSpAEx5RxFM1S6lDWTlD9ORKymHbZGZjI6OjqrQLbMaqvhMdvjAjAyMjKn7XtpmGKF4Yp3mGKF4Yp3mGKVJEmSpE6zTRRtiYg9MnNzHVp2Ry3fBOzdsd5ewO21/NBx5Vd323FmrgHW1JfN1q1bZxni4jaX4zI6Ojqn7XtpmGKF4Yp3mGKF4Yp3sliXL1/e42gkSZIkafpmO/RsHbCqPl8FXN5RfmxElIg4GLinDk27EnhlROxaJ7F+ZS2TJEmSJEnSgJiyR1FEfIa2N9BoRGyivXvZmUBGxPHAD4A31NWvAI4ENgD3A28FyMxtEXE6cF1d74OZOX6CbEmSJEmSJPXRlImizHzTBIsO77JuA5w4wX4uAC6YUXSSJEmSJEnqmfmezFqSJEmSeioiNgL3Ag8BOzLzpRGxG/BZYB9gIxCZuT0iCnA27UiI+4HjMvOGfsQtSYNotnMUSZIkSdIgeVlm7p+ZL62vTwauyswVwFX1NcCrgRX1sRo4p+eRStIAs0eRJKmv/BZYkrRAVvLonZcvor3r8km1/OI6bcY1EbHL2B2d+xKlJA0YE0WSpEHwsszc2vF67FvgMyPi5Pr6JB77LfBBtN8CH9TrYCVJA6cB/i4iGuAvM3MN8Oyx5E9mbo6IZ9V19wRu69h2Uy17TKIoIlbT9jgiMxkdHZ1VYFtmtZUGxWw/90EzMjKyaOoylaVUV1iY+pookiQNIr8FliTNxCGZeXtNBq2PiH+dZN3SpawZX1CTTWvGlm/dunX8KloCFsvnPjo6umjqMpWlVFeYfX2XL18+4TITRZKkfhvYb4EH6RuphYhlsX/L3evPrh/Hc7I6Lvbf39kylsUpM2+vP++IiM8DBwJbxr5MiIg9gDvq6puAvTs23wu4vacBS9IAM1EkSeq3gf0WeJC+kRqkWIbFUjhek9VxkH5njKW7hfgWeCmKiKcCT8jMe+vzVwIfBNYBq4Az68/L6ybrgLdHxFra4cv32DNVkh7lXc8kSX3V+S0w8JhvgQH8FliSNIVnA9+IiH8GrgW+lJlfpk0QvSIi/h14RX0NcAVwC7ABOBf4vd6HLEmDyx5FkqS+8VtgSdJcZeYtwIu6lN8FHN6lvAFO7EFokjSU7FEkSeonvwWWJEmSBog9iiRJfeO3wJIkSdJgMVEkSZIkSVIXD51wVE/fb9m563r6flI3Dj2TJEmSJEkSYKJIkiRJkiRJlYkiSZIkSZIkASaKJEmSJEmSVJkokiRJkiRJEmCiSJIkSZIkSZWJIkmSJEmSJAEmiiRJkiRJklSZKJIkSZIkSRIAI/0OQJIkSZIkwUMnHLUg+90yybJl565bkPfU8LJHkSRJkiRJkgATRZIkSZIkSaoceiZJkqRpme2QiMmGPEzG4RCSJPWePYokSZIkSZIEmCiSJEmSJElSZaJIkiRJkiRJgIkiSZIkSZIkVSaKJEmSJEmSBJgokiRJkiRJUmWiSJIkSZIkSYCJIkmSJEmSJFUj/Q5As/PQCUfNetsts9hm2bnrZv1+kiRJkiRpONijSJIkSZIkSYA9iiRJkiRJWrLmMlplNhytMvhMFEmSJA2pyf65n81Qc0mSJIeeSZIkSZIkCehDj6KIOAI4G1gGnJeZZ/Y6BknScLMtkSTNlW2JJHXX00RRRCwDPgm8AtgEXBcR6zLzpl7GoZlz3KqkQbGY2xKHEUlSbyzmtkSS5qrXPYoOBDZk5i0AEbEWWAl4QpY0JyYzl5SetSVbXvfL871LSdJg8LpE6pOF/r99/Jdr/t8+c71OFO0J3NbxehNwUOcKEbEaWA2QmSxfvnx27/Slb89uOw2cWf8O9MkwxTtMscIU8Q7Y3/ywHdshY1uiweTvy9AYpHP0IMWyxNiWSFo05rst6fVk1qVLWdP5IjPXZOZLM/Oldf2heETE9f2OwVj7/ximeIcp1mGLdxqxam66HcMFaUsG6ffOWIxlmOMxlgWJRXPT7RguiuuSuTwG6e/Dulpf69qT+nbV60TRJmDvjtd7Abf3OAZJ0nCzLZEkzZVtiSRNoNdDz64DVkTEvsAPgaOBN/c4BknScLMtkSTNlW2JJE2gpz2KMnMH8HbgSuDmtihv7GUMC2hNvwOYAWNdOMMU7zDFCsMV7zDFOnR63JYM0mdpLN0Zy8QGKR5j6W6QYllSFvl1yVwspd/JpVRXWFr1XUp1hQWob2maZuq1JEmSJEmStOj1eo4iSZIkSZIkDSgTRZIkSZIkSQJ6P5n10IuIvYGLgecADwNrMvPsiNgN+CywD7ARiMzc3q84O0XEMuDbwA8z8zV10r61wG7ADcAxmflgP2McExG7AOcBL6S9RelvAf+LATy2EfH7wNto4/we8FZgDwbk2EbEBcBrgDsy84W1rOvvaUQU4GzgSOB+4LjMvKHPsX4U+DXgQeD7wFsz8+667BTgeOAh4J2ZeWWvYp0o3o5lfwB8FHhmZm7t97HV7ETEEbSf2zLgvMw8s09xdG1z+hFLR0yPaVP6HMvj2ozM/GafYnlcm5CZP+nRe0/7fN/HeCY8p/c6lo5ljzlf9yuWiHgH7Vw5O4AvZeb7FjoWLU0zvY5ZDP/DTPc6KCJ2pj02LwHuAt6YmRv7FPaszOQ6apF8ttO+FhvGz3e+ruUiYhXwgbrbD2XmRdN5f3sUzdwO4L2Z+XzgYODEiNgPOBm4KjNXAFfV14PiXbST9I35CHBWjXU77QX3oDgb+HJm/p/Ai2jjHrhjGxF7Au8EXlr/cJfR3i1jkI7thcAR48omOpavBlbUx2rgnB7FOOZCHh/reuCFmfkLwL8BpwDUv7ejgRfUbT5V/wnopQt5fLxj/4C9AvhBR3G/j61mqP4+fZL2s9sPeFP9veuHidqcfhrfpvRTtzaj5yZpE3rlQqZ/vu9XPF3P6X2KZaLzdc9jiYiXASuBX8jMFwAf62E8Wnpmeh2zGP6Hme510PHA9sx8LnBWXW/YzOQ6aqg/21lciw3j53shc7yWq4mlU4GDgAOBUyNi1+m8uYmiGcrMzWPZucy8l/YPcE/aRn4sO3cR8Nr+RPhYEbEX8Ku02WVqtvEw4NK6yiDF+lPAfwPOB8jMB+u3jQN5bGl75D05IkaApwCbGaBjm5lfB7aNK57oWK4ELs7MJjOvAXaJiD16E2n3WDPz7+odSQCuAfbqiHVtZj6QmbcCG2hPfD0zwbGFtuF5H+03G2P6emw1KwcCGzLzltojcC3t59hzk7Q5fTG+TemnSdqMfhnfJtzeqzee4fm+L/FMck7veSxVt/N1P2L5XeDMzHygrnNHr+LR0jOL65ih/h9mhtdBncfgUuDwuv5QmMV11FB/ttVMrsWG7vOdp2u5VwHrM3Nb7VW8ni5fnnRjomgOImIf4ADgW8CzM3MztCdh4Fl9DK3T/6D9R+jh+np34O6Of9Y20ceLjnF+FrgT+KuI+KeIOC8insoAHtvM/CHtt34/oD0p3QNcz+Ae2zETHcs9gds61hu02H8L+Nv6fCBjjYijaLs1//O4RQMZryY1kJ/ZuDanX8a3Kf00UZvRc93ahMz8u37E0mHg2s4Onef0npvkfN0PzwN+JSK+FRF/HxG/2O+AtDRM8zpmINvDGZjJddAjda3L76nrD4uZXkcN9Wc7i2uxYf98x8z085z152yiaJYi4mnA54B3Z+aP+h1PNxExNqbx+o7ibpnTnn2bNoUR4MXAOZl5APBjBmCYWTe1y95KYF9gOfBU2i5/4w3KsZ3KwP5eRMQf0XaVvqQWDVysEfEU4I+AP+myeODi1ZQG7jMbhDZngjalnwamzejWJkTEb/YjlkHX5Zze6/ef7HzdDyPArrTDgP4QyEH/llvDbwZtysC1h9M1i+ugoa1rNdM2cajrO4trsaGu7zRMVL9Z19tE0SxExE60J9dLMvOyWrxlrLte/TkIXYcPAY6KiI20QycOo82s71K76EHb9btn3eOnsAnYlJlj35ZfSnvCG8Rj+3Lg1sy8MzP/N3AZ8MsM7rEdM9Gx3ATs3bHeQMReJ197DfCWzBw7qQ1irD9H21D9c/172wu4ISKew2DGq8kN1Gc2QZvTD49rUyLi032MZ6I2ox8mahP6aeDazgnO6b022fm6HzYBl9XhAtfS9nwY7VMsWgJmeB0zUO3hDM30OuiRutblz6D7sNVBNdPrqGH+bGHm12LD/vmOmennOevP2UTRDNVvec4Hbs7MT3QsWgesqs9XAZf3OrbxMvOUzNwrM/ehndzrq5n5FuBrwOvragMRK0Bm/idwW0T8H7XocOAmBvDY0nZzPDginlJ/J8ZiHchj22GiY7kOODYiSkQcTDtsYnM/AhwT7V2nTgKOysz7OxatA46OiJ3rnStWANf2I8Yxmfm9zHxWZu5T/942AS+uv9MDd2w1peuAFRGxb0Q8kfb8ua4fgUzS5vTcBG1K33rNTNJm9EO3NqHfE34PVNs5yTm9p6Y4X/fDF2gvYImI5wFPBBb8DmxammZxHTO0/8PM4jqo8xi8vq4/ND1OZnEdNbSfbTXTa7Gh/nw7zPTzvBJ4ZUTsWnthvbKWTWlk6lU0ziHAMcD3IuI7tez9wJm03YWPp/3FfUOf4puOk4C1EfEh4J+ok54NiHcAl9SLs1tob3P4BAbs2GbmtyLiUtrbLu6gPY5rgC8xIMc2Ij4DHAqMRsQm2hnvJ/o9vYL2doobaG+p+NYBiPUUYGdgfUQAXJOZv5OZN0ZE0jYGO4ATM/OhfsebmRN91n09tpq5zNwREW+nbUiXARdk5o19Cqdrm5OZV/QpnkHTrc3ouUnahJ6Y4fm+X/F0Paf3I5ZJztc9jwW4ALggIv4FeBBYNaQXLxoOM72OWYz/w0x0HXQ+8NcRsYG2p0kv71w5X2ZyHTXUn+0srsWG7vOdj2u5zNwWEafTfgkK8MHMnFZPqtI0tkWSJEmSJEly6JkkSZIkSZIqE0WSJEmSJEkCTBRJkiRJkiSpMlEkSZIkSZIkwESRJEmSJEmSKhNFkiRJkiRJAkwUSZIkSZIkqTJRJEmSJEmSJMBEkSRJkiRJkioTRZIkSZIkSQJMFEmSJEmSJKkyUSRJkiRJkiTARJEkSZIkSZIqE0WSJEmSJEkCTBRJkiRJkiSpMlEkSZIkSZIkwESRJEmSJEmSKhNFkiRJkiRJAkwUSZIkSZIkqTJRJEmSJEmSJMBEkSRJkiRJkioTRZIkSZIkSQJMFEmSJEmSJKkyUSRJkiRJkiTARJEkSZIkSZIqE0WSJEmSJEkCTBRJkiRJkiSpMlEkSZIkSZIkwESRJEmSJEmSKhNFkiRJkiRJAkwUSZIkSZIkqTJRJEmSJEmSJMBEkSRJkiRJkioTRZIkSZIkSQJMFEmSJEmSJKkyUaR5UUq5upRy3iTLTyulbJjhPo8rpeyYe3SSJEmSNDOllAtLKV/pdxwTKaWMlFIuKKXcVUppSimHzmIfh9Zt91qAEDWkTBSpVz4GHNzvICRJkiRpkfgN4M3ArwF7AP/Y33C0WIz0OwAtDU3T3Afc1+84JEnqp1LKE5umebDfcUiS+mce24IVwA+bphn4BJHt33CxR5HmVSnlj0sp/1lK2Va7aj61lj9u6Fkp5d2llE2llPtLKVeWUo7p1u2xlHJIKeWGut51pZSXdCz7RinlQx2v/7Tu4+UdZX9fSvnv9fm+pZTLSim31/19r5RyTMe6by2l3F1Kecq4GE4tpdxaSinTOAZNKeUdpZTPllJ+XEr5QSnl9aWUZ5RSLiml3FtKuaWU8hsd2+xTtzumlHJVKeW/6vu9Zdy+DyilXFNK+Ukp5d/qfjeWUj4wVVySpMnVYdTnl1I+VEq5o7YHZ5RSnlBK+ZNSypZSyp2llDM6tllZSvmn2qbcXUq5tpRyQF021p3/V2t79RNg9djQ6lLKy0spN9Zz+rWllBf3rfKSNKDGpriY5DrjccPDSim/WUppOl6fVkrZUEqJUsq/13P2F0opP1VK+fVSyv+q/6NfWkp5RpcY3lNK+WHd7nOllNFxy48upXynns83llI+MRZfRx3OL6WcXkrZDPxwGvUupZQ/qNcND5ZSvl9KeXfnPoHTgZ+tbc3GaR7Pd5SOazDgp7usc2Qp5fpSygO1PfzUuPpMGltdZ2NtTz9VSrkL+Ida/rZSys31WN1VSvl6cdjbwDFRpPn0emA34FDaLpCvBd7XbcVSyq/TDkf7KPAi4DPAR7qs+gTgz4B3AS8GtgNZShnrDfdV4PCO9Q8D7hwrK6U8mXbI21fr8qcBVwFHAD8PrAH+qpTysrp8LdAAb+iI9QnAW4HzmqZ5pMGZwh8BV9S6fRG4uO57PXAA8CXg4lLK7uO2+wjw/7N3/2GSVeWh779bmhBNVH60kBmGBHOcGNAnYuQAkXsMgo5ACKP3yitGcfCQTH7g0YScBPB4Qi6id2JORG6i6CiEwajwhshhTkJEBInHRBQh/ghgIoEJDJDBcQbEENGBff7Yq6C6qOqu7q6uqu7+fp6nnq699q5db62uqrXr3WutfTFwCPAx4KNVVR1a4nhG2ee3gMOANwFnAPv2GZMkaWavBXYH/i+a79i303yP/yjwn4D/Cry9qqrjqqr6MeDPadqwFwA/B7wP6Jxf74+A9wAHAf+zlD2tlP0GzXf6A8BfVR0nKiRJwCx+Z0xjBbCOZrjWccCRwBXALwMBHE/zPf/2jscdVp732LLNz9AcrwPNvKrAhTTf9QfTHKO/Avhgx34CeA7N75Sj+4j3N2gSQRto2pg/BDZUVXVaWf9/l+fcUl7bf5xph1VVrQXOB95L83sjy37bt/kZYDPwubLNOuCEjtczU2wtb6Vp334OWFc1J/w/SPP77vk09XrpTHFrBOq69uZt3jfgBuBrHWUfBL5Q7v8+cEfbur8FPtqx/QaaJM2qsnxqWf7Ztm2OKGXPL8tH0RyQPwt4BvAo8NvAl8r6VwLfB35kmtivAj7ctvz/A59vW34V8ANgRZ91UQPva1t+Tin747ayvUrZCWX5wLL8zo59/R3wZ+X+r9AM33t22/qfLo97x6jfA968efO22G+lLftKR9mtwNc7yr5Kc7LjxeU7+MAe+zuqrD+lo7zVvh3TVrZX+Y7/5VHXgzdv3ryN062P3xmXAJ/pWP/G5qfuE8u/X34zTLaVvR94DHhOW9kFwJfbli/pcvy9pnyHry7LW4Bf63j+l5Vt9mp7Df8EPG0Wr/se4D0dZecDd3a8rjtmsc/PAx/rKPsfTP0N9lHKb6m2bdYCjwM/MYvYtgDXdWzzGuAh4Fmjfl95m/5mjyIN0lc6lu8F9uux7cHAjR1lX+iyXU1zQN6+T9r2+wWaRNDLaM4A/AtNVvrFpdvo0TRfdP8GTa+cqqo2lK7+O6qq+i7NmYGfaHuODwFHVlV1cFn+FeCv6rq+v8dr6eaJmOu6/hZNI/S1trKdJe7O3kCddfC3NHVF+Xt7XdcPte3nG8CDs4hLkjS9r3Ys/ytt399tZfuW8muAf6iq6sqqqt5WVdUBXfb5pR7P9cR3fmkXbufJ73xJ0pNm8zujl3vrut7etvyvwL+WY/X2ss7j89vaj78pQ6iAg6qqeg7N74j3VlX13dYN+OuyzfPaHndzXdeP9xNoVVXPAlbR9Opp9zfAgfPofXowT53w+vMdyy/o8bwVcPAsY+ts/64F7gTuqqrqsqqq1ncO49N4MFGkQeqcnKxm+vdYP8O4Hq/r+rEuj3kaQF3Xj9J82bW6cF5fvuy/QXMm92ieHHYGTbfINwLnAi+n6U55NfBDTzxBXd9K84X5y1VV7QucSDNEbTZ+0EfZTPUDzRdy52MkSQun23d11+/v0j4dR9PW3EQznOGfqqo6oWP7f+vzuWecB0+Slqnpfmc8zlO/P3fvso++v99nEVdr27fR/K5o3V5EM9H019u27bct6Iyn3SDaiX5+T/Tapp5mm26xTXnNdXOBo0Npehb9E/BrwB1V2xy0Gg8mijQqt9GMVW13xBz3dT3NQfrRNPMPtcpeA7yEqYmil9F0t7y8ruuv0mS0f6rLPj9EM754Pc2ZhU/NMbbZ6qyDn6M5wwxNnR3UPsFeVVXPB/YcUmySpA5140t1Xb+7ruuX0ZxRfXOfD3/iO7+qqj1phhPf3ntzSVIXDwArO8oGeXGAg0ovmpaXlr+313W9jWYY1vPrur6jy+17c3nCuq6/A2wFfr5j1cuAu+q6fmQu+6X5PXFkR1nn8q1dnvfnaRJDt803trquH6vr+nN1Xf8ezW+1+2nmndIYmZh5E2lB/BFweVVVX6LpmvlSmsQMzL7XzPXAeTTDuz7bVnYFzVmC9uFc/wisrarqL2jGG59B07Bs69jnFTQTkv534N39dhMdgNOqqvoG8GWank8/B7SuIPAxmp5Ql1ZV9d+Bp9PU479jTyNJGrqqql5K06P10zQHuqtpJjm9qI+H18B7qqo6g+ZCDe+iOfP68YWJVpKWrM8AZ1ZV9Raa3xVH00wcPSg1zfH3O2gm1H4/zbQU3yzr/xtwUVVVD9JcsOAHNBcvOK6u61+dx/P+f8AfVVX1TZo5jo4Gfh04fR77/CPgz8tvsKtpLtxwSsc2fwjcUlXVe2lGVRwI/DHNyfa75xNbmUz7J2mGrX2LJlF0AE0CS2PEHkUaibquP0lzpYKzaLpkvgH4f8vq2WbebwIepslwt8Ydt8bR/m0ZntbyWzTzGH2WpvfRvTRJoc74vkczkdsE/R3wD8pZNL2YvkaTOFtX1/VNJaZHaOZT2o/mNf8ZTTLru8y+ziRJ8/cQTUL/KuCbNFfB+RjNlWBm8jjNlXU+RHNyYAXwC6059SRJ/anr+jPAO4CzaeaZO5rm5OqgfIlmWopraealu5W2nqN1XX+UJjH1C2Xbm2gmmb63c0ezdCHwezRtxW3AmcBZdV3P+bdJXddX0lz453dpfm+8oey3fZuv0Uy98fM09flRmis2/9oAYtsJ/CLNaI1/orn653m0XUVO46GqazsiaDxUVfV7wNvquu68ZPxIVFWVwNPruv7FITzXgcBdwH+q67pzQrnpHvcTNFcUOLGu6/+1IMFJkgaqXEr5I3Vd27NbkiSNHQ9QNBJVVe1Ok82+mqar/cuB36HpyjlSVVXtRXMFtdcArxxxOFNUVfVGmrMTd9FcYeE9ND2kPj3KuCRJkiRJS4OJIo1KTXNVst8GnkmT+Hg3zZjYUft7YB/gPXVd39C+oqqqD9LMHdTNv9R1/YIFjm0fmiF6+wM7aC7PeVLH8DpJkiRJY6qqqv9EM59SL8fVdf2/Z7nPH2f6uX5+ta7rj81mn1q+HHomzUJVVfsCz+qx+gd1Xf/LMOORJEmStLhUVfV0mhO/vdxb1/W/z3KfEzQTT/eyWrBHAQAAIABJREFUra7rh2ezTy1ffSWKIuK3gF+m6QXydZrJu1YAl9HM/H4LcEpmfj8i9gAupZnB/NvA6zJzS9nP2cBpNFenemtmXjPoFyRJkiRJkqS5mfGqZxGxP/BW4NDMfCGwG3Ay8AfA+Zm5mmb28tPKQ04Ddmbm84Dzy3ZExMHlcS8AjgU+EBG7zfD0tTdv3rwtwZuGa9T/b2/evHlbiJuGa9T/b2/evHlbiFtX/c5RNAE8PSJ+ADwDuJ/msoO/VNZvorkE4IXA2nIfmsuO/0lEVKX8ssx8FLgrIu4ADgO+MN0T33fffVOWJycn2b59e4+tx4MxDoYxDs5iiHO5xLhy5coBRaPZ6GxL+rEY3pPDZp1MZX1MZX1MtZD1YVsyGnNpS2C8PhvG0p2x9DZO8RhLd3ONZbq2ZMZEUWbeGxH/A7gb+HeaqyvdDDyYmbvKZlt5cozl/sA95bG7IuIhmgl49wdubNt1+2OeEBHrgfXl8UxOTk4NeGLiKWXjxhgHwxgHZzHEaYySJEmSNHozJooiYi+a3kDPBR4E/hw4rsumrW5LVY91vcqnyMyNwMbW+s7M2Dhl7noxxsEwxsFZDHEulxg9CyxJkiRpnM04RxHwCuCuzPxWZv4A+CTwUmDPiGglmlYBrb6YW4EDAMr6Z9NcxvuJ8i6PkSRJkiRJ0oj1kyi6GzgiIp5R5ho6BrgN+Czw2rLNOuCqcn9zWaasvz4z61J+ckTsERHPBVYDXxrMy5AkSZIkSdJ8zZgoyswv0kxKfQvw9fKYjcCZwBllUup9gIvKQy4C9inlZwBnlf3cCiRNkulTwOmZ+dhAX40kSZIkSZLmrK+rnmXmOcA5HcV30ly1rHPb7wEn9djPu4B3zTJGSZIkSZIkDUE/Q88kSZIkSZK0DJgokiRJkiRJEmCiSJIkSZIkSUVfcxQtRo/9yolDfb7dPrx5qM8nSVp4tiWSJEmajWEfP3Ll3w18l/YokiRJkiRJEmCiSJIkSZIkSYWJIkmSJEmSJAEmiiRJkiRJklSYKJIkSZIkSRJgokiSJEmSJEmFiSJJkiRJkiQBJookSZIkSZJUmCiSJEmSJEkSABOjDkCStPRFxPOBy9uKfhL4PeDSUn4gsAWIzNwZERVwAXA88AhwambeUva1DnhH2c95mblpGK9BkiRJWg7sUSRJWnCZ+Y+ZeUhmHgK8hCb5cyVwFnBdZq4GrivLAMcBq8ttPXAhQETsDZwDHA4cBpwTEXsN87VIkiRJS5mJIknSsB0D/HNm/guwFmj1CNoEvLrcXwtcmpl1Zt4I7BkRK4BXAddm5o7M3AlcCxw73PAlSZKkpcuhZ5KkYTsZ+ES5v19m3g+QmfdHxL6lfH/gnrbHbC1lvcolSctARGwBHgYeA3Zl5qGlt6nDmCVpQEwUSZKGJiJ+CDgROHuGTasuZfU05Z3Ps55myBqZyeTk5CwjhYmJ4TeRc4lzmCYmJsY+xmGyPqayPqayPhbUyzNze9tyaxjzhog4qyyfydRhzIfTDGM+vG0Y86E0bcjNEbG59FSVpGXPRJEkaZiOA27JzG1leVtErCi9iVYAD5TyrcABbY9bBdxXyo/qKL+h80kycyOwsSzW27dv79xkRqP4gTeXOIdpcnJy7GMcJutjKutjqoWsj5UrVy7IfhextTzZNmyiaRfOpG0YM3BjRLSGMR9FGcYMEBGtYcyfQJI0c6LIK9VIkgbo9Uw9EN8MrAM2lL9XtZW/JSIuozkL/FBJJl0DvLttAus1zNw7SZK0dNTApyOiBj5UTgwsyDDmQfROhfHqXWYs3RlLb+MUz2KJZVvX0tHEMud9zrRBZv4jcAhAROwG3MvUK9XYxVOSNKOIeAbwSuBX24o3ABkRpwF3AyeV8qtpTjjcQXPS4c0AmbkjIt4J3FS2O7d1RliStCwcmZn3lWTQtRHxjWm2ndcw5kH0ToXx6m1nLN0ZS2/jFI+xdLdr1645xTJd79TZDj174ko1EWEXT0lS3zLzEWCfjrJv07QtndvWwOk99nMxcPFCxChJGm+ZeV/5+0BEXAkcxgINY5ak5Wq2iaIFv1LNTF08++1WNezuXu0xjVOXuF6McTAWQ4ywOOI0RkmSNJ2I+BHgaZn5cLm/BjgXhzFL0kD1nSga1pVqZuriOU5dvNq1xzSuMbYzxsFYDDHC4ohzucToBKSSJM3ZfsCVEQHN75iPZ+anIuImHMYsSQMzmx5FQ7lSjSRJkiR1ysw7gRd1KXcYsyQN0NNmsW2vK9XAU7t4vikiqog4gtLFE7gGWBMRe5VunmtKmSRJkiRJksZAX4mitivVfLKteAPwyoj4Zlm3oZRfDdxJ08Xzw8BvQNPFE2h18bwJu3hKkiRJkiSNlb6GnnmlGkmSJEmSpKVvNkPPJEmSJEmStISZKJIkSZIkSRJgokiSJEmSJEmFiSJJkiRJkiQBJookSZIkSZJUmCiSJEmSJEkSYKJIkiRJkiRJhYkiSZIkSZIkASaKJEmSJEmSVJgokiRJkiRJEmCiSJIkSZIkSYWJIkmSJEmSJAEmiiRJkiRJklSYKJIkSZIkSRIAE6MOQJK0PETEnsBHgBcCNfCfgX8ELgcOBLYAkZk7I6ICLgCOBx4BTs3MW8p+1gHvKLs9LzM3DfFlSJIkSUuaPYokScNyAfCpzPxp4EXA7cBZwHWZuRq4riwDHAesLrf1wIUAEbE3cA5wOHAYcE5E7DXMFyFJkiQtZSaKJEkLLiKeBbwMuAggM7+fmQ8Ca4FWj6BNwKvL/bXApZlZZ+aNwJ4RsQJ4FXBtZu7IzJ3AtcCxQ3wpkiRJ0pLm0DNJ0jD8JPAt4E8j4kXAzcDbgP0y836AzLw/IvYt2+8P3NP2+K2lrFf5FBGxnqYnEpnJ5OTkrAOemBh+EzmXOIdpYmJi7GMcJutjKutjKutDkrRYmSiSJA3DBPCzwH/JzC9GxAU8Ocysm6pLWT1N+RSZuRHY2Fq/ffv2WYY7mqTNXOIcpsnJybGPcZisj6msj6kWsj5Wrly5IPuVJAn6TBQ5AakkaZ62Alsz84tl+QqaRNG2iFhRehOtAB5o2/6AtsevAu4r5Ud1lN+wgHFLkiRJy0q/cxQ5Aakkac4y81+BeyLi+aXoGOA2YDOwrpStA64q9zcDb4qIKiKOAB4qQ9SuAdZExF6lDVlTyiRJkiQNwIyJIicglSQNyH8BPhYRXwMOAd4NbABeGRHfBF5ZlgGuBu4E7gA+DPwGQGbuAN4J3FRu55YySZIkSQPQz9CzsZqAtN+JAbf18cIGqT2mxTB5oTEOxmKIERZHnMa49GXmV4BDu6w6psu2NXB6j/1cDFw82OgkSZIkQX+JorGagHRcJ0psj2lcY2xnjIOxGGKExRHnconRCUglSZIkjbN+5ijqNgHpz1ImIAWYxQSk3colSZIkSZI0BmZMFDkBqSRJkiRJ0vLQz9AzeHIC0h+imVz0zTRJpoyI04C7gZPKtlcDx9NMQPpI2ZbM3BERrQlIwQlIJUmSJEmSxkpfiSInIJUkSZIkSVr6+u1RJEmSJEkjFxG7AV8G7s3MEyLiucBlwN7ALcApmfn9iNgDuBR4CfBt4HWZuaXs42zgNOAx4K2Z6ZQYklT0M5m1JEmSJI2LtwG3ty3/AXB+Zq4GdtIkgCh/d2bm84Dzy3ZExMHAycALgGOBD5TkkyQJE0WSJEmSFomIWAX8AvCRslwBR9NcmRlgE/Dqcn9tWaasP6Zsvxa4LDMfzcy7aOZWPWw4r0CSxp9DzyRJkiQtFu8Dfhd4ZlneB3gwM3eV5a3A/uX+/sA9AJm5KyIeKtvvD9zYts/2xzwhItYD68vjmZycnFPAExMTc37soBlLd8bS2zjFs1hi2TZGscx5nwPdmyRJkiQtgIg4AXggM2+OiKNKcdVl03qGddM95gmZuRHY2Fq/ffv22QVcTE5OMtfHDpqxdGcsvY1TPMbS3a5du+YUy8qVK3uuc+iZJEmSpMXgSODEiNhCM3n10TQ9jPaMiNYJ8FXAfeX+VuAAgLL+2cCO9vIuj5GkZc9EkSRJkqSxl5lnZ+aqzDyQZjLq6zPzDcBngdeWzdYBV5X7m8syZf31mVmX8pMjYo9yxbTVwJeG9DIkaeyZKJIkSZK0mJ0JnBERd9DMQXRRKb8I2KeUnwGcBZCZtwIJ3AZ8Cjg9Mx8betSSNKaco0iSJEnSopKZNwA3lPt30uWqZZn5PeCkHo9/F/CuhYtQkhYvexRJkiRJkiQJMFEkSZIkSZKkwkSRJEmSJEmSABNFkiRJkiRJKkwUSZIkSZIkCTBRJEmSJEmSpGJi1AFIkpaHiNgCPAw8BuzKzEMjYm/gcuBAYAsQmbkzIirgAuB44BHg1My8pexnHfCOstvzMnPTMF+HJEmStJTZo0iSNEwvz8xDMvPQsnwWcF1mrgauK8sAxwGry209cCFASSydAxwOHAacExF7DTF+SZIkaUkzUSRJGqW1QKtH0Cbg1W3ll2ZmnZk3AntGxArgVcC1mbkjM3cC1wLHDjtoSZIkaaly6JkkaVhq4NMRUQMfysyNwH6ZeT9AZt4fEfuWbfcH7ml77NZS1qt8iohYT9MTicxkcnJy1sFOTAy/iZxLnMM0MTEx9jEOk/UxlfUxlfUhSVqs+joKdl4JSdIAHJmZ95Vk0LUR8Y1ptq26lNXTlE9RklAbW+u3b98+62BH8QNvLnEO0+Tk5NjHOEzWx1TWx1QLWR8rV65ckP1KkgSzG3rmvBKSpDnLzPvK3weAK2nagm1lSBnl7wNl863AAW0PXwXcN025JEmSpAGYzxxFzishSepLRPxIRDyzdR9YA/wDsBlYVzZbB1xV7m8G3hQRVUQcATxUhqhdA6yJiL3KyYY1pUySJEnSAPQ7AcPYzCvR73jvbf29roFpj2kxjEk3xsFYDDHC4ojTGJe8/YArIwKatufjmfmpiLgJyIg4DbgbOKlsfzXNEOY7aIYxvxkgM3dExDuBm8p252bmjuG9DEmSJGlp6zdRNDbzSozr+Pf2mMY1xnbGOBiLIUZYHHEulxiX67wSmXkn8KIu5d8GjulSXgOn99jXxcDFg45RkiRJUp9Dz5xXQpIkSZIkaembMVHkvBKSJEmSJEnLQz89ivYDPh8RXwW+BPxVZn4K2AC8MiK+CbyyLEMzr8SdNPNKfBj4DWjmlQBa80rchPNKSJIkSZIkjZUZ5yhyXglJkiRJkqTloa85iiRJkiRJkrT0mSiSJEmSJEkSYKJIkiRJkiRJhYkiSZIkSZIkASaKJEmSJEmSVJgokiRJkiRJEmCiSJIkSZIkSYWJIkmSJEmSJAEmiiRJkiRJklSYKJIkSZIkSRJgokiSJEmSJEmFiSJJkiRJkiQBMDHqACRJkiRpJhHxw8DngD1ofsdckZnnRMRzgcuAvYFbgFMy8/sRsQdwKfAS4NvA6zJzS9nX2cBpwGPAWzPzmmG/HkkaV/YokiRJkrQYPAocnZkvAg4Bjo2II4A/AM7PzNXATpoEEOXvzsx8HnB+2Y6IOBg4GXgBcCzwgYjYbaivRJLGmIkiSZIkSWMvM+vM/G5Z3L3cauBo4IpSvgl4dbm/tixT1h8TEVUpvywzH83Mu4A7gMOG8BIkaVFw6JkkSZKkRaH0/LkZeB7wfuCfgQczc1fZZCuwf7m/P3APQGbuioiHgH1K+Y1tu21/TPtzrQfWl8czOTk5p5gnJibm/NhBM5bujKW3cYpnscSybYximfM+B7o3SZKmUQ7wvwzcm5knOK+EJGk2MvMx4JCI2BO4Ejioy2Z1+Vv1WNervPO5NgIbW+u3b98++4CByclJ5vrYQTOW7oylt3GKx1i627Vr15xiWblyZc91Dj2TJA3T24Db25adV0KSNGuZ+SBwA3AEsGdEtE6ArwLuK/e3AgcAlPXPBna0l3d5jCQteyaKJElDERGrgF8APlKWK5xXQpLUp4h4TulJREQ8HXgFzcmHzwKvLZutA64q9zeXZcr66zOzLuUnR8QepWfrauBLw3kVkjT++h565nABSdI8vQ/4XeCZZXkfxnheiYmJ4Y/OHpdx972M09wA48D6mMr6mMr6WBArgE3ld8nTgMzMv4yI24DLIuI84O+Bi8r2FwEfjYg7aHoSnUzzoFsjIoHbgF3A6WVImySJ2c1R1Bou8Kyy3BoucFlEfJAmAXQhbcMFIuLkst3rOoYLrAQ+ExE/5ZeyJC19EXEC8EBm3hwRR5Xi6eaIGPm8EqP4gTcuY917Gafx+OPA+pjK+phqIetjunkllrLM/Brw4i7ld9Kld2lmfg84qce+3gW8a9AxStJS0NfQM4cLSJLm6UjgxIjYQtMb9WiaHkbOKyFJkiSNkX57FI3NcIF+u/EO+5J07TEthq7GxjgYiyFGWBxxGuPSlplnA2cDlB5F/zUz3xARf04zb8RldJ9X4gu0zSsREZuBj0fEe2l6pzqvhCRJkjRAMyaKxm24wLh2a26PaVxjbGeMg7EYYoTFEedyiXG5DheYxpk4r4QkSZI0NvrpUdQaLnA88MM0cxQ9MVyg9CrqNlxgq8MFJEmdMvMGmksaO6+EJEmSNGZmnKMoM8/OzFWZeSDNGd3rM/MNeBlKSZIkSZKkJaWvyax7OBM4owwL2IepwwX2KeVnAGdBM1wAaA0X+BQOF5AkSZIkSRor/U5mDThcQJIkSZIkaSmbT48iSZIkSZIkLSEmiiRJkiRJkgSYKJIkSZIkSVJhokiSJEmSJEmAiSJJkiRJkiQVJookSZIkSZIEmCiSJEmSJElSYaJIkiRJkiRJgIkiSZIkSZIkFSaKJEmSJEmSBJgokiRJkiRJUmGiSJIkSZIkSYCJIkmSJEmSJBUmiiRJkiRJkgSYKJIkSZIkSVJhokiSJEmSJEmAiSJJkiRJkiQVE6MOQJK09EXEDwOfA/agaXuuyMxzIuK5wGXA3sAtwCmZ+f2I2AO4FHgJ8G3gdZm5pezrbOA04DHgrZl5zbBfjyRJkrRU2aNIkjQMjwJHZ+aLgEOAYyPiCOAPgPMzczWwkyYBRPm7MzOfB5xftiMiDgZOBl4AHAt8ICJ2G+orkSRJkpawGXsUeRZYkjRfmVkD3y2Lu5dbDRwN/FIp3wT8PnAhsLbcB7gC+JOIqEr5ZZn5KHBXRNwBHAZ8YeFfhSRJkrT09TP0rHUW+LsRsTvw+Yj4a+AMmrPAl0XEB2kSQBfSdhY4Ik6mOQv8uo6zwCuBz0TET2XmYwvwuiRJY6b0/LkZeB7wfuCfgQczc1fZZCuwf7m/P3APQGbuioiHgH1K+Y1tu21/TPtzrQfWl8czOTk563gnJoY/OnsucQ7TxMTE2Mc4TNbHVNbHVNaHWra95qVDfb7dPrx5qM8naemZ8SjYs8CSpEEoJwYOiYg9gSuBg7psVpe/VY91vco7n2sjsLG1fvv27bOOdxQ/8OYS5zBNTk6OfYzDZH1MZX1MtZD1sXLlygXZryRJ0Odk1uN0FrjfszPb+nlhA9Qe02I4g2SMg7EYYoTFEacxLh+Z+WBE3AAcAewZEROlPVkF3Fc22wocAGyNiAng2cCOtvKW9sdIkiRJmqe+EkXjdBZ4XM9Wtcc0rjG2M8bBWAwxwuKIc7nEuFzPAkfEc4AflCTR04FX0AxN/izwWpo579YBV5WHbC7LXyjrr8/MOiI2Ax+PiPfSDGNeDXxpqC9GkjQSEXEAzVyoPwY8DmzMzAsiYm/gcuBAYAsQmbmzjGq4ADgeeAQ4NTNvKftaB7yj7Pq8zNw0zNciSeNsVlc9y8wHgRtoOwtcVnU7C4xngSVJxQrgsxHxNeAm4NrM/EvgTOCMMhx5H+Cisv1FwD6l/AzgLIDMvBVI4DbgU8DpznUnScvGLuC3M/Mgmt8jp5d5UM8CritX0LyuLAMcR3NCYTXNiIULAUpi6RzgcJqpMM6JiL2G+UIkaZz1c9UzzwJLkuYlM78GvLhL+Z00B+md5d8DTuqxr3cB7xp0jJKk8ZaZ9wP3l/sPR8TtNFNZrAWOKpttojmxfWYpv7TMuXpjROwZESvKttdm5g6AiLgWOBb4xNBejCSNsX56FHkWWJIkSdLYiIgDaU5AfBHYrySRWsmkfctmT8ydWrTmSO1VLkmiv6ueeRZYkiRJ0liIiB8F/gL4zcz8TkT02nRec6fOdJGdfo3yIjudxunCHMbS3TjFAuMVz2KJZdif+YWol74ms5YkSZKkUYuI3WmSRB/LzE+W4m0RsSIz7y9Dyx4o5b3mSN3Kk0PVWuU3dD7XTBfZGVfTxTlOFw8xlu7GKRYYr3iMpbtdu3bNKZbpLrIzq8msJUmSJGkUylXMLgJuz8z3tq1qzZEKT5079U0RUUXEEcBDZWjaNcCaiNirTGK9ppRJkrBHkSRJkqTF4UjgFODrEfGVUvZ2YAOQEXEacDdPToNxNXA8cAfwCPBmgMzcERHvpJl/FeDc1sTWkiQTRZIkSZIWgcz8PN3nFwI4psv2NXB6j31dDFw8uOgkaelw6JkkSZIkSZIAE0WSJEmSJEkqTBRJkiRJkiQJMFEkSZIkSZKkwkSRJEmSJEmSABNFkiRJkiRJKkwUSZIkSZIkCTBRJEmSJEmSpMJEkSRJkiRJkgATRZIkSZIkSSpMFEmSJEmSJAkwUSRJkiRJkqTCRJEkSZIkSZIAE0WSJEmSJEkqJkYdgCRp6YuIA4BLgR8DHgc2ZuYFEbE3cDlwILAFiMzcGREVcAFwPPAIcGpm3lL2tQ54R9n1eZm5aZivRZIkSVrKZkwUeXAvSRqAXcBvZ+YtEfFM4OaIuBY4FbguMzdExFnAWcCZwHHA6nI7HLgQOLy0PecAhwJ12c/mzNw59FckSZIkLUH9DD1rHdwfBBwBnB4RB9MczF+XmauB68oyTD24X09zcE/bwf3hwGHAORGx1wBfiyRpTGXm/a2TBpn5MHA7sD+wFmidNNgEvLrcXwtcmpl1Zt4I7BkRK4BXAddm5o6SHLoWOHaIL0WSJEla0mbsUZSZ9wP3l/sPR0T7wf1RZbNNwA00Z4GfOLgHboyI1sH9UZSDe4ByJvlY4BMDfD2SpDEXEQcCLwa+COxX2hky8/6I2Ldstj9wT9vDtpayXuWdz7Ge5mQFmcnk5OSs45yYGP7o7LnEOUwTExNjH+MwWR9TWR9TWR+SpMVqVkfB43Bw32+ju62vVzQ47TEthgMDYxyMxRAjLI44jXF5iIgfBf4C+M3M/E5E9Nq06lJWT1M+RWZuBDa21m/fvn3WsY7ifz2XOIdpcnJy7GMcJutjKutjqoWsj5UrVy7IfiVJglkkisbl4H5cD0LaYxrXGNsZ42AshhhhccS5XGJczgf3EbE7TTvyscz8ZCneFhErygmHFcADpXwrcEDbw1cB95XyozrKb1jIuCVJkqTlpJ85iqY9uC/r+z2471YuSVriyoUOLgJuz8z3tq3aDKwr99cBV7WVvykiqog4Anio9GK9BlgTEXuVee7WlDJJkiRJA9DPVc9mOrjfwFMP7t8SEZfRTFz9UDlTfA3w7rYJrNcAZw/mZUiSxtyRwCnA1yPiK6Xs7TRtSEbEacDdwEll3dU0V8+8g+YKmm8GyMwdEfFO4Kay3bmtue8kSZIkzV8/Q888uJckzUtmfp7uQ5ABjumyfQ2c3mNfFwMXDy46SZIkSS39XPXMg3tJkiRJkqRloK85iiRJkiRJkrT0mSiSJEmSJEkSYKJIkiRJkiRJhYkiSZIkSZIkASaKJEmSJEmSVJgokiRJkiRJEmCiSJIkSZIkScXEqAOQJEmSpJlExMXACcADmfnCUrY3cDlwILAFiMzcGREVcAFwPPAIcGpm3lIesw54R9nteZm5aZivQ5LGnT2KJEmSJC0GlwDHdpSdBVyXmauB68oywHHA6nJbD1wITySWzgEOBw4DzomIvRY8cklaREwUSZIkSRp7mfk5YEdH8Vqg1SNoE/DqtvJLM7POzBuBPSNiBfAq4NrM3JGZO4FreWrySZKWNRNFkiRJkhar/TLzfoDyd99Svj9wT9t2W0tZr3JJUuEcRZIkSZKWmqpLWT1N+VNExHqaYWtkJpOTk3MKZNucHjV308U5MTEx59cxaMbS3TjFAuMVz2KJZdif+YWoFxNFkiRJkharbRGxIjPvL0PLHijlW4ED2rZbBdxXyo/qKL+h244zcyOwsSzW27dvH2DYC2e6OCcnJ6ddP0zG0t04xQLjFY+xdLdr1645xbJy5cqe6xx6JkmSJGmx2gysK/fXAVe1lb8pIqqIOAJ4qAxNuwZYExF7lUms15QySVJhjyJJkiRJYy8iPkHTG2gyIrbSXL1sA5ARcRpwN3BS2fxq4HjgDuAR4M0AmbkjIt4J3FS2OzczOyfIlqRlzUSRJEmSpLGXma/vseqYLtvWwOk99nMxcPEAQ5OkJcWhZ5IkSZIkSQJMFEmSJEmSJKlw6JkkacFFxMXACcADmfnCUrY3cDlwILAFiMzcGREVcAHN3BKPAKdm5i3lMeuAd5TdnpeZm4b5OiRJkqSlbsZEkQf3kqQBuAT4E+DStrKzgOsyc0NEnFWWzwSOA1aX2+HAhcDhpe05BzgUqIGbI2JzZu4c2quQJEmSlrh+hp5dAhzbUdY6uF8NXFeWYerB/Xqag3vaDu4PBw4DzimXo5QkLQOZ+Tmg86oya4HWSYNNwKvbyi/NzDozbwT2jIgVwKuAazNzR0kOXctT2ydJkiRJ8zBjosiDe0nSAtkvM+8HKH/3LeX7A/e0bbe1lPUqlyRJkjQgc52jaMrBfUQM7OA+ItbT9EYiM5mcnJwa8MTEU8q62dbXyxic9pj6jXGUjHEwFkOMsDjiNEa1qbqU1dOUP8VMbUk/JiaGP43fuL+//AxMZX1MZX1MZX1IkharQR8Fz/vgPjM3Ahtb22zfvn3K+snJSTrLxkF7TOMaYztjHIzFECMsjjiXS4wrV64cUDRLwraIWFGj2srnAAAgAElEQVROOKwAHijlW4ED2rZbBdxXyo/qKL+h245nakv6MYofeMvhM7CUWB9TWR9TLWR92JZIkhZSP3MUdbOtHNQzi4P7buWSpOVrM7Cu3F8HXNVW/qaIqCLiCOCh0ov1GmBNROxV5rlbU8okSZIkDchcexS1Du438NSD+7dExGU0E1c/VM4UXwO8u20C6zXA2XMPW5K0mETEJ2h6A01GxFaaCxxsADIiTgPuBk4qm19Nc/XMO2iuoPlmgMzcERHvBG4q252bmZ1z6EmSJEmahxkTRR7cS5LmKzNf32PVMV22rYHTe+znYuDiAYYmSZIkqc2MiSIP7iVJkiRJkpaHuc5RJEmSJEmSpCXGRJEkSZIkSZIAE0WSJEmSJEkqTBRJkiRJkiQJMFEkSZIkSZKkwkSRJEmSJEmSABNFkiRJkiRJKkwUSZIkSZIkCTBRJEmSJEmSpMJEkSRJkiRJkgATRZIkSZIkSSpMFEmSJEmSJAkwUSRJkiRJkqTCRJEkSZIkSZIAE0WSJEmSJEkqTBRJkiRJkiQJgIlRByBJkhqP/cqJQ32+3T68eajPJ0mSprftNS8d+nN6PKBO9iiSJEmSJEkSYKJIkiRJkiRJxdCHnkXEscAFwG7ARzJzw7BjkCQtbrYlkqT5si2RpO6G2qMoInYD3g8cBxwMvD4iDh5mDJKkxc22RJI0X7YlktTbsHsUHQbckZl3AkTEZcBa4LYhxzFw7ROQbhvC8znhmKRlbMm2JcM228mz59u+2XZJGiO2JZLUw7ATRfsD97QtbwUOb98gItYD6wEyk5UrVz5lJ93KnuKvvjyPMJeHvupxxIxxcBZDnMaoPg2kLenHAbYlmoHfCVNZH1NZH2NtaG3JuP0uGaf3pbF0MWbvFxijumGRxDKC/+Gg62XYk1lXXcrq9oXM3JiZh2bmoWX7KbeIuLlb+TjdjNEYx+22GOJcZjFqfrrV4azakn5ui+E9OeybdWJ9WB9jVR+an251OPC2hDH7bBiLsSzmeIxlQWLpatiJoq3AAW3Lq4D7hhyDJGlxsy2RJM2XbYkk9TDsoWc3Aasj4rnAvcDJwC8NOQZJ0uJmWyJJmi/bEknqYag9ijJzF/AW4Brg9qYob53lbjYOPLDBM8bBMMbBWQxxGqP6MqC2pB/+v5/KOpnK+pjK+pjK+hhjQ2xLYLzeC8bSnbH0Nk7xGEt3A4+lqut65q0kSZIkSZK05A17jiJJkiRJkiSNKRNFkiRJkiRJAoY/mfWcRcSxwAXAbsBHMnPDiEMCICK2AA8DjwG7MvPQiNgbuBw4ENgCRGbuHHJcFwMnAA9k5gtLWde4IqKiqdvjgUeAUzPzlhHF+PvArwDfKpu9PTOvLuvOBk6jqeu3ZuY1Q4jxAOBS4MeAx4GNmXnBONXlNDH+PmNSlxHxw8DngD1ovneuyMxzygSSlwF7A7cAp2Tm9yNij/KaXgJ8G3hdZm4ZUYyXAD8PPFQ2PTUzvzKqz42GY1zbnPmYTXs13fs7ItYB7yi7PS8zN5XylwCXAE8Hrgbelpn1OLSJJb6BtIuDev2j/g4ZVBvc67Myl+/3UbTzLYNs75fKe0TT6/We6dhm1u+TBYzlDcCZZfG7wK9n5lfLui10tA9zjWUW8RwFXAXcVYo+mZnnlnUDa4P7jOV3gDeUxQngIOA5mbljkHXT61izY5uhfEf2GcsZwC8Du2jahf+cmf9S1j0GfL1sendmnjjXWGYRz6nAH9JMPg/wJ5n5kbJukJ+nfmI5H3h5WXwGsG9m7lnWDbRuyj53A74M3JuZJ3SsW5D3zKLoUVQq5v3AccDBwOsj4uDRRjXFyzPzkLYvjrOA6zJzNXBdWR62S4BjO8p6xXUcsLrc1gMXjjBGgPNLfR7SdoB6MM3VKF5QHvOB8r5YaLuA387Mg4AjgNNLLONUl71ihPGpy0eBozPzRcAhwLERcQTwByXG1cBOmi8yyt+dmfk84Pyy3ULrFSPA77TV41dK2ag+N1pgi6DNmY9+26uu7+/yg/Yc4HDgMOCciNirPObCsm3rccfO8BzDdgnzbBcH/PpH/R1yCfNsg2f4rMzq+32E7XzLQNr7JfYe0fSmO/5qmcv7ZKFiuQv4+cz8GeCdPHXy2872YT76iQfgf7d937SSRINug2eMJTP/sBUHcDbwN5m5o22TQdXNdMeaLcP6juwnlr8HDi3vmSuA97St+/e2/928EyF9xgNwedvztpJEg/48zRhLZv5W23vmj4FPtq0edN0AvI1m0v1uFuQ9sygSRTT/8Dsy887M/D7NGaq1I45pOmuBVhZzE/DqYQeQmZ8DdnQU94prLXBpZtaZeSOwZ0SsGFGMvawFLsvMRzPzLuAOmvfFgsrM+1tnfjLzYZoP6P6MUV1OE2MvQ6/LUh/fLYu7l1sNHE3T8MBT67FVv1cAx5SzcqOIsZeRfG40FIutzZmP2X6XvQq4NjN3ZNMr6FqaA6gVwLMy8wuZWdOc2er2eR5JmwgDaxcH+fpH+h0yoDa462elfF/P9vt9JO18ywDb+yXzHtH0+jz+mtX7ZCFjycy/yyd7c94IrJrr8w0inmkMtA2eQyyvBz4x1+ebIZZ+jjWH8h3ZTyyZ+dnMfKQsLvR7ZrbH4e0G/XmabSwL9p4BiIhVwC8AH+mxyYK8ZxZLomh/4J625a30/2Wz0Grg0xFxc0SsL2X7Zeb90Hw5AfuOLLqpesU1bvX7loj4WkRc3JYNHnmMEXEg8GLgi4xpXXbECGNUl+Xs81eAB2i+wP8ZeDCby9N2xvFEjGX9Q8A+w44xM1v1+K5Sj+eX7p1TYuwSvxa3pfq/nU171asOpivf2qV8uucYB6N8/eP6PptNu9GrfB9m//0+NvUxz/Z+ObxH1KHL8VfLbN8nCxlLu9OAv25b7tY+DMQM8fxcRHw1Iv46Il5QykZWNxHxDJoEw1+0FQ+0bqY51mwZ2ndkH7G063zP/HBEfDkiboyIgZwA6jOe/6e0UVdEM6wQRlg3EfETwHOB69uKB1037wN+l2boZDcL8p5ZLImibj0J+s0wLrQjM/NnabpHnh4RLxt1QHMwTvV7IfAfaLr53Q/8USkfaYwR8aM0jcZvZuZ3ptl0ZHF2iXGs6jIzH8ume+Yqmmz2QdPEMRYxRsQLabog/zTwH2nm2miN7x+nz40Ga6n+b2fTXvWqg9mWL1bDeP3jWGezbTfmUh9j/R4aQHu/1N8j6jDDe2ao7/d+3r8R8XKaH/1nthUvyO+ZGeK5BfiJbIb3/DHwP0v5yOoG+EXgb3PqsLOB1k2PY812Q3vP9BELABHxRuBQmvmBWn48m6F4vwS8LyL+w3xi6TOe/wUcmM1QuM/wZC+akdUNzdCuKzLzsbaygdVNRLTmErx5ms0W5D2zWBJFW4ED2pZXAfeNKJYpMvO+8vcB4EqaH8DbWl2Dy98HRhfhFL3iGpv6zcxt5YP5OPBhnuweN7IYI2J3moblY5nZGn86VnXZLcZxrMsS14PADTTjxPeMiNak+u1xPBFjWf9s+h8iMcgYjy1dluvMfBT4U8akHrWgluT/dpbtVa86mK58VZdypnmOcTDK1z9277M5tBu9yrcz++/3kdfHgNr7Jf0e0VQ93jPtZvs+WchYiIifoRm+sjYzv90q79E+zMtM8WTmd1rDe7KZD233iJhkRHVTnEzHEKKFqJuyvyeONTtWDf07cppYiIhXAP8NOLEcC7ce06qXO8tjXzyIWKaLJzO/3RbDh2kmb4YR1U0x3XtmEHVzJHBiNJOqXwYcHRF/1rHNgrxnFkui6CZgdUQ8NyJ+iOYfsnnEMRERPxIRz2zdB9YA/0AT27qy2TqaGf3HQa+4NgNviogqmom6Hmp1gR62jrH3r6GpT2hiPDki9ojmSiqrgS8NIZ4KuAi4PTPf27ZqbOqyV4zjVJcR8ZyIaF0J4OnAK2jGiH8WeG3ZrLMeW/X7WuD6bOZ0GHaM32g7eK9o5o1or8ex+Nxo4MayzZmPObRXvd7f1wBrImKvaIYlrQGuKesejogjymflTXT/PI9Tmwijff1j9x0yh3aj62elfF/P9vt9JO18ywDb+yX9HtGTpnnPtJvV+2QhY4mIH6eZcPeUzPyntvJe7cOc9RnPj5XtiIjDaH6XfpsBt8F9/p+IiGfTXOX2qraygdZNr2PNjs2G8h3ZTywR8WLgQzRJogfayveKMhVDSe4dCdw211hmEU97G3UiT07uPOjPUz//JyLi+cBewBfaygZaN5l5dmauyswDaT4L12fmGzs2W5D3zMTMm4xeZu6KiLfQ/MN3Ay7OzFtHHBbAfsCVEQFNXX48Mz8VETcBGRGnAXcDJw07sIj4BHAUMBkRW2lmgt/QI66raS7beQfNpTvfPMIYj4qIQ2i6xW0BfhUgM2+NiKT5oO0CTu/o4rdQjgROAb4ezThVgLczXnXZK8bXj1FdrgA2RTPT/tOaMPIvI+I24LKIOI/mygoXle0vAj4aEXfQZMRPXuD4povx+oh4Dk33za8Av1a2H8nnRgtvjNuc+Zhte9X1/Z3NpYLfSXMgD3BuWxf9X+fJS3//NU/OZdDr+3KoBtEuDvj1j/Q7ZFBt8DSflTOZxff7CNv5loG090vpPaIZ9XrP/DhAZn6Qub1PFiqW36OZt+QDpS1oXeq9a/swj1j6jee1wK9HxC7g34GTy4/bQbfB/cQCTXL805n5b22PHXTd9DrWPBf4cmZuZnjfkf3E8ofAjwJ/Xuqgdan3g4APRcTj5bEbMnNeiaI+43lrRJxI8/p3AKfCgnye+okFmkmsL+s4mb0QdfMUw3jPVHXtUGdJkiRJkiQtnqFnkiRJkiRJWmAmiiRJkiRJkgSYKJIkSZIkSVJhokiSJEmSJEmAiSJJkiRJkiQVJookSZIkSZIEmCiSJEmSJElSYaJIkiRJkiRJgIkiSZIkSZIkFSaKJEmSJEmSBJgokiRJkiRJUmGiSJIkSZIkSYCJIkmSJEmSJBUmiiRJkiRJkgSYKJIkSZIkSVJhokiSJEmSJEmAiSJJkiRJkiQVJookSZIkSZIEmCiSJEmSJElSYaJIkiRJkiRJgIkiSZIkSZIkFSaKJEmSJEmSBJgokiRJkiRJUmGiSJIkSZIkSYCJIkmSJEmSJBUmiiRJkiRJkgSYKJIkSZIkSVJhokiSJEmSJEmAiSJJkiRJkiQVJookSZIkSZIEmCiSJEmSJElSYaJIkiRJkiRJgIkiSZIkSZIkFSaKJEmSJEmSBJgokiRJkiRJUmGiSAKqqrqhqqqPDGhfdVVVbxzEviRJkiRJGiYTRdLgrQCuaC1UVbWrqqpTRxeOJEmSJEn9MVEkDUhVVT8EUNf1v9Z1/b1RxyNJWjyqqtq9qqpq1HFIkiSZKNLIlOFeF1dVtaGqqu1VVX2nqqqPVFX19LJ+97Lu3qqqvl9V1W1VVf1Sxz7qqqreVlXVX1RV9W9VVd1XVdUZXbZ5Y0fZZ6qqumSa2F5Z4ttRVdVDVVX9TVVVh3XZ71urqvp4VVUPAR/rfL6qqrYAuwF/WsrrqqqeWVXVw11ey4FVVT1eVdVRs6tJSdKgVFX15qqqHqyq6hkd5edU/6e9e4+yq6oTPP49pBBtXzxKMCH04NI4I+oShAaU1kFQRGSIzshP1EawkXTPgvbFjILaQw+gC3t8gK2iAdIEH8TfwleWjURE0yx6RHm0rSLtMiILInRiJDxsFCbhzB9nX7gUVUnVrVv3Vd/PWnfde/fZ59z9q5zU3vW7++xTVb+qGs8p/c49VVVtrqrq21VVvbCt7i5VVX2hqqrbq6r6fVVVP6+q6rT2RFBVVZeUvuivSl/xIPDkngUqSZI0BRNF6rc3ALsBLwPeAhwDfKRs+zBwMvAu4AXAF4AvVFV1+IRjnAmsBfYr+/5tVVX/dZbtegrwaeBg4KXAL4Arq6rabZLP/j7wYuADkxznT4CtJYaFwMK6ru8HvlRia3cSsA74x1m2XZLUuVVADRzbKqiqagfgbcBFwO7AtcBGmr7rYODnwNqqqp5RdtkJ+AnwOmAf4GzgfwMnTvisA4HDSr0XAc5GlSRJfVfVdd3vNmieqqpqLbA38Oy6rreWsmXA3wG7AncD767r+jNt+3wNeHpd14eV9zXwhbquj2+r8yXgj+u6/tO2OsfXdf2FtjrfAdbXdX1iW1vW1XX99inaugPwW+DUuq4fmTkErKjr+qQJdR/zeVVVbQHeXtf1JW11XgzcCDy3rutfVFW1ALgN+GRd1/9nmj9CSdIcqKrqk8CL2/qRVwPfBP4Y+AvgyLquD26rX9Ek+v+uruvzpjjm+cA+dV2/qry/hCZBtLiu69/NYTiSJEkz4owi9dsPW0mi4p+AJwDPLs/XTKj/j8DzJ5R9f8L7f6L5BrdjVVU9q6qqz1dVta6qqvuA+4CnA/9hYvs7OX5d1zcBNwCtxNRrgD2AlR02WZLUPZ8DDqmqqtWXnAz8Q13Xd9HMFN2/qqrftR7A/TRffCyB5suFqqpOr6rqR+XS6t8Bf8nj+5BbTBJJkqRBM9bvBkgTTFzIc+KUt2qSsukcY2LZjts5xjeBTcApwB3AQzSXGjxhQr1/385xtuWzwIerqvogTcLo63Vdb5zF8SRJXVDX9c1VVV0LvL2qqnNpLot+Xdm8A3A1cOoku95bnk8DzgDeA9xEk0h6N/DaCfVn04dIkiTNCRNF6rc/qapqQdusopfQJGV+SbOw538Gbm6r//IJ76FZH+Izbe9fAtzS9n4jsKj1pqqqnWhmHP1qsgaVdYj2AY6q63pNKVtMsy5FJx6iWdB6olXAx2kuY3gtcFSHx5ckdd/ngPNoLoP+N+DKUn4DzVpDv67r+vdT7Pty4Mq6ri9uFVRVtWTumipJktQ9XnqmftsN+HRVVc+rquq1NAt+XljX9b8DnwTOrqrq2KqqllRV9X5gKc0i1+2Orqrq1FLnr4A3Ap9o2/4d4C+rqnpJVVUvAC7h8TOD2m0GfgOcXFXVc6uqeglwGTDVHwTb8yvgFVVVLaqqarxVWGL8AvAx4PbSTknSYLi8PP81cHFd1w+X95+iSf5/vaqql5U7Vv5pVVUfqqrqpaXOz4FDq6p6RelHzgEO6m3zJUmSOmOiSP12Oc2U/GtpZthcAby3bPsAcCHNN7o3A38G/Fld11dPOMZZwCuBfwHeD5xR1/Xlbdv/B/BTYA3wLZp1j66fqkHlj4FjadZJ+jFNYuk84K4OYzwN2J8mYfSbCduW0yStLqpdWV6SBkZd138APk8z+/ritvINNDNXNwFfpUkKfZFm/aFWP3E2zZp636BZR28Xmi8/JEmSBp53PVPfbO9OY9M8xuPuaDZMqqo6Cvg6zV3a/q3f7ZEkPaqqqgSeVNf1f+l3WyRJknrFNYqkPqiq6o9obrP8v4AvmSSSpMFRVdUuwMuA1wOv6nNzJEmSespLz6T+eC/N5XAP8+ildpKkwfDPNJeT/W1d12v73BZJkqSe8tIzSZIkSZIkAc4okiRJkiRJUjHoaxQ53UnSKKr63YB5xr5E0iiyL5EkzYlBTxRx5513znif8fFxNm3aNAet6S3jGCzGMViGNY5Fixb1uwnzUid9CQzveTYV4xlsxjPYBike+xJJ0lzy0jNJkiRJkiQBJookSZIkSZJUmCiSJEmSJEkSYKJIkiRJkiRJhYkiSZIkSZIkASaKJEmSJEmSVJgokiRJkiRJEmCiSJIkSZIkSYWJIkmSJEmSJAEw1u8GzJWtJx/T089bcOHqnn6eJEmSumtb48cNc/B5jh8lSYPIGUWSJEmSJEkCTBRJkiRJkiSpMFEkSZIkSZIkwESRJEmSJEmSChNFkiRJkiRJAkwUSZIkSZIkqTBRJEmSJEmSJMBEkSRJkiRJkgoTRZIkSZIkSQJMFEmSJEmSJKkwUSRJkiRJkiTARJEkSZIkSZIKE0WSJEmSJEkCTBRJkiRJkiSpMFEkSZIkSZIkwESRJEmSJEmSChNFkiRJkiRJAkwUSZIkSZIkqTBRJEmSJEmSJADG+t0ASdL8ERELgBuAX2fm0RHxLGAVsCtwE3B8Zj4UETsBlwL7A78F3piZt5VjnAGcBGwF3pGZa3ofiSRJkjSatpsoioi9aAbrzwQeBpZn5vkRsSvwZWBv4DYgMnNzRFTA+cBRwAPAiZl5UznWCcAHy6HPycyV3Q1HkjTg3gncAjytvP8I8InMXBURn6VJAF1Qnjdn5nMi4rhS740RsQ9wHPB8YBHwnYh4bmZu7XUgkiRJ0iiazqVnW4DTMvN5wMHAKWWgfjpwdWYuAa4u7wFeAywpj2U0A35KYulM4CDgQODMiNili7FIkgZYRCwGXgtcVN5XwGHA5aXKSuB15fXS8p6y/fBSfymwKjMfzMxfAeto+hRJkiRJXbDdGUWZeRdwV3l9f0TcAuxJM1g/tFRbCawF3lfKL83MGrguInaOiIWl7lWZeTdARFwFHAlc1sV4JEmD6zzgvcBTy/vdgHsyc0t5v56mf6E83wGQmVsi4t5Sf0/gurZjtu/ziIhYRvNlBZnJ+Ph4Rw0eGxvreN9BZDyDzXj6b0OPP2/Yfj6SpPlhRmsURcTewH7AD4A9ShKJzLwrInYv1R4Z3BetQfxU5RM/Y9aD+7Gx3i+9NBcd/TAOsCZjHIPFONQPEXE0sDEzb4yIQ0txNUnVejvbtrXPIzJzObC8tX3Tpk0za3AxPj5Op/sOIuMZbMYz/3T681m0aFGXWyJJ0qOmnVGJiKcAXwHelZn3RcRUVfs+uO/HH49zMRAalQGWcQwW4+iveTy4PwQ4JiKOAp5Is0bRecDOETFWZhUtBu4s9dcDewHrI2IMeDpwd1t5S/s+kiRJkmZpOmsUERE70iSJvpiZXy3FG8olZZTnjaV8qkG8g3tJmqcy84zMXJyZe9MsRv3dzHwL8D3gDaXaCcA3yuvV5T1l+3fLJc2rgeMiYqdyx7QlwA97FIYkSZI08rabKCqLh14M3JKZH2/b1D6Inzi4f2tEVBFxMHBvuURtDXBEROxSFrE+opRJkuav9wHviYh1NGsQXVzKLwZ2K+XvodwwITNvBhL4GXAlcIp3PJMkSZK6ZzqXnh0CHA/8JCJ+VMreD5wLZEScBNwOHFu2XQEcRXMnmgeAtwFk5t0RcTZwfal3Vmtha0nS/JGZa2lugEBm3sokdy3LzD/waL8ycduHgA/NXQslSZKk+Ws6dz27lsnXFwI4fJL6NXDKFMdaAayYSQMlSZIkSZLUG9Nao0iSJEmSJEmjz0SRJEmSJEmSABNFkiRJkiRJKkwUSZIkSZIkCTBRJEmSJEmSpMJEkSRJkiRJkgATRZIkSZIkSSpMFEmSJEmSJAkwUSRJkiRJkqTCRJEkSZIkSZIAE0WSJEmSJEkqTBRJkiRJkiQJMFEkSZIkSZKkwkSRJEmSJEmSABNFkiRJkiRJKkwUSZIkSZIkCTBRJEmSJEmSpMJEkSRJkiRJkgATRZIkSZIkSSpMFEmSJEmSJAkwUSRJkiRJkqTCRJEkSZIkSZIAE0WSJEmSJEkqTBRJkiRJkiQJMFEkSZIkSZKkwkSRJEmSJEmSABNFkiRJkiRJKkwUSZIkSZIkCTBRJEmSJEmSpMJEkSRJkiRJkgAY63cDRsXWk4/p+jE3bGPbggtXd/3zJEmSJEnS/OaMIkmSJEmSJAEmiiRJkiRJklSYKJIkSZIkSRJgokiSJEmSJEmFiSJJkiRJkiQBJookSZIkSZJUmCiSJEmSJEkSAGP9boAkafRFxBOBa4CdaPqeyzPzzIh4FrAK2BW4CTg+Mx+KiJ2AS4H9gd8Cb8zM28qxzgBOArYC78jMNb2OR5IkSRpV200URcQK4GhgY2a+oJT9DXAy8JtS7f2ZeUXZNukAPiKOBM4HFgAXZea53Q1FkjTAHgQOy8zfRcSOwLUR8S3gPcAnMnNVRHyWpv+4oDxvzsznRMRxwEeAN0bEPsBxwPOBRcB3IuK5mbm1H0FJkiRJo2Y6M4ouAT5F881uu09k5kfbC6YawJfNnwZeBawHro+I1Zn5s1m0XZI0JDKzBn5X3u5YHjVwGPDmUr4S+BuaRNHS8hrgcuBTEVGV8lWZ+SDwq4hYBxwIfH/uo5AkSZJG33YTRZl5TUTsPc3jTTWAB1iXmbcCRMSqUtdEkSTNExGxALgReA7Nlwe/BO7JzC2lynpgz/J6T+AOgMzcEhH3AruV8uvaDtu+T/tnLQOWlf0ZHx/vqM1jY2Md7zuIjGewGU//bejx5w3bz0eSND/MZo2iUyPircANwGmZuZltD+DvmFB+0GQH7cbgfmxs9JdeGqaBxTAOFCdjHINlVOKYT8rlYftGxM7A14DnTVKtLs/VFNumKp/4WcuB5a3tmzZtmnmDaX7XdrrvIDKewWY880+nP59FixZ1uSWSJD2q04zKBcDZNIPzs4GPAX/O1AP4ye6u9riBPXRncD8f/ngcpoHXqAwUjWOwDGscDu4hM++JiLXAwcDOETFWZhUtBu4s1dYDewHrI2IMeDpwd1t5S/s+kiRJkmZpsgTOdmXmhszcmpkPAxfy6OVlUw3gHdhL0jwWEc8oM4mIiCcBrwRuAb4HvKFUOwH4Rnm9urynbP9uWedoNXBcROxU7pi2BPhhb6KQJEmSRl9HiaKIWNj29vXAT8vrqQbw1wNLIuJZEfEEmgWvV3febEnSkFkIfC8ifkzTJ1yVmd8E3ge8p6xptxtwcal/MbBbKX8PcDpAZt4MJM0ad1cCp3jHM0mSJKl7tnvpWURcBhwKjEfEeuBM4NCI2Jfm8rHbgL+AZgAfEa0B/BbaBvARcSqwBlgArCiDfUnSPJCZPwb2m6T8Vh6dldpe/gfg2CmO9SHgQ91uoyRJkqTp3fXsTZMUXzxJWav+pAP4zLwCuGJGrZMkSZIkSVLPdHTpmSRJkiRJkkaPiSJJkiRJkiQB07j0TALYevIxHTE52F4AABMESURBVO+7oYN9FlzoWueSJEmSJPWaM4okSZIkSZIEmCiSJEmSJElSYaJIkiRJkiRJgIkiSZIkSZIkFSaKJEmSJEmSBJgokiRJkiRJUmGiSJIkSZIkSYCJIkmSJEmSJBUmiiRJkiRJkgSYKJIkSZIkSVJhokiSJEmSJEmAiSJJkiRJkiQVJookSZIkSZIEmCiSJEmSJElSYaJIkiRJkiRJAIz1uwHqzNaTj+l3EyRJkiRJ0ohxRpEkSZIkSZIAE0WSJEmSJEkqTBRJkiRJkiQJMFEkSZIkSZKkwkSRJEmSJEmSABNFkiRJkiRJKkwUSZIkSZIkCTBRJEmSJEmSpMJEkSRJkiRJkgATRZIkSZIkSSpMFEmSJEmSJAkwUSRJkiRJkqTCRJEkSZIkSZIAE0WSJEmSJEkqTBRJkiRJkiQJMFEkSZIkSZKkwkSRJEmSJEmSABNFkiRJkiRJKkwUSZIkSZIkCYCxfjdAkjT6ImIv4FLgmcDDwPLMPD8idgW+DOwN3AZEZm6OiAo4HzgKeAA4MTNvKsc6AfhgOfQ5mbmyl7FIkiRJo2y7iaKIWAEcDWzMzBeUMgf2kqSZ2AKclpk3RcRTgRsj4irgRODqzDw3Ik4HTgfeB7wGWFIeBwEXAAeV/udM4ACgLsdZnZmbex6RJEmSNIKmc+nZJcCRE8pOpxnYLwGuLu/hsQP7ZTQDe9oG9gcBBwJnRsQus228JGk4ZOZdrS8OMvN+4BZgT2Ap0PriYCXwuvJ6KXBpZtaZeR2wc0QsBF4NXJWZd5fk0FU8vo+SJEmS1KHtzijKzGsiYu8JxUuBQ8vrlcBamm+AHxnYA9dFRGtgfyhlYA9QvkU+Erhs9iFIkoZJ6VP2A34A7JGZd0GTTIqI3Uu1PYE72nZbX8qmKp/4GctovrAgMxkfH++orWNjYx3vO4iMZ7AZT/9t6PHnDdvPR5I0P3S6RtGcDOyhO4P7sTGXXhp2gzhwGsYB72SMQ/0UEU8BvgK8KzPvi4ipqlaTlNXbKH+MzFwOLG9t37RpUwetbX4XdbrvIDKewWY880+nP59FixZ1uSWSJD2q2xmVWQ3soTuDe/94HH6DOLAclQGvcfTXfB7cR8SONEmiL2bmV0vxhohYWL50WAhsLOXrgb3adl8M3FnKD51QvnYu2y1JkiTNJ9NZo2gyG8qAnhkM7CcrlyTNA+VmBxcDt2Tmx9s2rQZOKK9PAL7RVv7WiKgi4mDg3jKTdQ1wRETsUta6O6KUSZIkSeqCTmcUtQb25/L4gf2pEbGKZuHqe8u3xGuAD7ctYH0EcEbnzZYkDZlDgOOBn0TEj0rZ+2n6kYyIk4DbgWPLtito7qC5juYumm8DyMy7I+Js4PpS76zW+neSJEmSZm+7iaKIuIxmmv94RKynuXuZA3tJ0rRl5rVMfhkywOGT1K+BU6Y41gpgRfdaJ0mSJKllOnc9e9MUmxzYS5IkSZIkjZBO1yiSJEmSJEnSiDFRJEmSJEmSJMBEkSRJkiRJkgoTRZIkSZIkSQJMFEmSJEmSJKkwUSRJkiRJkiTARJEkSZIkSZIKE0WSJEmSJEkCTBRJkiRJkiSpMFEkSZIkSZIkwESRJEmSJEmSChNFkiRJkiRJAkwUSZIkSZIkqTBRJEmSJEmSJMBEkSRJkiRJkgoTRZIkSZIkSQJMFEmSJEmSJKkwUSRJkiRJkiTARJEkSZIkSZIKE0WSJEmSJEkCTBRJkiRJkiSpMFEkSZIkSZIkwESRJEmSJEmSChNFkiRJkiRJAkwUSZIkSZIkqTBRJEmSJEmSJMBEkSRJkiRJkgoTRZIkSZIkSQJMFEmSJEmSJKkwUSRJkiRJkiTARJEkSZIkSZIKE0WSJEmSJEkCTBRJkiRJkiSpMFEkSZIkSZIkwESRJEmSJEmSChNFkiRJkiRJAkwUSZIkSZIkqTBRJEmSJEmSJADG+t0ASdLoi4gVwNHAxsx8QSnbFfgysDdwGxCZuTkiKuB84CjgAeDEzLyp7HMC8MFy2HMyc2Uv45AkSZJG3awSRRFxG3A/sBXYkpkHdDLwlySNvEuATwGXtpWdDlydmedGxOnl/fuA1wBLyuMg4ALgoNK/nAkcANTAjRGxOjM39ywKSZIkacR1Y0bRKzJzU9v7GQ38u/D5kqQBl5nXRMTeE4qXAoeW1yuBtTT9xVLg0sysgesiYueIWFjqXpWZdwNExFXAkcBlc91+Sf2x9eRj+t0ESZLmnblYo2gpzYCf8vy6tvJLM7POzOuA1sBfkjQ/7ZGZdwGU591L+Z7AHW311peyqcolSZIkdclsZxTVwLcjogY+l5nLmTDwj4jtDfzvaj9gRCwDlpX9GR8fn3GjxsZcemnYdfLvPtfGxsYGsl0zZRwaAtUkZfU2yh+nG30JjN55ZjyDzXgeb0OX2jKoRunfW5I0OmabUTkkM+8syaCrIuJft1F3WgP8kmxa3tq+adOmiVW2y053+HXy7z7XxsfHB7JdMzWqcfT68oQFF67uaL9FixZ1uSVDbUNELCxfKiwENpby9cBebfUWA3eW8kMnlK+d7MDd6EtgdP6/tBjPYDOe+afTn499iSRpLs3q0rPMvLM8bwS+BhxIGfgDTHPgL0man1YDJ5TXJwDfaCt/a0RUEXEwcG+ZqboGOCIidomIXYAjSpkkSZKkLul4RlFEPBnYITPvL6+PAM7i0YH/uTx+4H9qRKyiWcS6NfCXJI24iLiMZjbQeESsp7l72blARsRJwO3AsaX6FTR3yFxHc5fMtwFk5t0RcTZwfal3Vmtha0mSJEndMZtLz/YAvhYRreN8KTOvjIjrmcHAX5I0+jLzTVNsOnySujVwyhTHWQGs6GLTJEmSJLXpOFGUmbcCL5qk/LfMcOAvSZIkSZKk/pvVGkWSJEmSJEkaHSaKJEmSJEmSBJgokiRJkiRJUmGiSJIkSZIkSYCJIkmSJEmSJBUmiiRJkiRJkgSYKJIkSZIkSVIx1u8GSJIkaThsPfmYadfdMIftkCRJc8cZRZIkSZIkSQJMFEmSJEmSJKkwUSRJkiRJkiTANYokYHprLgz7WgsLLlzd7yZIkiRJkgacM4okSZIkSZIEmCiSJEmSJElSYaJIkiRJkiRJgIkiSZIkSZIkFSaKJEmSJEmSBJgokiRJkiRJUmGiSJIkSZIkSYCJIkmSJEmSJBUmiiRJkiRJkgSYKJIkSZIkSVIx1u8GSJIkqTNbTz6m302QJEkjxhlFkiRJkiRJAkwUSZIkSZIkqTBRJEmSJEmSJMBEkSRJkiRJkgoTRZIkSZIkSQK865kkSVJXzPYOZBu61A5JkqTZcEaRJEmSJEmSABNFkiRJkiRJKrz0TJIkjaTZXgomSZI0HzmjSJIkSZIkSYAziiRJGhhzPQNm4mLJCy5cPaefJ0mSpOFjokiSpClseP1L+90ESZIkqadMFGkgua6EJM29Xv+udQaTJEnS4HONIkmSJEmSJAHOKJIkST3S7RlME9dckiRJ0uw5o0iSJEmSJElAH2YURcSRwPnAAuCizDy3122QJA03+xJJkiRpbvR0RlFELAA+DbwG2Ad4U0Ts08s2SJKGm32JJEmSNHd6fenZgcC6zLw1Mx8CVgFLe9wGSdJwsy+RJEmS5kivLz3bE7ij7f164KD2ChGxDFgGkJksWrSoow/a6x9u6LCJ0ujr9P/VoHlMHP6fn0961pd4XkmSJGm+6fWMomqSsrr9TWYuz8wDMvOAUn/Gj4i4sdN9B+lhHIP1MI7Begx5HJqdyX6GXe9LGP7zzHiG7GE8g/0YwHgkSZoTvU4UrQf2anu/GLizx22QJA03+xJJkiRpjvT60rPrgSUR8Szg18BxwJt73AZJ0nCzL5EkSZLmSE9nFGXmFuBUYA1wS1OUN8/BRy2fg2P2g3EMFuMYLKMSh2aoh30JjN55ZjyDzXgG26jFI0nSpKq6rrdfS5IkSZIkSSOv12sUSZIkSZIkaUCZKJIkSZIkSRLQ+8Ws51xEHAmcDywALsrMc/vcpMeIiBXA0cDGzHxBKdsV+DKwN3AbEJm5OSIqmliOAh4ATszMm8o+JwAfLIc9JzNX9jCGvYBLgWcCDwPLM/P8IYzjicA1wE40/xcuz8wzywK5q4BdgZuA4zPzoYjYiSbu/YHfAm/MzNvKsc4ATgK2Au/IzDW9iqMtngXADcCvM/PoYYwjIm4D7i+fvyUzDxi280qDbYrfwS8CPgs8heYce0tm3hcRTwA+BxxA87vunZm5tuyzP3AJ8CTgirKt59dydzGetcBC4Pfl0Edk5sbeRdIYlf6lpcvxbAV+Ug59e2Ye08tYShtmGs9/Av4eeDHwgcz8aNuxBmK81uWYbmNCH9bDUCRJ6pqRmlFU/lD+NPAaYB/gTRGxT39b9TiXAEdOKDsduDozlwBXl/fQxLGkPJYBF8AjiaUzgYOAA4EzI2KXOW/5o7YAp2Xm84CDgVPKz3nY4ngQOCwzXwTsCxwZEQcDHwE+UeLYTJM4oTxvzsznAJ8o9SixHwc8n+bf9jPlXOy1d9Is7NsyrHG8IjP3bRtgD9t5pcF2CY//HXwRcHpmvhD4GvA/S/nJAKX8VcDHIqLVb15Ac961zsGJx+yVSyb57E7igSahtG959DxJVIxK/9LSlXiK37f9+/Q8SVTMNJ67gXcAH20/yICN17oSU5uJfZgkSUNnpBJFNIPBdZl5a2Y+RDObYmmf2/QYmXkNzSCj3VKg9U3nSuB1beWXZmadmdcBO0fEQuDVwFWZeXdmbgauood/pGTmXa1vODPzfprkxJ5DGEedmb8rb3csjxo4DLh8ijha8V0OHF6+/V0KrMrMBzPzV8A6mnOxZyJiMfBamj8QKe0aujimMFTnlQbbFL+D/yPN7EJozpf/Vl7vQ/MHIiVxcg9wQDnPnpaZ3y+ziC7l0fOyp7oRTw+aOW2j0r+0dDGegTDTeDJzY2ZeD/y/CYcamPFaF2OSJGlkjFqiaE/gjrb360vZoNsjM++CZsAC7F7Kp4pnYOKMiL2B/YAfMIRxRMSCiPgRsJHmD4lfAvdkc/vtiW16pL1l+73AbgxAHMB5wHtpps1T2jWMcdTAtyPixohYVsqG7rzS0Pkp0JqhcSywV3n9L8DSiBgrl3LuX7btSXNetQzaOTbTeFr+PiJ+FBF/XZLHfTXs/ctEs4wH4IkRcUNEXBcRfUlMtptmPFMZuH8fmHVMMHkfJknS0Bm1RNFkA9uerxnRRVPFMxBxRsRTgK8A78rM+7ZRdWDjyMytmbkvsJjmG87nbaNNAxlHRLTWJ7mxrXhbbRrIOIpDMvPFNJcjnBIRL99G3UGOQ8Plz2nOtxuBpwIPlfIVNH/A3kCTjP2/NJepDPo5NtN4oLns7IXAy8rj+J62eIJR6F/adSEegD8ulzO9GTgvIp7d5WZO2wzimcpA/ftAV2KCmfVhkiQNrFFLFK3nsd+OLgbu7FNbZmJDa2p5eW6tDTFVPH2PMyJ2pBlQfTEzv1qKhy6Olsy8B1hLsz7BzhHRWui9vU2PtLdsfzrNJR/9juMQ4JiyiOYqmkvOzmP44iAz7yzPG2nWVjmQIT6vNBwy818z84jM3B+4jGZmIZm5JTPfXdYbWQrsDPyC5hxb3HaIgTrHOoiHzPx1eb4f+BJ9vOx01PqXLsXT/vvxVpr+ar85b/wkZhjPVAbm3we6FtNUfZgkSUNn1BJF1wNLIuJZ5e4uxwGr+9ym6VgNnFBenwB8o638rRFRlUWW7y3Tn9cAR0TELmVxziNKWU+USxIuBm7JzI+3bRq2OJ4RETuX108CXkmzNsH3gDdMEUcrvjcA3y3rk6wGjouIncrlHEuAH/YmCsjMMzJzcWbuTXPOfzcz38KQxRERT46Ip7Ze05wPP2XIzisNn4jYvTzvQHOXrM+W939UzkUi4lU0dzH6WTnP7o+Ig8vvw7fy6HnZdzONp1yKNl7Kd6S5i9pP+9T2kehfWroVT4ljp3LMcZovCH7WkyDadBDPVAZmvNatmLbRh0mSNHTGtl9leGTmlog4lWYwuABYkZk397lZjxERlwGHAuMRsZ7mriznAhkRJwG306wpAc0tl4+iWVT4AeBtAJl5d0ScTTPQAjgrMycuZjqXDqG5LOEnZX0fgPczfHEsBFZGc/eVHZom5Tcj4mfAqog4B/hnmgEk5fnzEbGOZgbOcSWOmyMiaQbtW4BTMnNrD+OYyvsYrjj2AL4WEdD8bvpSZl4ZEdczXOeVBtgUv4OfEhGnlCpfpbn1NTRrkqyJiIeBX/PYy7H+O80dx54EfKs8eq5L8exUynek6Tu/A1zYmwgeZ1T6l5auxENzWfTnyr/dDsC5mdnzRBEzjCcinklzqePTgIcj4l3APpl53wCN17oSEzDOJH1YLwORJKlbqroepGUVJEmSJEmS1C+jdumZJEmSJEmSOmSiSJIkSZIkSYCJIkmSJEmSJBUmiiRJkiRJkgSYKJIkSZIkSVJhokiSJEmSJEmAiSJJkiRJkiQV/x9llbhFZLF8JwAAAABJRU5ErkJggg==\n",
=======
      "image/png": "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\n",
>>>>>>> 3746ff7fb952eff387572f5a2020cca7d6f8645a
      "text/plain": [
       "<Figure size 1440x1080 with 9 Axes>"
      ]
     },
     "metadata": {
      "needs_background": "light"
     },
     "output_type": "display_data"
    }
   ],
   "source": [
    "#view histograms of every column \n",
    "df.hist(figsize=(20,15));"
   ]
  },
  {
   "cell_type": "markdown",
   "metadata": {},
   "source": [
    "## Groupby\n",
    "The “groupby” method groups data by different categories. The data is grouped based on one or several variables and analysis is performed on the individual groups.\n"
   ]
  },
  {
   "cell_type": "code",
<<<<<<< HEAD
   "execution_count": 23,
=======
   "execution_count": 26,
>>>>>>> 3746ff7fb952eff387572f5a2020cca7d6f8645a
   "metadata": {
    "ExecuteTime": {
     "end_time": "2020-06-11T23:04:30.059620Z",
     "start_time": "2020-06-11T23:04:30.054144Z"
    }
   },
   "outputs": [
    {
     "data": {
      "text/plain": [
       "driven_wheels\n",
       "all wheel drive      61444.405393\n",
       "four wheel drive     48740.482704\n",
       "front wheel drive    25924.110476\n",
       "rear wheel drive     70237.459322\n",
       "Name: msrp, dtype: float64"
      ]
     },
<<<<<<< HEAD
     "execution_count": 23,
     "metadata": {},
     "output_type": "execute_result"
    }
   ],
   "source": [
    "#What type of driven wheel is most valuable? \n",
    "df_group_drive = df.groupby(['driven_wheels'])['msrp'].mean()\n",
    "df_group_drive"
   ]
  },
  {
   "cell_type": "code",
   "execution_count": 24,
   "metadata": {},
   "outputs": [
    {
     "data": {
      "text/plain": [
       "driven_wheels      vehicle_style      \n",
       "all wheel drive    2dr Hatchback            9240.800000\n",
       "                   2dr SUV                 35551.363636\n",
       "                   4dr Hatchback           32012.200000\n",
       "                   4dr SUV                 41034.702845\n",
       "                   Cargo Van               32760.000000\n",
       "                   Convertible            167234.000000\n",
       "                   Convertible SUV         47975.000000\n",
       "                   Coupe                  154467.195876\n",
       "                   Crew Cab Pickup         39509.074074\n",
       "                   Passenger Van           34525.000000\n",
       "                   Regular Cab Pickup       5667.000000\n",
       "                   Sedan                   58154.445633\n",
       "                   Wagon                   38565.578231\n",
       "four wheel drive   2dr Hatchback            2000.000000\n",
       "                   2dr SUV                 32704.666667\n",
       "                   4dr Hatchback            2000.000000\n",
       "                   4dr SUV                 64061.054608\n",
       "                   Convertible SUV         36931.000000\n",
       "                   Crew Cab Pickup         40517.409938\n",
       "                   Extended Cab Pickup     34215.695652\n",
       "                   Regular Cab Pickup      30888.974026\n",
       "                   Sedan                   28415.000000\n",
       "front wheel drive  2dr Hatchback           16222.085106\n",
       "                   4dr Hatchback           19926.786667\n",
       "                   4dr SUV                 31795.534959\n",
       "                   Cargo Minivan           21467.500000\n",
       "                   Convertible             28126.615385\n",
       "                   Coupe                   19709.157303\n",
       "                   Passenger Minivan       26610.516667\n",
       "                   Sedan                   30311.272984\n",
       "                   Wagon                   28539.626582\n",
       "rear wheel drive   2dr Hatchback           17805.571429\n",
       "                   4dr Hatchback           52800.000000\n",
       "                   4dr SUV                 51611.556122\n",
       "                   Cargo Minivan           28950.000000\n",
       "                   Cargo Van               30597.500000\n",
       "                   Convertible             95827.095768\n",
       "                   Coupe                   86870.877934\n",
       "                   Crew Cab Pickup         37362.089041\n",
       "                   Extended Cab Pickup     27837.368421\n",
       "                   Passenger Minivan       32500.000000\n",
       "                   Passenger Van           35992.500000\n",
       "                   Regular Cab Pickup      24484.908163\n",
       "                   Sedan                   75774.734962\n",
       "                   Wagon                   21191.704545\n",
       "Name: msrp, dtype: float64"
      ]
     },
     "execution_count": 24,
=======
     "execution_count": 26,
>>>>>>> 3746ff7fb952eff387572f5a2020cca7d6f8645a
     "metadata": {},
     "output_type": "execute_result"
    }
   ],
   "source": [
<<<<<<< HEAD
    "df_group_drive = df.groupby(['driven_wheels', 'vehicle_style'])['msrp'].mean()\n",
=======
    "#What type of driven wheel is most valuable? \n",
    "df_group_drive = df.groupby(['driven_wheels'])['msrp'].mean()\n",
>>>>>>> 3746ff7fb952eff387572f5a2020cca7d6f8645a
    "df_group_drive"
   ]
  },
  {
   "cell_type": "code",
   "execution_count": 28,
   "metadata": {
    "ExecuteTime": {
     "end_time": "2020-06-11T23:06:48.599840Z",
     "start_time": "2020-06-11T23:06:48.590302Z"
    }
   },
   "outputs": [
    {
     "data": {
      "text/plain": [
       "driven_wheels      vehicle_style      \n",
       "all wheel drive    2dr Hatchback            9240.800000\n",
       "                   2dr SUV                 35551.363636\n",
       "                   4dr Hatchback           32012.200000\n",
       "                   4dr SUV                 41034.702845\n",
       "                   Cargo Van               32760.000000\n",
       "                   Convertible            167234.000000\n",
       "                   Convertible SUV         47975.000000\n",
       "                   Coupe                  154467.195876\n",
       "                   Crew Cab Pickup         39509.074074\n",
       "                   Passenger Van           34525.000000\n",
       "                   Regular Cab Pickup       5667.000000\n",
       "                   Sedan                   58154.445633\n",
       "                   Wagon                   38565.578231\n",
       "four wheel drive   2dr Hatchback            2000.000000\n",
       "                   2dr SUV                 32704.666667\n",
       "                   4dr Hatchback            2000.000000\n",
       "                   4dr SUV                 64061.054608\n",
       "                   Convertible SUV         36931.000000\n",
       "                   Crew Cab Pickup         40517.409938\n",
       "                   Extended Cab Pickup     34215.695652\n",
       "                   Regular Cab Pickup      30888.974026\n",
       "                   Sedan                   28415.000000\n",
       "front wheel drive  2dr Hatchback           16222.085106\n",
       "                   4dr Hatchback           19926.786667\n",
       "                   4dr SUV                 31795.534959\n",
       "                   Cargo Minivan           21467.500000\n",
       "                   Convertible             28126.615385\n",
       "                   Coupe                   19709.157303\n",
       "                   Passenger Minivan       26610.516667\n",
       "                   Sedan                   30311.272984\n",
       "                   Wagon                   28539.626582\n",
       "rear wheel drive   2dr Hatchback           17805.571429\n",
       "                   4dr Hatchback           52800.000000\n",
       "                   4dr SUV                 51611.556122\n",
       "                   Cargo Minivan           28950.000000\n",
       "                   Cargo Van               30597.500000\n",
       "                   Convertible             95827.095768\n",
       "                   Coupe                   86870.877934\n",
       "                   Crew Cab Pickup         37362.089041\n",
       "                   Extended Cab Pickup     27837.368421\n",
       "                   Passenger Minivan       32500.000000\n",
       "                   Passenger Van           35992.500000\n",
       "                   Regular Cab Pickup      24484.908163\n",
       "                   Sedan                   75774.734962\n",
       "                   Wagon                   21191.704545\n",
       "Name: msrp, dtype: float64"
      ]
     },
     "execution_count": 28,
     "metadata": {},
     "output_type": "execute_result"
    }
   ],
   "source": [
    "df_group_drive = df.groupby(['driven_wheels', 'vehicle_style'])['msrp'].mean()\n",
    "df_group_drive"
   ]
  },
  {
   "cell_type": "code",
   "execution_count": null,
   "metadata": {
    "ExecuteTime": {
     "end_time": "2020-06-11T21:30:51.797604Z",
     "start_time": "2020-06-11T21:30:51.794940Z"
    }
   },
   "outputs": [],
   "source": [
    "#what type of driven wheel is most valuable based on body style? "
   ]
  },
  {
   "cell_type": "markdown",
   "metadata": {},
   "source": [
    "A table of this form isn’t the easiest to read, and also not very easy to visualize. To make it easier to understand, we can transform this table to a pivot table by using the pivot."
   ]
  },
  {
   "cell_type": "code",
   "execution_count": null,
   "metadata": {
    "ExecuteTime": {
     "end_time": "2020-06-11T21:33:10.562314Z",
     "start_time": "2020-06-11T21:33:10.559474Z"
    }
   },
   "outputs": [],
   "source": [
    "#use pivot to transform the table "
   ]
  },
  {
   "cell_type": "code",
   "execution_count": null,
   "metadata": {
    "ExecuteTime": {
     "end_time": "2020-06-11T21:33:26.228522Z",
     "start_time": "2020-06-11T21:33:26.226249Z"
    }
   },
   "outputs": [],
   "source": [
    "#fill in missing values "
   ]
  },
  {
   "cell_type": "markdown",
   "metadata": {},
   "source": [
    "## Visualizations always help EDA "
   ]
  },
  {
   "cell_type": "code",
   "execution_count": null,
   "metadata": {},
   "outputs": [],
   "source": [
    "#Visual 1 "
   ]
  },
  {
   "cell_type": "code",
   "execution_count": null,
   "metadata": {},
   "outputs": [],
   "source": [
    "#Visual 2 "
   ]
  }
 ],
 "metadata": {
  "kernelspec": {
   "display_name": "learn-env",
   "language": "python",
   "name": "learn-env"
  },
  "language_info": {
   "codemirror_mode": {
    "name": "ipython",
    "version": 3
   },
   "file_extension": ".py",
   "mimetype": "text/x-python",
   "name": "python",
   "nbconvert_exporter": "python",
   "pygments_lexer": "ipython3",
   "version": "3.6.9"
  },
  "toc": {
   "base_numbering": 1,
   "nav_menu": {},
   "number_sections": true,
   "sideBar": true,
   "skip_h1_title": true,
   "title_cell": "Table of Contents",
   "title_sidebar": "Contents",
   "toc_cell": false,
   "toc_position": {},
   "toc_section_display": true,
   "toc_window_display": false
  }
 },
 "nbformat": 4,
 "nbformat_minor": 2
}
