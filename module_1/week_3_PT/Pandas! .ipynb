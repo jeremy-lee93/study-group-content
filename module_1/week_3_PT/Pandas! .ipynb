{
 "cells": [
  {
   "cell_type": "markdown",
   "metadata": {},
   "source": [
    "# Practice Cleaning/EDA - Car Dataset \n",
    "Pandas is the primary library that we will use for pre-processing and exploring out data! Get familiar with it. Learn it. Love it. It's your life now. \n",
    "[Pandas Documentation](https://pandas.pydata.org/docs/user_guide/index.html)"
   ]
  },
  {
   "cell_type": "markdown",
   "metadata": {},
   "source": [
    "## Load Libraries "
   ]
  },
  {
   "cell_type": "code",
   "execution_count": 25,
   "metadata": {
    "ExecuteTime": {
     "end_time": "2020-06-11T21:10:46.761891Z",
     "start_time": "2020-06-11T21:10:45.793280Z"
    }
   },
   "outputs": [],
   "source": [
    "import pandas as pd\n",
    "import numpy as np \n",
    "import seaborn as sns\n",
    "import matplotlib.pyplot as plt\n",
    "%matplotlib notebook\n",
    "\n",
    "plt.style.use('ggplot')"
   ]
  },
  {
   "cell_type": "code",
   "execution_count": 26,
   "metadata": {
    "ExecuteTime": {
     "end_time": "2020-06-11T21:11:03.783696Z",
     "start_time": "2020-06-11T21:11:03.781454Z"
    }
   },
   "outputs": [
    {
     "data": {
      "text/plain": [
       "['seaborn-dark',\n",
       " 'seaborn-darkgrid',\n",
       " 'seaborn-ticks',\n",
       " 'fivethirtyeight',\n",
       " 'seaborn-whitegrid',\n",
       " 'classic',\n",
       " '_classic_test',\n",
       " 'fast',\n",
       " 'seaborn-talk',\n",
       " 'seaborn-dark-palette',\n",
       " 'seaborn-bright',\n",
       " 'seaborn-pastel',\n",
       " 'grayscale',\n",
       " 'seaborn-notebook',\n",
       " 'ggplot',\n",
       " 'seaborn-colorblind',\n",
       " 'seaborn-muted',\n",
       " 'seaborn',\n",
       " 'Solarize_Light2',\n",
       " 'seaborn-paper',\n",
       " 'bmh',\n",
       " 'tableau-colorblind10',\n",
       " 'seaborn-white',\n",
       " 'dark_background',\n",
       " 'seaborn-poster',\n",
       " 'seaborn-deep']"
      ]
     },
     "execution_count": 26,
     "metadata": {},
     "output_type": "execute_result"
    }
   ],
   "source": [
    "#check out the matplotlib 'styles'\n",
    "plt.style.available"
   ]
  },
  {
   "cell_type": "markdown",
   "metadata": {},
   "source": [
    "## Load the Data \n",
    "- Get and research the data\n",
    "- Load into notebook with Pandas\n",
    "- View basic info and summary stats"
   ]
  },
  {
   "cell_type": "code",
   "execution_count": 3,
   "metadata": {
    "ExecuteTime": {
     "end_time": "2020-06-11T21:13:29.704933Z",
     "start_time": "2020-06-11T21:13:29.702857Z"
    }
   },
   "outputs": [
    {
     "data": {
      "text/html": [
       "<div>\n",
       "<style scoped>\n",
       "    .dataframe tbody tr th:only-of-type {\n",
       "        vertical-align: middle;\n",
       "    }\n",
       "\n",
       "    .dataframe tbody tr th {\n",
       "        vertical-align: top;\n",
       "    }\n",
       "\n",
       "    .dataframe thead th {\n",
       "        text-align: right;\n",
       "    }\n",
       "</style>\n",
       "<table border=\"1\" class=\"dataframe\">\n",
       "  <thead>\n",
       "    <tr style=\"text-align: right;\">\n",
       "      <th></th>\n",
       "      <th>Make</th>\n",
       "      <th>Model</th>\n",
       "      <th>Year</th>\n",
       "      <th>Engine Fuel Type</th>\n",
       "      <th>Engine HP</th>\n",
       "      <th>Engine Cylinders</th>\n",
       "      <th>Transmission Type</th>\n",
       "      <th>Driven_Wheels</th>\n",
       "      <th>Number of Doors</th>\n",
       "      <th>Market Category</th>\n",
       "      <th>Vehicle Size</th>\n",
       "      <th>Vehicle Style</th>\n",
       "      <th>highway MPG</th>\n",
       "      <th>city mpg</th>\n",
       "      <th>Popularity</th>\n",
       "      <th>MSRP</th>\n",
       "    </tr>\n",
       "  </thead>\n",
       "  <tbody>\n",
       "    <tr>\n",
       "      <td>0</td>\n",
       "      <td>BMW</td>\n",
       "      <td>1 Series M</td>\n",
       "      <td>2011</td>\n",
       "      <td>premium unleaded (required)</td>\n",
       "      <td>335.0</td>\n",
       "      <td>6.0</td>\n",
       "      <td>MANUAL</td>\n",
       "      <td>rear wheel drive</td>\n",
       "      <td>2.0</td>\n",
       "      <td>Factory Tuner,Luxury,High-Performance</td>\n",
       "      <td>Compact</td>\n",
       "      <td>Coupe</td>\n",
       "      <td>26</td>\n",
       "      <td>19</td>\n",
       "      <td>3916</td>\n",
       "      <td>46135</td>\n",
       "    </tr>\n",
       "    <tr>\n",
       "      <td>1</td>\n",
       "      <td>BMW</td>\n",
       "      <td>1 Series</td>\n",
       "      <td>2011</td>\n",
       "      <td>premium unleaded (required)</td>\n",
       "      <td>300.0</td>\n",
       "      <td>6.0</td>\n",
       "      <td>MANUAL</td>\n",
       "      <td>rear wheel drive</td>\n",
       "      <td>2.0</td>\n",
       "      <td>Luxury,Performance</td>\n",
       "      <td>Compact</td>\n",
       "      <td>Convertible</td>\n",
       "      <td>28</td>\n",
       "      <td>19</td>\n",
       "      <td>3916</td>\n",
       "      <td>40650</td>\n",
       "    </tr>\n",
       "    <tr>\n",
       "      <td>2</td>\n",
       "      <td>BMW</td>\n",
       "      <td>1 Series</td>\n",
       "      <td>2011</td>\n",
       "      <td>premium unleaded (required)</td>\n",
       "      <td>300.0</td>\n",
       "      <td>6.0</td>\n",
       "      <td>MANUAL</td>\n",
       "      <td>rear wheel drive</td>\n",
       "      <td>2.0</td>\n",
       "      <td>Luxury,High-Performance</td>\n",
       "      <td>Compact</td>\n",
       "      <td>Coupe</td>\n",
       "      <td>28</td>\n",
       "      <td>20</td>\n",
       "      <td>3916</td>\n",
       "      <td>36350</td>\n",
       "    </tr>\n",
       "    <tr>\n",
       "      <td>3</td>\n",
       "      <td>BMW</td>\n",
       "      <td>1 Series</td>\n",
       "      <td>2011</td>\n",
       "      <td>premium unleaded (required)</td>\n",
       "      <td>230.0</td>\n",
       "      <td>6.0</td>\n",
       "      <td>MANUAL</td>\n",
       "      <td>rear wheel drive</td>\n",
       "      <td>2.0</td>\n",
       "      <td>Luxury,Performance</td>\n",
       "      <td>Compact</td>\n",
       "      <td>Coupe</td>\n",
       "      <td>28</td>\n",
       "      <td>18</td>\n",
       "      <td>3916</td>\n",
       "      <td>29450</td>\n",
       "    </tr>\n",
       "    <tr>\n",
       "      <td>4</td>\n",
       "      <td>BMW</td>\n",
       "      <td>1 Series</td>\n",
       "      <td>2011</td>\n",
       "      <td>premium unleaded (required)</td>\n",
       "      <td>230.0</td>\n",
       "      <td>6.0</td>\n",
       "      <td>MANUAL</td>\n",
       "      <td>rear wheel drive</td>\n",
       "      <td>2.0</td>\n",
       "      <td>Luxury</td>\n",
       "      <td>Compact</td>\n",
       "      <td>Convertible</td>\n",
       "      <td>28</td>\n",
       "      <td>18</td>\n",
       "      <td>3916</td>\n",
       "      <td>34500</td>\n",
       "    </tr>\n",
       "  </tbody>\n",
       "</table>\n",
       "</div>"
      ],
      "text/plain": [
       "  Make       Model  Year             Engine Fuel Type  Engine HP  \\\n",
       "0  BMW  1 Series M  2011  premium unleaded (required)      335.0   \n",
       "1  BMW    1 Series  2011  premium unleaded (required)      300.0   \n",
       "2  BMW    1 Series  2011  premium unleaded (required)      300.0   \n",
       "3  BMW    1 Series  2011  premium unleaded (required)      230.0   \n",
       "4  BMW    1 Series  2011  premium unleaded (required)      230.0   \n",
       "\n",
       "   Engine Cylinders Transmission Type     Driven_Wheels  Number of Doors  \\\n",
       "0               6.0            MANUAL  rear wheel drive              2.0   \n",
       "1               6.0            MANUAL  rear wheel drive              2.0   \n",
       "2               6.0            MANUAL  rear wheel drive              2.0   \n",
       "3               6.0            MANUAL  rear wheel drive              2.0   \n",
       "4               6.0            MANUAL  rear wheel drive              2.0   \n",
       "\n",
       "                         Market Category Vehicle Size Vehicle Style  \\\n",
       "0  Factory Tuner,Luxury,High-Performance      Compact         Coupe   \n",
       "1                     Luxury,Performance      Compact   Convertible   \n",
       "2                Luxury,High-Performance      Compact         Coupe   \n",
       "3                     Luxury,Performance      Compact         Coupe   \n",
       "4                                 Luxury      Compact   Convertible   \n",
       "\n",
       "   highway MPG  city mpg  Popularity   MSRP  \n",
       "0           26        19        3916  46135  \n",
       "1           28        19        3916  40650  \n",
       "2           28        20        3916  36350  \n",
       "3           28        18        3916  29450  \n",
       "4           28        18        3916  34500  "
      ]
     },
     "execution_count": 3,
     "metadata": {},
     "output_type": "execute_result"
    }
   ],
   "source": [
    "#import data \n",
    "df = pd.read_csv('data.csv')\n",
    "df.head()"
   ]
  },
  {
   "cell_type": "code",
   "execution_count": 5,
   "metadata": {
    "ExecuteTime": {
     "end_time": "2020-06-11T21:14:13.925753Z",
     "start_time": "2020-06-11T21:14:13.923154Z"
    }
   },
   "outputs": [
    {
     "name": "stdout",
     "output_type": "stream",
     "text": [
      "<class 'pandas.core.frame.DataFrame'>\n",
      "RangeIndex: 11914 entries, 0 to 11913\n",
      "Data columns (total 16 columns):\n",
      "Make                 11914 non-null object\n",
      "Model                11914 non-null object\n",
      "Year                 11914 non-null int64\n",
      "Engine Fuel Type     11911 non-null object\n",
      "Engine HP            11845 non-null float64\n",
      "Engine Cylinders     11884 non-null float64\n",
      "Transmission Type    11914 non-null object\n",
      "Driven_Wheels        11914 non-null object\n",
      "Number of Doors      11908 non-null float64\n",
      "Market Category      8172 non-null object\n",
      "Vehicle Size         11914 non-null object\n",
      "Vehicle Style        11914 non-null object\n",
      "highway MPG          11914 non-null int64\n",
      "city mpg             11914 non-null int64\n",
      "Popularity           11914 non-null int64\n",
      "MSRP                 11914 non-null int64\n",
      "dtypes: float64(3), int64(5), object(8)\n",
      "memory usage: 1.5+ MB\n"
     ]
    }
   ],
   "source": [
    "#view information about the dataset \n",
    "df.info()"
   ]
  },
  {
   "cell_type": "markdown",
   "metadata": {},
   "source": [
    "## Scrub the Data\n",
    "* Do we have missing values? \n",
    "* Do we need to change any of our dtypes? \n",
    "* How about the column names? \n",
    "    - NO SPACES\n",
    "    - NO SPECIAL CHARACTERS\n",
    "* Should we drop any columns? \n",
    "* Are there duplicates? Missing or Null values? \n",
    "* Check for outliers. "
   ]
  },
  {
   "cell_type": "code",
   "execution_count": 9,
   "metadata": {
    "ExecuteTime": {
     "end_time": "2020-06-11T21:15:04.716652Z",
     "start_time": "2020-06-11T21:15:04.714068Z"
    }
   },
   "outputs": [
    {
     "data": {
      "text/plain": [
       "Index(['make', 'model', 'year', 'engine_fuel_type', 'engine_hp',\n",
       "       'engine_cylinders', 'transmission_type', 'driven_wheels',\n",
       "       'number_of_doors', 'market_category', 'vehicle_size', 'vehicle_style',\n",
       "       'highway_mpg', 'city_mpg', 'popularity', 'msrp'],\n",
       "      dtype='object')"
      ]
     },
     "execution_count": 9,
     "metadata": {},
     "output_type": "execute_result"
    }
   ],
   "source": [
    "#rename columns\n",
    "df.columns = df.columns.str.replace(\" \", \"_\")\n",
    "#df = df.rename(columns={}) #rename with dictionary pairs\n",
    "df.columns\n",
    "df.columns = df.columns.str.lower()\n",
    "df.columns"
   ]
  },
  {
   "cell_type": "code",
   "execution_count": 15,
   "metadata": {
    "ExecuteTime": {
     "end_time": "2020-06-11T21:15:54.719179Z",
     "start_time": "2020-06-11T21:15:54.716763Z"
    }
   },
   "outputs": [
    {
     "name": "stdout",
     "output_type": "stream",
     "text": [
      "(0, 16)\n",
      "<class 'pandas.core.frame.DataFrame'>\n",
      "Int64Index: 11199 entries, 0 to 11913\n",
      "Data columns (total 16 columns):\n",
      "make                 11199 non-null object\n",
      "model                11199 non-null object\n",
      "year                 11199 non-null int64\n",
      "engine_fuel_type     11196 non-null object\n",
      "engine_hp            11130 non-null float64\n",
      "engine_cylinders     11169 non-null float64\n",
      "transmission_type    11199 non-null object\n",
      "driven_wheels        11199 non-null object\n",
      "number_of_doors      11193 non-null float64\n",
      "market_category      7823 non-null object\n",
      "vehicle_size         11199 non-null object\n",
      "vehicle_style        11199 non-null object\n",
      "highway_mpg          11199 non-null int64\n",
      "city_mpg             11199 non-null int64\n",
      "popularity           11199 non-null int64\n",
      "msrp                 11199 non-null int64\n",
      "dtypes: float64(3), int64(5), object(8)\n",
      "memory usage: 1.5+ MB\n"
     ]
    }
   ],
   "source": [
    "#checking for duplicates and drop if any\n",
    "dup_rows_df = df[df.duplicated()]\n",
    "print(dup_rows_df.shape)\n",
    "df = df.drop_duplicates()\n",
    "df.info()"
   ]
  },
  {
   "cell_type": "code",
   "execution_count": 16,
   "metadata": {
    "ExecuteTime": {
     "end_time": "2020-06-11T21:17:07.358582Z",
     "start_time": "2020-06-11T21:17:07.356068Z"
    },
    "scrolled": true
   },
   "outputs": [
    {
     "name": "stdout",
     "output_type": "stream",
     "text": [
      "make                    0\n",
      "model                   0\n",
      "year                    0\n",
      "engine_fuel_type        3\n",
      "engine_hp              69\n",
      "engine_cylinders       30\n",
      "transmission_type       0\n",
      "driven_wheels           0\n",
      "number_of_doors         6\n",
      "market_category      3376\n",
      "vehicle_size            0\n",
      "vehicle_style           0\n",
      "highway_mpg             0\n",
      "city_mpg                0\n",
      "popularity              0\n",
      "msrp                    0\n",
      "dtype: int64\n"
     ]
    }
   ],
   "source": [
    "#are there any missing rows? Deal with them. \n",
    "#solutions: Replace with median, mode, or mean\n",
    "print(df.isnull().sum())"
   ]
  },
  {
   "cell_type": "code",
   "execution_count": 18,
   "metadata": {},
   "outputs": [
    {
     "name": "stdout",
     "output_type": "stream",
     "text": [
      "make                 0\n",
      "model                0\n",
      "year                 0\n",
      "engine_fuel_type     0\n",
      "engine_hp            0\n",
      "engine_cylinders     0\n",
      "transmission_type    0\n",
      "driven_wheels        0\n",
      "number_of_doors      0\n",
      "market_category      0\n",
      "vehicle_size         0\n",
      "vehicle_style        0\n",
      "highway_mpg          0\n",
      "city_mpg             0\n",
      "popularity           0\n",
      "msrp                 0\n",
      "dtype: int64\n"
     ]
    }
   ],
   "source": [
    "df = df.dropna()\n",
    "print(df.isnull().sum())"
   ]
  },
  {
   "cell_type": "markdown",
   "metadata": {},
   "source": [
    "## Exploratory Data Analysis \n",
    "- summarize main characteristics of the data\n",
    "- gain better understanding of the data-set,\n",
    "- uncover relationships between different variables, and\n",
    "- extract important variables for the problem we are trying to solve\n",
    "\n",
    "#### Helpful methods include:\n",
    "- unique()\n",
    "- value_counts()"
   ]
  },
  {
   "cell_type": "code",
   "execution_count": 19,
   "metadata": {
    "ExecuteTime": {
     "end_time": "2020-06-11T21:14:33.051808Z",
     "start_time": "2020-06-11T21:14:33.049229Z"
    }
   },
   "outputs": [
    {
     "data": {
      "text/html": [
       "<div>\n",
       "<style scoped>\n",
       "    .dataframe tbody tr th:only-of-type {\n",
       "        vertical-align: middle;\n",
       "    }\n",
       "\n",
       "    .dataframe tbody tr th {\n",
       "        vertical-align: top;\n",
       "    }\n",
       "\n",
       "    .dataframe thead th {\n",
       "        text-align: right;\n",
       "    }\n",
       "</style>\n",
       "<table border=\"1\" class=\"dataframe\">\n",
       "  <thead>\n",
       "    <tr style=\"text-align: right;\">\n",
       "      <th></th>\n",
       "      <th>year</th>\n",
       "      <th>engine_hp</th>\n",
       "      <th>engine_cylinders</th>\n",
       "      <th>number_of_doors</th>\n",
       "      <th>highway_mpg</th>\n",
       "      <th>city_mpg</th>\n",
       "      <th>popularity</th>\n",
       "      <th>msrp</th>\n",
       "    </tr>\n",
       "  </thead>\n",
       "  <tbody>\n",
       "    <tr>\n",
       "      <td>count</td>\n",
       "      <td>7735.00000</td>\n",
       "      <td>7735.000000</td>\n",
       "      <td>7735.000000</td>\n",
       "      <td>7735.000000</td>\n",
       "      <td>7735.00000</td>\n",
       "      <td>7735.000000</td>\n",
       "      <td>7735.000000</td>\n",
       "      <td>7.735000e+03</td>\n",
       "    </tr>\n",
       "    <tr>\n",
       "      <td>mean</td>\n",
       "      <td>2012.14958</td>\n",
       "      <td>277.632062</td>\n",
       "      <td>5.825469</td>\n",
       "      <td>3.421332</td>\n",
       "      <td>26.52980</td>\n",
       "      <td>19.468649</td>\n",
       "      <td>1513.098772</td>\n",
       "      <td>5.102826e+04</td>\n",
       "    </tr>\n",
       "    <tr>\n",
       "      <td>std</td>\n",
       "      <td>6.23167</td>\n",
       "      <td>115.529955</td>\n",
       "      <td>1.895593</td>\n",
       "      <td>0.895054</td>\n",
       "      <td>7.78492</td>\n",
       "      <td>7.231534</td>\n",
       "      <td>1429.197317</td>\n",
       "      <td>7.153777e+04</td>\n",
       "    </tr>\n",
       "    <tr>\n",
       "      <td>min</td>\n",
       "      <td>1990.00000</td>\n",
       "      <td>55.000000</td>\n",
       "      <td>0.000000</td>\n",
       "      <td>2.000000</td>\n",
       "      <td>12.00000</td>\n",
       "      <td>7.000000</td>\n",
       "      <td>2.000000</td>\n",
       "      <td>2.000000e+03</td>\n",
       "    </tr>\n",
       "    <tr>\n",
       "      <td>25%</td>\n",
       "      <td>2010.00000</td>\n",
       "      <td>194.000000</td>\n",
       "      <td>4.000000</td>\n",
       "      <td>2.000000</td>\n",
       "      <td>22.00000</td>\n",
       "      <td>16.000000</td>\n",
       "      <td>520.000000</td>\n",
       "      <td>2.622500e+04</td>\n",
       "    </tr>\n",
       "    <tr>\n",
       "      <td>50%</td>\n",
       "      <td>2015.00000</td>\n",
       "      <td>270.000000</td>\n",
       "      <td>6.000000</td>\n",
       "      <td>4.000000</td>\n",
       "      <td>26.00000</td>\n",
       "      <td>18.000000</td>\n",
       "      <td>1013.000000</td>\n",
       "      <td>3.560000e+04</td>\n",
       "    </tr>\n",
       "    <tr>\n",
       "      <td>75%</td>\n",
       "      <td>2016.00000</td>\n",
       "      <td>325.000000</td>\n",
       "      <td>6.000000</td>\n",
       "      <td>4.000000</td>\n",
       "      <td>30.00000</td>\n",
       "      <td>22.000000</td>\n",
       "      <td>2009.000000</td>\n",
       "      <td>4.947750e+04</td>\n",
       "    </tr>\n",
       "    <tr>\n",
       "      <td>max</td>\n",
       "      <td>2017.00000</td>\n",
       "      <td>1001.000000</td>\n",
       "      <td>16.000000</td>\n",
       "      <td>4.000000</td>\n",
       "      <td>354.00000</td>\n",
       "      <td>137.000000</td>\n",
       "      <td>5657.000000</td>\n",
       "      <td>2.065902e+06</td>\n",
       "    </tr>\n",
       "  </tbody>\n",
       "</table>\n",
       "</div>"
      ],
      "text/plain": [
       "             year    engine_hp  engine_cylinders  number_of_doors  \\\n",
       "count  7735.00000  7735.000000       7735.000000      7735.000000   \n",
       "mean   2012.14958   277.632062          5.825469         3.421332   \n",
       "std       6.23167   115.529955          1.895593         0.895054   \n",
       "min    1990.00000    55.000000          0.000000         2.000000   \n",
       "25%    2010.00000   194.000000          4.000000         2.000000   \n",
       "50%    2015.00000   270.000000          6.000000         4.000000   \n",
       "75%    2016.00000   325.000000          6.000000         4.000000   \n",
       "max    2017.00000  1001.000000         16.000000         4.000000   \n",
       "\n",
       "       highway_mpg     city_mpg   popularity          msrp  \n",
       "count   7735.00000  7735.000000  7735.000000  7.735000e+03  \n",
       "mean      26.52980    19.468649  1513.098772  5.102826e+04  \n",
       "std        7.78492     7.231534  1429.197317  7.153777e+04  \n",
       "min       12.00000     7.000000     2.000000  2.000000e+03  \n",
       "25%       22.00000    16.000000   520.000000  2.622500e+04  \n",
       "50%       26.00000    18.000000  1013.000000  3.560000e+04  \n",
       "75%       30.00000    22.000000  2009.000000  4.947750e+04  \n",
       "max      354.00000   137.000000  5657.000000  2.065902e+06  "
      ]
     },
     "execution_count": 19,
     "metadata": {},
     "output_type": "execute_result"
    }
   ],
   "source": [
    "#view descriptive stats\n",
    "df.describe()"
   ]
  },
  {
   "cell_type": "code",
   "execution_count": 20,
   "metadata": {
    "ExecuteTime": {
     "end_time": "2020-06-11T21:22:29.696552Z",
     "start_time": "2020-06-11T21:22:29.693937Z"
    }
   },
   "outputs": [
    {
     "data": {
      "image/png": "[encoded data removed]",
      "text/plain": [
       "<Figure size 1440x1080 with 9 Axes>"
      ]
     },
     "metadata": {
      "needs_background": "light"
     },
     "output_type": "display_data"
    }
   ],
   "source": [
    "#view histograms of every column \n",
    "df.hist(figsize=(20,15));"
   ]
  },
  {
   "cell_type": "markdown",
   "metadata": {},
   "source": [
    "## Groupby\n",
    "The “groupby” method groups data by different categories. The data is grouped based on one or several variables and analysis is performed on the individual groups.\n"
   ]
  },
  {
   "cell_type": "code",
   "execution_count": 23,
   "metadata": {
    "ExecuteTime": {
     "end_time": "2020-06-11T21:29:31.933441Z",
     "start_time": "2020-06-11T21:29:31.930851Z"
    }
   },
   "outputs": [
    {
     "data": {
      "text/plain": [
       "driven_wheels\n",
       "all wheel drive      61444.405393\n",
       "four wheel drive     48740.482704\n",
       "front wheel drive    25924.110476\n",
       "rear wheel drive     70237.459322\n",
       "Name: msrp, dtype: float64"
      ]
     },
     "execution_count": 23,
     "metadata": {},
     "output_type": "execute_result"
    }
   ],
   "source": [
    "#What type of driven wheel is most valuable? \n",
    "df_group_drive = df.groupby(['driven_wheels'])['msrp'].mean()\n",
    "df_group_drive"
   ]
  },
  {
   "cell_type": "code",
   "execution_count": 24,
   "metadata": {},
   "outputs": [
    {
     "data": {
      "text/plain": [
       "driven_wheels      vehicle_style      \n",
       "all wheel drive    2dr Hatchback            9240.800000\n",
       "                   2dr SUV                 35551.363636\n",
       "                   4dr Hatchback           32012.200000\n",
       "                   4dr SUV                 41034.702845\n",
       "                   Cargo Van               32760.000000\n",
       "                   Convertible            167234.000000\n",
       "                   Convertible SUV         47975.000000\n",
       "                   Coupe                  154467.195876\n",
       "                   Crew Cab Pickup         39509.074074\n",
       "                   Passenger Van           34525.000000\n",
       "                   Regular Cab Pickup       5667.000000\n",
       "                   Sedan                   58154.445633\n",
       "                   Wagon                   38565.578231\n",
       "four wheel drive   2dr Hatchback            2000.000000\n",
       "                   2dr SUV                 32704.666667\n",
       "                   4dr Hatchback            2000.000000\n",
       "                   4dr SUV                 64061.054608\n",
       "                   Convertible SUV         36931.000000\n",
       "                   Crew Cab Pickup         40517.409938\n",
       "                   Extended Cab Pickup     34215.695652\n",
       "                   Regular Cab Pickup      30888.974026\n",
       "                   Sedan                   28415.000000\n",
       "front wheel drive  2dr Hatchback           16222.085106\n",
       "                   4dr Hatchback           19926.786667\n",
       "                   4dr SUV                 31795.534959\n",
       "                   Cargo Minivan           21467.500000\n",
       "                   Convertible             28126.615385\n",
       "                   Coupe                   19709.157303\n",
       "                   Passenger Minivan       26610.516667\n",
       "                   Sedan                   30311.272984\n",
       "                   Wagon                   28539.626582\n",
       "rear wheel drive   2dr Hatchback           17805.571429\n",
       "                   4dr Hatchback           52800.000000\n",
       "                   4dr SUV                 51611.556122\n",
       "                   Cargo Minivan           28950.000000\n",
       "                   Cargo Van               30597.500000\n",
       "                   Convertible             95827.095768\n",
       "                   Coupe                   86870.877934\n",
       "                   Crew Cab Pickup         37362.089041\n",
       "                   Extended Cab Pickup     27837.368421\n",
       "                   Passenger Minivan       32500.000000\n",
       "                   Passenger Van           35992.500000\n",
       "                   Regular Cab Pickup      24484.908163\n",
       "                   Sedan                   75774.734962\n",
       "                   Wagon                   21191.704545\n",
       "Name: msrp, dtype: float64"
      ]
     },
     "execution_count": 24,
     "metadata": {},
     "output_type": "execute_result"
    }
   ],
   "source": [
    "df_group_drive = df.groupby(['driven_wheels', 'vehicle_style'])['msrp'].mean()\n",
    "df_group_drive"
   ]
  },
  {
   "cell_type": "code",
   "execution_count": 12,
   "metadata": {
    "ExecuteTime": {
     "end_time": "2020-06-11T21:30:51.797604Z",
     "start_time": "2020-06-11T21:30:51.794940Z"
    }
   },
   "outputs": [],
   "source": [
    "#what type of driven wheel is most valuable based on body style? "
   ]
  },
  {
   "cell_type": "markdown",
   "metadata": {},
   "source": [
    "A table of this form isn’t the easiest to read, and also not very easy to visualize. To make it easier to understand, we can transform this table to a pivot table by using the pivot."
   ]
  },
  {
   "cell_type": "code",
   "execution_count": 13,
   "metadata": {
    "ExecuteTime": {
     "end_time": "2020-06-11T21:33:10.562314Z",
     "start_time": "2020-06-11T21:33:10.559474Z"
    }
   },
   "outputs": [],
   "source": [
    "#use pivot to transform the table "
   ]
  },
  {
   "cell_type": "code",
   "execution_count": 14,
   "metadata": {
    "ExecuteTime": {
     "end_time": "2020-06-11T21:33:26.228522Z",
     "start_time": "2020-06-11T21:33:26.226249Z"
    }
   },
   "outputs": [],
   "source": [
    "#fill in missing values "
   ]
  },
  {
   "cell_type": "markdown",
   "metadata": {},
   "source": [
    "## Visualizations always help EDA "
   ]
  },
  {
   "cell_type": "code",
   "execution_count": null,
   "metadata": {},
   "outputs": [],
   "source": [
    "#Visual 1 "
   ]
  },
  {
   "cell_type": "code",
   "execution_count": null,
   "metadata": {},
   "outputs": [],
   "source": [
    "#Visual 2 "
   ]
  }
 ],
 "metadata": {
  "kernelspec": {
   "display_name": "learn-env",
   "language": "python",
   "name": "learn-env"
  },
  "language_info": {
   "codemirror_mode": {
    "name": "ipython",
    "version": 3
   },
   "file_extension": ".py",
   "mimetype": "text/x-python",
   "name": "python",
   "nbconvert_exporter": "python",
   "pygments_lexer": "ipython3",
   "version": "3.6.9"
  },
  "toc": {
   "base_numbering": 1,
   "nav_menu": {},
   "number_sections": true,
   "sideBar": true,
   "skip_h1_title": true,
   "title_cell": "Table of Contents",
   "title_sidebar": "Contents",
   "toc_cell": false,
   "toc_position": {},
   "toc_section_display": true,
   "toc_window_display": false
  }
 },
 "nbformat": 4,
 "nbformat_minor": 2
}
