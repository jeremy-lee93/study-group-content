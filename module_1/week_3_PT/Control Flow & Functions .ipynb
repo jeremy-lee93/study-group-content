{
 "cells": [
  {
   "cell_type": "markdown",
   "metadata": {},
   "source": [
    "### Be sure to Review Python Basics - you should be familiar with the following:\n",
    "* Data types(strings, intergers, floats, booleans, lists, dictionaries, tuples and sets) \n",
    "* Control Flow(if statements, Else/Elif statements, For loops) "
   ]
  },
  {
   "cell_type": "markdown",
   "metadata": {},
   "source": [
    "## Methods\n",
    "\n",
    "A method is a function that belongs to an object. And in Python, most things are objects! Naturally, the methods that belong to a particular object can vary depending on the object's datatype.\n",
    "\n",
    "### String Methods\n",
    "\n",
    "Here are some useful methods for strings:\n",
    "\n",
    "- ```.upper()```: converts a string to uppercase\n",
    "- ```.lower()```: converts a string to lowercase\n",
    "- ```.capitalize()```: makes the first letter of a string a capital"
   ]
  },
  {
   "cell_type": "code",
   "execution_count": 1,
   "metadata": {
    "ExecuteTime": {
     "end_time": "2020-06-09T16:53:46.203872Z",
     "start_time": "2020-06-09T16:53:46.200495Z"
    }
   },
   "outputs": [],
   "source": [
    "first_name = 'greg'\n",
    "last_name = 'damico'"
   ]
  },
  {
   "cell_type": "code",
   "execution_count": 3,
   "metadata": {},
   "outputs": [
    {
     "name": "stdout",
     "output_type": "stream",
     "text": [
      "Greg Damico\n"
     ]
    }
   ],
   "source": [
    "#print(first_name.title() + ' ' + last_name.title())\n"
   ]
  },
  {
   "cell_type": "markdown",
   "metadata": {},
   "source": [
    "**Exercise: How would you print them together with first and last name capitalized?** "
   ]
  },
  {
   "cell_type": "markdown",
   "metadata": {},
   "source": [
    "### f-Strings \n",
    "- f-Strings are a convenient way to bring variables into strings."
   ]
  },
  {
   "cell_type": "code",
   "execution_count": 5,
   "metadata": {
    "ExecuteTime": {
     "end_time": "2020-06-09T16:59:38.168590Z",
     "start_time": "2020-06-09T16:59:38.165258Z"
    }
   },
   "outputs": [
    {
     "name": "stdout",
     "output_type": "stream",
     "text": [
      "Greg Damico\n"
     ]
    }
   ],
   "source": [
    "print(f\"{first_name} {last_name}\".title())"
   ]
  },
  {
   "cell_type": "markdown",
   "metadata": {},
   "source": [
    "## List Methods\n",
    "\n",
    "Here are some useful methods for lists:\n",
    "\n",
    "* append(): adds an element to the end of a list\n",
    "* pop(): removes an element from the list\n",
    "* extend(): adds multiple elements to the end of a list\n",
    "* index(): returns (first) place in list where argument is found\n",
    "* remove(): removes element by value\n",
    "\n",
    "**Question: What's the difference between .remove() and del?**\n",
    "\n"
   ]
  },
  {
   "cell_type": "code",
   "execution_count": 10,
   "metadata": {
    "ExecuteTime": {
     "end_time": "2020-06-09T17:01:20.722635Z",
     "start_time": "2020-06-09T17:01:20.719942Z"
    }
   },
   "outputs": [],
   "source": [
    "list_1 = [1, 2, 4]\n",
    "\n",
    "list_2 = [8, 16]"
   ]
  },
  {
   "cell_type": "code",
   "execution_count": 11,
   "metadata": {},
   "outputs": [
    {
     "data": {
      "text/plain": [
       "[1, 4]"
      ]
     },
     "execution_count": 11,
     "metadata": {},
     "output_type": "execute_result"
    }
   ],
   "source": [
    "del list_1[1]\n",
    "list_1"
   ]
  },
  {
   "cell_type": "markdown",
   "metadata": {},
   "source": [
    "**Since we're discussing indexing let's use a list comprehension to create a new list that we can use for slicing practice** \n",
    "\n",
    "\n",
    "A _slice_ is a subset of list elements. In the case of lists, a single slice will always be of contiguous elements. Slice notation takes the form - my_list[start:stop:step]"
   ]
  },
  {
   "cell_type": "code",
   "execution_count": null,
   "metadata": {},
   "outputs": [],
   "source": [
    "#use for loop first \n",
    "word = 'abcdefghi'\n",
    "char_list = []"
   ]
  },
  {
   "cell_type": "code",
   "execution_count": null,
   "metadata": {},
   "outputs": [],
   "source": [
    "for letter in word:\n",
    "    char_list.append(letter)\n",
    "    \n",
    "char_list"
   ]
  },
  {
   "cell_type": "code",
   "execution_count": 13,
   "metadata": {},
   "outputs": [
    {
     "data": {
      "text/plain": [
       "['a', 'b', 'c', 'd', 'e', 'f', 'g', 'h', 'i']"
      ]
     },
     "execution_count": 13,
     "metadata": {},
     "output_type": "execute_result"
    }
   ],
   "source": [
    "#Use a list comprehension to create a list containing the letters a-i\n",
    "my_list = [x for x in 'abcdefghi']\n",
    "my_list"
   ]
  },
  {
   "cell_type": "code",
   "execution_count": 16,
   "metadata": {},
   "outputs": [
    {
     "data": {
      "text/plain": [
       "['f', 'g', 'h', 'i']"
      ]
     },
     "execution_count": 16,
     "metadata": {},
     "output_type": "execute_result"
    }
   ],
   "source": [
    "#practice indexing \n",
    "my_list[-4:]"
   ]
  },
  {
   "cell_type": "markdown",
   "metadata": {},
   "source": [
    "**Exercise: How do we return [‘f’, ‘e’] using a slice?**"
   ]
  },
  {
   "cell_type": "code",
   "execution_count": null,
   "metadata": {},
   "outputs": [],
   "source": [
    "my_list[5:3:-1]"
   ]
  },
  {
   "cell_type": "markdown",
   "metadata": {},
   "source": [
    "## Dictionary Methods\n",
    "Here are some useful methods for dictionaries:\n",
    "\n",
    " - .keys(): returns an array of the dictionary's keys\n",
    " - .values(): returns an array of the dictionary's values\n",
    " - .items(): returns an array of key-value tuples"
   ]
  },
  {
   "cell_type": "code",
   "execution_count": 18,
   "metadata": {
    "ExecuteTime": {
     "end_time": "2020-06-09T21:55:22.132564Z",
     "start_time": "2020-06-09T21:55:22.128900Z"
    }
   },
   "outputs": [],
   "source": [
    "zoo = {1: 'giraffe', 2: 'elephant', 3: 'monkey'}"
   ]
  },
  {
   "cell_type": "code",
   "execution_count": 19,
   "metadata": {
    "ExecuteTime": {
     "end_time": "2020-06-09T21:57:00.719547Z",
     "start_time": "2020-06-09T21:57:00.717416Z"
    }
   },
   "outputs": [
    {
     "name": "stdout",
     "output_type": "stream",
     "text": [
      "dict_keys([1, 2, 3])\n",
      "dict_values(['giraffe', 'elephant', 'monkey'])\n"
     ]
    }
   ],
   "source": [
    "#how can we access the keys and values in this dictionary? \n",
    "print(zoo.keys())\n",
    "print(zoo.values())"
   ]
  },
  {
   "cell_type": "code",
   "execution_count": 20,
   "metadata": {
    "ExecuteTime": {
     "end_time": "2020-06-09T21:57:02.877815Z",
     "start_time": "2020-06-09T21:57:02.875396Z"
    }
   },
   "outputs": [
    {
     "name": "stdout",
     "output_type": "stream",
     "text": [
      "1 giraffe\n",
      "2 elephant\n",
      "3 monkey\n"
     ]
    }
   ],
   "source": [
    "#How do we use a for loop? \n",
    "for key, value in zoo.items():\n",
    "    print(key, value)"
   ]
  },
  {
   "cell_type": "code",
   "execution_count": 21,
   "metadata": {},
   "outputs": [
    {
     "name": "stdout",
     "output_type": "stream",
     "text": [
      "giraffe\n",
      "elephant\n",
      "monkey\n"
     ]
    }
   ],
   "source": [
    "for x in zoo:\n",
    "    print(zoo[x])"
   ]
  },
  {
   "cell_type": "markdown",
   "metadata": {},
   "source": [
    "## Functions\n",
    "This aspect of Python is incredibly useful! Writing your own functions can save you a TON of work - by automating it."
   ]
  },
  {
   "cell_type": "code",
   "execution_count": 22,
   "metadata": {
    "ExecuteTime": {
     "end_time": "2020-06-09T21:59:59.524376Z",
     "start_time": "2020-06-09T21:59:59.521773Z"
    }
   },
   "outputs": [],
   "source": [
    "#Build a function that will take an input string and add '-totally' to the end of it.\n",
    "def add_totally(string):\n",
    "    return string + '-totally'"
   ]
  },
  {
   "cell_type": "code",
   "execution_count": 25,
   "metadata": {},
   "outputs": [
    {
     "data": {
      "text/plain": [
       "'Really? -totally'"
      ]
     },
     "execution_count": 25,
     "metadata": {},
     "output_type": "execute_result"
    }
   ],
   "source": [
    "add_totally('Really? ')"
   ]
  },
  {
   "cell_type": "code",
   "execution_count": 30,
   "metadata": {},
   "outputs": [],
   "source": [
    "#write a function for reverse words \n",
    "def spin_words(s):\n",
    "    my_list = s.split()\n",
    "    my_list2 = []\n",
    "    for word in my_list:\n",
    "        my_list2.append(word[::-1])\n",
    "    return f' '.join(my_list2)"
   ]
  },
  {
   "cell_type": "code",
   "execution_count": 31,
   "metadata": {},
   "outputs": [
    {
     "data": {
      "text/plain": [
       "'taerG boJ'"
      ]
     },
     "execution_count": 31,
     "metadata": {},
     "output_type": "execute_result"
    }
   ],
   "source": [
    "spin_words('Great Job')"
   ]
  },
  {
   "cell_type": "code",
   "execution_count": 42,
   "metadata": {},
   "outputs": [],
   "source": [
    "def spin_words(str):\n",
    "    return ' '.join(s[::-1] for s in str.split())"
   ]
  },
  {
   "cell_type": "code",
   "execution_count": 43,
   "metadata": {},
   "outputs": [
    {
     "data": {
      "text/plain": [
       "'taerG boJ'"
      ]
     },
     "execution_count": 43,
     "metadata": {},
     "output_type": "execute_result"
    }
   ],
   "source": [
    "spin_words('Great Job')"
   ]
  },
  {
   "cell_type": "code",
   "execution_count": 39,
   "metadata": {},
   "outputs": [
    {
     "data": {
      "text/plain": [
       "['a', 'b', 'c', 'd', 'e', 'f', 'g']"
      ]
     },
     "execution_count": 39,
     "metadata": {},
     "output_type": "execute_result"
    }
   ],
   "source": [
    "letters = 'abcdefg'\n",
    "list(letters)"
   ]
  },
  {
   "cell_type": "code",
   "execution_count": 41,
   "metadata": {},
   "outputs": [
    {
     "data": {
      "text/plain": [
       "['Great', 'job']"
      ]
     },
     "execution_count": 41,
     "metadata": {},
     "output_type": "execute_result"
    }
   ],
   "source": []
  },
  {
   "cell_type": "code",
   "execution_count": null,
   "metadata": {},
   "outputs": [],
   "source": []
  }
 ],
 "metadata": {
  "kernelspec": {
   "display_name": "learn-env",
   "language": "python",
   "name": "learn-env"
  },
  "language_info": {
   "codemirror_mode": {
    "name": "ipython",
    "version": 3
   },
   "file_extension": ".py",
   "mimetype": "text/x-python",
   "name": "python",
   "nbconvert_exporter": "python",
   "pygments_lexer": "ipython3",
   "version": "3.6.9"
  },
  "toc": {
   "base_numbering": 1,
   "nav_menu": {},
   "number_sections": true,
   "sideBar": true,
   "skip_h1_title": true,
   "title_cell": "Table of Contents",
   "title_sidebar": "Contents",
   "toc_cell": false,
   "toc_position": {},
   "toc_section_display": true,
   "toc_window_display": false
  }
 },
 "nbformat": 4,
 "nbformat_minor": 2
}
